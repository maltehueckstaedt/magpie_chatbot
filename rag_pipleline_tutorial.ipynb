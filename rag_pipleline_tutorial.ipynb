{
 "cells": [
  {
   "cell_type": "code",
   "execution_count": 10,
   "metadata": {},
   "outputs": [],
   "source": [
    "from langchain_ollama import ChatOllama\n",
    "\n",
    "llm = ChatOllama(\n",
    "    model=\"mistral\",\n",
    "    temperature=0,\n",
    ")\n",
    "\n",
    "\n",
    "import duckdb\n",
    "\n",
    "conn = duckdb.connect(\"data/magpie.db\")\n",
    "\n",
    "cursor = conn.cursor()\n",
    "#conn.close() \n"
   ]
  },
  {
   "cell_type": "code",
   "execution_count": 16,
   "metadata": {},
   "outputs": [
    {
     "ename": "NameError",
     "evalue": "name 'conn' is not defined",
     "output_type": "error",
     "traceback": [
      "\u001b[1;31m---------------------------------------------------------------------------\u001b[0m",
      "\u001b[1;31mNameError\u001b[0m                                 Traceback (most recent call last)",
      "Cell \u001b[1;32mIn[16], line 1\u001b[0m\n\u001b[1;32m----> 1\u001b[0m \u001b[43mconn\u001b[49m\u001b[38;5;241m.\u001b[39mclose() \n",
      "\u001b[1;31mNameError\u001b[0m: name 'conn' is not defined"
     ]
    }
   ],
   "source": [
    " \n",
    "conn.close() "
   ]
  },
  {
   "cell_type": "code",
   "execution_count": 5,
   "metadata": {},
   "outputs": [],
   "source": [
    "conn.close() "
   ]
  },
  {
   "cell_type": "code",
   "execution_count": 11,
   "metadata": {},
   "outputs": [
    {
     "data": {
      "text/plain": [
       "<duckdb.duckdb.DuckDBPyConnection at 0x21d3781eef0>"
      ]
     },
     "execution_count": 11,
     "metadata": {},
     "output_type": "execute_result"
    }
   ],
   "source": [
    "# Erstelle neue Tabelle mit geändertem Datentyp\n",
    "cursor.execute(\"\"\"\n",
    "    CREATE TABLE datensatz_drittmittel_hochschule_new AS\n",
    "    SELECT \n",
    "        CAST(jahr AS INTEGER) AS jahr,\n",
    "        * EXCLUDE jahr\n",
    "    FROM datensatz_drittmittel_hochschule;\n",
    "\"\"\")\n",
    "\n",
    "# Lösche die alte Tabelle\n",
    "cursor.execute(\"DROP TABLE datensatz_drittmittel_hochschule;\")\n",
    "\n",
    "# Benenne die neue Tabelle um\n",
    "cursor.execute(\"\"\"\n",
    "    ALTER TABLE datensatz_drittmittel_hochschule_new\n",
    "    RENAME TO datensatz_drittmittel_hochschule;\n",
    "\"\"\")\n"
   ]
  },
  {
   "cell_type": "code",
   "execution_count": 12,
   "metadata": {},
   "outputs": [
    {
     "data": {
      "text/plain": [
       "{'datensatz_drittmittel_hochschule': [('jahr',\n",
       "   'INTEGER',\n",
       "   'YES',\n",
       "   None,\n",
       "   None,\n",
       "   None),\n",
       "  ('id', 'INTEGER', 'YES', None, None, None),\n",
       "  ('Variable', 'VARCHAR', 'YES', None, None, None),\n",
       "  ('Zeit', 'TIMESTAMP', 'YES', None, None, None),\n",
       "  ('Hochschule', 'VARCHAR', 'YES', None, None, None),\n",
       "  ('Wert', 'VARCHAR', 'YES', None, None, None),\n",
       "  ('Einheit', 'VARCHAR', 'YES', None, None, None),\n",
       "  ('Quelle', 'VARCHAR', 'YES', None, None, None)]}"
      ]
     },
     "execution_count": 12,
     "metadata": {},
     "output_type": "execute_result"
    }
   ],
   "source": [
    "schema_dict = {}\n",
    "\n",
    "# Tabelle 'datensatz_fue_erhebung' analysieren\n",
    "table_name = \"datensatz_drittmittel_hochschule\"\n",
    "schema_dict[table_name] = cursor.execute(f\"DESCRIBE {table_name};\").fetchall()\n",
    "\n",
    "schema_dict"
   ]
  },
  {
   "cell_type": "code",
   "execution_count": 13,
   "metadata": {},
   "outputs": [
    {
     "name": "stderr",
     "output_type": "stream",
     "text": [
      "C:\\Users\\Hueck\\AppData\\Local\\Temp\\ipykernel_42596\\1778066478.py:5: UserWarning: pandas only supports SQLAlchemy connectable (engine/connection) or database string URI or sqlite3 DBAPI2 connection. Other DBAPI2 objects are not tested. Please consider using SQLAlchemy.\n",
      "  df = pd.read_sql(query, conn)  # conn ist die Verbindung zu deiner DuckDB\n"
     ]
    },
    {
     "name": "stdout",
     "output_type": "stream",
     "text": [
      "       jahr      id                 Variable       Zeit  \\\n",
      "0      2006   30746     Drittmittel vom Bund 2006-01-01   \n",
      "1      2007   30747     Drittmittel vom Bund 2007-01-01   \n",
      "2      2008   30748     Drittmittel vom Bund 2008-01-01   \n",
      "3      2010   30750     Drittmittel vom Bund 2010-01-01   \n",
      "4      2011   30751     Drittmittel vom Bund 2011-01-01   \n",
      "...     ...     ...                      ...        ...   \n",
      "87855  2021  118392  Drittmittel von der DFG 2021-01-01   \n",
      "87856  2021  118406  Drittmittel von der DFG 2021-01-01   \n",
      "87857  2021  118418  Drittmittel von der DFG 2021-01-01   \n",
      "87858  2021  118475  Drittmittel von der DFG 2021-01-01   \n",
      "87859  2021  118595  Drittmittel von der DFG 2021-01-01   \n",
      "\n",
      "                                              Hochschule  \\\n",
      "0                                     Universität Kassel   \n",
      "1                                     Universität Kassel   \n",
      "2                                     Universität Kassel   \n",
      "3                                     Universität Kassel   \n",
      "4                                     Universität Kassel   \n",
      "...                                                  ...   \n",
      "87855     Eberhard Karls Universität Tübingen (Klinikum)   \n",
      "87856           Pädagogische Hochschule Schwäbisch Gmünd   \n",
      "87857     Hochschule der Wirtschaft für Management gGmbH   \n",
      "87858              Akademie der Bildenden Künste München   \n",
      "87859  Friedrich-Schiller-Universität Jena (ohne Klin...   \n",
      "\n",
      "                            Wert       Einheit                       Quelle  \n",
      "0       3965.5799999999999272404  in Tsd. Euro  Destatis (Sonderauswertung)  \n",
      "1       6274.3040000000000873115  in Tsd. Euro  Destatis (Sonderauswertung)  \n",
      "2       5980.3469999999997526174  in Tsd. Euro  Destatis (Sonderauswertung)  \n",
      "3      10225.6380000000008294592  in Tsd. Euro  Destatis (Sonderauswertung)  \n",
      "4      12199.8060000000004947651  in Tsd. Euro  Destatis (Sonderauswertung)  \n",
      "...                          ...           ...                          ...  \n",
      "87855  26448.4929999999985739123  in Tsd. Euro  Destatis (Sonderauswertung)  \n",
      "87856     15.7379999999999995453  in Tsd. Euro  Destatis (Sonderauswertung)  \n",
      "87857      0.0000000000000000000  in Tsd. Euro  Destatis (Sonderauswertung)  \n",
      "87858      0.0000000000000000000  in Tsd. Euro  Destatis (Sonderauswertung)  \n",
      "87859  42603.8510000000023865141  in Tsd. Euro  Destatis (Sonderauswertung)  \n",
      "\n",
      "[87860 rows x 8 columns]\n"
     ]
    }
   ],
   "source": [
    "import pandas as pd\n",
    "\n",
    "# Tabelle 'datensatz_fue_erhebung' in ein Pandas-DataFrame laden\n",
    "query = \"SELECT * FROM datensatz_drittmittel_hochschule;\"\n",
    "df = pd.read_sql(query, conn)  # conn ist die Verbindung zu deiner DuckDB\n",
    " \n",
    "# DataFrame anzeigen\n",
    "print(df)"
   ]
  },
  {
   "cell_type": "code",
   "execution_count": 19,
   "metadata": {},
   "outputs": [
    {
     "name": "stdout",
     "output_type": "stream",
     "text": [
      " SELECT Wert FROM datensatz_drittmittel_hochschule WHERE Hochschule = 'Universität Kassel' AND Jahr = 2011;\n",
      "Answer: 12199.8060000000004947651\n"
     ]
    }
   ],
   "source": [
    "import re\n",
    "\n",
    "def simple_prompt_engineering(question, schema, llm, conn):\n",
    "\n",
    "    direct_prompt = f\"\"\"\n",
    "    Given an input question, create a syntactically correct SQL query to\n",
    "    run in DuckDB. The database is defined by the following schema:\n",
    "\n",
    "    {schema}\n",
    "\n",
    "    Only use the following tables:\n",
    "    {conn.execute(\"SHOW TABLES\").fetchall()}\n",
    "\n",
    "    Don't use more columns than strictly necessary. Be careful to not\n",
    "    query for columns that do not exist. Also, pay attention to which\n",
    "    column is in which table. Please think carefully before you answer.\n",
    "\n",
    "    Return only a SQL query and nothing else.\n",
    "\n",
    "    Question: \"\"\"\n",
    "\n",
    "    response = llm.invoke(direct_prompt + question)\n",
    "\n",
    "    print(response.content)\n",
    "    result = str(conn.execute(response.content).fetchall()[0][0])\n",
    "    print(f\"Answer: {result}\")\n",
    "\n",
    "simple_prompt_engineering(\n",
    "    \"Wie hoch sind die Drittmittel der Universität Kassel im Jahr 2011\", schema_dict, llm, conn\n",
    ")"
   ]
  },
  {
   "cell_type": "markdown",
   "metadata": {},
   "source": [
    "# Langchain Resolution"
   ]
  },
  {
   "cell_type": "code",
   "execution_count": 1,
   "metadata": {},
   "outputs": [
    {
     "name": "stdout",
     "output_type": "stream",
     "text": [
      "       jahr      id                 Variable       Zeit  \\\n",
      "0      2006   30746     Drittmittel vom Bund 2006-01-01   \n",
      "1      2007   30747     Drittmittel vom Bund 2007-01-01   \n",
      "2      2008   30748     Drittmittel vom Bund 2008-01-01   \n",
      "3      2010   30750     Drittmittel vom Bund 2010-01-01   \n",
      "4      2011   30751     Drittmittel vom Bund 2011-01-01   \n",
      "...     ...     ...                      ...        ...   \n",
      "87855  2021  118392  Drittmittel von der DFG 2021-01-01   \n",
      "87856  2021  118406  Drittmittel von der DFG 2021-01-01   \n",
      "87857  2021  118418  Drittmittel von der DFG 2021-01-01   \n",
      "87858  2021  118475  Drittmittel von der DFG 2021-01-01   \n",
      "87859  2021  118595  Drittmittel von der DFG 2021-01-01   \n",
      "\n",
      "                                              Hochschule  \\\n",
      "0                                     Universität Kassel   \n",
      "1                                     Universität Kassel   \n",
      "2                                     Universität Kassel   \n",
      "3                                     Universität Kassel   \n",
      "4                                     Universität Kassel   \n",
      "...                                                  ...   \n",
      "87855     Eberhard Karls Universität Tübingen (Klinikum)   \n",
      "87856           Pädagogische Hochschule Schwäbisch Gmünd   \n",
      "87857     Hochschule der Wirtschaft für Management gGmbH   \n",
      "87858              Akademie der Bildenden Künste München   \n",
      "87859  Friedrich-Schiller-Universität Jena (ohne Klin...   \n",
      "\n",
      "                            Wert       Einheit                       Quelle  \n",
      "0       3965.5799999999999272404  in Tsd. Euro  Destatis (Sonderauswertung)  \n",
      "1       6274.3040000000000873115  in Tsd. Euro  Destatis (Sonderauswertung)  \n",
      "2       5980.3469999999997526174  in Tsd. Euro  Destatis (Sonderauswertung)  \n",
      "3      10225.6380000000008294592  in Tsd. Euro  Destatis (Sonderauswertung)  \n",
      "4      12199.8060000000004947651  in Tsd. Euro  Destatis (Sonderauswertung)  \n",
      "...                          ...           ...                          ...  \n",
      "87855  26448.4929999999985739123  in Tsd. Euro  Destatis (Sonderauswertung)  \n",
      "87856     15.7379999999999995453  in Tsd. Euro  Destatis (Sonderauswertung)  \n",
      "87857      0.0000000000000000000  in Tsd. Euro  Destatis (Sonderauswertung)  \n",
      "87858      0.0000000000000000000  in Tsd. Euro  Destatis (Sonderauswertung)  \n",
      "87859  42603.8510000000023865141  in Tsd. Euro  Destatis (Sonderauswertung)  \n",
      "\n",
      "[87860 rows x 8 columns]\n"
     ]
    }
   ],
   "source": [
    "import duckdb\n",
    "import pandas as pd\n",
    "\n",
    "# Verbindung zur Datenbank herstellen\n",
    "conn = duckdb.connect(\"data/drittmittel_hs.db\")\n",
    "cursor = conn.cursor()\n",
    "\n",
    "# SQL-Abfrage ausführen\n",
    "query = \"SELECT * FROM datensatz_drittmittel_hochschule\"\n",
    "df = cursor.execute(query).fetchdf()\n",
    "\n",
    "# Ergebnisse anzeigen\n",
    "print(df)\n",
    "\n",
    "# Verbindung schließen\n",
    "conn.close()\n"
   ]
  },
  {
   "cell_type": "code",
   "execution_count": 9,
   "metadata": {},
   "outputs": [
    {
     "name": "stderr",
     "output_type": "stream",
     "text": [
      "c:\\Users\\Hueck\\miniconda3\\envs\\RAG_Pipeline\\lib\\site-packages\\duckdb_engine\\__init__.py:174: DuckDBEngineWarning: duckdb-engine doesn't yet support reflection on indices\n",
      "  warnings.warn(\n"
     ]
    }
   ],
   "source": [
    "# Verbindung mit langchain-Tool\n",
    "from langchain_ollama import ChatOllama\n",
    "import re\n",
    "\n",
    "llm = ChatOllama(\n",
    "    model=\"mistral\",\n",
    "    temperature=0,\n",
    ")\n",
    "\n",
    "\n",
    "import duckdb\n",
    "from langchain_community.utilities import SQLDatabase\n",
    "\n",
    "db = SQLDatabase.from_uri(\"duckdb:///data/drittmittel_hs.db\")"
   ]
  },
  {
   "cell_type": "code",
   "execution_count": 10,
   "metadata": {},
   "outputs": [
    {
     "name": "stdout",
     "output_type": "stream",
     "text": [
      "['datensatz_drittmittel_hochschule']\n"
     ]
    }
   ],
   "source": [
    " \n",
    "print(db.get_usable_table_names())"
   ]
  },
  {
   "cell_type": "code",
   "execution_count": 12,
   "metadata": {},
   "outputs": [
    {
     "name": "stdout",
     "output_type": "stream",
     "text": [
      "content=' To find the third-party funds from foundations of the University of Kassel in the year 2008, you can use the following SQL query:\\n\\n```sql\\nSELECT Wert AS \"Third-Party Funds\"\\nFROM datensatz_drittmittel_hochschule\\nWHERE Hochschule = \\'Universität Kassel\\' AND Jahr = 2008 AND Variable = \\'Drittmittel von Stiftungen\\';\\n```\\n\\nThis query selects the \"Third-Party Funds\" (Wert) column from the `datensatz_drittmittel_hochschule` table where the university is \\'Universität Kassel\\', the year is 2008, and the variable is \\'Drittmittel von Stiftungen\\'.' additional_kwargs={} response_metadata={'model': 'mistral', 'created_at': '2024-12-09T10:03:22.0735483Z', 'done': True, 'done_reason': 'stop', 'total_duration': 3695776100, 'load_duration': 6034900, 'prompt_eval_count': 568, 'prompt_eval_duration': 347853000, 'eval_count': 181, 'eval_duration': 3339410000, 'message': Message(role='assistant', content='', images=None, tool_calls=None)} id='run-32c18b00-f7cd-4dda-9b58-d8db57e0fd5d-0' usage_metadata={'input_tokens': 568, 'output_tokens': 181, 'total_tokens': 749}\n",
      "SELECT Wert AS \"Third-Party Funds\" FROM datensatz_drittmittel_hochschule WHERE Hochschule = 'Universität Kassel' AND Jahr = 2008 AND Variable = 'Drittmittel von Stiftungen'\n",
      "[('2124.1129999999998290150',)]\n"
     ]
    }
   ],
   "source": [
    "def with_a_little_langchain(question, verbose=False):\n",
    "    direct_prompt = f\"\"\"\n",
    "    Given an input question, create a syntactically correct SQL query to\n",
    "    run in DuckDB. The database is defined by the following schema:\n",
    "\n",
    "    {db.get_table_info()}\n",
    "\n",
    "    Only use the following tables:\n",
    "    {db.get_usable_table_names()}\n",
    "\n",
    "    Pay attention to use only the column names you can see in the tables\n",
    "    below. Be careful to not query for columns that do not exist. Also, pay\n",
    "    attention to which column is in which table. Please carefully think\n",
    "    before you answer.\n",
    "\n",
    "    Question: \n",
    "    \"\"\"\n",
    "\n",
    "    response = llm.invoke(direct_prompt + question)\n",
    "\n",
    "    if verbose:\n",
    "        print(response)\n",
    "\n",
    "    print(re.search(\"(SELECT.*);\", response.content.replace(\"\\n\", \" \")).group(1))\n",
    "    print(\n",
    "        db.run(re.search(\"(SELECT.*);\", response.content.replace(\"\\n\", \" \")).group(1))\n",
    "    )\n",
    "\n",
    "with_a_little_langchain(\"Wie hoch waren die Drittmittel von Stiftungen der Universität Kassel im Jahr 2008?\", verbose=True)"
   ]
  }
 ],
 "metadata": {
  "kernelspec": {
   "display_name": "RAG_Pipeline",
   "language": "python",
   "name": "python3"
  },
  "language_info": {
   "codemirror_mode": {
    "name": "ipython",
    "version": 3
   },
   "file_extension": ".py",
   "mimetype": "text/x-python",
   "name": "python",
   "nbconvert_exporter": "python",
   "pygments_lexer": "ipython3",
   "version": "3.10.15"
  }
 },
 "nbformat": 4,
 "nbformat_minor": 2
}
