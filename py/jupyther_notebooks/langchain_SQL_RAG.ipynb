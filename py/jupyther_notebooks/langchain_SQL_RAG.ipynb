{
 "cells": [
  {
   "cell_type": "markdown",
   "metadata": {},
   "source": [
    "# Retrieval-Augmented Generation\n",
    "\n",
    "## Einführung\n",
    "\n",
    "In diesem Notebook wird eine Retrieval-Augmented Generation (RAG) für die *Magpie* implementiert. Ziel ist es, einen Chatbot zu erstellen, der Fragen in natürlicher Sprache entgegennimmt und diese in passende SQL-Abfragen umwandelt und wiederum in natürlicher Sprache antwortet.\n",
    "\n",
    "Um die SQL-Abfragen genau auf die Daten von Magpie abzustimmen, wird auf Basis dieses [Tutorials](https://python.langchain.com/docs/tutorials/sql_qa/#system-prompt) und mit Langchain ein Chatbot erzeugt, der mit einem Retriever-Tool arbeitet. Der Chatbot unterscheidet sich im Vorgehen von einer *normalen* RAG: Während bei einer RAG üblicherweise Text generiert wird (die Anfrage durch einen User), der gegen eine Vektordatenbank durchsucht werden kann, besteht der Ansatz für strukturierte Daten darin, dass das LLM SQL-Abfragen schreibt und ausführt.\n",
    "\n",
    "## Durchführung\n",
    "\n",
    "### Arbeitspfad definieren\n",
    "\n",
    "In einem ersten Schritt definieren wir unseren Arbeitspfad:"
   ]
  },
  {
   "cell_type": "code",
   "execution_count": 1,
   "metadata": {},
   "outputs": [],
   "source": [
    "# Aktuelles Arbeitsverzeichnis ermitteln\n",
    "import os\n",
    "os.getcwd()\n",
    "os.chdir(\"c:/Users/Hueck/OneDrive/Dokumente/GitHub/magpie_langchain\")"
   ]
  },
  {
   "cell_type": "markdown",
   "metadata": {},
   "source": [
    "### LLM laden\n",
    "\n",
    "In einem weiteren Schritt laden wir ein LLM. Das LLM wandelt die Anfrage des Users in eine SQL-Abfrage um und antwortet basierend auf den Ergebnissen der Abfrage in natürlicher Sprache. Das sich `Mistral`, `qwen2.5:32b` und  `llama3.1:8b-instruct-q4_0` nicht so leistungsfähig wie `gpt-4o-mini` im Kontext der Generierung der SQL-Abfragen erwiesen hat, wird vorerst mit einer OpenAI-API gearbeitet. Sie wird mit `load_dotenv()` im folgenden aus dem Environment geladen um auf `gpt-4o-mini` zugreifen zu können. Der Code importiert weiterhin die `ChatOpenAI`-Klasse aus dem Modul `langchain_openai`, welches die Nutzung von OpenAI-Modellen vereinfacht. Anschließend wird ein Objekt `llm` vom Typ `ChatOpenAI` erstellt, wobei das Modell `\"gpt-4o-mini\"` angegeben wird."
   ]
  },
  {
   "cell_type": "code",
   "execution_count": 2,
   "metadata": {},
   "outputs": [],
   "source": [
    "from dotenv import load_dotenv\n",
    "\n",
    "# Lade Umgebungsvariablen aus der .env Datei\n",
    "load_dotenv()\n",
    "\n",
    "from langchain_openai import ChatOpenAI\n",
    "llm = ChatOpenAI(model=\"gpt-4o-mini\")\n",
    "\n",
    "# from langchain_ollama import ChatOllama\n",
    "# llm = ChatOllama(model=\"qwen2.5:32b\", temperature=0)"
   ]
  },
  {
   "cell_type": "markdown",
   "metadata": {},
   "source": [
    "### Tools genieren\n",
    "\n",
    "Wir erstellen nun ein Set von `tools`. Das `SQLDatabaseToolkit` umfasst in diesem Kontext Werkzeuge, die uns dabei unterstützen, SQL-Abfragen zu erstellen und auszuführen sowie die Syntax von SQL-Abfragen zu überprüfen. \n",
    "\n",
    "Es wird dafür eine Instanz von `SQLDatabase` erstellt, um Interaktionen mit der Datenbank zu ermöglichen. Nach der Einrichtung der Datenbank wird eine Instanz von `SQLDatabaseToolkit` erstellt, die zwei Argumente benötigt: die zuvor erstellte `db`-Instanz und die oben definierte `llm` (Sprachmodell)-Instanz (siehe oben). Das Toolkit nutzt das Sprachmodell für Aufgaben wie die Validierung von Abfragen.\n",
    "\n",
    "Die Methode `get_tools` der `SQLDatabaseToolkit`-Instanz wird dann aufgerufen, um eine Liste der verfügbaren Werkzeuge im Toolkit abzurufen. Diese Werkzeuge umfassen Funktionen wie das Auflisten von Datenbanktabellen, das Abrufen von Schema-Informationen, das Ausführen von SQL-Abfragen und das Überprüfen der Korrektheit von SQL-Abfragen. Die letzte Zeile des Codes gibt die Liste der Werkzeuge aus, sodass der Benutzer die verfügbaren Werkzeuge und deren Beschreibungen einsehen kann."
   ]
  },
  {
   "cell_type": "code",
   "execution_count": 3,
   "metadata": {},
   "outputs": [
    {
     "name": "stderr",
     "output_type": "stream",
     "text": [
      "d:\\Programme\\miniconda\\envs\\chatbot_magpie\\lib\\site-packages\\duckdb_engine\\__init__.py:184: DuckDBEngineWarning: duckdb-engine doesn't yet support reflection on indices\n",
      "  warnings.warn(\n"
     ]
    },
    {
     "name": "stdout",
     "output_type": "stream",
     "text": [
      "[QuerySQLDatabaseTool(description=\"Input to this tool is a detailed and correct SQL query, output is a result from the database. If the query is not correct, an error message will be returned. If an error is returned, rewrite the query, check the query, and try again. If you encounter an issue with Unknown column 'xxxx' in 'field list', use sql_db_schema to query the correct table fields.\", db=<langchain_community.utilities.sql_database.SQLDatabase object at 0x000001EDFECC7B20>), InfoSQLDatabaseTool(description='Input to this tool is a comma-separated list of tables, output is the schema and sample rows for those tables. Be sure that the tables actually exist by calling sql_db_list_tables first! Example Input: table1, table2, table3', db=<langchain_community.utilities.sql_database.SQLDatabase object at 0x000001EDFECC7B20>), ListSQLDatabaseTool(db=<langchain_community.utilities.sql_database.SQLDatabase object at 0x000001EDFECC7B20>), QuerySQLCheckerTool(description='Use this tool to double check if your query is correct before executing it. Always use this tool before executing a query with sql_db_query!', db=<langchain_community.utilities.sql_database.SQLDatabase object at 0x000001EDFECC7B20>, llm=ChatOpenAI(client=<openai.resources.chat.completions.completions.Completions object at 0x000001EDFEB71850>, async_client=<openai.resources.chat.completions.completions.AsyncCompletions object at 0x000001EDFECC39D0>, root_client=<openai.OpenAI object at 0x000001EDFC060CA0>, root_async_client=<openai.AsyncOpenAI object at 0x000001EDFEB718B0>, model_name='gpt-4o-mini', model_kwargs={}, openai_api_key=SecretStr('**********')), llm_chain=LLMChain(verbose=False, prompt=PromptTemplate(input_variables=['dialect', 'query'], input_types={}, partial_variables={}, template='\\n{query}\\nDouble check the {dialect} query above for common mistakes, including:\\n- Using NOT IN with NULL values\\n- Using UNION when UNION ALL should have been used\\n- Using BETWEEN for exclusive ranges\\n- Data type mismatch in predicates\\n- Properly quoting identifiers\\n- Using the correct number of arguments for functions\\n- Casting to the correct data type\\n- Using the proper columns for joins\\n\\nIf there are any of the above mistakes, rewrite the query. If there are no mistakes, just reproduce the original query.\\n\\nOutput the final SQL query only.\\n\\nSQL Query: '), llm=ChatOpenAI(client=<openai.resources.chat.completions.completions.Completions object at 0x000001EDFEB71850>, async_client=<openai.resources.chat.completions.completions.AsyncCompletions object at 0x000001EDFECC39D0>, root_client=<openai.OpenAI object at 0x000001EDFC060CA0>, root_async_client=<openai.AsyncOpenAI object at 0x000001EDFEB718B0>, model_name='gpt-4o-mini', model_kwargs={}, openai_api_key=SecretStr('**********')), output_parser=StrOutputParser(), llm_kwargs={}))]\n"
     ]
    }
   ],
   "source": [
    "from langchain_community.agent_toolkits import SQLDatabaseToolkit\n",
    "from langchain_community.utilities import SQLDatabase\n",
    "\n",
    "db = SQLDatabase.from_uri(\"duckdb:///data/magpie.db\")\n",
    "toolkit = SQLDatabaseToolkit(db=db, llm=llm)\n",
    "\n",
    "tools = toolkit.get_tools()\n",
    "\n",
    "print(tools)"
   ]
  },
  {
   "cell_type": "markdown",
   "metadata": {},
   "source": [
    "### Prompt Template generieren \n",
    "\n",
    "Im folgenden wird das `langchain`-Paket verwendet, um ein Prompt-Template von `langchain-ai` zu laden und zu überprüfen. Zuerst wird die `hub`-Funktion aus dem `langchain`-Paket importiert, um auf Modelle und Vorlagen im LangChain Hub zuzugreifen. Mit `hub.pull(\"langchain-ai/sql-agent-system-prompt\")` wird ein spezifisches Prompt-Template abgerufen, in diesem Fall das `sql-agent-system-prompt`. `sql-agent-system-prompt` ist ein vordefiniertes Prompt-Template. Es dient als Vorlage für die Interaktion mit einer SQL-Datenbank über ein Sprachmodell. Dieses Template ist speziell für die Verwendung mit SQL-Agenten konzipiert, die SQL-Abfragen generieren oder validieren können.\n",
    "\n",
    "Der Code prüft weiterhin mit `assert len(prompt_template.messages) == 1`, ob das geladene Template genau eine Nachricht enthält. Falls dies nicht zutrifft, wird ein Abbruch ausgelöst. Abschließend wird mit `prompt_template.messages[0].pretty_print()` die Nachricht im Template in einem gut lesbaren Format ausgegeben, um sicherzustellen, dass der Inhalt korrekt geladen wurde."
   ]
  },
  {
   "cell_type": "code",
   "execution_count": 4,
   "metadata": {},
   "outputs": [
    {
     "name": "stderr",
     "output_type": "stream",
     "text": [
      "d:\\Programme\\miniconda\\envs\\chatbot_magpie\\lib\\site-packages\\langsmith\\client.py:253: LangSmithMissingAPIKeyWarning: API key must be provided when using hosted LangSmith API\n",
      "  warnings.warn(\n"
     ]
    },
    {
     "name": "stdout",
     "output_type": "stream",
     "text": [
      "================================\u001b[1m System Message \u001b[0m================================\n",
      "\n",
      "You are an agent designed to interact with a SQL database.\n",
      "Given an input question, create a syntactically correct \u001b[33;1m\u001b[1;3m{dialect}\u001b[0m query to run, then look at the results of the query and return the answer.\n",
      "Unless the user specifies a specific number of examples they wish to obtain, always limit your query to at most \u001b[33;1m\u001b[1;3m{top_k}\u001b[0m results.\n",
      "You can order the results by a relevant column to return the most interesting examples in the database.\n",
      "Never query for all the columns from a specific table, only ask for the relevant columns given the question.\n",
      "You have access to tools for interacting with the database.\n",
      "Only use the below tools. Only use the information returned by the below tools to construct your final answer.\n",
      "You MUST double check your query before executing it. If you get an error while executing a query, rewrite the query and try again.\n",
      "\n",
      "DO NOT make any DML statements (INSERT, UPDATE, DELETE, DROP etc.) to the database.\n",
      "\n",
      "To start you should ALWAYS look at the tables in the database to see what you can query.\n",
      "Do NOT skip this step.\n",
      "Then you should query the schema of the most relevant tables.\n",
      "You are Sparklehorse, a chatbot for the Stifterverband organization. Your primary task is to answer questions related to the Magpie database.\n"
     ]
    }
   ],
   "source": [
    "from langchain import hub\n",
    "\n",
    "prompt_template = hub.pull(\"langchain-ai/sql-agent-system-prompt\")\n",
    "\n",
    "assert len(prompt_template.messages) == 1, \"Die Anzahl der Nachrichten im Template ist nicht 1!\"\n",
    "# Bearbeite die bestehende Nachricht, indem du Text hinzufügst\n",
    "prompt_template.messages[0].prompt.template += (\n",
    "    \"\\nYou are Sparklehorse, a chatbot for the Stifterverband organization. \"\n",
    "    \"Your primary task is to answer questions related to the Magpie database.\"\n",
    ")\n",
    "\n",
    "prompt_template.messages[0].pretty_print()"
   ]
  },
  {
   "cell_type": "markdown",
   "metadata": {},
   "source": [
    "Wir befüllen nun die Objekte, die in `prompt_template` bisher nur als Platzhalter definiert sind. Diese sind:\n",
    "1. `dialect`\n",
    "2. `top_k`\n",
    "\n",
    " `dialect` meint den SQL-Dialekt der verwendeten Datenbank. `top_k` bestimmt die Anzahl der zurückgegebenen, *besten Ergebnisse*. In diesem Kontext bedeutet *beste Ergebnisse* die Auswahl der relevantesten oder nützlichsten Ergebnisse der Abfragen, etwa bzgl. der Relevanz im Zusammenhang mit einer Abfrage.\n"
   ]
  },
  {
   "cell_type": "code",
   "execution_count": 5,
   "metadata": {},
   "outputs": [
    {
     "name": "stdout",
     "output_type": "stream",
     "text": [
      "System: You are an agent designed to interact with a SQL database.\n",
      "Given an input question, create a syntactically correct duckdb query to run, then look at the results of the query and return the answer.\n",
      "Unless the user specifies a specific number of examples they wish to obtain, always limit your query to at most 5 results.\n",
      "You can order the results by a relevant column to return the most interesting examples in the database.\n",
      "Never query for all the columns from a specific table, only ask for the relevant columns given the question.\n",
      "You have access to tools for interacting with the database.\n",
      "Only use the below tools. Only use the information returned by the below tools to construct your final answer.\n",
      "You MUST double check your query before executing it. If you get an error while executing a query, rewrite the query and try again.\n",
      "\n",
      "DO NOT make any DML statements (INSERT, UPDATE, DELETE, DROP etc.) to the database.\n",
      "\n",
      "To start you should ALWAYS look at the tables in the database to see what you can query.\n",
      "Do NOT skip this step.\n",
      "Then you should query the schema of the most relevant tables.\n",
      "You are Sparklehorse, a chatbot for the Stifterverband organization. Your primary task is to answer questions related to the Magpie database.\n"
     ]
    }
   ],
   "source": [
    "system_message = prompt_template.format(\n",
    "    dialect=db.dialect, \n",
    "    top_k=5\n",
    ")\n",
    "\n",
    "print(system_message)"
   ]
  },
  {
   "cell_type": "markdown",
   "metadata": {},
   "source": [
    "### Agent generieren    \n",
    "\n",
    "Es wird nun eine Instanz eines *React-Agenten* aus der `langchain_core` und `langgraph` Bibliothek erstellt und konfiguriert. Im einzelnen passiert das Folgende: Die Funktion `create_react_agent(llm, tools, state_modifier=system_message)` erstellt einen neuen Agenten, der auf das bereitgestellte Sprachmodell (`llm`) und eine Sammlung von Werkzeugen (`tools`) zugreifen kann, um Aufgaben zu erledigen. Das Sprachmodell (`llm`) ist die Instanz eines Modells `gpt-4o-mini`, das vom Agenten verwendet wird, während tools die Werkzeuge sind, mit denen der Agent auf Daten zugreifen oder Aktionen durchführen kann, zum Beispiel eine SQL-Datenbankabfrage oder APIs. `state_modifier=system_message` gibt eine Systemnachricht an, die die Rolle des Agenten und seine Aufgaben innerhalb des Systems beschreibt, einschließlich der Anweisungen, wie der Agent mit den Eingaben des Benutzers umgehen soll. Die erstellte Instanz des React-Agenten wird in der Variablen `agent_executor` gespeichert, die dann verwendet wird, um Interaktionen mit einem Benutzer zu führen und die entsprechenden Werkzeuge anzuwenden."
   ]
  },
  {
   "cell_type": "code",
   "execution_count": 7,
   "metadata": {},
   "outputs": [
    {
     "data": {
      "image/png": "[encoded data removed]",
      "text/plain": [
       "<langgraph.graph.state.CompiledStateGraph object at 0x000001ED8F70AF70>"
      ]
     },
     "execution_count": 7,
     "metadata": {},
     "output_type": "execute_result"
    }
   ],
   "source": [
    "from langchain_core.messages import HumanMessage\n",
    "from langgraph.prebuilt import create_react_agent\n",
    "\n",
    "agent_executor = create_react_agent(llm, tools, state_modifier=system_message)\n",
    "agent_executor"
   ]
  },
  {
   "cell_type": "markdown",
   "metadata": {},
   "source": [
    "### Retriever Tool\n",
    "\n",
    "Im folgenden wird ein Retriever-Tool erzeugt, dass dabei hilft, *fehlerhafte* Abfragen seitens der User zu korrigieren. Das Retriever Tool versteht so z.B. dass \"*\"Frei Uni Nerlin\"*\" für \"*Freie Universität Berlin*\" steht.\n",
    "\n",
    "Zunächst werden die benötigten Bibliotheken importiert. LangChain-Module werden verwendet, um Embeddings und einen In-Memory-Vektorspeicher zu erstellen. Zudem werden `ast` und `re` für die Verarbeitung und Bereinigung von Daten genutzt.\n",
    "\n",
    "Die Funktion `query_as_list(db, query)` führt eine SQL-Abfrage auf Magpie `db` aus. Das Ergebnis wird zunächst in eine Liste umgewandelt, dabei werden verschachtelte Strukturen aufgelöst. Danach werden alle Zahlen aus den Ergebnissen entfernt, und Leerzeichen werden bereinigt. Schließlich wird sichergestellt, dass nur eindeutige Werte in der Liste enthalten sind.\n",
    "\n",
    "Anschließend werden mit `query_as_list` zwei Listen erstellt:  \n",
    "- `Variable`, die alle Werte aus der Spalte *Variable* der Tabelle `datensatz_drittmittel_hochschule` enthält.  \n",
    "- `Hochschule`, die alle Werte aus der Spalte *Hochschule* derselben Tabelle enthält.  \n",
    "\n",
    "Nun wird ein Embedding-Modell von OpenAI mit dem Namen `\"text-embedding-3-large\"` initialisiert. Dieses Modell wandelt Texte in numerische Vektoren um, die für eine semantische Suche genutzt werden können.\n",
    "\n",
    "Ein In-Memory-Vektorspeicher wird erstellt, der diese Vektoren speichert. Anschließend werden die Begriffe aus `Variable` und `Hochschule` als Texte in den Vektorspeicher hinzugefügt.\n",
    "\n",
    "Der Vektorspeicher wird nun als Retriever konfiguriert. Der Parameter `search_kwargs={\"k\": 5}` bedeutet, dass für jede Suchanfrage die fünf ähnlichsten Einträge zurückgegeben werden.\n",
    "\n",
    "Zuletzt wird mit `create_retriever_tool` ein Retriever-Tool erstellt. Dieses Tool kann verwendet werden, um nach ähnlichen Namen oder Begriffen zu suchen. Die Beschreibung des Tools gibt an, dass es dazu dient, gültige Namen zu finden, die am besten zu einer unscharfen Eingabe passen."
   ]
  },
  {
   "cell_type": "code",
   "execution_count": null,
   "metadata": {},
   "outputs": [
    {
     "name": "stdout",
     "output_type": "stream",
     "text": [
      "['Drittmittel von Gemeinden und Zweckverbänden', 'Drittmittel von der Wirtschaft', 'Drittmittel von der EU', 'Drittmittel insgesamt', 'Drittmittel von der DFG', 'Drittmittel von DFG-Einzelförderungen', 'Drittmittel von andere internationalen Organisationen', 'Drittmittel von DFG-Koordinierten Programmen', 'Drittmittel vom Bund', 'Drittmittel des sonstigen öffentlichen Bereichs', 'Drittmittel von der Bundesanstalt für Arbeit', 'Drittmittel von sonstigen DFG-Förderungen', 'Drittmittel von Stiftungen', 'Drittmittel von Hochschulfördergesellschaften', 'Drittmittel der Länder (ohne Trägermittel)', 'Drittmittel von von der DFG-Exzellenzstrategie']\n"
     ]
    }
   ],
   "source": [
    "from langchain_openai import OpenAIEmbeddings\n",
    "from langchain_core.vectorstores import InMemoryVectorStore\n",
    "from langchain.agents.agent_toolkits import create_retriever_tool\n",
    "import ast\n",
    "import re\n",
    "\n",
    "\n",
    "def query_as_list(db, query):\n",
    "    res = db.run(query)\n",
    "    res = [el for sub in ast.literal_eval(res) for el in sub if el]\n",
    "    res = [re.sub(r\"\\b\\d+\\b\", \"\", string).strip() for string in res]\n",
    "    return list(set(res))\n",
    "\n",
    "\n",
    "Variable = query_as_list(db, \"SELECT Variable FROM datensatz_drittmittel_hochschule \")\n",
    "Hochschule = query_as_list(db, \"SELECT Hochschule FROM datensatz_drittmittel_hochschule \")\n",
    "\n",
    "print(Variable)\n",
    "\n",
    "\n",
    "embeddings = OpenAIEmbeddings(model=\"text-embedding-3-large\")\n",
    "\n",
    "vector_store = InMemoryVectorStore(embeddings)\n",
    "\n",
    "_ = vector_store.add_texts(Variable + Hochschule)\n",
    "\n",
    "retriever = vector_store.as_retriever(search_kwargs={\"k\": 5})\n",
    "\n",
    "description = (\n",
    "    \"Use to look up values to filter on. Input is an approximate spelling \"\n",
    "    \"of the proper noun, output is valid proper nouns. Use the noun most \"\n",
    "    \"similar to the search.\"\n",
    ")\n",
    "\n",
    "retriever_tool = create_retriever_tool(\n",
    "    retriever,\n",
    "    name=\"search_proper_nouns\",\n",
    "    description=description,\n",
    ")"
   ]
  },
  {
   "cell_type": "code",
   "execution_count": 12,
   "metadata": {},
   "outputs": [
    {
     "name": "stdout",
     "output_type": "stream",
     "text": [
      "Freie Universität Berlin\n",
      "\n",
      "Humboldt-Universität zu Berlin\n",
      "\n",
      "Technische Universität Berlin\n",
      "\n",
      "Hochschule für Wirtschaft und Recht Berlin\n",
      "\n",
      "Berlin International University of Applied Sciences\n"
     ]
    }
   ],
   "source": [
    "print(retriever_tool.invoke(\"Frei Uni Nerlin\"))"
   ]
  },
  {
   "cell_type": "markdown",
   "metadata": {},
   "source": [
    "Wir erzeugen das Objekt `suffix`, das als Anweisung dient. Es weist darauf hin, dass bei der Filterung nach Eigennamen (z. B. Namen von Personen oder Institutionen) das Tool `'search_proper_nouns'` verwendet werden muss, um ähnliche gültige Namen zu finden. Dies verhindert, dass Namen geraten werden.\n",
    "\n",
    "Anschließend wird diese Anweisung an die bestehende Systemnachricht (`system_message`) angehängt und in der Variable `system` gespeichert.\n",
    "\n",
    "Das zuvor erstellte `retriever_tool` wird der Liste `tools` hinzugefügt, sodass es vom Agenten genutzt werden kann.\n",
    "\n",
    "Zum Schluss wird mit `create_react_agent` ein ReAct-Agent erstellt. Dieser nutzt das übergebene LLM (Large Language Model), die Liste der Tools und die modifizierte Systemnachricht, um basierend auf Regeln und Tools fundierte Entscheidungen zu treffen."
   ]
  },
  {
   "cell_type": "code",
   "execution_count": 13,
   "metadata": {},
   "outputs": [],
   "source": [
    "# Add to system message\n",
    "suffix = (\n",
    "    \"If you need to filter on a proper noun like a Name, you must ALWAYS first look up \"\n",
    "    \"the filter value using the 'search_proper_nouns' tool! Do not try to \"\n",
    "    \"guess at the proper name - use this function to find similar ones.\"\n",
    ")\n",
    "\n",
    "system = f\"{system_message}\\n\\n{suffix}\"\n",
    "\n",
    "tools.append(retriever_tool)\n",
    "\n",
    "agent = create_react_agent(llm, tools, state_modifier=system)"
   ]
  },
  {
   "cell_type": "markdown",
   "metadata": {},
   "source": [
    "## Probelauf Chatbot\n",
    "\n",
    "Schließlich testen wir den Bot: Zunächst wird dafür eine Frage (`question`) definiert: *\"Wie hoch waren die Drittmittel der FU Berlin im Jahr 2006 insgesamt?\"*. Diese Frage wird später an den Agenten übergeben.\n",
    "\n",
    "Dann wird eine Schleife (`for step in agent.stream(...)`) gestartet, die den Agenten Schritt für Schritt durch den Verarbeitungsprozess führt.  \n",
    "\n",
    "- Der Agent erhält die Eingabe als eine Nachricht im Format `{\"role\": \"user\", \"content\": question}`.  \n",
    "- Das Argument `stream_mode=\"values\"` sorgt dafür, dass die Antwort in einzelnen Schritten ausgegeben wird.  \n",
    "- Innerhalb der Schleife wird der jeweils letzte Schritt (`step[\"messages\"][-1]`) formatiert und ausgegeben, sodass die Antwort für den Nutzer lesbar bleibt.  \n",
    "\n",
    "Dadurch wird der Verarbeitungsweg der Antwort des Agenten schrittweise angezeigt."
   ]
  },
  {
   "cell_type": "code",
   "execution_count": 19,
   "metadata": {},
   "outputs": [
    {
     "name": "stdout",
     "output_type": "stream",
     "text": [
      "================================\u001b[1m Human Message \u001b[0m=================================\n",
      "\n",
      "Wie hoch waren die Drittmittel vom Bund von der Uni Kassel im 2006?\n",
      "==================================\u001b[1m Ai Message \u001b[0m==================================\n",
      "Tool Calls:\n",
      "  sql_db_list_tables (call_VPEWHhhU4o1BG1UpOo6ddVcv)\n",
      " Call ID: call_VPEWHhhU4o1BG1UpOo6ddVcv\n",
      "  Args:\n",
      "=================================\u001b[1m Tool Message \u001b[0m=================================\n",
      "Name: sql_db_list_tables\n",
      "\n",
      "antwort, chart_options_rules, daten, daten_frage, daten_quelle, daten_reichweite, datensatz_drittmittel_aggregiert, datensatz_drittmittel_hochschule, datensatz_fue_erhebung, datensatz_hbr_report, erhebung, erhebung_frage, erhebung_typ, erklaerung, erklaerung_link, frage, germany_choropleth_federal_states, glossar, kurse, menge, menge_zugehoerig, middle_points_of_ger_federal_states, mview_daten_beschr, mview_daten_id, mview_daten_reichweite_menge, quelle, reichweite, reichweite_klasse, reichweite_typ, stichprobe, studierende, studierende_detailliert, tabelle, tag, tag_link, variable, view_daten, view_daten_beschr, view_daten_beschr_string, view_daten_detailed, view_daten_id, view_daten_id_string, view_daten_link, view_daten_reichweite_menge, view_daten_struktur, view_erklaerung, view_identifier, view_info_tabellen, view_info_variablen, view_menge, view_quelle_baum, view_quelle_baum_lesbar, view_reichweite, view_tag_baum, view_tag_baum_lesbar, view_tag_link, view_tag_link_aggregated_beschr, view_tag_link_aggregated_id, wert_einheit, wrangling_input_view_daten, zeit_einheit\n",
      "==================================\u001b[1m Ai Message \u001b[0m==================================\n",
      "Tool Calls:\n",
      "  sql_db_schema (call_TawrYZmYkgAqbeN402n0ur04)\n",
      " Call ID: call_TawrYZmYkgAqbeN402n0ur04\n",
      "  Args:\n",
      "    table_names: datensatz_drittmittel_hochschule\n",
      "=================================\u001b[1m Tool Message \u001b[0m=================================\n",
      "Name: sql_db_schema\n",
      "\n",
      "\n",
      "CREATE TABLE datensatz_drittmittel_hochschule (\n",
      "\tjahr INTEGER, \n",
      "\tid INTEGER, \n",
      "\t\"Variable\" VARCHAR, \n",
      "\t\"Zeit\" TIMESTAMP WITHOUT TIME ZONE, \n",
      "\t\"Hochschule\" VARCHAR, \n",
      "\t\"Wert\" NUMERIC(18, 3), \n",
      "\t\"Einheit\" VARCHAR, \n",
      "\t\"Quelle\" VARCHAR\n",
      ")\n",
      "\n",
      "/*\n",
      "3 rows from datensatz_drittmittel_hochschule table:\n",
      "jahr\tid\tVariable\tZeit\tHochschule\tWert\tEinheit\tQuelle\n",
      "2006\t30746\tDrittmittel vom Bund\t2006-01-01 00:00:00\tUniversität Kassel\t3966.000\tin Tsd. Euro\tDestatis (Sonderauswertung)\n",
      "2007\t30747\tDrittmittel vom Bund\t2007-01-01 00:00:00\tUniversität Kassel\t6274.000\tin Tsd. Euro\tDestatis (Sonderauswertung)\n",
      "2008\t30748\tDrittmittel vom Bund\t2008-01-01 00:00:00\tUniversität Kassel\t5980.000\tin Tsd. Euro\tDestatis (Sonderauswertung)\n",
      "*/\n",
      "==================================\u001b[1m Ai Message \u001b[0m==================================\n",
      "Tool Calls:\n",
      "  sql_db_query (call_cIMEpZt8K3wswwaiNctBMFWR)\n",
      " Call ID: call_cIMEpZt8K3wswwaiNctBMFWR\n",
      "  Args:\n",
      "    query: SELECT Wert, Einheit FROM datensatz_drittmittel_hochschule WHERE Hochschule = 'Universität Kassel' AND jahr = 2006;\n",
      "=================================\u001b[1m Tool Message \u001b[0m=================================\n",
      "Name: sql_db_query\n",
      "\n",
      "[(Decimal('3966.000'), 'in Tsd. Euro'), (Decimal('0.000'), 'in Tsd. Euro'), (Decimal('127.000'), 'in Tsd. Euro'), (Decimal('65.000'), 'in Tsd. Euro'), (Decimal('784.000'), 'in Tsd. Euro'), (Decimal('4745.000'), 'in Tsd. Euro'), (Decimal('4448.000'), 'in Tsd. Euro'), (Decimal('0.000'), 'in Tsd. Euro'), (Decimal('695.000'), 'in Tsd. Euro'), (Decimal('1758.000'), 'in Tsd. Euro'), (Decimal('8189.000'), 'in Tsd. Euro'), (Decimal('24777.000'), 'in Tsd. Euro')]\n",
      "==================================\u001b[1m Ai Message \u001b[0m==================================\n",
      "\n",
      "Im Jahr 2006 erhielt die Universität Kassel Drittmittel vom Bund in Höhe von 3966 Tausend Euro (3.966.000 Euro).\n"
     ]
    }
   ],
   "source": [
    "question = \"Wie hoch waren die Drittmittel vom Bund von der Uni Kassel im 2006?\"\n",
    "\n",
    "for step in agent.stream(\n",
    "    {\"messages\": [{\"role\": \"user\", \"content\": question}]},\n",
    "    stream_mode=\"values\",\n",
    "):\n",
    "    step[\"messages\"][-1].pretty_print()"
   ]
  },
  {
   "cell_type": "code",
   "execution_count": 15,
   "metadata": {},
   "outputs": [
    {
     "name": "stdout",
     "output_type": "stream",
     "text": [
      "[('antwort',), ('chart_options_rules',), ('daten',), ('daten_frage',), ('daten_quelle',), ('daten_reichweite',), ('datensatz_drittmittel_aggregiert',), ('datensatz_drittmittel_hochschule',), ('datensatz_fue_erhebung',), ('datensatz_hbr_report',), ('erhebung',), ('erhebung_frage',), ('erhebung_typ',), ('erklaerung',), ('erklaerung_link',), ('frage',), ('germany_choropleth_federal_states',), ('glossar',), ('kurse',), ('menge',), ('menge_zugehoerig',), ('middle_points_of_ger_federal_states',), ('mview_daten_beschr',), ('mview_daten_id',), ('mview_daten_reichweite_menge',), ('quelle',), ('reichweite',), ('reichweite_klasse',), ('reichweite_typ',), ('stichprobe',), ('studierende',), ('studierende_detailliert',), ('tabelle',), ('tag',), ('tag_link',), ('variable',), ('view_daten',), ('view_daten_beschr',), ('view_daten_beschr_string',), ('view_daten_detailed',), ('view_daten_id',), ('view_daten_id_string',), ('view_daten_link',), ('view_daten_reichweite_menge',), ('view_daten_struktur',), ('view_erklaerung',), ('view_identifier',), ('view_info_tabellen',), ('view_info_variablen',), ('view_menge',), ('view_quelle_baum',), ('view_quelle_baum_lesbar',), ('view_reichweite',), ('view_tag_baum',), ('view_tag_baum_lesbar',), ('view_tag_link',), ('view_tag_link_aggregated_beschr',), ('view_tag_link_aggregated_id',), ('wert_einheit',), ('wrangling_input_view_daten',), ('zeit_einheit',)]\n",
      "[(0, 'jahr', 'INTEGER', False, None, False), (1, 'id', 'INTEGER', False, None, False), (2, 'Variable', 'VARCHAR', False, None, False), (3, 'Zeit', 'TIMESTAMP', False, None, False), (4, 'Hochschule', 'VARCHAR', False, None, False), (5, 'Wert', 'DECIMAL(18,3)', False, None, False), (6, 'Einheit', 'VARCHAR', False, None, False), (7, 'Quelle', 'VARCHAR', False, None, False)]\n"
     ]
    }
   ],
   "source": [
    "print(db.run(\"SHOW TABLES\"))  # Prüft, ob \"Kassel_University\" oder eine andere relevante Tabelle existiert\n",
    "columns = db.run(\"PRAGMA table_info(datensatz_drittmittel_hochschule)\")\n",
    "print(columns)  # Schau dir die Struktur an"
   ]
  },
  {
   "cell_type": "code",
   "execution_count": 17,
   "metadata": {},
   "outputs": [
    {
     "name": "stderr",
     "output_type": "stream",
     "text": [
      "C:\\Users\\Hueck\\AppData\\Local\\Temp\\ipykernel_16768\\3104307329.py:7: UserWarning: pandas only supports SQLAlchemy connectable (engine/connection) or database string URI or sqlite3 DBAPI2 connection. Other DBAPI2 objects are not tested. Please consider using SQLAlchemy.\n",
      "  df = pd.read_sql(query, conn)\n"
     ]
    },
    {
     "data": {
      "application/vnd.microsoft.datawrangler.viewer.v0+json": {
       "columns": [
        {
         "name": "index",
         "rawType": "int64",
         "type": "integer"
        },
        {
         "name": "jahr",
         "rawType": "int64",
         "type": "integer"
        },
        {
         "name": "id",
         "rawType": "int64",
         "type": "integer"
        },
        {
         "name": "Variable",
         "rawType": "object",
         "type": "string"
        },
        {
         "name": "Zeit",
         "rawType": "datetime64[ns]",
         "type": "datetime"
        },
        {
         "name": "Hochschule",
         "rawType": "object",
         "type": "string"
        },
        {
         "name": "Wert",
         "rawType": "object",
         "type": "string"
        },
        {
         "name": "Einheit",
         "rawType": "object",
         "type": "string"
        },
        {
         "name": "Quelle",
         "rawType": "object",
         "type": "string"
        }
       ],
       "conversionMethod": "pd.DataFrame",
       "ref": "ff00a553-0fac-4ed7-893c-70ad501f338b",
       "rows": [
        [
         "0",
         "2006",
         "30746",
         "Drittmittel vom Bund",
         "2006-01-01 00:00:00",
         "Universität Kassel",
         "3965.5799999999999272404",
         "in Tsd. Euro",
         "Destatis (Sonderauswertung)"
        ],
        [
         "1",
         "2007",
         "30747",
         "Drittmittel vom Bund",
         "2007-01-01 00:00:00",
         "Universität Kassel",
         "6274.3040000000000873115",
         "in Tsd. Euro",
         "Destatis (Sonderauswertung)"
        ],
        [
         "2",
         "2008",
         "30748",
         "Drittmittel vom Bund",
         "2008-01-01 00:00:00",
         "Universität Kassel",
         "5980.3469999999997526174",
         "in Tsd. Euro",
         "Destatis (Sonderauswertung)"
        ],
        [
         "3",
         "2010",
         "30750",
         "Drittmittel vom Bund",
         "2010-01-01 00:00:00",
         "Universität Kassel",
         "10225.6380000000008294592",
         "in Tsd. Euro",
         "Destatis (Sonderauswertung)"
        ],
        [
         "4",
         "2011",
         "30751",
         "Drittmittel vom Bund",
         "2011-01-01 00:00:00",
         "Universität Kassel",
         "12199.8060000000004947651",
         "in Tsd. Euro",
         "Destatis (Sonderauswertung)"
        ],
        [
         "5",
         "2012",
         "30752",
         "Drittmittel vom Bund",
         "2012-01-01 00:00:00",
         "Universität Kassel",
         "14411.4240000000008876668",
         "in Tsd. Euro",
         "Destatis (Sonderauswertung)"
        ],
        [
         "6",
         "2013",
         "30753",
         "Drittmittel vom Bund",
         "2013-01-01 00:00:00",
         "Universität Kassel",
         "18162.1830000000009022187",
         "in Tsd. Euro",
         "Destatis (Sonderauswertung)"
        ],
        [
         "7",
         "2014",
         "30754",
         "Drittmittel vom Bund",
         "2014-01-01 00:00:00",
         "Universität Kassel",
         "16925.6820000000006984919",
         "in Tsd. Euro",
         "Destatis (Sonderauswertung)"
        ],
        [
         "8",
         "2015",
         "30755",
         "Drittmittel vom Bund",
         "2015-01-01 00:00:00",
         "Universität Kassel",
         "18894.2829999999994470272",
         "in Tsd. Euro",
         "Destatis (Sonderauswertung)"
        ],
        [
         "9",
         "2016",
         "30756",
         "Drittmittel vom Bund",
         "2016-01-01 00:00:00",
         "Universität Kassel",
         "20969.2570000000014260877",
         "in Tsd. Euro",
         "Destatis (Sonderauswertung)"
        ],
        [
         "10",
         "2018",
         "30758",
         "Drittmittel vom Bund",
         "2018-01-01 00:00:00",
         "Universität Kassel",
         "25689.2969999999986612238",
         "in Tsd. Euro",
         "Destatis (Sonderauswertung)"
        ],
        [
         "11",
         "2019",
         "30759",
         "Drittmittel vom Bund",
         "2019-01-01 00:00:00",
         "Universität Kassel",
         "27260.4660000000003492460",
         "in Tsd. Euro",
         "Destatis (Sonderauswertung)"
        ],
        [
         "12",
         "2009",
         "30760",
         "Drittmittel vom Bund",
         "2009-01-01 00:00:00",
         "Apollon Hochschule der Gesundheitswirtschaft",
         "0.0000000000000000000",
         "in Tsd. Euro",
         "Destatis (Sonderauswertung)"
        ],
        [
         "13",
         "2010",
         "30761",
         "Drittmittel vom Bund",
         "2010-01-01 00:00:00",
         "Apollon Hochschule der Gesundheitswirtschaft",
         "0.0000000000000000000",
         "in Tsd. Euro",
         "Destatis (Sonderauswertung)"
        ],
        [
         "14",
         "2011",
         "30762",
         "Drittmittel vom Bund",
         "2011-01-01 00:00:00",
         "Apollon Hochschule der Gesundheitswirtschaft",
         "0.0000000000000000000",
         "in Tsd. Euro",
         "Destatis (Sonderauswertung)"
        ],
        [
         "15",
         "2012",
         "30763",
         "Drittmittel vom Bund",
         "2012-01-01 00:00:00",
         "Apollon Hochschule der Gesundheitswirtschaft",
         "0.0000000000000000000",
         "in Tsd. Euro",
         "Destatis (Sonderauswertung)"
        ],
        [
         "16",
         "2013",
         "30764",
         "Drittmittel vom Bund",
         "2013-01-01 00:00:00",
         "Apollon Hochschule der Gesundheitswirtschaft",
         "72.0000000000000000000",
         "in Tsd. Euro",
         "Destatis (Sonderauswertung)"
        ],
        [
         "17",
         "2014",
         "30765",
         "Drittmittel vom Bund",
         "2014-01-01 00:00:00",
         "Apollon Hochschule der Gesundheitswirtschaft",
         "72.0000000000000000000",
         "in Tsd. Euro",
         "Destatis (Sonderauswertung)"
        ],
        [
         "18",
         "2015",
         "30766",
         "Drittmittel vom Bund",
         "2015-01-01 00:00:00",
         "Apollon Hochschule der Gesundheitswirtschaft",
         "0.0000000000000000000",
         "in Tsd. Euro",
         "Destatis (Sonderauswertung)"
        ],
        [
         "19",
         "2016",
         "30767",
         "Drittmittel vom Bund",
         "2016-01-01 00:00:00",
         "Apollon Hochschule der Gesundheitswirtschaft",
         "0.0000000000000000000",
         "in Tsd. Euro",
         "Destatis (Sonderauswertung)"
        ],
        [
         "20",
         "2006",
         "30771",
         "Drittmittel vom Bund",
         "2006-01-01 00:00:00",
         "Hochschule Macromedia für angewandte Wissenschafte (ehem. MHMK) University of Applied Sciences, Bayern",
         "0.0000000000000000000",
         "in Tsd. Euro",
         "Destatis (Sonderauswertung)"
        ],
        [
         "21",
         "2007",
         "30772",
         "Drittmittel vom Bund",
         "2007-01-01 00:00:00",
         "Hochschule Macromedia für angewandte Wissenschafte (ehem. MHMK) University of Applied Sciences, Bayern",
         "0.0000000000000000000",
         "in Tsd. Euro",
         "Destatis (Sonderauswertung)"
        ],
        [
         "22",
         "2008",
         "30773",
         "Drittmittel vom Bund",
         "2008-01-01 00:00:00",
         "Hochschule Macromedia für angewandte Wissenschafte (ehem. MHMK) University of Applied Sciences, Bayern",
         "0.0000000000000000000",
         "in Tsd. Euro",
         "Destatis (Sonderauswertung)"
        ],
        [
         "23",
         "2009",
         "30774",
         "Drittmittel vom Bund",
         "2009-01-01 00:00:00",
         "Hochschule Macromedia für angewandte Wissenschafte (ehem. MHMK) University of Applied Sciences, Bayern",
         "0.0000000000000000000",
         "in Tsd. Euro",
         "Destatis (Sonderauswertung)"
        ],
        [
         "24",
         "2011",
         "30776",
         "Drittmittel vom Bund",
         "2011-01-01 00:00:00",
         "Hochschule Macromedia für angewandte Wissenschafte (ehem. MHMK) University of Applied Sciences, Bayern",
         "0.0000000000000000000",
         "in Tsd. Euro",
         "Destatis (Sonderauswertung)"
        ],
        [
         "25",
         "2012",
         "30777",
         "Drittmittel vom Bund",
         "2012-01-01 00:00:00",
         "Hochschule Macromedia für angewandte Wissenschafte (ehem. MHMK) University of Applied Sciences, Bayern",
         "0.0000000000000000000",
         "in Tsd. Euro",
         "Destatis (Sonderauswertung)"
        ],
        [
         "26",
         "2014",
         "30779",
         "Drittmittel vom Bund",
         "2014-01-01 00:00:00",
         "Hochschule Macromedia für angewandte Wissenschafte (ehem. MHMK) University of Applied Sciences, Bayern",
         "2.1819999999999999396",
         "in Tsd. Euro",
         "Destatis (Sonderauswertung)"
        ],
        [
         "27",
         "2015",
         "30780",
         "Drittmittel vom Bund",
         "2015-01-01 00:00:00",
         "Hochschule Macromedia für angewandte Wissenschafte (ehem. MHMK) University of Applied Sciences, Bayern",
         "0.0000000000000000000",
         "in Tsd. Euro",
         "Destatis (Sonderauswertung)"
        ],
        [
         "28",
         "2016",
         "30781",
         "Drittmittel vom Bund",
         "2016-01-01 00:00:00",
         "Hochschule Macromedia für angewandte Wissenschafte (ehem. MHMK) University of Applied Sciences, Bayern",
         "0.0000000000000000000",
         "in Tsd. Euro",
         "Destatis (Sonderauswertung)"
        ],
        [
         "29",
         "2017",
         "30782",
         "Drittmittel vom Bund",
         "2017-01-01 00:00:00",
         "Hochschule Macromedia für angewandte Wissenschafte (ehem. MHMK) University of Applied Sciences, Bayern",
         "0.0000000000000000000",
         "in Tsd. Euro",
         "Destatis (Sonderauswertung)"
        ],
        [
         "30",
         "2018",
         "30783",
         "Drittmittel vom Bund",
         "2018-01-01 00:00:00",
         "Hochschule Macromedia für angewandte Wissenschafte (ehem. MHMK) University of Applied Sciences, Bayern",
         "16.9269999999999996021",
         "in Tsd. Euro",
         "Destatis (Sonderauswertung)"
        ],
        [
         "31",
         "2019",
         "30784",
         "Drittmittel vom Bund",
         "2019-01-01 00:00:00",
         "Hochschule Macromedia für angewandte Wissenschafte (ehem. MHMK) University of Applied Sciences, Bayern",
         "85.5079999999999955662",
         "in Tsd. Euro",
         "Destatis (Sonderauswertung)"
        ],
        [
         "32",
         "2008",
         "30785",
         "Drittmittel vom Bund",
         "2008-01-01 00:00:00",
         "Fachhochschule der Diakonie",
         "0.0000000000000000000",
         "in Tsd. Euro",
         "Destatis (Sonderauswertung)"
        ],
        [
         "33",
         "2009",
         "30786",
         "Drittmittel vom Bund",
         "2009-01-01 00:00:00",
         "Fachhochschule der Diakonie",
         "0.0000000000000000000",
         "in Tsd. Euro",
         "Destatis (Sonderauswertung)"
        ],
        [
         "34",
         "2010",
         "30787",
         "Drittmittel vom Bund",
         "2010-01-01 00:00:00",
         "Fachhochschule der Diakonie",
         "0.0000000000000000000",
         "in Tsd. Euro",
         "Destatis (Sonderauswertung)"
        ],
        [
         "35",
         "2011",
         "30788",
         "Drittmittel vom Bund",
         "2011-01-01 00:00:00",
         "Fachhochschule der Diakonie",
         "0.0000000000000000000",
         "in Tsd. Euro",
         "Destatis (Sonderauswertung)"
        ],
        [
         "36",
         "2012",
         "30789",
         "Drittmittel vom Bund",
         "2012-01-01 00:00:00",
         "Fachhochschule der Diakonie",
         "0.0000000000000000000",
         "in Tsd. Euro",
         "Destatis (Sonderauswertung)"
        ],
        [
         "37",
         "2015",
         "30792",
         "Drittmittel vom Bund",
         "2015-01-01 00:00:00",
         "Fachhochschule der Diakonie",
         "0.0000000000000000000",
         "in Tsd. Euro",
         "Destatis (Sonderauswertung)"
        ],
        [
         "38",
         "2016",
         "30793",
         "Drittmittel vom Bund",
         "2016-01-01 00:00:00",
         "Fachhochschule der Diakonie",
         "0.0000000000000000000",
         "in Tsd. Euro",
         "Destatis (Sonderauswertung)"
        ],
        [
         "39",
         "2017",
         "30794",
         "Drittmittel vom Bund",
         "2017-01-01 00:00:00",
         "Fachhochschule der Diakonie",
         "0.0000000000000000000",
         "in Tsd. Euro",
         "Destatis (Sonderauswertung)"
        ],
        [
         "40",
         "2018",
         "30795",
         "Drittmittel vom Bund",
         "2018-01-01 00:00:00",
         "Fachhochschule der Diakonie",
         "0.0000000000000000000",
         "in Tsd. Euro",
         "Destatis (Sonderauswertung)"
        ],
        [
         "41",
         "2019",
         "30796",
         "Drittmittel vom Bund",
         "2019-01-01 00:00:00",
         "Fachhochschule der Diakonie",
         "0.0000000000000000000",
         "in Tsd. Euro",
         "Destatis (Sonderauswertung)"
        ],
        [
         "42",
         "2007",
         "30797",
         "Drittmittel vom Bund",
         "2007-01-01 00:00:00",
         "GGS German Graduate School of Management and Law gGmbH",
         "0.0000000000000000000",
         "in Tsd. Euro",
         "Destatis (Sonderauswertung)"
        ],
        [
         "43",
         "2008",
         "30798",
         "Drittmittel vom Bund",
         "2008-01-01 00:00:00",
         "GGS German Graduate School of Management and Law gGmbH",
         "0.0000000000000000000",
         "in Tsd. Euro",
         "Destatis (Sonderauswertung)"
        ],
        [
         "44",
         "2009",
         "30799",
         "Drittmittel vom Bund",
         "2009-01-01 00:00:00",
         "GGS German Graduate School of Management and Law gGmbH",
         "0.0000000000000000000",
         "in Tsd. Euro",
         "Destatis (Sonderauswertung)"
        ],
        [
         "45",
         "2011",
         "30801",
         "Drittmittel vom Bund",
         "2011-01-01 00:00:00",
         "GGS German Graduate School of Management and Law gGmbH",
         "0.0000000000000000000",
         "in Tsd. Euro",
         "Destatis (Sonderauswertung)"
        ],
        [
         "46",
         "2012",
         "30802",
         "Drittmittel vom Bund",
         "2012-01-01 00:00:00",
         "GGS German Graduate School of Management and Law gGmbH",
         "0.0000000000000000000",
         "in Tsd. Euro",
         "Destatis (Sonderauswertung)"
        ],
        [
         "47",
         "2013",
         "30803",
         "Drittmittel vom Bund",
         "2013-01-01 00:00:00",
         "GGS German Graduate School of Management and Law gGmbH",
         "0.0000000000000000000",
         "in Tsd. Euro",
         "Destatis (Sonderauswertung)"
        ],
        [
         "48",
         "2014",
         "30804",
         "Drittmittel vom Bund",
         "2014-01-01 00:00:00",
         "GGS German Graduate School of Management and Law gGmbH",
         "0.0000000000000000000",
         "in Tsd. Euro",
         "Destatis (Sonderauswertung)"
        ],
        [
         "49",
         "2015",
         "30805",
         "Drittmittel vom Bund",
         "2015-01-01 00:00:00",
         "GGS German Graduate School of Management and Law gGmbH",
         "0.0000000000000000000",
         "in Tsd. Euro",
         "Destatis (Sonderauswertung)"
        ]
       ],
       "shape": {
        "columns": 8,
        "rows": 87860
       }
      },
      "text/html": [
       "<div>\n",
       "<style scoped>\n",
       "    .dataframe tbody tr th:only-of-type {\n",
       "        vertical-align: middle;\n",
       "    }\n",
       "\n",
       "    .dataframe tbody tr th {\n",
       "        vertical-align: top;\n",
       "    }\n",
       "\n",
       "    .dataframe thead th {\n",
       "        text-align: right;\n",
       "    }\n",
       "</style>\n",
       "<table border=\"1\" class=\"dataframe\">\n",
       "  <thead>\n",
       "    <tr style=\"text-align: right;\">\n",
       "      <th></th>\n",
       "      <th>jahr</th>\n",
       "      <th>id</th>\n",
       "      <th>Variable</th>\n",
       "      <th>Zeit</th>\n",
       "      <th>Hochschule</th>\n",
       "      <th>Wert</th>\n",
       "      <th>Einheit</th>\n",
       "      <th>Quelle</th>\n",
       "    </tr>\n",
       "  </thead>\n",
       "  <tbody>\n",
       "    <tr>\n",
       "      <th>0</th>\n",
       "      <td>2006</td>\n",
       "      <td>30746</td>\n",
       "      <td>Drittmittel vom Bund</td>\n",
       "      <td>2006-01-01</td>\n",
       "      <td>Universität Kassel</td>\n",
       "      <td>3965.5799999999999272404</td>\n",
       "      <td>in Tsd. Euro</td>\n",
       "      <td>Destatis (Sonderauswertung)</td>\n",
       "    </tr>\n",
       "    <tr>\n",
       "      <th>1</th>\n",
       "      <td>2007</td>\n",
       "      <td>30747</td>\n",
       "      <td>Drittmittel vom Bund</td>\n",
       "      <td>2007-01-01</td>\n",
       "      <td>Universität Kassel</td>\n",
       "      <td>6274.3040000000000873115</td>\n",
       "      <td>in Tsd. Euro</td>\n",
       "      <td>Destatis (Sonderauswertung)</td>\n",
       "    </tr>\n",
       "    <tr>\n",
       "      <th>2</th>\n",
       "      <td>2008</td>\n",
       "      <td>30748</td>\n",
       "      <td>Drittmittel vom Bund</td>\n",
       "      <td>2008-01-01</td>\n",
       "      <td>Universität Kassel</td>\n",
       "      <td>5980.3469999999997526174</td>\n",
       "      <td>in Tsd. Euro</td>\n",
       "      <td>Destatis (Sonderauswertung)</td>\n",
       "    </tr>\n",
       "    <tr>\n",
       "      <th>3</th>\n",
       "      <td>2010</td>\n",
       "      <td>30750</td>\n",
       "      <td>Drittmittel vom Bund</td>\n",
       "      <td>2010-01-01</td>\n",
       "      <td>Universität Kassel</td>\n",
       "      <td>10225.6380000000008294592</td>\n",
       "      <td>in Tsd. Euro</td>\n",
       "      <td>Destatis (Sonderauswertung)</td>\n",
       "    </tr>\n",
       "    <tr>\n",
       "      <th>4</th>\n",
       "      <td>2011</td>\n",
       "      <td>30751</td>\n",
       "      <td>Drittmittel vom Bund</td>\n",
       "      <td>2011-01-01</td>\n",
       "      <td>Universität Kassel</td>\n",
       "      <td>12199.8060000000004947651</td>\n",
       "      <td>in Tsd. Euro</td>\n",
       "      <td>Destatis (Sonderauswertung)</td>\n",
       "    </tr>\n",
       "    <tr>\n",
       "      <th>...</th>\n",
       "      <td>...</td>\n",
       "      <td>...</td>\n",
       "      <td>...</td>\n",
       "      <td>...</td>\n",
       "      <td>...</td>\n",
       "      <td>...</td>\n",
       "      <td>...</td>\n",
       "      <td>...</td>\n",
       "    </tr>\n",
       "    <tr>\n",
       "      <th>87855</th>\n",
       "      <td>2021</td>\n",
       "      <td>118392</td>\n",
       "      <td>Drittmittel von der DFG</td>\n",
       "      <td>2021-01-01</td>\n",
       "      <td>Eberhard Karls Universität Tübingen (Klinikum)</td>\n",
       "      <td>26448.4929999999985739123</td>\n",
       "      <td>in Tsd. Euro</td>\n",
       "      <td>Destatis (Sonderauswertung)</td>\n",
       "    </tr>\n",
       "    <tr>\n",
       "      <th>87856</th>\n",
       "      <td>2021</td>\n",
       "      <td>118406</td>\n",
       "      <td>Drittmittel von der DFG</td>\n",
       "      <td>2021-01-01</td>\n",
       "      <td>Pädagogische Hochschule Schwäbisch Gmünd</td>\n",
       "      <td>15.7379999999999995453</td>\n",
       "      <td>in Tsd. Euro</td>\n",
       "      <td>Destatis (Sonderauswertung)</td>\n",
       "    </tr>\n",
       "    <tr>\n",
       "      <th>87857</th>\n",
       "      <td>2021</td>\n",
       "      <td>118418</td>\n",
       "      <td>Drittmittel von der DFG</td>\n",
       "      <td>2021-01-01</td>\n",
       "      <td>Hochschule der Wirtschaft für Management gGmbH</td>\n",
       "      <td>0.0000000000000000000</td>\n",
       "      <td>in Tsd. Euro</td>\n",
       "      <td>Destatis (Sonderauswertung)</td>\n",
       "    </tr>\n",
       "    <tr>\n",
       "      <th>87858</th>\n",
       "      <td>2021</td>\n",
       "      <td>118475</td>\n",
       "      <td>Drittmittel von der DFG</td>\n",
       "      <td>2021-01-01</td>\n",
       "      <td>Akademie der Bildenden Künste München</td>\n",
       "      <td>0.0000000000000000000</td>\n",
       "      <td>in Tsd. Euro</td>\n",
       "      <td>Destatis (Sonderauswertung)</td>\n",
       "    </tr>\n",
       "    <tr>\n",
       "      <th>87859</th>\n",
       "      <td>2021</td>\n",
       "      <td>118595</td>\n",
       "      <td>Drittmittel von der DFG</td>\n",
       "      <td>2021-01-01</td>\n",
       "      <td>Friedrich-Schiller-Universität Jena (ohne Klin...</td>\n",
       "      <td>42603.8510000000023865141</td>\n",
       "      <td>in Tsd. Euro</td>\n",
       "      <td>Destatis (Sonderauswertung)</td>\n",
       "    </tr>\n",
       "  </tbody>\n",
       "</table>\n",
       "<p>87860 rows × 8 columns</p>\n",
       "</div>"
      ],
      "text/plain": [
       "       jahr      id                 Variable       Zeit  \\\n",
       "0      2006   30746     Drittmittel vom Bund 2006-01-01   \n",
       "1      2007   30747     Drittmittel vom Bund 2007-01-01   \n",
       "2      2008   30748     Drittmittel vom Bund 2008-01-01   \n",
       "3      2010   30750     Drittmittel vom Bund 2010-01-01   \n",
       "4      2011   30751     Drittmittel vom Bund 2011-01-01   \n",
       "...     ...     ...                      ...        ...   \n",
       "87855  2021  118392  Drittmittel von der DFG 2021-01-01   \n",
       "87856  2021  118406  Drittmittel von der DFG 2021-01-01   \n",
       "87857  2021  118418  Drittmittel von der DFG 2021-01-01   \n",
       "87858  2021  118475  Drittmittel von der DFG 2021-01-01   \n",
       "87859  2021  118595  Drittmittel von der DFG 2021-01-01   \n",
       "\n",
       "                                              Hochschule  \\\n",
       "0                                     Universität Kassel   \n",
       "1                                     Universität Kassel   \n",
       "2                                     Universität Kassel   \n",
       "3                                     Universität Kassel   \n",
       "4                                     Universität Kassel   \n",
       "...                                                  ...   \n",
       "87855     Eberhard Karls Universität Tübingen (Klinikum)   \n",
       "87856           Pädagogische Hochschule Schwäbisch Gmünd   \n",
       "87857     Hochschule der Wirtschaft für Management gGmbH   \n",
       "87858              Akademie der Bildenden Künste München   \n",
       "87859  Friedrich-Schiller-Universität Jena (ohne Klin...   \n",
       "\n",
       "                            Wert       Einheit                       Quelle  \n",
       "0       3965.5799999999999272404  in Tsd. Euro  Destatis (Sonderauswertung)  \n",
       "1       6274.3040000000000873115  in Tsd. Euro  Destatis (Sonderauswertung)  \n",
       "2       5980.3469999999997526174  in Tsd. Euro  Destatis (Sonderauswertung)  \n",
       "3      10225.6380000000008294592  in Tsd. Euro  Destatis (Sonderauswertung)  \n",
       "4      12199.8060000000004947651  in Tsd. Euro  Destatis (Sonderauswertung)  \n",
       "...                          ...           ...                          ...  \n",
       "87855  26448.4929999999985739123  in Tsd. Euro  Destatis (Sonderauswertung)  \n",
       "87856     15.7379999999999995453  in Tsd. Euro  Destatis (Sonderauswertung)  \n",
       "87857      0.0000000000000000000  in Tsd. Euro  Destatis (Sonderauswertung)  \n",
       "87858      0.0000000000000000000  in Tsd. Euro  Destatis (Sonderauswertung)  \n",
       "87859  42603.8510000000023865141  in Tsd. Euro  Destatis (Sonderauswertung)  \n",
       "\n",
       "[87860 rows x 8 columns]"
      ]
     },
     "execution_count": 17,
     "metadata": {},
     "output_type": "execute_result"
    }
   ],
   "source": [
    "import pandas as pd\n",
    "import duckdb\n",
    "\n",
    "conn = duckdb.connect(\"data/drittmittel_hs.db\")\n",
    "cursor = conn.cursor()\n",
    "query = \"SELECT * FROM datensatz_drittmittel_hochschule;\"\n",
    "df = pd.read_sql(query, conn)\n",
    "df"
   ]
  }
 ],
 "metadata": {
  "kernelspec": {
   "display_name": "chatbot_magpie",
   "language": "python",
   "name": "python3"
  },
  "language_info": {
   "codemirror_mode": {
    "name": "ipython",
    "version": 3
   },
   "file_extension": ".py",
   "mimetype": "text/x-python",
   "name": "python",
   "nbconvert_exporter": "python",
   "pygments_lexer": "ipython3",
   "version": "3.9.21"
  }
 },
 "nbformat": 4,
 "nbformat_minor": 2
}
