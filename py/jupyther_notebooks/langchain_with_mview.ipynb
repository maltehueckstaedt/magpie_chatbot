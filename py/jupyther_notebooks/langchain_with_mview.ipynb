{
 "cells": [
  {
   "cell_type": "markdown",
   "metadata": {},
   "source": [
    "# Sparklehorse - Der SQL-Chatbot der Magpie\n",
    "\n",
    "## Vorbereitung der Arbeitsumgebung\n",
    "\n",
    "In einem ersten Schritt definierne wir unser Arbeitsverzeichnis. "
   ]
  },
  {
   "cell_type": "code",
   "execution_count": null,
   "metadata": {
    "ExecuteTime": {
     "end_time": "2025-04-22T13:28:58.992809Z",
     "start_time": "2025-04-22T13:28:58.987369Z"
    }
   },
   "outputs": [],
   "source": [
    "import os\n",
    "os.getcwd()\n",
    "os.chdir(\"c:/Users/mhu/Documents/gitHub/magpie_chatbot\")\n",
    "# Pfad Privatrechner\n",
    "# os.chdir(\"c:/Users/Hueck/OneDrive/Dokumente/GitHub/magpie_langchain\")"
   ]
  },
  {
   "cell_type": "markdown",
   "metadata": {},
   "source": [
    "Lade Umgebungsvariablen (inkl. OpenAI-API-Key) und initialisiere den Chatbot mit dem Modell \"gpt-4o\" von OpenAI."
   ]
  },
  {
   "cell_type": "code",
   "execution_count": null,
   "metadata": {
    "ExecuteTime": {
     "end_time": "2025-04-22T13:29:02.082018Z",
     "start_time": "2025-04-22T13:29:01.593612Z"
    }
   },
   "outputs": [],
   "source": [
    "from dotenv import load_dotenv\n",
    "from langchain_openai import ChatOpenAI\n",
    "\n",
    "load_dotenv()\n",
    "llm = ChatOpenAI(model=\"gpt-4o\")"
   ]
  },
  {
   "cell_type": "markdown",
   "metadata": {},
   "source": [
    "  Im folgenden stellen wir Verbindung zur Magpie her. Wir schauen uns dan alle in der Magpie befindlichen Tabellen an. Schließlich wählen wir `view_daten_reichweite_menge` aus und speichern diese als Pandas Data Frame zur einfachen exploration der Datentabelle."
   ]
  },
  {
   "cell_type": "code",
   "execution_count": null,
   "metadata": {},
   "outputs": [],
   "source": [
    "import pandas as pd\n",
    "from langchain_community.utilities import SQLDatabase\n",
    "from langchain_community.agent_toolkits import SQLDatabaseToolkit \n",
    "\n",
    "db = SQLDatabase.from_uri(\"duckdb:///data/view_magpie.db\") \n",
    "\n",
    "db.run(\"SHOW TABLES\")\n",
    "\n",
    "query = \"SELECT * FROM view_daten_reichweite_menge;\"\n",
    "df = pd.read_sql(query, db._engine)\n",
    "df"
   ]
  },
  {
   "cell_type": "markdown",
   "metadata": {},
   "source": [
    "## Tools\n",
    "\n",
    "### Standardisierte Langchain Tools\n",
    "\n",
    "Wir intitalsieren ein standardisiertes Toolkit. Es stellt Funktionen bereit, um SQL-Queries über natürliche Sprache zu erzeugen und auszuführen. Wir lassen uns Namen und Funktion der standardisierten Tools anzeigen:"
   ]
  },
  {
   "cell_type": "code",
   "execution_count": null,
   "metadata": {},
   "outputs": [],
   "source": [
    "toolkit = SQLDatabaseToolkit(db=db, llm=llm)\n",
    "\n",
    "tools = toolkit.get_tools()\n",
    "\n",
    "for tool in tools:\n",
    "    print(f\"Tool Name: {tool.name}\")\n",
    "    print(f\"Description: {tool.description}\")\n",
    "    print(\"-\" * 40)"
   ]
  },
  {
   "cell_type": "markdown",
   "metadata": {},
   "source": [
    "Die Standardtools aus`SQLDatabaseToolkit`können also die folgenden Standardfunktionen übernehmen: \n",
    "\n",
    "- `sql_db_query`  \n",
    "  Führt eine übergebene SQL-Abfrage aus. Gibt das Ergebnis oder eine Fehlermeldung zurück. Bei Fehlern wie „Unknown column“ sollte zuvor das Tabellenschema geprüft werden.\n",
    "\n",
    "- `sql_db_schema`  \n",
    "  Gibt das Schema (Spaltennamen und -typen) sowie Beispielzeilen für angegebene Tabellen zurück. Vorher sollte geprüft werden, ob die Tabellen existieren.\n",
    "\n",
    "- `sql_db_list_tables`  \n",
    "  Listet alle Tabellen in der verbundenen Datenbank auf.\n",
    "\n",
    "- `sql_db_query_checker`  \n",
    "  Prüft eine SQL-Abfrage auf syntaktische Korrektheit, bevor sie mit sql_db_query ausgeführt wird. Sollte immer vorher verwendet werden.\n"
   ]
  },
  {
   "cell_type": "markdown",
   "metadata": {},
   "source": [
    "### Maßgeschneiderte Langchain Tools\n",
    "\n",
    "#### Retriever `rt_beschr_variable`\n",
    "\n",
    "`rt_beschr_variable` erlaubt die semantischen Suche über Werte aus einer Datenbankspalte. \n",
    "\n",
    "1. Wir sammeln sämtliche Unique Werte aus `beschr_variable` und wandeln diese mit OpenAIs Embeddings-Methdode `text-embedding-3-large` in Embeddings um. Die werden in einen Vektorstore gesichert.\n",
    "2. Der Vektorstore wird in einen Retriever umgewandelt, der bei einer Anfrage die 5 ähnlichsten Begriffe zurückgibt.\n",
    "3. Schließlich wird mit `create_retriever_tool` ein Tool erzeugt, das den Retriever kapselt. Dieses Tool kann von Sparklehorse genutzt werden, um Benutzereingaben mit unsicherer Schreibweise oder unvollständigen Begriffen mit den tatsächlichen Werten in der Datenbank abzugleichen."
   ]
  },
  {
   "cell_type": "code",
   "execution_count": null,
   "metadata": {},
   "outputs": [],
   "source": [
    "from langchain_openai import OpenAIEmbeddings\n",
    "from langchain_core.vectorstores import InMemoryVectorStore\n",
    "from langchain.agents.agent_toolkits import create_retriever_tool\n",
    "import ast\n",
    "import re\n",
    "\n",
    "##################################################################\n",
    "# Generiere `rt_beschr_variable`\n",
    "##################################################################\n",
    "\n",
    "def query_as_list(db, query):\n",
    "    res = db.run(query)\n",
    "    res = [el for sub in ast.literal_eval(res) for el in sub if el]\n",
    "    res = [re.sub(r\"\\b\\d+\\b\", \"\", string).strip() for string in res]\n",
    "    return list(set(res))\n",
    "\n",
    "\n",
    "beschr_variable = query_as_list(db, \"SELECT variable_beschr FROM view_daten_reichweite_menge\")\n",
    "embeddings = OpenAIEmbeddings(model=\"text-embedding-3-large\")\n",
    "vector_store = InMemoryVectorStore(embeddings)\n",
    "_ = vector_store.add_texts(beschr_variable)\n",
    "\n",
    "retriever_beschr_variable  = vector_store.as_retriever(search_kwargs={\"k\": 5})\n",
    "\n",
    "description = (\n",
    "    \"Verwenden, um Werte für Filterabfragen nachzuschlagen. Die Eingabe ist eine ungefähre Schreibweise \"\n",
    "    \"eines Eigennamens, die Ausgabe sind gültige Eigennamen. Verwende den Begriff, der der Eingabe am ähnlichsten ist.\"\n",
    ")\n",
    "\n",
    "rt_beschr_variable = create_retriever_tool(\n",
    "    retriever_beschr_variable,\n",
    "    name=\"rt_beschr_variable\",\n",
    "    description=description,\n",
    ")"
   ]
  },
  {
   "cell_type": "markdown",
   "metadata": {},
   "source": [
    "Wir testen nun den Retriever:"
   ]
  },
  {
   "cell_type": "code",
   "execution_count": null,
   "metadata": {},
   "outputs": [],
   "source": [
    "def print_clean_result(result):\n",
    "    print(\"\\n\".join(result.split(\"\\n\\n\")))\n",
    "\n",
    "result = rt_beschr_variable.invoke(\"Wie viele Studienanfänger ohne Abitur gab es 2016?\")\n",
    "\n",
    "print_clean_result(result)"
   ]
  },
  {
   "cell_type": "markdown",
   "metadata": {},
   "source": [
    "#### Retriever `rt_reichweite_variable` & `rt_werteinheit_variable`\n",
    "\n",
    "Wir bauen einen baugleichen Retriever nun noch für die Variablen `reichweite_beschr_list` und `wert_einheit`. "
   ]
  },
  {
   "cell_type": "code",
   "execution_count": 59,
   "metadata": {},
   "outputs": [],
   "source": [
    "##################################################################\n",
    "# Generiere `rt_reichweite_variable`\n",
    "##################################################################\n",
    "\n",
    "reichweite_variable = query_as_list(db, \"SELECT reichweite_beschr_list FROM view_daten_reichweite_menge\")\n",
    "\n",
    "embeddings = OpenAIEmbeddings(model=\"text-embedding-3-large\")\n",
    "\n",
    "vector_store = InMemoryVectorStore(embeddings)\n",
    "\n",
    "_ = vector_store.add_texts(reichweite_variable)\n",
    "\n",
    "retriever_reichweite_variable = vector_store.as_retriever(search_kwargs={\"k\": 5})\n",
    "\n",
    "description = (\n",
    "\"Verwenden, um Werte für Filterabfragen nachzuschlagen. Die Eingabe ist eine ungefähre Schreibweise \"\n",
    "\"eines Eigennamens, die Ausgabe sind gültige Eigennamen. Verwende den Begriff, der der Suche am ähnlichsten ist.\"\n",
    ")\n",
    "\n",
    "rt_reichweite_variable = create_retriever_tool(\n",
    "    retriever_reichweite_variable,\n",
    "    name=\"rt_reichweite_variable\",\n",
    "    description=description,\n",
    ")\n",
    "\n",
    "##################################################################\n",
    "# Generiere `rt_beschr_wert_einheit`\n",
    "##################################################################\n",
    "\n",
    "werteinheit_variable = query_as_list(db, \"SELECT wert_einheit FROM view_daten_reichweite_menge\")\n",
    "\n",
    "embeddings = OpenAIEmbeddings(model=\"text-embedding-3-large\")\n",
    "\n",
    "vector_store = InMemoryVectorStore(embeddings)\n",
    "\n",
    "_ = vector_store.add_texts(werteinheit_variable)\n",
    "\n",
    "retriever_beschr_wert_einheit = vector_store.as_retriever(search_kwargs={\"k\": 5})\n",
    "\n",
    "description = (\n",
    "    \"Verwenden, um Werte für Filterabfragen nachzuschlagen. Die Eingabe ist eine ungefähre Schreibweise \"\n",
    "    \"eines Eigennamens, die Ausgabe sind gültige Eigennamen. Verwende den Begriff, der der Suche am ähnlichsten ist.\"\n",
    ")\n",
    "\n",
    "rt_werteinheit_variable = create_retriever_tool(\n",
    "    retriever_beschr_wert_einheit,\n",
    "    name=\"rt_beschr_wert_einheit\",\n",
    "    description=description,\n",
    ")"
   ]
  },
  {
   "cell_type": "code",
   "execution_count": 60,
   "metadata": {},
   "outputs": [
    {
     "name": "stdout",
     "output_type": "stream",
     "text": [
      "Sonstiges Orientierungsstudium\n",
      "Hochschulsektor | Deutschland\n",
      "Berlin | Schulfach Mathematik | . Schulklasse | Ohne Migrationshintergrund\n",
      "Deutschland | Schulfach Mathematik | . Schulklasse | Niedriger sozioökonomischer Status (ISEI)\n",
      "Sonstige Hochschule | Deutschland\n"
     ]
    }
   ],
   "source": [
    "result = rt_reichweite_variable.invoke(\"Wie hoch war die Anzahl von Studierenden ohne Abitur 2006?\")\n",
    "\n",
    "print_clean_result(result)"
   ]
  },
  {
   "cell_type": "code",
   "execution_count": 61,
   "metadata": {},
   "outputs": [
    {
     "name": "stdout",
     "output_type": "stream",
     "text": [
      "Anzahl\n",
      "Prozent\n",
      "in Tsd. Euro\n",
      "Punkte\n",
      "Mittelwert\n"
     ]
    }
   ],
   "source": [
    "result = rt_werteinheit_variable.invoke(\"Wie hoch war die Anzahl von Studierenden ohne Abitur 2006?\")\n",
    "print_clean_result(result)"
   ]
  },
  {
   "cell_type": "code",
   "execution_count": 70,
   "metadata": {},
   "outputs": [],
   "source": [
    "from langchain_core.tools import tool\n",
    "from langchain.prompts import PromptTemplate\n",
    "from langchain.chains import LLMChain\n",
    "\n",
    "@tool\n",
    "def variable_beschr(user_question: str) -> str:\n",
    "    \"\"\"\n",
    "    Sucht nach variable_beschr in Tabelle\n",
    "    \"\"\"\n",
    "    docs = retriever_beschr_variable.get_relevant_documents(user_question)\n",
    "    if not docs:\n",
    "        return \"Error: Keine passende Variable gefunden.\"\n",
    "    \n",
    "    best_match = docs[0].page_content.strip()\n",
    "    query = f\"SELECT variable_beschr FROM view_daten_reichweite_menge WHERE variable_beschr = '{best_match}' LIMIT 1;\" \n",
    "    result = db.run_no_throw(query)\n",
    "\n",
    "    return result if result else \"Error: Keine passende Variable gefunden.\"\n",
    "\n",
    "\n",
    "@tool\n",
    "def get_reichweite_beschr_list(user_question: str) -> str:\n",
    "    \"\"\"\n",
    "    Ermittelt die passende Reichweite für eine SQL-Abfrage.\n",
    "\n",
    "    Gibt standardmäßig 'Deutschland' zurück, außer die Frage enthält Hinweise \n",
    "    auf spezifischere Reichweiten (z. B. Bundesländer oder Sektoren). In dem Fall \n",
    "    wird ein semantischer Retriever genutzt.\n",
    "\n",
    "    Rückgabe ist ein Wert aus 'reichweite_beschr_list' oder eine Fehlermeldung.\n",
    "    \"\"\"\n",
    "    spezifisch_keywords = [\n",
    "        \"hochschulsektor\", \"privater träger\", \"berufsakademie\", \"bundesland\", \n",
    "        \"bayern\", \"nrw\", \"sachsen\", \"baden-württemberg\", \"region\", \"sektor\"\n",
    "    ]\n",
    "\n",
    "    user_question_lower = user_question.lower()\n",
    "\n",
    "    if any(kw in user_question_lower for kw in spezifisch_keywords):\n",
    "        matches = rt_reichweite_variable.invoke(user_question).split(\"\\n\")\n",
    "        best_match = matches[0].strip()\n",
    "    else:\n",
    "        best_match = \"Deutschland\"\n",
    "\n",
    "    query = f\"\"\"\n",
    "        SELECT reichweite_beschr_list \n",
    "        FROM view_daten_reichweite_menge \n",
    "        WHERE reichweite_beschr_list = '{best_match}' \n",
    "        LIMIT 1;\n",
    "    \"\"\"\n",
    "    result = db.run_no_throw(query)\n",
    "    return result if result else \"Error: Keine passende Variable gefunden.\"\n",
    "\n",
    "\n",
    "# @tool\n",
    "# def get_wert_einheit_id(user_question: str) -> str:\n",
    "#     \"\"\"Sucht in der Tabelle 'wert_einheit' nach einer passenden ID basierend auf der Beschreibung.\"\"\"\n",
    "#     query = f\"SELECT id FROM wert_einheit WHERE beschr LIKE '%{description}%' LIMIT 1;\"\n",
    "#     result = db.run_no_throw(query)\n",
    "#     return result if result else \"Error: Keine passende Werteinheit gefunden.\"\n",
    "\n",
    " \n",
    "\n",
    "\n",
    "tools.extend([variable_beschr, get_reichweite_beschr_list])"
   ]
  },
  {
   "cell_type": "code",
   "execution_count": 73,
   "metadata": {},
   "outputs": [
    {
     "name": "stderr",
     "output_type": "stream",
     "text": [
      "C:\\Users\\mhu\\AppData\\Local\\Temp\\ipykernel_76588\\3584096228.py:10: LangChainDeprecationWarning: The method `BaseRetriever.get_relevant_documents` was deprecated in langchain-core 0.1.46 and will be removed in 1.0. Use :meth:`~invoke` instead.\n",
      "  docs = retriever_beschr_variable.get_relevant_documents(user_question)\n"
     ]
    },
    {
     "name": "stdout",
     "output_type": "stream",
     "text": [
      "[('Anzahl der Studienanfänger ohne Abitur',)]\n"
     ]
    }
   ],
   "source": [
    "test_input = \"Wie viele Studienanfänger ohne Abitur gab es 2016?\"\n",
    "output = variable_beschr(test_input)\n",
    "print(output)"
   ]
  },
  {
   "cell_type": "code",
   "execution_count": null,
   "metadata": {},
   "outputs": [],
   "source": [
    "from langchain import hub\n",
    "\n",
    "prompt_template = hub.pull(\"langchain-ai/sql-agent-system-prompt\")\n",
    "\n",
    "assert len(prompt_template.messages) == 1, \"Die Anzahl der Nachrichten im Template ist nicht 1!\"\n",
    "# Bearbeite die bestehende Nachricht, indem du Text hinzufügst\n",
    "prompt_template.messages[0].prompt.template += (\n",
    "    \"\\nYou are Sparklehorse, a chatbot for the Stifterverband organization. \"\n",
    "    \"Your primary task is to answer questions related to the Magpie database.\"\n",
    ")\n",
    "\n",
    "prompt_template.messages[0].pretty_print()"
   ]
  },
  {
   "cell_type": "code",
   "execution_count": null,
   "metadata": {},
   "outputs": [],
   "source": [
    "system_message = prompt_template.format(\n",
    "    dialect=db.dialect, \n",
    "    top_k=5\n",
    ")\n",
    "\n",
    "print(system_message)"
   ]
  },
  {
   "cell_type": "code",
   "execution_count": 76,
   "metadata": {},
   "outputs": [],
   "source": [
    "from langchain_core.messages import HumanMessage\n",
    "from langgraph.prebuilt import create_react_agent\n",
    "\n",
    "# Systemnachricht mit extra Anweisungen\n",
    "suffix = (\n",
    "    \"Bevor eine SQL-Abfrage generiert wird, beachte folgendes:\\n\"\n",
    "    \"1. Verwende in Deinen Antworten immer die Werte von 'variable_beschr' bzw. 'get_reichweite_beschr_list', die du in deiner SQL-Abfrage benutzt hast, um Irrtümer zu vermeiden.\\n\"\n",
    "    \"2. Verwende immer das Tool 'variable_beschr', um die korrekte Variablenbeschreibung aus der Nutzeranfrage zu bestimmen.\\n\"\n",
    "    \"3. Verwende in der SQL-Abfrage ausschließlich den exakten Rückgabewert dieses Tools.\\n\"\n",
    "    \"3. Verwende immer das Tool 'get_reichweite_beschr_list', um die passende Reichweite zu bestimmen.\\n\"\n",
    "    \"4. Nutze immer die Tabelle 'view_daten_reichweite_menge', um Daten abzufragen.\\n\"\n",
    "    \"6. Gib immer die finale SQL-Abfrage aus und erkläre sie. Rate niemals einen Wert oder eine ID – nutze immer die bereitgestellten Tools.\\n\"\n",
    "    \"7. Falls eine ID oder ein Wert nicht gefunden werden kann, gib eine klare Fehlermeldung und begründe dies.\\n\"\n",
    "    \"8. Filter Zeiträume mit: date_part('year', zeit_start) = <Jahr>\\n\"\n",
    "    \"9. Beachte auch 'wert_einheit': Das sind mögliche Werte wie 'in Tsd. Euro', 'Anzahl', 'Prozent', 'VZÄ', 'Mitarbeiter'.\"\n",
    ")\n",
    "\n",
    "# wert_einheit\n",
    "# in Tsd. Euro    158051\n",
    "# Anzahl           88177\n",
    "# Prozent          11387\n",
    "# VZÄ               4078\n",
    "# Mitarbeiter       1380\n",
    "# Mittelwert        1379\n",
    "# Faktorlevel        262\n",
    "# Punkte              70\n",
    "# Name: count, dtype: int64\n",
    "\n",
    "\n",
    "system = f\"{system_message}\\n\\n{suffix}\"\n",
    "\n",
    "# Neuen ReAct-Agent erstellen mit den vollständigen Tools\n",
    "agent_executor = create_react_agent(llm, tools, state_modifier=system)\n"
   ]
  },
  {
   "cell_type": "code",
   "execution_count": 77,
   "metadata": {},
   "outputs": [
    {
     "name": "stdout",
     "output_type": "stream",
     "text": [
      "================================\u001b[1m Human Message \u001b[0m=================================\n",
      "\n",
      "Wie viele Studienanfänger ohne Abitur gab es 2016?\n",
      "==================================\u001b[1m Ai Message \u001b[0m==================================\n",
      "Tool Calls:\n",
      "  variable_beschr (call_solyRsVREtB18IOrWBwZj1kv)\n",
      " Call ID: call_solyRsVREtB18IOrWBwZj1kv\n",
      "  Args:\n",
      "    user_question: Wie viele Studienanfänger ohne Abitur gab es?\n",
      "  get_reichweite_beschr_list (call_unfSbvGoa878O26x7olRRsDA)\n",
      " Call ID: call_unfSbvGoa878O26x7olRRsDA\n",
      "  Args:\n",
      "    user_question: Wie viele Studienanfänger ohne Abitur gab es?\n",
      "=================================\u001b[1m Tool Message \u001b[0m=================================\n",
      "Name: get_reichweite_beschr_list\n",
      "\n",
      "[('Deutschland',)]\n",
      "==================================\u001b[1m Ai Message \u001b[0m==================================\n",
      "Tool Calls:\n",
      "  sql_db_list_tables (call_0NqimURZUdWcelmQtegNSrHr)\n",
      " Call ID: call_0NqimURZUdWcelmQtegNSrHr\n",
      "  Args:\n",
      "=================================\u001b[1m Tool Message \u001b[0m=================================\n",
      "Name: sql_db_list_tables\n",
      "\n",
      "view_daten_reichweite_menge\n",
      "==================================\u001b[1m Ai Message \u001b[0m==================================\n",
      "Tool Calls:\n",
      "  sql_db_schema (call_DDbWgS6xlqXi6dnvUbvsFkIF)\n",
      " Call ID: call_DDbWgS6xlqXi6dnvUbvsFkIF\n",
      "  Args:\n",
      "    table_names: view_daten_reichweite_menge\n",
      "=================================\u001b[1m Tool Message \u001b[0m=================================\n",
      "Name: sql_db_schema\n",
      "\n",
      "\n",
      "CREATE TABLE view_daten_reichweite_menge (\n",
      "\tdaten_id INTEGER, \n",
      "\tvariable_id INTEGER, \n",
      "\tvariable_beschr VARCHAR, \n",
      "\tzeit_start TIMESTAMP WITHOUT TIME ZONE, \n",
      "\tzeit_ende TIMESTAMP WITHOUT TIME ZONE, \n",
      "\tzeit_einheit VARCHAR, \n",
      "\twert VARCHAR, \n",
      "\twert_einheit VARCHAR, \n",
      "\treichweite_az FLOAT, \n",
      "\treichweite_id_list VARCHAR, \n",
      "\treichweite_beschr_list VARCHAR, \n",
      "\treichweite_id_beschr_list VARCHAR, \n",
      "\treichweite_typ_list VARCHAR, \n",
      "\ttyp_list VARCHAR, \n",
      "\treichweite_klasse_list VARCHAR, \n",
      "\tklasse_list VARCHAR, \n",
      "\treichweite_menge_id_list VARCHAR, \n",
      "\tmenge_zugeh_reichweiten VARCHAR, \n",
      "\tquelle_list VARCHAR, \n",
      "\ttag_list VARCHAR\n",
      ")\n",
      "\n",
      "/*\n",
      "3 rows from view_daten_reichweite_menge table:\n",
      "daten_id\tvariable_id\tvariable_beschr\tzeit_start\tzeit_ende\tzeit_einheit\twert\twert_einheit\treichweite_az\treichweite_id_list\treichweite_beschr_list\treichweite_id_beschr_list\treichweite_typ_list\ttyp_list\treichweite_klasse_list\tklasse_list\treichweite_menge_id_list\tmenge_zugeh_reichweiten\tquelle_list\ttag_list\n",
      "1\t1\tInterne FuE-Aufwendungen\t1983-01-01 00:00:00\t1983-12-31 23:59:59\tJahr\t21809155\tin Tsd. Euro\t5e-324\t10\tDeutschland\t[10] Deutschland\tDeutschland::Land\tLand\tDeutschland::Räumliche Gebiete\tRäumliche Gebiete\tNone\tNone\t| Stifterverband | SV Wissenschaftsstatistik | FuE-Erhebung | --- | Destatis |\t| Forschung und Entwicklung | --- | Wirtschaft |\n",
      "2\t1\tInterne FuE-Aufwendungen\t1985-01-01 00:00:00\t1985-12-31 23:59:59\tJahr\t25629000\tin Tsd. Euro\t5e-324\t10\tDeutschland\t[10] Deutschland\tDeutschland::Land\tLand\tDeutschland::Räumliche Gebiete\tRäumliche Gebiete\tNone\tNone\t| Stifterverband | SV Wissenschaftsstatistik | FuE-Erhebung | --- | Destatis |\t| Forschung und Entwicklung | --- | Wirtschaft |\n",
      "3\t1\tInterne FuE-Aufwendungen\t1987-01-01 00:00:00\t1987-12-31 23:59:59\tJahr\t29212150\tin Tsd. Euro\t5e-324\t10\tDeutschland\t[10] Deutschland\tDeutschland::Land\tLand\tDeutschland::Räumliche Gebiete\tRäumliche Gebiete\tNone\tNone\t| Destatis | --- | Stifterverband | SV Wissenschaftsstatistik | FuE-Erhebung |\t| Forschung und Entwicklung | --- | Wirtschaft |\n",
      "*/\n",
      "==================================\u001b[1m Ai Message \u001b[0m==================================\n",
      "Tool Calls:\n",
      "  sql_db_query_checker (call_kgp14pFlfUqcJV3mh9K0Kzj6)\n",
      " Call ID: call_kgp14pFlfUqcJV3mh9K0Kzj6\n",
      "  Args:\n",
      "    query: SELECT SUM(CAST(wert AS INTEGER)) AS anzahl_studienanfanger \n",
      "FROM view_daten_reichweite_menge \n",
      "WHERE variable_beschr = 'Anzahl der Studienanfänger ohne Abitur' \n",
      "AND reichweite_beschr_list = 'Deutschland' \n",
      "AND date_part('year', zeit_start) = 2016;\n",
      "=================================\u001b[1m Tool Message \u001b[0m=================================\n",
      "Name: sql_db_query_checker\n",
      "\n",
      "```sql\n",
      "SELECT SUM(CAST(wert AS INTEGER)) AS anzahl_studienanfanger \n",
      "FROM view_daten_reichweite_menge \n",
      "WHERE variable_beschr = 'Anzahl der Studienanfänger ohne Abitur' \n",
      "AND reichweite_beschr_list = 'Deutschland' \n",
      "AND date_part('year', zeit_start) = 2016;\n",
      "```\n",
      "==================================\u001b[1m Ai Message \u001b[0m==================================\n",
      "Tool Calls:\n",
      "  sql_db_query (call_IrIOqotFCe7GCjbp6wcWuph8)\n",
      " Call ID: call_IrIOqotFCe7GCjbp6wcWuph8\n",
      "  Args:\n",
      "    query: SELECT SUM(CAST(wert AS INTEGER)) AS anzahl_studienanfanger \n",
      "FROM view_daten_reichweite_menge \n",
      "WHERE variable_beschr = 'Anzahl der Studienanfänger ohne Abitur' \n",
      "AND reichweite_beschr_list = 'Deutschland' \n",
      "AND date_part('year', zeit_start) = 2016;\n",
      "=================================\u001b[1m Tool Message \u001b[0m=================================\n",
      "Name: sql_db_query\n",
      "\n",
      "[(11968,)]\n",
      "==================================\u001b[1m Ai Message \u001b[0m==================================\n",
      "\n",
      "Im Jahr 2016 gab es in Deutschland insgesamt 11.968 Studienanfänger ohne Abitur.\n"
     ]
    }
   ],
   "source": [
    "# Testanfrage an den Agenten\n",
    "question = \"Wie viele Studienanfänger ohne Abitur gab es 2016?\"\n",
    "\n",
    "for step in agent_executor.stream(\n",
    "    {\"messages\": [HumanMessage(content=question)]}, \n",
    "    stream_mode=\"values\"\n",
    "):\n",
    "    step[\"messages\"][-1].pretty_print()"
   ]
  },
  {
   "cell_type": "code",
   "execution_count": null,
   "metadata": {
    "vscode": {
     "languageId": "sql"
    }
   },
   "outputs": [],
   "source": [
    "%%sql duckdb:///C:/Users/mhu/Documents/github/magpie_chatbot/data/view_magpie.db\n",
    "SELECT * FROM view_daten_reichweite_menge LIMIT 10;\n"
   ]
  },
  {
   "cell_type": "code",
   "execution_count": null,
   "metadata": {
    "vscode": {
     "languageId": "sql"
    }
   },
   "outputs": [],
   "source": [
    "%%sql duckdb:///C:/Users/mhu/Documents/github/magpie_chatbot/data/view_magpie.db\n",
    "SELECT * FROM view_daten_reichweite_menge LIMIT 10;\n"
   ]
  }
 ],
 "metadata": {
  "kernelspec": {
   "display_name": "chatbot_magpie",
   "language": "python",
   "name": "python3"
  },
  "language_info": {
   "codemirror_mode": {
    "name": "ipython",
    "version": 3
   },
   "file_extension": ".py",
   "mimetype": "text/x-python",
   "name": "python",
   "nbconvert_exporter": "python",
   "pygments_lexer": "ipython3",
   "version": "3.9.21"
  }
 },
 "nbformat": 4,
 "nbformat_minor": 2
}
