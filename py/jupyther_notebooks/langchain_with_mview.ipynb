{
 "cells": [
  {
   "cell_type": "markdown",
   "metadata": {},
   "source": [
    "# Sparklehorse - Der SQL-Chatbot der Magpie\n",
    "\n",
    "## Vorbereitung der Arbeitsumgebung\n",
    "\n",
    "In einem ersten Schritt definierne wir unser Arbeitsverzeichnis. "
   ]
  },
  {
   "cell_type": "code",
   "execution_count": null,
   "metadata": {
    "ExecuteTime": {
     "end_time": "2025-04-22T13:28:58.992809Z",
     "start_time": "2025-04-22T13:28:58.987369Z"
    }
   },
   "outputs": [],
   "source": [
    "import os\n",
    "os.getcwd()\n",
    "os.chdir(\"c:/Users/mhu/Documents/gitHub/magpie_chatbot\")\n",
    "# Pfad Privatrechner\n",
    "# os.chdir(\"c:/Users/Hueck/OneDrive/Dokumente/GitHub/magpie_langchain\")"
   ]
  },
  {
   "cell_type": "markdown",
   "metadata": {},
   "source": [
    "Lade Umgebungsvariablen (inkl. OpenAI-API-Key) und initialisiere den Chatbot mit dem Modell \"gpt-4o\" von OpenAI."
   ]
  },
  {
   "cell_type": "code",
   "execution_count": null,
   "metadata": {
    "ExecuteTime": {
     "end_time": "2025-04-22T13:29:02.082018Z",
     "start_time": "2025-04-22T13:29:01.593612Z"
    }
   },
   "outputs": [],
   "source": [
    "from dotenv import load_dotenv\n",
    "from langchain_openai import ChatOpenAI\n",
    "\n",
    "load_dotenv()\n",
    "llm = ChatOpenAI(model=\"gpt-4o\")"
   ]
  },
  {
   "cell_type": "markdown",
   "metadata": {},
   "source": [
    "  Im folgenden stellen wir Verbindung zur Magpie her. Wir schauen uns dan alle in der Magpie befindlichen Tabellen an. Schließlich wählen wir `view_daten_reichweite_menge` aus und speichern diese als Pandas Data Frame zur einfachen exploration der Datentabelle."
   ]
  },
  {
   "cell_type": "code",
   "execution_count": null,
   "metadata": {},
   "outputs": [],
   "source": [
    "import pandas as pd\n",
    "from langchain_community.utilities import SQLDatabase\n",
    "from langchain_community.agent_toolkits import SQLDatabaseToolkit \n",
    "\n",
    "db = SQLDatabase.from_uri(\"duckdb:///data/view_magpie.db\") \n",
    "\n",
    "db.run(\"SHOW TABLES\")\n",
    "\n",
    "query = \"SELECT * FROM view_daten_reichweite_menge;\"\n",
    "df = pd.read_sql(query, db._engine)\n",
    "df"
   ]
  },
  {
   "cell_type": "markdown",
   "metadata": {},
   "source": [
    "## Tools\n",
    "\n",
    "### Standardisierte Langchain Tools\n",
    "\n",
    "Wir intitalsieren ein standardisiertes Toolkit. Es stellt Funktionen bereit, um SQL-Queries über natürliche Sprache zu erzeugen und auszuführen. Wir lassen uns Namen und Funktion der standardisierten Tools anzeigen:"
   ]
  },
  {
   "cell_type": "code",
   "execution_count": 5,
   "metadata": {},
   "outputs": [
    {
     "name": "stdout",
     "output_type": "stream",
     "text": [
      "Tool Name: sql_db_query\n",
      "Description: Input to this tool is a detailed and correct SQL query, output is a result from the database. If the query is not correct, an error message will be returned. If an error is returned, rewrite the query, check the query, and try again. If you encounter an issue with Unknown column 'xxxx' in 'field list', use sql_db_schema to query the correct table fields.\n",
      "----------------------------------------\n",
      "Tool Name: sql_db_schema\n",
      "Description: Input to this tool is a comma-separated list of tables, output is the schema and sample rows for those tables. Be sure that the tables actually exist by calling sql_db_list_tables first! Example Input: table1, table2, table3\n",
      "----------------------------------------\n",
      "Tool Name: sql_db_list_tables\n",
      "Description: Input is an empty string, output is a comma-separated list of tables in the database.\n",
      "----------------------------------------\n",
      "Tool Name: sql_db_query_checker\n",
      "Description: Use this tool to double check if your query is correct before executing it. Always use this tool before executing a query with sql_db_query!\n",
      "----------------------------------------\n"
     ]
    }
   ],
   "source": [
    "toolkit = SQLDatabaseToolkit(db=db, llm=llm)\n",
    "\n",
    "tools = toolkit.get_tools()\n",
    "\n",
    "for tool in tools:\n",
    "    print(f\"Tool Name: {tool.name}\")\n",
    "    print(f\"Description: {tool.description}\")\n",
    "    print(\"-\" * 40)"
   ]
  },
  {
   "cell_type": "markdown",
   "metadata": {},
   "source": [
    "Die Standardtools aus`SQLDatabaseToolkit`können also die folgenden Standardfunktionen übernehmen: \n",
    "\n",
    "- `sql_db_query`  \n",
    "  Führt eine übergebene SQL-Abfrage aus. Gibt das Ergebnis oder eine Fehlermeldung zurück. Bei Fehlern wie „Unknown column“ sollte zuvor das Tabellenschema geprüft werden.\n",
    "\n",
    "- `sql_db_schema`  \n",
    "  Gibt das Schema (Spaltennamen und -typen) sowie Beispielzeilen für angegebene Tabellen zurück. Vorher sollte geprüft werden, ob die Tabellen existieren.\n",
    "\n",
    "- `sql_db_list_tables`  \n",
    "  Listet alle Tabellen in der verbundenen Datenbank auf.\n",
    "\n",
    "- `sql_db_query_checker`  \n",
    "  Prüft eine SQL-Abfrage auf syntaktische Korrektheit, bevor sie mit sql_db_query ausgeführt wird. Sollte immer vorher verwendet werden.\n"
   ]
  },
  {
   "cell_type": "markdown",
   "metadata": {},
   "source": [
    "### Maßgeschneiderte Langchain Tools\n",
    "\n",
    "#### Retriever `rt_beschr_variable`\n",
    "\n",
    "`rt_beschr_variable` erlaubt die semantischen Suche über Werte aus einer Datenbankspalte. \n",
    "\n",
    "1. Wir sammeln sämtliche Unique Werte aus `beschr_variable` und wandeln diese mit OpenAIs Embeddings-Methdode `text-embedding-3-large` in Embeddings um. Die werden in einen Vektorstore gesichert.\n",
    "2. Der Vektorstore wird in einen Retriever umgewandelt, der bei einer Anfrage die 5 ähnlichsten Begriffe zurückgibt.\n",
    "\n",
    "Schließlich wird mit create_retriever_tool ein Tool erzeugt, das über eine Beschreibung verfügt und den Retriever kapselt. Dieses Tool kann z. B. von einem Agenten genutzt werden, um Benutzereingaben mit unsicherer Schreibweise oder unvollständigen Begriffen mit den tatsächlichen Werten in der Datenbank abzugleichen."
   ]
  },
  {
   "cell_type": "code",
   "execution_count": 6,
   "metadata": {},
   "outputs": [],
   "source": [
    "from langchain_openai import OpenAIEmbeddings\n",
    "from langchain_core.vectorstores import InMemoryVectorStore\n",
    "from langchain.agents.agent_toolkits import create_retriever_tool\n",
    "import ast\n",
    "import re\n",
    "\n",
    "##################################################################\n",
    "# Generiere `rt_beschr_variable`\n",
    "##################################################################\n",
    "\n",
    "def query_as_list(db, query):\n",
    "    res = db.run(query)\n",
    "    res = [el for sub in ast.literal_eval(res) for el in sub if el]\n",
    "    res = [re.sub(r\"\\b\\d+\\b\", \"\", string).strip() for string in res]\n",
    "    return list(set(res))\n",
    "\n",
    "\n",
    "beschr_variable = query_as_list(db, \"SELECT variable_beschr FROM view_daten_reichweite_menge\")\n",
    "embeddings = OpenAIEmbeddings(model=\"text-embedding-3-large\")\n",
    "vector_store = InMemoryVectorStore(embeddings)\n",
    "_ = vector_store.add_texts(beschr_variable)\n",
    "\n",
    "retriever = vector_store.as_retriever(search_kwargs={\"k\": 5})\n",
    "\n",
    "description = (\n",
    "    \"Verwenden, um Werte für Filterabfragen nachzuschlagen. Die Eingabe ist eine ungefähre Schreibweise \"\n",
    "    \"eines Eigennamens, die Ausgabe sind gültige Eigennamen. Verwende den Begriff, der der Eingabe am ähnlichsten ist.\"\n",
    ")\n",
    "\n",
    "rt_beschr_variable = create_retriever_tool(\n",
    "    retriever,\n",
    "    name=\"rt_beschr_variable\",\n",
    "    description=description,\n",
    ")"
   ]
  },
  {
   "cell_type": "code",
   "execution_count": 10,
   "metadata": {},
   "outputs": [
    {
     "data": {
      "text/plain": [
       "[Document(id='6f761e93-562b-4550-987a-1c0639b84519', metadata={}, page_content='Anzahl der Studienanfänger ohne Abitur'),\n",
       " Document(id='816b2c9f-b404-4af9-a060-b8976ba161dc', metadata={}, page_content='Anteil der Studienanfänger ohne Abitur'),\n",
       " Document(id='4f150b38-c01d-44f5-b3e5-603a63abf798', metadata={}, page_content='Anteil der Studienabsolventen ohne Abitur'),\n",
       " Document(id='72199e28-79cd-4f21-a05c-926b01143a5e', metadata={}, page_content='Studienabsolventen ohne Abitur'),\n",
       " Document(id='07f053bf-d0b9-4f27-97d4-a9bb3a6b5309', metadata={}, page_content='Anteil der Bildungsausländer (Studienabsolventen)')]"
      ]
     },
     "execution_count": 10,
     "metadata": {},
     "output_type": "execute_result"
    }
   ],
   "source": [
    "result = retriever.invoke(\"Wie hoch war die Anzahl von Studierenden ohne Abitur 2006?\")\n",
    "result"
   ]
  },
  {
   "cell_type": "code",
   "execution_count": null,
   "metadata": {},
   "outputs": [],
   "source": [
    "\n",
    "\n",
    "##################################################################\n",
    "# Generiere `rt_reichweite_variable`\n",
    "##################################################################\n",
    "\n",
    "reichweite_variable = query_as_list(db, \"SELECT reichweite_beschr_list FROM view_daten_reichweite_menge\")\n",
    "\n",
    "embeddings = OpenAIEmbeddings(model=\"text-embedding-3-large\")\n",
    "\n",
    "vector_store = InMemoryVectorStore(embeddings)\n",
    "\n",
    "_ = vector_store.add_texts(reichweite_variable)\n",
    "\n",
    "retriever = vector_store.as_retriever(search_kwargs={\"k\": 5})\n",
    "\n",
    "description = (\n",
    "    \"Use to look up values to filter on. Input is an approximate spelling \"\n",
    "    \"of the proper noun, output is valid proper nouns. Use the noun most \"\n",
    "    \"similar to the search.\"\n",
    ")\n",
    "\n",
    "rt_reichweite_variable = create_retriever_tool(\n",
    "    retriever,\n",
    "    name=\"rt_reichweite_variable\",\n",
    "    description=description,\n",
    ")\n",
    "\n",
    "##################################################################\n",
    "# Generiere `rt_beschr_wert_einheit`\n",
    "##################################################################\n",
    "\n",
    "werteinheit_variable = query_as_list(db, \"SELECT wert_einheit FROM view_daten_reichweite_menge\")\n",
    "\n",
    "embeddings = OpenAIEmbeddings(model=\"text-embedding-3-large\")\n",
    "\n",
    "vector_store = InMemoryVectorStore(embeddings)\n",
    "\n",
    "_ = vector_store.add_texts(werteinheit_variable)\n",
    "\n",
    "retriever = vector_store.as_retriever(search_kwargs={\"k\": 5})\n",
    "\n",
    "description = (\n",
    "    \"Use to look up values to filter on. Input is an approximate spelling \"\n",
    "    \"of the proper noun, output is valid proper nouns. Use the noun most \"\n",
    "    \"similar to the search.\"\n",
    ")\n",
    "\n",
    "rt_werteinheit_variable = create_retriever_tool(\n",
    "    retriever,\n",
    "    name=\"rt_beschr_wert_einheit\",\n",
    "    description=description,\n",
    ")"
   ]
  },
  {
   "cell_type": "code",
   "execution_count": null,
   "metadata": {},
   "outputs": [],
   "source": [
    "# Beispielabfrage an den Retriever\n",
    "query = \"Wie viele Studienanfänger gab es 2019 in Deutschland?\"  # Ersetze dies durch einen tatsächlichen Suchbegriff\n",
    "results = rt_reichweite_variable.run(query)\n",
    "print(results)\n",
    " "
   ]
  },
  {
   "cell_type": "code",
   "execution_count": null,
   "metadata": {},
   "outputs": [],
   "source": [
    "from langchain_core.tools import tool\n",
    "from langchain.prompts import PromptTemplate\n",
    "from langchain.chains import LLMChain\n",
    "\n",
    "@tool\n",
    "def variable_beschr(user_question: str) -> str:\n",
    "    \"\"\"\n",
    "    Sucht nach variable_beschr in Tabelle\n",
    "    \"\"\"\n",
    "    # GANZE Frage an den Retriever geben, nicht nur einen Ausschnitt\n",
    "    matches = rt_beschr_variable.invoke(user_question)\n",
    "    print(\"ergebnisse rt_beschr_variable:\", matches)\n",
    "    if not matches:\n",
    "        return \"Error: Keine passende Variable gefunden.\"\n",
    "\n",
    "    best_match = matches.split(\"\\n\")[0]  # Relevantes Ergebnis\n",
    "    query = f\"SELECT variable_beschr FROM view_daten_reichweite_menge WHERE variable_beschr = '{best_match}' LIMIT 1;\"\n",
    "    print(f\"SQL Query (Variable): {query}\")  # <<< HIER!\n",
    "    result = db.run_no_throw(query)\n",
    "\n",
    "    return result if result else \"Error: Keine passende Variable gefunden.\"\n",
    "\n",
    "\n",
    "@tool\n",
    "def get_reichweite_beschr_list(user_question: str) -> str:\n",
    "    \"\"\"\n",
    "    Sucht nach reichweite_beschr_list in Tabelle\n",
    "    \"\"\"\n",
    "    # Verwende das bestehende Retriever-Tool, um die beste Übereinstimmung zu finden\n",
    "    matches = rt_reichweite_variable.invoke(user_question)\n",
    "    print(\"ergebnisse get_reichweite_beschr_list:\", matches)\n",
    "    if not matches:\n",
    "        return \"Error: Keine passende Variable gefunden.\"\n",
    "\n",
    "    prompt_template = \"\"\"\n",
    "    Gegeben ist eine Liste von Reichweiten:\n",
    "    {matches}\n",
    "\n",
    "    Welche Reichweite passt am besten zu dieser Frage: \"{user_question}\"?\n",
    "    Gib mir nichts als die entsprechende Reichweite zurück.\n",
    "    \"\"\"\n",
    "\n",
    "    prompt = PromptTemplate(input_variables=[\"matches\", \"user_question\"], template=prompt_template)\n",
    "    \n",
    "    # Verwende RunnableSequence anstelle von LLMChain\n",
    "    chain = prompt | llm\n",
    "    result = chain.invoke(input={\"matches\": \"\\n\".join(matches), \"user_question\": user_question})\n",
    "    print(\"Ergebniss CHatgptabfrage:\", result.content)\n",
    "\n",
    "    # SQL-Abfrage mit der gefundenen besten Übereinstimmung\n",
    "    query = f\"SELECT reichweite_beschr_list FROM view_daten_reichweite_menge WHERE reichweite_beschr_list = '{result.content}' LIMIT 1;\"\n",
    "    print(f\"SQL Query (Reichweite): {query}\")  # <<< HIER!\n",
    "    result = db.run_no_throw(query)\n",
    "\n",
    "    return result if result else \"Error: Keine passende Variable gefunden.\"\n",
    "\n",
    "# @tool\n",
    "# def get_wert_einheit_id(user_question: str) -> str:\n",
    "#     \"\"\"Sucht in der Tabelle 'wert_einheit' nach einer passenden ID basierend auf der Beschreibung.\"\"\"\n",
    "#     query = f\"SELECT id FROM wert_einheit WHERE beschr LIKE '%{description}%' LIMIT 1;\"\n",
    "#     result = db.run_no_throw(query)\n",
    "#     return result if result else \"Error: Keine passende Werteinheit gefunden.\"\n",
    "\n",
    " \n",
    "\n",
    "\n",
    "tools.extend([variable_beschr, get_reichweite_beschr_list])"
   ]
  },
  {
   "cell_type": "code",
   "execution_count": null,
   "metadata": {},
   "outputs": [],
   "source": [
    "test_output = variable_beschr.invoke(\"Wie viele Drittmittel von Stiftungen wurden 2020 in Deutschland ausgeschüttet\")\n",
    "\n",
    "print(\"Ergebnis:\", test_output)"
   ]
  },
  {
   "cell_type": "code",
   "execution_count": null,
   "metadata": {},
   "outputs": [],
   "source": [
    "from langchain import hub\n",
    "\n",
    "prompt_template = hub.pull(\"langchain-ai/sql-agent-system-prompt\")\n",
    "\n",
    "assert len(prompt_template.messages) == 1, \"Die Anzahl der Nachrichten im Template ist nicht 1!\"\n",
    "# Bearbeite die bestehende Nachricht, indem du Text hinzufügst\n",
    "prompt_template.messages[0].prompt.template += (\n",
    "    \"\\nYou are Sparklehorse, a chatbot for the Stifterverband organization. \"\n",
    "    \"Your primary task is to answer questions related to the Magpie database.\"\n",
    ")\n",
    "\n",
    "prompt_template.messages[0].pretty_print()"
   ]
  },
  {
   "cell_type": "code",
   "execution_count": null,
   "metadata": {},
   "outputs": [],
   "source": [
    "system_message = prompt_template.format(\n",
    "    dialect=db.dialect, \n",
    "    top_k=5\n",
    ")\n",
    "\n",
    "print(system_message)"
   ]
  },
  {
   "cell_type": "code",
   "execution_count": null,
   "metadata": {},
   "outputs": [],
   "source": [
    "from langchain_core.messages import HumanMessage\n",
    "from langgraph.prebuilt import create_react_agent\n",
    "\n",
    "# Systemnachricht mit extra Anweisungen\n",
    "suffix = (\n",
    "    \"Bevor eine SQL-Abfrage generiert wird, beachte folgendes:\\n\"\n",
    "    \"1. Benutze in Deinen Antworten immer der Werte von variable_beschr bzw get_reichweite_beschr_list, die du in deiner SQL abfrage verwendet hast, um irrtmümer zu vermeiden\\n\"\n",
    "    \"2. Verwende immer 'variable_beschr', um die korrekte Variablenbeschreibung basierend auf der Nutzeranfrage zu ermitteln und damit 'variable_beschr' zu filtern.\\n\"\n",
    "    \"3. Verwende immer 'get_reichweite_beschr_list', um die korrekte Reichweitenbeschreibung zu erhalten und damit 'get_reichweite_beschr_list' zu filtern.\\n\"\n",
    "    \"4. Um die Daten abzurufen, verwende immer die tabelle view_daten_reichweite_menge.\\n\"\n",
    "    \"5. Achte darauf, dass, wenn nach Daten zu Deutschland gefragt wird, Deutschland allein reichweite_beschr_list steht, also keine | oder anderen Werte\\n\"\n",
    "    \"6. Gib immer die finale SQL-Abfrage aus und erkläre sie. Rate niemals einen Wert oder eine ID — diese müssen immer mit den bereitgestellten Tools abgefragt werden.\\n\"\n",
    "    \"7. Falls eine ID nicht gefunden werden kann, weise darauf hin und erkläre, was fehlt.\\n\"\n",
    "    \"8. Filter Zeiträume auf diese Weise: date_part('year', zeit_start) = 2020\\n\"\n",
    "    \"9. Beachte auch immer die Variable wert_einheit: Sie gibt Informationen über Bedeutung der Werte: Das sind möglich Ausprägungen: in Tsd. Euro, Anzahl, Prozent, VZÄ, Mitarbeiter\" \n",
    ")\n",
    "\n",
    "# wert_einheit\n",
    "# in Tsd. Euro    158051\n",
    "# Anzahl           88177\n",
    "# Prozent          11387\n",
    "# VZÄ               4078\n",
    "# Mitarbeiter       1380\n",
    "# Mittelwert        1379\n",
    "# Faktorlevel        262\n",
    "# Punkte              70\n",
    "# Name: count, dtype: int64\n",
    "\n",
    "\n",
    "system = f\"{system_message}\\n\\n{suffix}\"\n",
    "\n",
    "# Neuen ReAct-Agent erstellen mit den vollständigen Tools\n",
    "agent_executor = create_react_agent(llm, tools, state_modifier=system)\n"
   ]
  },
  {
   "cell_type": "code",
   "execution_count": null,
   "metadata": {},
   "outputs": [],
   "source": [
    "# Testanfrage an den Agenten\n",
    "question = \"Wie viele Studienanfänger ohne Abitur gab es 2016?\"\n",
    "\n",
    "for step in agent_executor.stream(\n",
    "    {\"messages\": [HumanMessage(content=question)]}, \n",
    "    stream_mode=\"values\"\n",
    "):\n",
    "    step[\"messages\"][-1].pretty_print()"
   ]
  },
  {
   "cell_type": "code",
   "execution_count": null,
   "metadata": {
    "vscode": {
     "languageId": "sql"
    }
   },
   "outputs": [],
   "source": [
    "%%sql duckdb:///C:/Users/mhu/Documents/github/magpie_chatbot/data/view_magpie.db\n",
    "SELECT * FROM view_daten_reichweite_menge LIMIT 10;\n"
   ]
  },
  {
   "cell_type": "code",
   "execution_count": null,
   "metadata": {
    "vscode": {
     "languageId": "sql"
    }
   },
   "outputs": [],
   "source": [
    "%%sql duckdb:///C:/Users/mhu/Documents/github/magpie_chatbot/data/view_magpie.db\n",
    "SELECT * FROM view_daten_reichweite_menge LIMIT 10;\n"
   ]
  }
 ],
 "metadata": {
  "kernelspec": {
   "display_name": "chatbot_magpie",
   "language": "python",
   "name": "python3"
  },
  "language_info": {
   "codemirror_mode": {
    "name": "ipython",
    "version": 3
   },
   "file_extension": ".py",
   "mimetype": "text/x-python",
   "name": "python",
   "nbconvert_exporter": "python",
   "pygments_lexer": "ipython3",
   "version": "3.9.21"
  }
 },
 "nbformat": 4,
 "nbformat_minor": 2
}
