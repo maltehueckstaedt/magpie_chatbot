{
 "cells": [
  {
   "cell_type": "markdown",
   "metadata": {},
   "source": [
    "# Magpie Test-Queries\n",
    "\n",
    "## Vorbereitung\n",
    "\n",
    "Um die Ergebnisse des Sparklehorse testweise überprüfen zu können, greifen wir auf eine Kopie der Mview der Magpie per SQL zu. \n",
    "\n",
    "  Mit `%load_ext sql` laden wir die jupyter-sql-Erweiterung in das Notebook. Diese Erweiterung ermöglicht es, SQL-Abfragen direkt im hiesigen Notebook auszuführen. Wir können so die Magics `%sql` (für einzelne Zeilen) oder `%%sql` (für ganze Zellen) verwenden, um mit Datenbanken zu arbeiten."
   ]
  },
  {
   "cell_type": "code",
   "execution_count": 1,
   "metadata": {},
   "outputs": [],
   "source": [
    "%load_ext sql"
   ]
  },
  {
   "cell_type": "markdown",
   "metadata": {},
   "source": [
    "## Lade Magpie\n",
    "\n",
    "Wir verbünden uns anschließend mit der Magpie."
   ]
  },
  {
   "cell_type": "code",
   "execution_count": 2,
   "metadata": {},
   "outputs": [
    {
     "data": {
      "text/html": [
       "<span style=\"None\">Connecting to &#x27;duckdb:///C:/Users/mhu/Documents/github/magpie_chatbot/data/view_magpie_queries.db&#x27;</span>"
      ],
      "text/plain": [
       "Connecting to 'duckdb:///C:/Users/mhu/Documents/github/magpie_chatbot/data/view_magpie_queries.db'"
      ]
     },
     "metadata": {},
     "output_type": "display_data"
    }
   ],
   "source": [
    "%config SqlMagic.displaylimit=1000\n",
    "%sql duckdb:///C:/Users/mhu/Documents/github/magpie_chatbot/data/view_magpie_queries.db"
   ]
  },
  {
   "cell_type": "markdown",
   "metadata": {},
   "source": [
    "## Testabfragen Magpie\n",
    "\n",
    "Suche nach einem Bestimmten Wert auf `wert`:"
   ]
  },
  {
   "cell_type": "code",
   "execution_count": 3,
   "metadata": {
    "vscode": {
     "languageId": "sql"
    }
   },
   "outputs": [
    {
     "data": {
      "text/html": [
       "<span style=\"None\">Running query in &#x27;duckdb:///C:/Users/mhu/Documents/github/magpie_chatbot/data/view_magpie_queries.db&#x27;</span>"
      ],
      "text/plain": [
       "Running query in 'duckdb:///C:/Users/mhu/Documents/github/magpie_chatbot/data/view_magpie_queries.db'"
      ]
     },
     "metadata": {},
     "output_type": "display_data"
    },
    {
     "data": {
      "text/html": [
       "<table>\n",
       "    <thead>\n",
       "        <tr>\n",
       "            <th>daten_id</th>\n",
       "            <th>variable_id</th>\n",
       "            <th>variable_beschr</th>\n",
       "            <th>zeit_start</th>\n",
       "            <th>zeit_ende</th>\n",
       "            <th>zeit_einheit</th>\n",
       "            <th>wert</th>\n",
       "            <th>wert_einheit</th>\n",
       "            <th>reichweite_az</th>\n",
       "            <th>reichweite_id_list</th>\n",
       "            <th>reichweite_beschr_list</th>\n",
       "            <th>reichweite_id_beschr_list</th>\n",
       "            <th>reichweite_typ_list</th>\n",
       "            <th>typ_list</th>\n",
       "            <th>reichweite_klasse_list</th>\n",
       "            <th>klasse_list</th>\n",
       "            <th>reichweite_menge_id_list</th>\n",
       "            <th>menge_zugeh_reichweiten</th>\n",
       "            <th>quelle_list</th>\n",
       "            <th>tag_list</th>\n",
       "        </tr>\n",
       "    </thead>\n",
       "    <tbody>\n",
       "        <tr>\n",
       "            <td>10478</td>\n",
       "            <td>2</td>\n",
       "            <td>Externe FuE-Aufwendungen</td>\n",
       "            <td>2020-01-01 00:00:00</td>\n",
       "            <td>2020-12-31 23:59:59</td>\n",
       "            <td>Jahr</td>\n",
       "            <td>21493098</td>\n",
       "            <td>in Tsd. Euro</td>\n",
       "            <td>1.5e-323</td>\n",
       "            <td>1,10,76</td>\n",
       "            <td>Wirtschaftssektor | Deutschland | Forschungsintensive Wirtschaftszweige</td>\n",
       "            <td>[1] Wirtschaftssektor | [10] Deutschland | [76] Forschungsintensive Wirtschaftszweige</td>\n",
       "            <td>Wirtschaftssektor::Sektor | Deutschland::Land | Forschungsintensive Wirtschaftszweige::Forschungsintensität der Wirtschaftszweige</td>\n",
       "            <td>Forschungsintensität der Wirtschaftszweige | Land | Sektor</td>\n",
       "            <td>Wirtschaftssektor::sonstige Definitionen | Deutschland::Räumliche Gebiete | Forschungsintensive Wirtschaftszweige::Unternehmensmerkmale</td>\n",
       "            <td>Räumliche Gebiete | Unternehmensmerkmale | sonstige Definitionen</td>\n",
       "            <td>1::2;76::10</td>\n",
       "            <td>Wirtschaftssektor, Staatssektor, Hochschulsektor, Private Organisationen --- Restliche Abschnitte (nicht forschungsintensiv), Forschungsintensive Wirtschaftszweige</td>\n",
       "            <td>| Stifterverband | SV Wissenschaftsstatistik | FuE-Erhebung |</td>\n",
       "            <td>None</td>\n",
       "        </tr>\n",
       "    </tbody>\n",
       "</table>"
      ],
      "text/plain": [
       "+----------+-------------+--------------------------+---------------------+---------------------+--------------+----------+--------------+---------------+--------------------+-------------------------------------------------------------------------+---------------------------------------------------------------------------------------+-----------------------------------------------------------------------------------------------------------------------------------+------------------------------------------------------------+-----------------------------------------------------------------------------------------------------------------------------------------+------------------------------------------------------------------+--------------------------+---------------------------------------------------------------------------------------------------------------------------------------------------------------------+---------------------------------------------------------------+----------+\n",
       "| daten_id | variable_id |     variable_beschr      |      zeit_start     |      zeit_ende      | zeit_einheit |   wert   | wert_einheit | reichweite_az | reichweite_id_list |                          reichweite_beschr_list                         |                               reichweite_id_beschr_list                               |                                                        reichweite_typ_list                                                        |                          typ_list                          |                                                          reichweite_klasse_list                                                         |                           klasse_list                            | reichweite_menge_id_list |                                                                       menge_zugeh_reichweiten                                                                       |                          quelle_list                          | tag_list |\n",
       "+----------+-------------+--------------------------+---------------------+---------------------+--------------+----------+--------------+---------------+--------------------+-------------------------------------------------------------------------+---------------------------------------------------------------------------------------+-----------------------------------------------------------------------------------------------------------------------------------+------------------------------------------------------------+-----------------------------------------------------------------------------------------------------------------------------------------+------------------------------------------------------------------+--------------------------+---------------------------------------------------------------------------------------------------------------------------------------------------------------------+---------------------------------------------------------------+----------+\n",
       "|  10478   |      2      | Externe FuE-Aufwendungen | 2020-01-01 00:00:00 | 2020-12-31 23:59:59 |     Jahr     | 21493098 | in Tsd. Euro |    1.5e-323   |      1,10,76       | Wirtschaftssektor | Deutschland | Forschungsintensive Wirtschaftszweige | [1] Wirtschaftssektor | [10] Deutschland | [76] Forschungsintensive Wirtschaftszweige | Wirtschaftssektor::Sektor | Deutschland::Land | Forschungsintensive Wirtschaftszweige::Forschungsintensität der Wirtschaftszweige | Forschungsintensität der Wirtschaftszweige | Land | Sektor | Wirtschaftssektor::sonstige Definitionen | Deutschland::Räumliche Gebiete | Forschungsintensive Wirtschaftszweige::Unternehmensmerkmale | Räumliche Gebiete | Unternehmensmerkmale | sonstige Definitionen |       1::2;76::10        | Wirtschaftssektor, Staatssektor, Hochschulsektor, Private Organisationen --- Restliche Abschnitte (nicht forschungsintensiv), Forschungsintensive Wirtschaftszweige | | Stifterverband | SV Wissenschaftsstatistik | FuE-Erhebung | |   None   |\n",
       "+----------+-------------+--------------------------+---------------------+---------------------+--------------+----------+--------------+---------------+--------------------+-------------------------------------------------------------------------+---------------------------------------------------------------------------------------+-----------------------------------------------------------------------------------------------------------------------------------+------------------------------------------------------------+-----------------------------------------------------------------------------------------------------------------------------------------+------------------------------------------------------------------+--------------------------+---------------------------------------------------------------------------------------------------------------------------------------------------------------------+---------------------------------------------------------------+----------+"
      ]
     },
     "execution_count": 3,
     "metadata": {},
     "output_type": "execute_result"
    }
   ],
   "source": [
    "%%sql\n",
    "SELECT * \n",
    "FROM view_daten_reichweite_menge \n",
    "WHERE wert LIKE '214930%'\n",
    "LIMIT 5;"
   ]
  }
 ],
 "metadata": {
  "kernelspec": {
   "display_name": "chatbot_magpie",
   "language": "python",
   "name": "python3"
  },
  "language_info": {
   "codemirror_mode": {
    "name": "ipython",
    "version": 3
   },
   "file_extension": ".py",
   "mimetype": "text/x-python",
   "name": "python",
   "nbconvert_exporter": "python",
   "pygments_lexer": "ipython3",
   "version": "3.10.18"
  }
 },
 "nbformat": 4,
 "nbformat_minor": 2
}
