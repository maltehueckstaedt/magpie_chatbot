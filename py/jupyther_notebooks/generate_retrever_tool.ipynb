{
 "cells": [
  {
   "cell_type": "markdown",
   "metadata": {},
   "source": [
    "# Gen Retriever\n",
    "\n",
    "## Einführung\n"
   ]
  },
  {
   "cell_type": "code",
   "execution_count": 1,
   "metadata": {},
   "outputs": [],
   "source": [
    "import os\n",
    "\n",
    "# Aktuelles Arbeitsverzeichnis ermitteln\n",
    "os.getcwd()\n",
    "os.chdir(\"c:/Users/Hueck/OneDrive/Dokumente/GitHub/magpie_langchain\")"
   ]
  },
  {
   "cell_type": "code",
   "execution_count": 2,
   "metadata": {},
   "outputs": [
    {
     "name": "stderr",
     "output_type": "stream",
     "text": [
      "c:\\Users\\Hueck\\miniconda3\\envs\\RAG_retriever\\lib\\site-packages\\duckdb_engine\\__init__.py:174: DuckDBEngineWarning: duckdb-engine doesn't yet support reflection on indices\n",
      "  warnings.warn(\n"
     ]
    },
    {
     "name": "stdout",
     "output_type": "stream",
     "text": [
      "\n",
      "CREATE TABLE datensatz_drittmittel_hochschule (\n",
      "\tjahr INTEGER, \n",
      "\tid INTEGER, \n",
      "\t\"Variable\" VARCHAR, \n",
      "\t\"Zeit\" TIMESTAMP WITHOUT TIME ZONE, \n",
      "\t\"Hochschule\" VARCHAR, \n",
      "\t\"Wert\" NUMERIC(18, 3), \n",
      "\t\"Einheit\" VARCHAR, \n",
      "\t\"Quelle\" VARCHAR\n",
      ")\n",
      "\n",
      "/*\n",
      "3 rows from datensatz_drittmittel_hochschule table:\n",
      "jahr\tid\tVariable\tZeit\tHochschule\tWert\tEinheit\tQuelle\n",
      "2006\t30746\tDrittmittel vom Bund\t2006-01-01 00:00:00\tUniversität Kassel\t3966.000\tin Tsd. Euro\tDestatis (Sonderauswertung)\n",
      "2007\t30747\tDrittmittel vom Bund\t2007-01-01 00:00:00\tUniversität Kassel\t6274.000\tin Tsd. Euro\tDestatis (Sonderauswertung)\n",
      "2008\t30748\tDrittmittel vom Bund\t2008-01-01 00:00:00\tUniversität Kassel\t5980.000\tin Tsd. Euro\tDestatis (Sonderauswertung)\n",
      "*/\n"
     ]
    },
    {
     "name": "stderr",
     "output_type": "stream",
     "text": [
      "C:\\Users\\Hueck\\AppData\\Local\\Temp\\ipykernel_36004\\2876354156.py:5: LangChainDeprecationWarning: The method `SQLDatabase.get_table_names` was deprecated in langchain-community 0.0.1 and will be removed in 1.0. Use :meth:`~get_usable_table_names` instead.\n",
      "  db.get_table_names()\n"
     ]
    }
   ],
   "source": [
    "from langchain_community.utilities import SQLDatabase\n",
    "db = SQLDatabase.from_uri(\"duckdb:///data/magpie.db\")\n",
    "\n",
    "db = SQLDatabase.from_uri(\"duckdb:///data/drittmittel_hs.db\")\n",
    "db.get_table_names()\n",
    "print(db.get_table_info([\"datensatz_drittmittel_hochschule\"]))"
   ]
  },
  {
   "cell_type": "code",
   "execution_count": 3,
   "metadata": {},
   "outputs": [
    {
     "name": "stdout",
     "output_type": "stream",
     "text": [
      "['Philosophisch-Theologische Hochschule', 'Georg-August-Universität Göttingen (ohne Klinikum)', 'GA Hochschule der digitalen Gesellschaft', 'Fachhochschule für Forstwirtschaft', 'Pädagogische Hochschule Heidelberg', 'Fachhochschule für Interkulturelle Theologie', 'Fachhochschule Oldenburg/Ostfriesland/Wilhelmshaven', 'Fachhochschule Erfurt', 'Kunsthochschule für Medien', 'Julius-Maximilians-Universität Würzburg (ohne Klinikum)', 'Fachhochschule im Deutschen Roten Kreuz', 'Universität Duisburg-Essen  (Klinikum)', 'Hochschule für Musik Freiburg i. Br.', 'Hochschule Kaiserslautern', 'Jade Hochschule Wilhelmshaven/Oldenburg/Elsfleth', 'Hochschule Ludwigsburg für öffentliche Verwaltung und Finanzen', 'Ruhr-Universität Bochum (Klinikum)', 'Hochschule für Gesundheitsorientierte Wissenschaften Rhein-Neckar (HGWR)', 'Hochschule der Sparkassen-Finanzgruppe University of Applied Sciences - Bonn', 'Universitätsklinikum Gießen und Marburg, Abt. Gießen', 'Universität Greifswald Medizinische Fakultät', 'IUBH Internationale Hochschule GmbH IUBH University of Applied Sciences', 'Hochschule der Medien', 'Merz Akademie, Hochschule für Gestaltung, Kunst und Medien Stuttgart', 'Hochschule Merseburg', 'Hochschule Mittweida University of Applied Sciences', 'Fachhochschule für öffentliche Verwaltung Kehl', 'Technische Universität Berlin', 'Charite - Universitätsmedizin Berlin', 'Universität Passau', 'Universität Osnabrück', 'Internationale Hochschule Liebenzell', 'HMKW Hochschule für Medien, Kommunikation und Wirtschaft', 'Hochschule für internationale Wirtschaft und Logistik', 'Hochschule der Polizei Rheinland-Pfalz in Büchenbeuren', 'Medizinische Hochschule Hannover (MHH)', 'Hochschule Mannheim', 'Hochschule Reutlingen', 'Hochschule Fresenius Idstein in Köln', 'Philipps-Universität Marburg', 'Technische Hochschule Brandenburg', 'Hochschule für Philosophie München', 'Universität Kassel', 'Hochschule Fresenius Idstein in Berlin', 'AKAD University, Sachsen', 'Dresden International University GmbH', 'Kirchliche Hochschule Bethel', 'Norddeutsche Hochschule für Rechtspflege, Hildesheim', 'Bauhaus-Universität Weimar', 'Carl von Ossietzky Universität Oldenburg', 'Palucca Hochschule für Tanz Dresden', 'Hochschule für Telekommunikation Leipzig', 'Technische Hochschule Wildau (FH)', 'Hochschule für Musik und Theater', 'Staatliche Akademie der Bildenden Künste Stuttgart', 'Hochschule für nachhaltige Entwicklung Eberswalde - HNEE', 'FH KUNST Arnstadt', 'Technische Universität München (Klinikum)', 'Universität Bielefeld', 'KÜHNE Logistik Universität Wissenschaftliche Hochschule für Logistik und Unternehmensführung', 'Europa-Universität Flensburg', 'Hochschule für angewandte Pädagogik', 'Staatliche Akademie der Bildenden Künste', 'Hochschule für Gestaltung Offenbach am Main', 'Steinbeis-Hochschule-Berlin DUW Institut für Weiterbildung', 'AKAD, Wissenschaftliche Hochschule Lahr (Priv. Fern-H für Berufstätige)', 'Cologne Business School (CBS) European University of Applied Sciences', 'Universität Bayreuth', 'Technische Universität Hamburg-Harburg', 'Technische Universität Dortmund', 'Universität Rostock Medizinische Fakultät', 'Ludwig-Maximilians-Universität München (ohne Klinikum)', 'design akademie berlin Hochschule für Kommunikation und Design', 'HafenCity Universität Hamburg Universität für Baukunst und Metropolenentwicklung', 'Otto-von-Guericke-Universität Magdeburg (Klinikum)', 'Burg Giebichenstein Kunsthochschule Halle', 'Hochschule Weihenstephan-Triesdorf', 'Alanus Hochschule gGmbH', 'Hochschule für Fernsehen und Film München', 'Technische Hochschule Bingen', 'Technische Universität Ilmenau', 'Hochschule der Sächsischen Polizei (FH)', 'Hamburger Fern-Hochschule gGmbH', 'Eberhard Karls Universität Tübingen (ohne Klinikum)', 'Rheinische Friedrich-Wilhelms- Universität Bonn (ohne Klinikum)', 'BHH Berufliche Hochschule Hamburg', 'EBC Hochschule Campus Berlin', 'Hochschule Augsburg', 'Friedrich-Schiller-Universität Jena (ohne Klinikum)', 'Filmuniversität Babelsberg Konrad Wolf', 'Hochschule Fresenius Idstein in München', 'Staatliche Hochschule für Musik und Darstellende Kunst Mannheim', 'Universitätsklinikum Schleswig-Holstein', 'Hochschule für Musik und Theater Rostock', 'Martin-Luther-Universität Halle-Wittenberg (Klinikum)', 'Hochschule Macromedia für angewandte Wissenschafte (ehem. MHMK) University of Applied Sciences, Bayern', 'Hochschule des Bundes, FB Landwirtschaftliche Sozialversicherung in Kassel', 'Evangelische Hochschule für Soziale Arbeit Dresden (FH)', 'Universität Trier', 'Evangelische Hochschule für soziale Arbeit und Diakonie', 'Hochschule Neubrandenburg', 'Fachhochschule Lübeck', 'Europäische Fachhochschule Rhein/Erft', 'Hochschule Niederrhein', 'Fachhochschule für öffentliche Verwaltung, Polizei und Rechtspflege in Güstrow', 'Berufsakademie Hamburg', 'Universität Bremen', 'Quadriga Hochschule Berlin GmbH', 'Ernst-Abbe-Hochschule Jena Hochschule für angewandte Wissenschaften', 'Technische Universität Dresden (ohne Klinikum)', 'Heinrich-Heine-Universität Düsseldorf (Klinikum)', 'Technische Universität Braunschweig', 'Hochschule für Musik FRANZ LISZT', 'Hochschule für den öffentlichen Dienst in Bayern', 'Hochschule Weserbergland', 'VWA-Hochschule für berufsbegleitendes Studium', 'Universität des Saarlandes Medizinische Fakultät', 'DHGS Deutsche Hochschule für Gesundheit & Sport', 'Ludwig-Maximilians-Universität München (Klinikum)', 'Hochschule für Musik und Theater München', 'Otto-von-Guericke-Universität Magdeburg (ohne Klinikum)', 'Universität Konstanz', 'AKAD University, Schleswig-Holstein', 'Freie Hochschule Stuttgart Seminar für Waldorfpädagogik', 'Hessische Hochschule für Polizei und Verwaltung Wiesbaden', 'SRH Hochschule Heidelberg', 'PFH Private Hochschule Göttingen', 'Fachhochschule für öffentliche Verwaltung NRW', 'Adam-Ries-Fachhochschule', 'Psychologische Hochschule Berlin gGmbH', 'Hochschule für öffentliche Verwaltung Bremen', 'Technische Universität München (ohne Klinikum)', 'Goethe-Universität Frankfurt am Main (Klinikum)', 'Wilhelm Löhe Hochschule (WLH)', 'Hochschule des Bundes, FB Arbeitsverwaltung, Mannheim', 'Hochschule Koblenz', 'Fachhochschule Westküste Hochschule für Wirtschaft & Technik', 'Hochschule des Bundes, FB Akademie Auswärtige Angelegenheiten in Berlin', 'Fachhochschule für Verwaltung des Saarlandes', 'EBC Hochschule Campus Hamburg', 'Fachhochschule Schwäbisch Hall', 'praxisHochschule Köln University of Applied Science', 'Internationales Hochschulinstitut Zittau', 'Deutsche Universität für Verwaltungswissenschaften Speyer', 'Hochschule Geisenheim University', 'Hochschule der Sächsischen Polizei', 'Hochschule für Technik und Wirtschaft des Saarlandes', 'Staats- und Universitätsbibliothek Hamburg Carl von Ossietzky', 'Hochschule der Deutschen Bundesbank Hachenburg', 'Touro College Berlin', 'Universität des Saarlandes', 'IST-Hochschule für Management GmbH', 'Lutherische Theologische Hochschule', 'Hochschule für Gesundheit University of Applied Sciences', 'Akademie der Bildenden Künste München', 'Freie Universität Berlin', 'Ostbayerische Technische Hochschule Regensburg (OTH)', 'Freie Theologische Hochschule Gießen', 'Universität Hohenheim', 'Hochschule Esslingen', 'Hochschule für Jüdische Studien', 'Frankfurt University of Applied Sciences', 'Hochschule für Schauspielkunst \"Ernst Busch\"', 'Hochschule Emden/Leer', 'Hochschule Meißen (FH) und Fortbildungszentrum', 'Staatliche Hochschule für Musik', 'DBU Digital Business University of Applied Sciences GmbH', 'Hochschule der Bayerischen Wirtschaft (HDBW) gGmbH', 'Hochschule Trier Trier University of Applied Sciences', 'Katholische Stiftungshochschule München', 'Technische Universität Kaiserslautern', 'Hochschule der Polizei des Landes Brandenburg', 'Hochschule für Musik Hanns Eisler Berlin', 'Hochschule für Technik und Wirtschaft Dresden', 'Hochschule Zittau/Görlitz (FH)', 'Edenkoben, Hochschule für Finanzen Rheinland-Pfalz', 'Theologische Fakultät Trier', 'Hochschule für angewandtes Management GmbH', 'Bard College Berlin, a Liberal Arts University gGmbH', 'DPFA Hochschule Sachsen', 'Universitätsmedizin der Johannes Gutenberg-Universität Mainz', 'Theologische Fakultät Fulda', 'Staatliche Hochschule für Musik und Darstellende Kunst', 'EBZ Business School University of Applied Sciences', 'Staatliche Fachhochschule für Polizei Villingen-Schwenningen', 'Fachhochschule für Finanzen Brandenburg', 'Hochschule Ostwestfalen-Lippe', 'RWTH Aachen (ohne Klinikum)', 'DIPLOMA Private Hochschulgesellschaft mbH', 'Medizinische Hochschule Brandenburg Theodor Fontane (MHB)', 'Hochschule Biberach', 'Technische Hochschule Deggendorf', 'Universität Vechta', 'Ostbayerische Technische Hochschule Amberg-Weiden (OTH)', 'Bucerius Law School gGmbH Hochschule für Rechtswissenschaft', 'FOM Hochschule für Oekonomie & Management gemeinnützige GmbH', 'HMU Health and Medical University Potsdam', 'Hochschule für öffentliche Verwaltung Rheinland-Pfalz, Mayen', 'Hochschule für Musik Würzburg', 'Pädagogische Hochschule Freiburg', 'Hochschule für Musik und Theater \"Felix Mendelssohn Bartholdy\" Leipzig', 'Mediadesign Hochschule für Design und Informatik GmbH', 'SRH Fachhochschule für Gesundheit Gera gGmbH University of Applied Science', 'Hochschule für Angewandte Wissenschaften Neu-Ulm', 'Hochschule für Kirchenmusik der Evangelischen Kirche der schlesischen Oberlausitz', 'Hochschule für Musik Detmold', 'Katholische Hochschule Freiburg Catholic University of Applied Sciences', 'Naturwissenschaftlich-Technische Akademie Prof. Dr. Grübler gGmbH Isny', 'International University in Germany', 'Philosophisch-Theologische Hochschule Benediktbeuern', 'Evangelische Hochschule Freiburg', 'Hochschule Furtwangen University of Applied Sciences', 'Hochschule und Institut für ev. Kirchenmusik Bayreuth', 'Universität Leipzig (Klinikum)', 'Rheinische Fachhochschule Neuss für Internationale Wirtschaft', 'Hochschule Mainz University of Applied Sciences', 'Hochschule Bonn-Rhein-Sieg', 'UNIKIMS - die Management School der Universität Kassel', 'Heinrich-Heine-Universität Düsseldorf (ohne Klinikum)', 'Hochschule des Bundes, FB Sozialversicherung in Berlin', 'Martin-Luther-Universität Halle-Wittenberg (ohne Klinikum)', 'Eberhard Karls Universität Tübingen (Klinikum)', 'Universität der Bundeswehr München', 'Nordakademie Hochschule der Wirtschaft', 'Universität Hamburg (ohne Klinikum)', 'DGUV Akademie Hochschule der Deutschen Gesetzlichen Unfallversicherung', 'ESMT European School of Management and Technology GmbH', 'Duale Hochschule Gera-Eisenach', 'Hochschule für Grafik und Buchkunst Leipzig', 'Rheinische Fachhochschule Köln gGmbH', 'HAWK Hochschule für angewandte Wissenschaft und Künste (Hildesheim/Holzminden/Göttingen)', 'Katholische Hochschule Mainz', 'Evangelische Fachhochschule Darmstadt University of Applied Sciences', 'GGS German Graduate School of Management and Law gGmbH', 'Hochschule für Künste im Sozialen Ottersberg', 'AMD Akademie Mode & Design', 'Private Hanseuniversität', 'Fachhochschule des Mittelstandes (FHM)', 'Hochschule Ludwigshafen am Rhein University of Applied Sciences', 'Universität Potsdam', 'Evangelische Hochschule Moritzburg', 'Hochschule Ansbach', 'Fachhochschule für Verwaltung und Rechtspflege Berlin', 'Hochschule für Künste Bremen', 'Frankfurt School of Finance & Management gGmbH', 'Universität Duisburg-Essen  (ohne Klinikum)', 'Europa-Universität Viadrina', 'Private Fachhochschule Döpfer für Physiotherapie und Ergotherapie', 'WHU - Otto Beisheim School of Management', 'Hochschule Schmalkalden', 'Fachhochschule Kempten Hochschule für angewandte Wissenschaften', 'Fliedner Fachhochschule Düsseldorf', 'Hochschule Albstadt-Sigmaringen', 'Hochschule für angewandte Wissenschaften Würzburg-Schweinfurt', 'Hochschule der bildenden Künste (HBK) Essen', 'Internationale Hochschule für Wirtschaft, Technik und Kultur gGmbH', 'Hochschule Pforzheim', 'SRH Hochschule Calw', 'Niedersächsische Fachhochschule für Verwaltung und Rechtspflege', 'BEST-Sabel-Hochschule Berlin', 'Hochschule Harz Hochschule für angewandte Wissenschaften (FH)', 'CODE University of Applied Sciences Berlin', 'Universität Ulm (ohne Klinikum)', 'Hochschule Bremerhaven', 'Otto-Friedrich-Universität Bamberg', 'Thüringer Fachhochschule für öffentliche Verwaltung Gotha', 'Fachhochschule des Mittelstands (FHM) Bamberg', 'Deutsche Sporthochschule Köln', 'Ruprecht-Karls-Universität Heidelberg (Klinikum)', 'Katholische Hochschule für Soziale Arbeit', 'Goethe-Universität Frankfurt am Main (ohne Klinikum)', 'Evangelische Fachhochschule Ludwigshafen', 'Technische Hochschule Georg Agricola für Rohstoff, Energie und Umwelt Bochum', 'Katholische Hochschule für Sozialwesen Berlin', 'Hochschule Landshut Hochschule für Angewandte Wissenschaften', 'Hochschule Macromedia für angewandte Wissenschafte (ehem. MHMK) University of Applied Sciences, Baden-Württemberg', 'Pädagogische Hochschule Karlsruhe', 'Universität Stuttgart', 'Hochschule Fulda', 'Deutsche Hochschule der Polizei', 'Hochschule für internationales Management Heidelberg', 'Augustana-Hochschule Neuendettelsau', 'Ruprecht-Karls-Universität Heidelberg (ohne Klinikum)', 'Wilhelm Büchner Hochschule', 'Hochschule für Politik München Bavarian School of Public Policy', 'Beuth Hochschule für Technik Berlin', 'Robert-Schumann-Hochschule', 'Ruhr-Universität Bochum (ohne Klinikum)', 'Hochschule für Musik Karlsruhe', 'Technische Hochschule Nürnberg Georg Simon Ohm', 'EBC Hochschule Campus Düsseldorf', 'International School of Management', 'Staatliche Hochschule für Bildende Künste (Städelschule)', 'Friedrich-Alexander Universität Erlangen-Nürnberg (ohne Klinikum)', 'Kommunale Hochschule für Verwaltung in Niedersachsen, Hannover', 'Theologische Hochschule Friedensau', 'Universität Leipzig (ohne Klinikum)', 'BSP Business School Berlin Hochschule für Management', 'EBS Universität für Wirtschaft und Recht', 'Internationale Hochschule Calw', 'Vogtländische Fachhochschule Plauen', 'Hochschule Heilbronn Technik, Wirtschaft, Informatik', 'Helmut-Schmidt-Universität Universität der Bundeswehr Hamburg', 'EBC Hochschule Campus Dresden', 'Muthesius-Kunsthochschule', 'Hochschule Fresenius Idstein', 'Friedrich-Schiller-Universität Jena (Klinikum)', 'Hochschule der Wirtschaft für Management gGmbH', 'Private Universität Witten/Herdecke gGmbH (ohne Klinikum)', 'Hochschule für Musik und Darstellende Kunst Frankfurt am Main', 'Fachhochschule Südwestfalen', 'Berlin International University of Applied Sciences', 'MSH Medical School Hamburg Fachhochschule für Gesundheit und Medizin', 'Kirchliche Hochschule Wuppertal/Bethel Hochschule für Kirche und Diakonie', 'SRH Hochschule für Logistik und Wirtschaft Hamm', 'Hochschule  gGmbH', 'Hertie School of Governance GmbH', 'Hochschule Ruhr West', 'Hochschule für Kunsttherapie Nürtingen', 'Hochschule Ulm', 'Katholische Hochschule Nordrhein-Westfalen Catholic University of Applied Sciences', 'Internationale Karlshochschule', 'Evangelische Fachhochschule Rheinland-Westfalen-Lippe', 'Private Hochschule für Wirtschaft und Technik', 'Hochschule für Musik, Theater und Medien Hannover', 'Universität Hamburg (Klinikum)', 'Technische Hochschule Mittelhessen', 'Hochschule für Musik Saar', 'media Akademie – Hochschule Stuttgart', 'Technische Universität Darmstadt', 'Hochschule Flensburg University of Applied Sciences', 'Hochschule der Bundesagentur für Arbeit', 'Albert-Ludwigs-Universität Freiburg (ohne Klinikum)', 'German open Business School - HS für Wirtschaft und Verwaltung Berlin (Priv- FH)', 'Musikhochschule Lübeck', 'Theologisches Seminar Elstal', 'Christian-Albrechts-Universität zu Kiel', 'Fachhochschule Dresden Staatlich anerkannte Hochschule University of Applied Sciences', 'Westfälische Hochschule', 'Universität zu Köln (Klinikum)', 'Hochschule für Bildende Künste Braunschweig', 'Theologische Hochschule Ewersbach Kronberg-Forum', 'Karlsruher Institut für Technologie', 'Zeppelin Universität gemeinnützige GmbH', 'Hochschule Fresenius Idstein in Hamburg', 'Fachhochschule Dortmund', 'Akademie für digitale Medienproduktion', 'Hochschule Offenburg', 'Universität zu Lübeck', 'Hochschule Worms', 'Staatliche Hochschule für Gestaltung', 'Evangelische Hochschule für Kirchenmusik', 'Fachhochschule der Diakonie', 'Hochschule Nordhausen University of Applied Sciences', 'Kunstakademie Düsseldorf', 'Georg-August-Universität Göttingen (Klinikum)', 'Evangelische Hochschule Tabor', 'International Business School of Service Management', 'Fachhochschule für Verwaltung und Dienstleistung Altenholz', 'Provadis School of International Management and Technology AG', 'RWTH Aachen (Klinikum)', 'Evangelische Hochschule Berlin', 'Leuphana Universität Lüneburg', 'Hochschule Aschaffenburg', 'Munich Business School GmbH', 'Hochschule Düsseldorf', 'Hochschule für Technik und Wirtschaft Berlin', 'Hochschule für Gestaltung Schwäbisch Gmünd', 'Hochschule Osnabrück', 'Hochschule für Musik und Tanz Köln', 'Hochschule des Bundes, FB Wetterdienst in Langen', 'Hochschule RheinMain University of Applied Sciences Wiesbaden Rüsselsheim', 'Universität Augsburg (ohne Klinikum)', 'Hochschule Lausitz (FH), University of Applied Sciences', 'Esmod Berlin Internationale Kunsthochschule für Mode', 'SRH Hochschule der populären Künste', 'Hochschule für Musik Nürnberg', 'Internationale Hochschule für Exekutives Management', 'Hochschule Darmstadt University of Applied Sciences', 'Vitruvius Hochschule Leipzig', 'UMC POTSDAM -University of Management and Communication (FH) gGmbH', 'Universität Regensburg (Klinikum)', 'Fachhochschule für die Wirtschaft Hannover (FHDW)', 'Private Universität Witten/Herdecke gGmbH (Klinikum)', 'Theologische Fakultät Paderborn Rektorat', 'Hochschule Konstanz Technik, Wirtschaft und Gestaltung', 'Hochschule Wismar University of Applied Sciences Technology, Business and Design', 'Hochschule für Wirtschaft und Recht Berlin', 'Akademie der Bildenden Künste', 'Bergische Universität Wuppertal', 'Hochschule Esslingen University of Applied Sciences', 'Westfälische Wilhelms-Universität Münster (Klinikum)', 'Universität Rostock (ohne Klinikum)', 'Universität Siegen', 'Barenboim-Said Akademie Berlin', 'Universität Ulm (Klinikum)', 'Akkon-Hochschule für Humanwissenschaften', 'Deutsche Hochschule für Prävention und Gesundheitsmanagement GmbH', 'Universität Greifswald (Klinikum)', 'Hochschule für Bildende Künste Dresden', 'Fachhochschule der Wirtschaft Nordrhein-Westfalen gGmbH', 'Hochschule des Bundes, FB Bundespolizei, Lübeck', 'Westsächsische Hochschule Zwickau', 'Hochschule für Forstwirtschaft Rottenburg', 'Hochschule für Musik Carl Maria von Weber Dresden', 'Hochschule Hof', 'Universität Erfurt', 'Hochschule Rosenheim', 'Hochschule für Kommunikation und Gestaltung', 'Ruprecht-Karls-Universität Heidelberg  Medizinische Fakultät Mannheim', 'FernUniversität in Hagen', 'Philosophisch-Theologische Hochschule Theologische Fakultät Sankt Augustin', 'Technische Universität Chemnitz', 'Hochschule Bochum', 'Universität Ausgburg (Klinikum)', 'Mathias Hochschule in Rheine', 'Hochschule für Angewandte Wissenschaften Hamburg', 'Julius-Maximilians-Universität Würzburg (Klinikum)', 'Europäische Fernhochschule Hamburg GmbH', 'Evangelische Hochschule Nürnberg', 'Hochschule Rhein-Waal', 'Friedrich-Alexander Universität Erlangen-Nürnberg (Klinikum)', 'Brand Academy Hochschule für Design und Kommunikation', 'Rheinische Friedrich-Wilhelms- Universität Bonn (Klinikum)', 'NBS Northern Business School', 'Folkwang Universität der Künste', 'Fachhochschule Potsdam', 'IB-Hochschule Berlin', 'Fachhochschule für Sport und Management der Europäischen Sportakademie Land Brandenburg gGmbH', 'Hochschule Hannover', 'Theologische Hochschule Reutlingen Staatlich anerkannte Fachhochschule der Evangelisch-methodistische Kirche', 'Johannes Gutenberg-Universität Mainz', 'Justus-Liebig-Universität Gießen', 'Evangelische Hochschule Ludwigsburg', 'HSBA Hamburg School of Business Administration', 'Universität der Bundeswehr München (FB Fachhochschulstudiengänge)', 'Universität Regensburg (ohne Klinikum)', 'Fachhochschule Bielefeld', 'Hochschule für Katholische Kirchenmusik und Musikpädagogik', 'Albert-Ludwigs-Universität Freiburg (Klinikum)', 'bbw Hochschule', 'Fachhochschule Wedel', 'Evangelische Fachhochschule Hannover', 'Duale Hochschule Baden-Württemberg', 'Hochschule der Bildenden Künste Saar', 'Akademie der Polizei Hamburg', 'SRH FernHochschule - The Mobile University', 'Deutsche Universität für Weiterbildung', 'Hochschule für Technik Stuttgart', 'Hochschule Magdeburg-Stendal', 'Universität der Künste Berlin', 'Universität Greifswald (ohne Klinikum)', 'HHL Leipzig Graduate School of Management', 'SRH Hochschule Berlin', 'Brandenburgische Technische Universität Cottbus-Senftenberg', 'Ostfalia Hochschule für angewandte Wissenschaften Hochschule Braunschweig/Wolfenbüttel', 'Hochschule Ravensburg-Weingarten', 'Westfälische Wilhelms-Universität Münster (ohne Klinikum)', 'Technische Universität Bergakademie Freiberg', 'Universität Rostock (Klinikum)', 'Jacobs University Bremen gGmbH', 'Philosophisch-Theologische Hochschule Vallendar', 'Leibniz-Fachhochschule School of Business', 'Technische Universität Clausthal', 'Fachhochschule Münster', 'Hochschule für Wirtschaft und Umwelt Nürtingen-Geislingen (HfWU)', 'Hochschule für Kirchenmusik der Evangelischen Kirche von Westfalen', 'Hochschule des Bundes, FB Finanzen, Münster', 'International Psychoanalytic University Berlin gGmbH', 'Humboldt-Universität zu Berlin', 'Pädagogische Hochschule Schwäbisch Gmünd', 'ESCP Europe Wirtschaftshochschule Berlin', 'Hochschule für Rechtspflege Schwetzingen', 'Baltic College', 'Hochschule Coburg Hochschule für Angewandte Wissenschaften', 'Katholische Universität Eichstätt-Ingolstadt', 'accadis Hochschule Bad Homburg (Priv. FH)', 'Universität der Bundeswehr München (FB Universitätsstudiengänge)', 'Universität Paderborn', 'Cusanus Hochschule gGmbH', 'Berliner Technische Kunsthochschule', 'Hochschule Hamm-Lippstadt', 'Stiftung Tierärztliche Hochschule Hannover', 'Technische Universität Dresden (Klinikum)', 'Gustav-Siewert-Akademie', 'Alice Salomon Hochschule Berlin', 'Fachhochschule für Archivwesen Marburg', 'Norddeutsche Akademie für Finanzen und Steuerrecht Hamburg', 'Kunstakademie Münster Hochschule für Bildende Künste', 'CVJM-Hochschule', 'Stiftung Universität Hildesheim', 'Universität zu Köln (ohne Klinikum)', 'Fachhochschule Aachen', 'HSD Hochschule Döpfer GmbH', 'HTWK Leipzig Hochschule für Technik, Wirtschaft und Kultur Leipzig', 'Hochschule Bremen', 'Weißensee Kunsthochschule Berlin', 'Leibniz Universität Hannover', 'BiTS Business and Information Technology School gGmbH Campus Iserlohn', 'Fachhochschule Clara Hoffbauer Potsdam', 'Pädagogische Hochschule Ludwigsburg', 'Universitätsklinikum Gießen und Marburg, Abt. Marburg', 'Hochschule für angewandte Wissenschaften München', 'Hessische Hochschule für Finanzen und Rechtspflege Rotenburg', 'DEKRA Hochschule Berlin', 'Fachhochschule für Finanzen Nordrhein-Westfalen', 'Hochschule für Kirchenmusik Dresden', 'Technische Hochschule Köln', 'Hochschule des Bundes, FB Allgemeine innere Verwaltung, Brühl', 'Technische Hochschule Ingolstadt', 'Universität Mannheim', 'Hochschule Stralsund', 'Fachhochschule Kiel', 'Hochschule für Angewandte Sprachen Sprachen & Dolmetscher Institut München', 'Hochschule des Bundes, FB Bundeswehrverwaltung, Mannheim', 'Hochschule Karlsruhe Technik und Wirtschaft', 'Philosophisch-Theologische Hochschule Sankt Georgen', 'Apollon Hochschule der Gesundheitswirtschaft', 'MSB Medical School Berlin Hochschule für Gesundheit und Medizin', 'Universität Koblenz-Landau', 'Hochschule Anhalt', 'Hochschule Aalen', 'Pädagogische Hochschule Weingarten', 'Hochschule für bildende Künste (HFBK)', 'Fachhochschule für Rechtspflege Nordrhein-Westfalen']\n"
     ]
    }
   ],
   "source": [
    "import ast\n",
    "import re\n",
    "\n",
    "\n",
    "def query_as_list(db, query):\n",
    "    res = db.run(query)\n",
    "    res = [el for sub in ast.literal_eval(res) for el in sub if el]\n",
    "    res = [re.sub(r\"\\b\\d+\\b\", \"\", string).strip() for string in res]\n",
    "    return list(set(res))\n",
    "\n",
    "\n",
    "Variable = query_as_list(db, \"SELECT Variable FROM datensatz_drittmittel_hochschule \")\n",
    "Hochschule = query_as_list(db, \"SELECT Hochschule FROM datensatz_drittmittel_hochschule \")\n",
    "\n",
    "print(Hochschule)"
   ]
  },
  {
   "cell_type": "markdown",
   "metadata": {},
   "source": [
    "Mit dieser Funktion können wir ein Retriever-Tool erstellen, das der Bot nach eigenem Ermessen ausführen kann.\n",
    "\n",
    "Wählen wir für diesen Schritt ein Embeddingmodel und einen Vektorspeicher aus:"
   ]
  },
  {
   "cell_type": "code",
   "execution_count": 7,
   "metadata": {},
   "outputs": [
    {
     "name": "stdout",
     "output_type": "stream",
     "text": [
      "Using device: cuda\n",
      "NVIDIA GeForce RTX 4060 Ti\n"
     ]
    },
    {
     "name": "stderr",
     "output_type": "stream",
     "text": [
      "C:\\Users\\Hueck\\AppData\\Local\\Temp\\ipykernel_36004\\2039575610.py:17: LangChainDeprecationWarning: The class `Chroma` was deprecated in LangChain 0.2.9 and will be removed in 1.0. An updated version of the class exists in the :class:`~langchain-chroma package and should be used instead. To use it run `pip install -U :class:`~langchain-chroma` and import as `from :class:`~langchain_chroma import Chroma``.\n",
      "  vector_store = Chroma(embedding_function=embeddings)\n"
     ]
    }
   ],
   "source": [
    "from langchain.embeddings import HuggingFaceEmbeddings\n",
    "from langchain.vectorstores import Chroma\n",
    "import torch\n",
    "\n",
    "# Überprüfen, ob eine GPU verfügbar ist\n",
    "device = \"cuda\" if torch.cuda.is_available() else \"cpu\"\n",
    "print(f\"Using device: {device}\")\n",
    "print(torch.cuda.get_device_name(0))\n",
    "# Modell laden und auf die GPU verschieben\n",
    "# Specify the device in model_kwargs\n",
    "embeddings = HuggingFaceEmbeddings(\n",
    "    model_name=\"intfloat/multilingual-e5-base\", \n",
    "    model_kwargs={\"device\": device}\n",
    ")\n",
    "\n",
    "# Chroma Vektorspeicher initialisieren\n",
    "vector_store = Chroma(embedding_function=embeddings)"
   ]
  },
  {
   "cell_type": "markdown",
   "metadata": {},
   "source": [
    "Wir können nun ein Suchwerkzeug konstruieren, das die relevanten Eigennamen in der Datenbank durchsucht:"
   ]
  },
  {
   "cell_type": "code",
   "execution_count": 8,
   "metadata": {},
   "outputs": [],
   "source": [
    "from langchain.agents.agent_toolkits import create_retriever_tool\n",
    "\n",
    "_ = vector_store.add_texts(Variable + Hochschule)\n",
    "retriever = vector_store.as_retriever(search_kwargs={\"k\": 5})\n",
    "description = (\n",
    "    \"Use to find proper nouns and their correct spellings. Input is an approximate spelling \"\n",
    "    \"of the proper noun, output is the closest valid proper noun. Use the noun most similar to the search.\"\n",
    ")\n",
    "retriever_tool = create_retriever_tool(\n",
    "    retriever,\n",
    "    name=\"search_proper_nouns\",\n",
    "    description=description,\n",
    ")"
   ]
  },
  {
   "cell_type": "code",
   "execution_count": 11,
   "metadata": {},
   "outputs": [],
   "source": [
    "# _ = vector_store.add_texts(\n",
    "#     [\"Freie Universität Berlin\"],  # Hauptbegriff\n",
    "#     [{\"synonyms\": \"FU Berlin; Freie Univ. Berlin\"}]  # Synonyme als Metadaten\n",
    "# )"
   ]
  },
  {
   "cell_type": "code",
   "execution_count": 34,
   "metadata": {},
   "outputs": [
    {
     "name": "stdout",
     "output_type": "stream",
     "text": [
      "Drittmittel von Gemeinden und Zweckverbänden\n",
      "\n",
      "Drittmittel von Stiftungen\n",
      "\n",
      "Drittmittel von Hochschulfördergesellschaften\n",
      "\n",
      "Drittmittel vom Bund\n",
      "\n",
      "Drittmittel von der Bundesanstalt für Arbeit\n"
     ]
    }
   ],
   "source": [
    "print(retriever_tool.invoke(\"Wie hoch waren die Drittmittel von Gemeinden und Zweckverbänden der Uni Kassel im Jahr 2008?\"))"
   ]
  },
  {
   "cell_type": "code",
   "execution_count": 30,
   "metadata": {},
   "outputs": [],
   "source": [
    "from langchain_core.prompts import PromptTemplate\n",
    "from langchain_core.runnables import RunnablePassthrough\n",
    "from operator import itemgetter\n",
    "from langchain_community.tools.sql_database.tool import QuerySQLDataBaseTool\n",
    "from langchain_core.output_parsers import StrOutputParser\n",
    "from langchain.chains import create_sql_query_chain\n",
    "\n",
    "def get_sql_chain(llm, db, table_info, retriever_tool, top_k=10):\n",
    "    template = f\"\"\"Given an input question, first create a syntactically\n",
    "    correct SQL query to run in {db.dialect}, then look at the results of the\n",
    "    query and return the answer to the input question.\n",
    "\n",
    "    Unless otherwise specified, do not return more than {{top_k}} rows.\n",
    "\n",
    "    Never query for all columns from a table. You must query only the\n",
    "    columns that are needed to answer the question. Wrap each column name\n",
    "    in double quotes (\") to denote them as delimited identifiers.\n",
    "\n",
    "    Pay attention to use only the column names present in the tables\n",
    "    below. Be careful to not query for columns that do not exist. Also, pay\n",
    "    attention to which column is in which table. Query only the columns you\n",
    "    need to answer the question.\n",
    "\n",
    "    If a filter value or variable category is required, include it in the \n",
    "    WHERE clause, and combine multiple filter criteria (if applicable) \n",
    "    using AND or OR as appropriate. Use the retriever_tool.\n",
    "\n",
    "    Here is the schema for the database:\n",
    "    {{table_info}}\n",
    "\n",
    "    Additional info: {{input}}\n",
    "\n",
    "    Return only the SQL query such that your response could be copied\n",
    "    verbatim into the SQL terminal.\n",
    "    \"\"\"\n",
    "\n",
    "    prompt = PromptTemplate.from_template(template)\n",
    "\n",
    "    def validate_values(question, retriever_tool):\n",
    "        \"\"\"\n",
    "        Validate and enrich the input question by using the retriever tool\n",
    "        to check for valid variable values or categories.\n",
    "        \"\"\"\n",
    "        extracted_values = retriever_tool.run(question)\n",
    "        if extracted_values:\n",
    "            print(\"Validated values:\", extracted_values)\n",
    "        return extracted_values or question  # Fallback to original question if no match is found\n",
    "\n",
    "    sql_chain = create_sql_query_chain(llm, db, prompt)\n",
    "\n",
    "    return sql_chain, validate_values\n",
    "\n",
    "def natural_language_chain(question, llm, db, retriever_tool):\n",
    "    table_info = db.get_table_info()\n",
    "    sql_chain, validate_values = get_sql_chain(llm, db, table_info=table_info, retriever_tool=retriever_tool)\n",
    "\n",
    "    # Validate or enrich the question with proper variable values\n",
    "    validated_question = validate_values(question, retriever_tool)\n",
    "\n",
    "    template = f\"\"\"\n",
    "        You are a chatbot named Sparklehorse created. Based on the table schema given below, the SQL query and the SQL response, enter an answer\n",
    "        that corresponds exactly to the language of the user's question. Think carefully and make sure that your answer is precise and easy to understand.\n",
    "\n",
    "        SQL Query: {{query}}\n",
    "        User question: {{question}}\n",
    "        SQL Response: {{response}}\n",
    "        \"\"\"\n",
    "\n",
    "    prompt = PromptTemplate.from_template(template)\n",
    "\n",
    "    # Create the intermediate chain to extract SQL query\n",
    "    intermediate_chain = RunnablePassthrough.assign(query=sql_chain)\n",
    "\n",
    "    # Get the SQL query\n",
    "    intermediate_result = intermediate_chain.invoke({\"question\": validated_question})\n",
    "    sql_query = intermediate_result[\"query\"]\n",
    "\n",
    "    # Debug: Print the SQL query\n",
    "    print(\"Generated SQL Query for Debugging:\")\n",
    "    print(sql_query)\n",
    "\n",
    "    # Continue with the full chain execution\n",
    "    chain = (\n",
    "        intermediate_chain.assign(\n",
    "            response=itemgetter(\"query\") | QuerySQLDataBaseTool(db=db)\n",
    "        )\n",
    "        | prompt\n",
    "        | llm\n",
    "        | StrOutputParser()\n",
    "    )\n",
    "\n",
    "    response = chain.invoke({\"question\": validated_question})\n",
    "\n",
    "    print(response)\n",
    "\n",
    "    return response"
   ]
  },
  {
   "cell_type": "code",
   "execution_count": 31,
   "metadata": {},
   "outputs": [],
   "source": [
    "from langchain_ollama import ChatOllama\n",
    "import re\n",
    "\n",
    "llm = ChatOllama(\n",
    "    model=\"llama3.1:8b-instruct-q4_0\",\n",
    "    temperature=0,\n",
    "    server_url=\"http://127.0.0.1:11434\",\n",
    ")"
   ]
  },
  {
   "cell_type": "code",
   "execution_count": 32,
   "metadata": {},
   "outputs": [
    {
     "name": "stdout",
     "output_type": "stream",
     "text": [
      "Validated values: Drittmittel von Gemeinden und Zweckverbänden\n",
      "\n",
      "Drittmittel von Hochschulfördergesellschaften\n",
      "\n",
      "Drittmittel von Stiftungen\n",
      "\n",
      "Universität Kassel\n",
      "\n",
      "Drittmittel vom Bund\n",
      "Generated SQL Query for Debugging:\n",
      "To create a syntactically correct SQL query for duckdb, I'll need more information about the input question you'd like to answer. However, based on the provided schema and additional info, here's an example of how we might craft a query:\n",
      "\n",
      "Let's say your question is: \"What were the Drittmittel from Hochschulfördergesellschaften for Universität Kassel in 2007?\"\n",
      "\n",
      "Here's the SQL query to answer this question:\n",
      "```sql\n",
      "SELECT \n",
      "    \"Variable\", \n",
      "    \"Wert\" \n",
      "FROM \n",
      "    datensatz_drittmittel_hochschule \n",
      "WHERE \n",
      "    \"Hochschule\" = 'Universität Kassel' AND \n",
      "    \"Zeit\" LIKE '%2007%' AND \n",
      "    \"Variable\" = 'Drittmittel von Hochschulfördergesellschaften';\n",
      "```\n",
      "This query selects the `Variable` and `Wert` columns from the `datensatz_drittmittel_hochschule` table where the `Hochschule` is 'Universität Kassel', the year is 2007, and the `Variable` is 'Drittmittel von Hochschulfördergesellschaften'.\n",
      "\n",
      "Please provide your actual question so I can create a more accurate SQL query for you.\n",
      "Based on the user's question, it seems they want to know the amount of Drittmittel (third-party funding) received by different institutions, specifically:\n",
      "\n",
      "* Drittmittel von Gemeinden und Zweckverbänden (Communities and associations)\n",
      "* Drittmittel von Hochschulfördergesellschaften (University support organizations)\n",
      "* Drittmittel von Stiftungen (Foundations)\n",
      "* Universität Kassel\n",
      "* Drittmittel vom Bund (Federal funding)\n",
      "\n",
      "To answer this question, I would modify the SQL query to include a WHERE clause that filters for the desired \"Variable\" values. Here's an updated query:\n",
      "\n",
      "```sql\n",
      "SELECT \n",
      "    \"Hochschule\" AS \"Institution\",\n",
      "    \"Wert\" AS \"Amount\"\n",
      "FROM \n",
      "    datensatz_drittmittel_hochschule\n",
      "WHERE \n",
      "    \"Variable\" IN ('Drittmittel von Gemeinden und Zweckverbänden', 'Drittmittel von Hochschulfördergesellschaften', 'Drittmittel von Stiftungen', 'Universität Kassel', 'Drittmittel vom Bund')\n",
      "ORDER BY \n",
      "    \"Wert\" DESC\n",
      "LIMIT 5;\n",
      "```\n",
      "\n",
      "This query will return the top 5 institutions (by amount) for each of the specified funding sources.\n"
     ]
    }
   ],
   "source": [
    "_ = natural_language_chain('Wie hoch waren die Drittmittel von Gemeinden der Uni Kassel nur im Jahr 2010?', llm, db,retriever_tool )"
   ]
  },
  {
   "cell_type": "code",
   "execution_count": 25,
   "metadata": {},
   "outputs": [],
   "source": [
    "result = SQLDatabase.from_uri(\"duckdb:///data/drittmittel_hs.db\").run(\"\"\"\n",
    "    SELECT \"Hochschule\", \"Wert\"\n",
    "    FROM datensatz_drittmittel_hochschule\n",
    "    WHERE \"Variable\" = 'Drittmittel vom Bund'\n",
    "      AND \"Hochschule\" = 'Universität Kassel'\n",
    "    ORDER BY \"Wert\" DESC\n",
    "    LIMIT 5;\n",
    "\"\"\")"
   ]
  },
  {
   "cell_type": "code",
   "execution_count": 26,
   "metadata": {},
   "outputs": [
    {
     "name": "stdout",
     "output_type": "stream",
     "text": [
      "[('Universität Kassel', Decimal('27493.000')), ('Universität Kassel', Decimal('27260.000')), ('Universität Kassel', Decimal('25835.000')), ('Universität Kassel', Decimal('25689.000')), ('Universität Kassel', Decimal('25281.000'))]\n"
     ]
    }
   ],
   "source": [
    "print(result)"
   ]
  }
 ],
 "metadata": {
  "kernelspec": {
   "display_name": "RAG_retriever",
   "language": "python",
   "name": "python3"
  },
  "language_info": {
   "codemirror_mode": {
    "name": "ipython",
    "version": 3
   },
   "file_extension": ".py",
   "mimetype": "text/x-python",
   "name": "python",
   "nbconvert_exporter": "python",
   "pygments_lexer": "ipython3",
   "version": "3.9.21"
  }
 },
 "nbformat": 4,
 "nbformat_minor": 2
}
