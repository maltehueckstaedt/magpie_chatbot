{
 "cells": [
  {
   "cell_type": "markdown",
   "metadata": {},
   "source": [
    "# Gen Retriever\n",
    "\n",
    "## Einführung\n"
   ]
  },
  {
   "cell_type": "code",
   "execution_count": 1,
   "metadata": {},
   "outputs": [],
   "source": [
    "import os\n",
    "\n",
    "# Aktuelles Arbeitsverzeichnis ermitteln\n",
    "os.getcwd()\n",
    "os.chdir(\"c:/Users/Hueck/OneDrive/Dokumente/GitHub/magpie_langchain\")"
   ]
  },
  {
   "cell_type": "code",
   "execution_count": 2,
   "metadata": {},
   "outputs": [
    {
     "name": "stderr",
     "output_type": "stream",
     "text": [
      "c:\\Users\\Hueck\\miniconda3\\envs\\RAG_retriever\\lib\\site-packages\\duckdb_engine\\__init__.py:174: DuckDBEngineWarning: duckdb-engine doesn't yet support reflection on indices\n",
      "  warnings.warn(\n"
     ]
    },
    {
     "name": "stdout",
     "output_type": "stream",
     "text": [
      "\n",
      "CREATE TABLE datensatz_drittmittel_hochschule (\n",
      "\tjahr INTEGER, \n",
      "\tid INTEGER, \n",
      "\t\"Variable\" VARCHAR, \n",
      "\t\"Zeit\" TIMESTAMP WITHOUT TIME ZONE, \n",
      "\t\"Hochschule\" VARCHAR, \n",
      "\t\"Wert\" VARCHAR, \n",
      "\t\"Einheit\" VARCHAR, \n",
      "\t\"Quelle\" VARCHAR\n",
      ")\n",
      "\n",
      "/*\n",
      "3 rows from datensatz_drittmittel_hochschule table:\n",
      "jahr\tid\tVariable\tZeit\tHochschule\tWert\tEinheit\tQuelle\n",
      "2006\t30746\tDrittmittel vom Bund\t2006-01-01 00:00:00\tUniversität Kassel\t3965.5799999999999272404\tin Tsd. Euro\tDestatis (Sonderauswertung)\n",
      "2007\t30747\tDrittmittel vom Bund\t2007-01-01 00:00:00\tUniversität Kassel\t6274.3040000000000873115\tin Tsd. Euro\tDestatis (Sonderauswertung)\n",
      "2008\t30748\tDrittmittel vom Bund\t2008-01-01 00:00:00\tUniversität Kassel\t5980.3469999999997526174\tin Tsd. Euro\tDestatis (Sonderauswertung)\n",
      "*/\n"
     ]
    },
    {
     "name": "stderr",
     "output_type": "stream",
     "text": [
      "C:\\Users\\Hueck\\AppData\\Local\\Temp\\ipykernel_23484\\2876354156.py:5: LangChainDeprecationWarning: The method `SQLDatabase.get_table_names` was deprecated in langchain-community 0.0.1 and will be removed in 1.0. Use :meth:`~get_usable_table_names` instead.\n",
      "  db.get_table_names()\n"
     ]
    }
   ],
   "source": [
    "from langchain_community.utilities import SQLDatabase\n",
    "db = SQLDatabase.from_uri(\"duckdb:///data/magpie.db\")\n",
    "\n",
    "db = SQLDatabase.from_uri(\"duckdb:///data/drittmittel_hs.db\")\n",
    "db.get_table_names()\n",
    "print(db.get_table_info([\"datensatz_drittmittel_hochschule\"]))"
   ]
  },
  {
   "cell_type": "code",
   "execution_count": 3,
   "metadata": {},
   "outputs": [
    {
     "name": "stdout",
     "output_type": "stream",
     "text": [
      "['Hochschule Mittweida University of Applied Sciences', 'Fachhochschule Wedel', 'Hochschule der Polizei des Landes Brandenburg', 'FOM Hochschule für Oekonomie & Management gemeinnützige GmbH', 'Hochschule für Musik Carl Maria von Weber Dresden', 'International Business School of Service Management', 'Technische Universität Darmstadt', 'Bard College Berlin, a Liberal Arts University gGmbH', 'Universität Regensburg (ohne Klinikum)', 'Fachhochschule für Interkulturelle Theologie', 'MSB Medical School Berlin Hochschule für Gesundheit und Medizin', 'Hochschule RheinMain University of Applied Sciences Wiesbaden Rüsselsheim', 'Fachhochschule Südwestfalen', 'Justus-Liebig-Universität Gießen', 'Hochschule Fresenius Idstein in Hamburg', 'Universität der Bundeswehr München (FB Fachhochschulstudiengänge)', 'accadis Hochschule Bad Homburg (Priv. FH)', 'praxisHochschule Köln University of Applied Science', 'Universität Hohenheim', 'Theologische Hochschule Friedensau', 'AKAD University, Schleswig-Holstein', 'Friedrich-Alexander Universität Erlangen-Nürnberg (ohne Klinikum)', 'Bucerius Law School gGmbH Hochschule für Rechtswissenschaft', 'Hochschule des Bundes, FB Allgemeine innere Verwaltung, Brühl', 'Evangelische Hochschule Nürnberg', 'Pädagogische Hochschule Weingarten', 'Hochschule Augsburg', 'Universität Konstanz', 'Staatliche Hochschule für Musik und Darstellende Kunst Mannheim', 'Hochschule Bremerhaven', 'Hochschule Merseburg', 'IUBH Internationale Hochschule GmbH IUBH University of Applied Sciences', 'Internationale Hochschule für Wirtschaft, Technik und Kultur gGmbH', 'Psychologische Hochschule Berlin gGmbH', 'Hochschule Fresenius Idstein', 'Philipps-Universität Marburg', 'Hochschule für Bildende Künste Braunschweig', 'Internationale Hochschule Calw', 'CODE University of Applied Sciences Berlin', 'Hochschule für Musik Hanns Eisler Berlin', 'Mediadesign Hochschule für Design und Informatik GmbH', 'DHGS Deutsche Hochschule für Gesundheit & Sport', 'Fachhochschule für Sport und Management der Europäischen Sportakademie Land Brandenburg gGmbH', 'Hochschule Albstadt-Sigmaringen', 'Hochschule Hamm-Lippstadt', 'Leuphana Universität Lüneburg', 'Hochschule für internationale Wirtschaft und Logistik', 'Brand Academy Hochschule für Design und Kommunikation', 'Hochschule der Bildenden Künste Saar', 'Filmuniversität Babelsberg Konrad Wolf', 'Hochschule Worms', 'Hochschule für Musik FRANZ LISZT', 'Hochschule für Kirchenmusik Dresden', 'Touro College Berlin', 'Ludwig-Maximilians-Universität München (Klinikum)', 'Hochschule für Technik und Wirtschaft Berlin', 'Universität der Bundeswehr München (FB Universitätsstudiengänge)', 'FernUniversität in Hagen', 'Technische Hochschule Nürnberg Georg Simon Ohm', 'Nordakademie Hochschule der Wirtschaft', 'Hochschule Darmstadt University of Applied Sciences', 'Universität Bielefeld', 'Otto-von-Guericke-Universität Magdeburg (ohne Klinikum)', 'Berlin International University of Applied Sciences', 'Hochschule für Künste im Sozialen Ottersberg', 'Kunstakademie Düsseldorf', 'Universität zu Lübeck', 'Charite - Universitätsmedizin Berlin', 'Fachhochschule Westküste Hochschule für Wirtschaft & Technik', 'Fachhochschule für Verwaltung des Saarlandes', 'WHU - Otto Beisheim School of Management', 'Evangelische Hochschule Moritzburg', 'Universität Paderborn', 'Hochschule für Kirchenmusik der Evangelischen Kirche von Westfalen', 'Hochschule Hof', 'Ruprecht-Karls-Universität Heidelberg (Klinikum)', 'Universität Leipzig (Klinikum)', 'Medizinische Hochschule Hannover (MHH)', 'Hochschule für Gestaltung Schwäbisch Gmünd', 'Internationale Hochschule Liebenzell', 'Hochschule Ulm', 'Heinrich-Heine-Universität Düsseldorf (ohne Klinikum)', 'Kirchliche Hochschule Wuppertal/Bethel Hochschule für Kirche und Diakonie', 'Naturwissenschaftlich-Technische Akademie Prof. Dr. Grübler gGmbH Isny', 'Apollon Hochschule der Gesundheitswirtschaft', 'Fachhochschule Potsdam', 'DGUV Akademie Hochschule der Deutschen Gesetzlichen Unfallversicherung', 'Theologische Fakultät Paderborn Rektorat', 'Hochschule Landshut Hochschule für Angewandte Wissenschaften', 'Gustav-Siewert-Akademie', 'Hochschule für Angewandte Sprachen Sprachen & Dolmetscher Institut München', 'Barenboim-Said Akademie Berlin', 'Hochschule Koblenz', 'Hochschule Flensburg University of Applied Sciences', 'Philosophisch-Theologische Hochschule Vallendar', 'Hochschule Macromedia für angewandte Wissenschafte (ehem. MHMK) University of Applied Sciences, Baden-Württemberg', 'Universität Augsburg (ohne Klinikum)', 'Fliedner Fachhochschule Düsseldorf', 'Berufsakademie Hamburg', 'Robert-Schumann-Hochschule', 'Fachhochschule Bielefeld', 'Wilhelm Löhe Hochschule (WLH)', 'Westfälische Wilhelms-Universität Münster (ohne Klinikum)', 'Akademie der Polizei Hamburg', 'Katholische Stiftungshochschule München', 'SRH Hochschule Berlin', 'Katholische Hochschule für Soziale Arbeit', 'Katholische Hochschule für Sozialwesen Berlin', 'UNIKIMS - die Management School der Universität Kassel', 'NBS Northern Business School', 'Fachhochschule Clara Hoffbauer Potsdam', 'Hochschule Trier Trier University of Applied Sciences', 'Hochschule Mannheim', 'Fachhochschule für Forstwirtschaft', 'Hochschule Bremen', 'Universität Osnabrück', 'Hochschule der Sächsischen Polizei (FH)', 'Evangelische Fachhochschule Hannover', 'Technische Hochschule Deggendorf', 'Universität Erfurt', 'Universitätsklinikum Gießen und Marburg, Abt. Gießen', 'Heinrich-Heine-Universität Düsseldorf (Klinikum)', 'Hochschule für Philosophie München', 'Norddeutsche Hochschule für Rechtspflege, Hildesheim', 'Eberhard Karls Universität Tübingen (ohne Klinikum)', 'Staatliche Hochschule für Gestaltung', 'Ruprecht-Karls-Universität Heidelberg (ohne Klinikum)', 'SRH Hochschule Heidelberg', 'Freie Universität Berlin', 'Hertie School of Governance GmbH', 'BiTS Business and Information Technology School gGmbH Campus Iserlohn', 'Dresden International University GmbH', 'Friedrich-Schiller-Universität Jena (ohne Klinikum)', 'Hochschule für internationales Management Heidelberg', 'Cusanus Hochschule gGmbH', 'Universität der Künste Berlin', 'International School of Management', 'Martin-Luther-Universität Halle-Wittenberg (Klinikum)', 'Hessische Hochschule für Polizei und Verwaltung Wiesbaden', 'Ostbayerische Technische Hochschule Regensburg (OTH)', 'DIPLOMA Private Hochschulgesellschaft mbH', 'Fachhochschule für die Wirtschaft Hannover (FHDW)', 'Universität Greifswald (ohne Klinikum)', 'Kommunale Hochschule für Verwaltung in Niedersachsen, Hannover', 'Fachhochschule der Diakonie', 'Fachhochschule Aachen', 'Vitruvius Hochschule Leipzig', 'Pädagogische Hochschule Heidelberg', 'Technische Universität Dresden (Klinikum)', 'Universität Bremen', 'Universität des Saarlandes', 'Vogtländische Fachhochschule Plauen', 'Hochschule Bonn-Rhein-Sieg', 'Hochschule für Musik Saar', 'Hochschule des Bundes, FB Akademie Auswärtige Angelegenheiten in Berlin', 'Hochschule Ostwestfalen-Lippe', 'Burg Giebichenstein Kunsthochschule Halle', 'Hochschule und Institut für ev. Kirchenmusik Bayreuth', 'Kunsthochschule für Medien', 'Hochschule Ludwigshafen am Rhein University of Applied Sciences', 'Hochschule für Musik, Theater und Medien Hannover', 'Katholische Universität Eichstätt-Ingolstadt', 'Berliner Technische Kunsthochschule', 'Hochschule der Bayerischen Wirtschaft (HDBW) gGmbH', 'Hochschule Bochum', 'Europa-Universität Viadrina', 'Philosophisch-Theologische Hochschule Theologische Fakultät Sankt Augustin', 'Technische Hochschule Brandenburg', 'HAWK Hochschule für angewandte Wissenschaft und Künste (Hildesheim/Holzminden/Göttingen)', 'Jade Hochschule Wilhelmshaven/Oldenburg/Elsfleth', 'SRH Hochschule Calw', 'Hochschule der Polizei Rheinland-Pfalz in Büchenbeuren', 'Hochschule Ansbach', 'Weißensee Kunsthochschule Berlin', 'DEKRA Hochschule Berlin', 'EBC Hochschule Campus Hamburg', 'Martin-Luther-Universität Halle-Wittenberg (ohne Klinikum)', 'Deutsche Hochschule für Prävention und Gesundheitsmanagement GmbH', 'Hochschule der Sparkassen-Finanzgruppe University of Applied Sciences - Bonn', 'Hochschule Ravensburg-Weingarten', 'Deutsche Sporthochschule Köln', 'Hochschule Konstanz Technik, Wirtschaft und Gestaltung', 'AKAD, Wissenschaftliche Hochschule Lahr (Priv. Fern-H für Berufstätige)', 'SRH Hochschule für Logistik und Wirtschaft Hamm', 'Hochschule Hannover', 'Merz Akademie, Hochschule für Gestaltung, Kunst und Medien Stuttgart', 'Universität Greifswald Medizinische Fakultät', 'Hochschule Biberach', 'Fachhochschule für öffentliche Verwaltung Kehl', 'HMKW Hochschule für Medien, Kommunikation und Wirtschaft', 'Hochschule Heilbronn Technik, Wirtschaft, Informatik', 'Hochschule Zittau/Görlitz (FH)', 'Hochschule für bildende Künste (HFBK)', 'Hochschule Fresenius Idstein in München', 'Hochschule Rhein-Waal', 'Technische Hochschule Georg Agricola für Rohstoff, Energie und Umwelt Bochum', 'Technische Universität Bergakademie Freiberg', 'AMD Akademie Mode & Design', 'Bauhaus-Universität Weimar', 'Hochschule für Schauspielkunst \"Ernst Busch\"', 'Technische Universität München (ohne Klinikum)', 'Hochschule für Musik Karlsruhe', 'Hochschule Fresenius Idstein in Köln', 'Steinbeis-Hochschule-Berlin DUW Institut für Weiterbildung', 'Universitätsklinikum Gießen und Marburg, Abt. Marburg', 'Theologisches Seminar Elstal', 'International Psychoanalytic University Berlin gGmbH', 'Hochschule für Künste Bremen', 'Hochschule für Musik und Theater', 'SRH Hochschule der populären Künste', 'Eberhard Karls Universität Tübingen (Klinikum)', 'Universität Rostock (ohne Klinikum)', 'Jacobs University Bremen gGmbH', 'Folkwang Universität der Künste', 'Hochschule für Musik und Darstellende Kunst Frankfurt am Main', 'Fachhochschule Münster', 'Staatliche Fachhochschule für Polizei Villingen-Schwenningen', 'Hochschule Reutlingen', 'Technische Universität Dortmund', 'Ostbayerische Technische Hochschule Amberg-Weiden (OTH)', 'Duale Hochschule Gera-Eisenach', 'Fachhochschule Lübeck', 'Staatliche Akademie der Bildenden Künste Stuttgart', 'Universität Passau', 'Hochschule des Bundes, FB Landwirtschaftliche Sozialversicherung in Kassel', 'Mathias Hochschule in Rheine', 'Universität Bayreuth', 'Hochschule Rosenheim', 'Hochschule für Grafik und Buchkunst Leipzig', 'Private Hochschule für Wirtschaft und Technik', 'Augustana-Hochschule Neuendettelsau', 'Munich Business School GmbH', 'HTWK Leipzig Hochschule für Technik, Wirtschaft und Kultur Leipzig', 'Universität Mannheim', 'Goethe-Universität Frankfurt am Main (Klinikum)', 'HafenCity Universität Hamburg Universität für Baukunst und Metropolenentwicklung', 'RWTH Aachen (Klinikum)', 'IB-Hochschule Berlin', 'Hochschule für Musik Freiburg i. Br.', 'Hochschule  gGmbH', 'Norddeutsche Akademie für Finanzen und Steuerrecht Hamburg', 'Hochschule für öffentliche Verwaltung Bremen', 'Quadriga Hochschule Berlin GmbH', 'Hochschule Esslingen', 'Baltic College', 'Hochschule für Technik und Wirtschaft Dresden', 'Albert-Ludwigs-Universität Freiburg (ohne Klinikum)', 'Evangelische Hochschule Freiburg', 'Hochschule für Rechtspflege Schwetzingen', 'SRH Fachhochschule für Gesundheit Gera gGmbH University of Applied Science', 'Evangelische Fachhochschule Ludwigshafen', 'Ostfalia Hochschule für angewandte Wissenschaften Hochschule Braunschweig/Wolfenbüttel', 'Evangelische Hochschule für soziale Arbeit und Diakonie', 'Julius-Maximilians-Universität Würzburg (ohne Klinikum)', 'Technische Universität Chemnitz', 'BSP Business School Berlin Hochschule für Management', 'Hochschule der Deutschen Bundesbank Hachenburg', 'Humboldt-Universität zu Berlin', 'Evangelische Hochschule Tabor', 'Hochschule für Technik und Wirtschaft des Saarlandes', 'Leibniz Universität Hannover', 'HHL Leipzig Graduate School of Management', 'Alice Salomon Hochschule Berlin', 'Hochschule Weserbergland', 'Akademie der Bildenden Künste', 'KÜHNE Logistik Universität Wissenschaftliche Hochschule für Logistik und Unternehmensführung', 'Europa-Universität Flensburg', 'Alanus Hochschule gGmbH', 'Universität Trier', 'Georg-August-Universität Göttingen (ohne Klinikum)', 'Hamburger Fern-Hochschule gGmbH', 'AKAD University, Sachsen', 'Internationales Hochschulinstitut Zittau', 'Rheinische Fachhochschule Köln gGmbH', 'Frankfurt School of Finance & Management gGmbH', 'Hochschule Neubrandenburg', 'Akademie der Bildenden Künste München', 'Technische Universität Ilmenau', 'Hochschule Fulda', 'Evangelische Fachhochschule Rheinland-Westfalen-Lippe', 'Hochschule für Musik und Theater München', 'BHH Berufliche Hochschule Hamburg', 'Hochschule Meißen (FH) und Fortbildungszentrum', 'Hochschule Ludwigsburg für öffentliche Verwaltung und Finanzen', 'German open Business School - HS für Wirtschaft und Verwaltung Berlin (Priv- FH)', 'Hessische Hochschule für Finanzen und Rechtspflege Rotenburg', 'Cologne Business School (CBS) European University of Applied Sciences', 'Europäische Fachhochschule Rhein/Erft', 'Westfälische Wilhelms-Universität Münster (Klinikum)', 'IST-Hochschule für Management GmbH', 'Brandenburgische Technische Universität Cottbus-Senftenberg', 'Fachhochschule für Verwaltung und Rechtspflege Berlin', 'Fachhochschule Oldenburg/Ostfriesland/Wilhelmshaven', 'Ernst-Abbe-Hochschule Jena Hochschule für angewandte Wissenschaften', 'Philosophisch-Theologische Hochschule', 'Hochschule für Musik Detmold', 'Hochschule des Bundes, FB Wetterdienst in Langen', 'Hochschule Esslingen University of Applied Sciences', 'UMC POTSDAM -University of Management and Communication (FH) gGmbH', 'Hochschule Mainz University of Applied Sciences', 'Hochschule Weihenstephan-Triesdorf', 'Universität Stuttgart', 'Carl von Ossietzky Universität Oldenburg', 'Hochschule für Musik und Theater Rostock', 'Fachhochschule für Finanzen Brandenburg', 'Theologische Fakultät Fulda', 'Theologische Hochschule Reutlingen Staatlich anerkannte Fachhochschule der Evangelisch-methodistische Kirche', 'GGS German Graduate School of Management and Law gGmbH', 'Otto-Friedrich-Universität Bamberg', 'Universität Rostock Medizinische Fakultät', 'Albert-Ludwigs-Universität Freiburg (Klinikum)', 'Hochschule Harz Hochschule für angewandte Wissenschaften (FH)', 'Private Universität Witten/Herdecke gGmbH (ohne Klinikum)', 'BEST-Sabel-Hochschule Berlin', 'Palucca Hochschule für Tanz Dresden', 'Technische Universität Hamburg-Harburg', 'Universität zu Köln (ohne Klinikum)', 'EBC Hochschule Campus Düsseldorf', 'Otto-von-Guericke-Universität Magdeburg (Klinikum)', 'Esmod Berlin Internationale Kunsthochschule für Mode', 'Bergische Universität Wuppertal', 'Musikhochschule Lübeck', 'Hochschule Magdeburg-Stendal', 'EBC Hochschule Campus Dresden', 'Universität Ulm (ohne Klinikum)', 'Technische Hochschule Wildau (FH)', 'Hochschule Anhalt', 'Edenkoben, Hochschule für Finanzen Rheinland-Pfalz', 'Technische Hochschule Köln', 'Hochschule für Gesundheitsorientierte Wissenschaften Rhein-Neckar (HGWR)', 'Universität Greifswald (Klinikum)', 'Hochschule für angewandte Pädagogik', 'Johannes Gutenberg-Universität Mainz', 'Universität Vechta', 'Pädagogische Hochschule Schwäbisch Gmünd', 'Niedersächsische Fachhochschule für Verwaltung und Rechtspflege', 'Hochschule Offenburg', 'FH KUNST Arnstadt', 'Private Fachhochschule Döpfer für Physiotherapie und Ergotherapie', 'Universität Koblenz-Landau', 'Hochschule für Kommunikation und Gestaltung', 'Kunstakademie Münster Hochschule für Bildende Künste', 'Hochschule Schmalkalden', 'International University in Germany', 'Hochschule Osnabrück', 'Europäische Fernhochschule Hamburg GmbH', 'Evangelische Hochschule Berlin', 'Fachhochschule Dortmund', 'DPFA Hochschule Sachsen', 'Pädagogische Hochschule Ludwigsburg', 'Private Universität Witten/Herdecke gGmbH (Klinikum)', 'Hochschule des Bundes, FB Finanzen, Münster', 'Hochschule der bildenden Künste (HBK) Essen', 'Hochschule für nachhaltige Entwicklung Eberswalde - HNEE', 'design akademie berlin Hochschule für Kommunikation und Design', 'Hochschule Niederrhein', 'Zeppelin Universität gemeinnützige GmbH', 'Ruprecht-Karls-Universität Heidelberg  Medizinische Fakultät Mannheim', 'Katholische Hochschule Nordrhein-Westfalen Catholic University of Applied Sciences', 'Wilhelm Büchner Hochschule', 'Technische Universität Clausthal', 'Hochschule für Jüdische Studien', 'Christian-Albrechts-Universität zu Kiel', 'Universität der Bundeswehr München', 'Universität des Saarlandes Medizinische Fakultät', 'Deutsche Universität für Weiterbildung', 'Medizinische Hochschule Brandenburg Theodor Fontane (MHB)', 'Deutsche Hochschule der Polizei', 'Akademie für digitale Medienproduktion', 'Hochschule der Wirtschaft für Management gGmbH', 'Staatliche Hochschule für Musik und Darstellende Kunst', 'media Akademie – Hochschule Stuttgart', 'Hochschule Emden/Leer', 'Hochschule für Musik und Theater \"Felix Mendelssohn Bartholdy\" Leipzig', 'DBU Digital Business University of Applied Sciences GmbH', 'Hochschule für Angewandte Wissenschaften Neu-Ulm', 'Helmut-Schmidt-Universität Universität der Bundeswehr Hamburg', 'Hochschule für Musik Nürnberg', 'Staatliche Akademie der Bildenden Künste', 'bbw Hochschule', 'Frankfurt University of Applied Sciences', 'CVJM-Hochschule', 'Hochschule für Fernsehen und Film München', 'Hochschule für Gestaltung Offenbach am Main', 'Fachhochschule im Deutschen Roten Kreuz', 'Rheinische Fachhochschule Neuss für Internationale Wirtschaft', 'Technische Universität Berlin', 'Staatliche Hochschule für Bildende Künste (Städelschule)', 'Evangelische Fachhochschule Darmstadt University of Applied Sciences', 'Universität Regensburg (Klinikum)', 'Fachhochschule für Rechtspflege Nordrhein-Westfalen', 'Evangelische Hochschule für Kirchenmusik', 'Fachhochschule des Mittelstandes (FHM)', 'Friedrich-Schiller-Universität Jena (Klinikum)', 'Julius-Maximilians-Universität Würzburg (Klinikum)', 'Karlsruher Institut für Technologie', 'Fachhochschule der Wirtschaft Nordrhein-Westfalen gGmbH', 'Universität zu Köln (Klinikum)', 'Friedrich-Alexander Universität Erlangen-Nürnberg (Klinikum)', 'Technische Universität Braunschweig', 'Hochschule der Sächsischen Polizei', 'Deutsche Universität für Verwaltungswissenschaften Speyer', 'Hochschule Fresenius Idstein in Berlin', 'Fachhochschule Schwäbisch Hall', 'Hochschule Kaiserslautern', 'Ludwig-Maximilians-Universität München (ohne Klinikum)', 'MSH Medical School Hamburg Fachhochschule für Gesundheit und Medizin', 'Staats- und Universitätsbibliothek Hamburg Carl von Ossietzky', 'Hochschule Coburg Hochschule für Angewandte Wissenschaften', 'Hochschule für Telekommunikation Leipzig', 'Freie Theologische Hochschule Gießen', 'Fachhochschule Erfurt', 'Fachhochschule des Mittelstands (FHM) Bamberg', 'Universität Kassel', 'Hochschule Ruhr West', 'Hochschule Macromedia für angewandte Wissenschafte (ehem. MHMK) University of Applied Sciences, Bayern', 'Katholische Hochschule Freiburg Catholic University of Applied Sciences', 'Fachhochschule für Verwaltung und Dienstleistung Altenholz', 'Universität Ulm (Klinikum)', 'Universität Rostock (Klinikum)', 'Hochschule Stralsund', 'EBZ Business School University of Applied Sciences', 'Goethe-Universität Frankfurt am Main (ohne Klinikum)', 'Universität Siegen', 'VWA-Hochschule für berufsbegleitendes Studium', 'Fachhochschule für öffentliche Verwaltung, Polizei und Rechtspflege in Güstrow', 'Hochschule für Wirtschaft und Umwelt Nürtingen-Geislingen (HfWU)', 'Hochschule Aalen', 'Hochschule Pforzheim', 'Hochschule für angewandtes Management GmbH', 'Georg-August-Universität Göttingen (Klinikum)', 'Freie Hochschule Stuttgart Seminar für Waldorfpädagogik', 'Hochschule der Medien', 'RWTH Aachen (ohne Klinikum)', 'Hochschule Düsseldorf', 'HMU Health and Medical University Potsdam', 'Muthesius-Kunsthochschule', 'Hochschule für Kunsttherapie Nürtingen', 'Private Hanseuniversität', 'Fachhochschule für öffentliche Verwaltung NRW', 'Hochschule Karlsruhe Technik und Wirtschaft', 'Katholische Hochschule Mainz', 'Hochschule Wismar University of Applied Sciences Technology, Business and Design', 'Technische Universität Dresden (ohne Klinikum)', 'Stiftung Universität Hildesheim', 'Internationale Karlshochschule', 'Universitätsklinikum Schleswig-Holstein', 'Evangelische Hochschule für Soziale Arbeit Dresden (FH)', 'Fachhochschule Kiel', 'Hochschule für öffentliche Verwaltung Rheinland-Pfalz, Mayen', 'Hochschule Furtwangen University of Applied Sciences', 'Universität Duisburg-Essen  (ohne Klinikum)', 'Hochschule für Kirchenmusik der Evangelischen Kirche der schlesischen Oberlausitz', 'GA Hochschule der digitalen Gesellschaft', 'EBC Hochschule Campus Berlin', 'Hochschule Lausitz (FH), University of Applied Sciences', 'Hochschule für Forstwirtschaft Rottenburg', 'Hochschule für angewandte Wissenschaften München', 'Thüringer Fachhochschule für öffentliche Verwaltung Gotha', 'Pädagogische Hochschule Karlsruhe', 'Staatliche Hochschule für Musik', 'Hochschule für den öffentlichen Dienst in Bayern', 'Universität Ausgburg (Klinikum)', 'Technische Hochschule Bingen', 'Fachhochschule Kempten Hochschule für angewandte Wissenschaften', 'Provadis School of International Management and Technology AG', 'Universitätsmedizin der Johannes Gutenberg-Universität Mainz', 'Ruhr-Universität Bochum (Klinikum)', 'Pädagogische Hochschule Freiburg', 'ESMT European School of Management and Technology GmbH', 'Hochschule für Angewandte Wissenschaften Hamburg', 'Rheinische Friedrich-Wilhelms- Universität Bonn (Klinikum)', 'Lutherische Theologische Hochschule', 'PFH Private Hochschule Göttingen', 'Duale Hochschule Baden-Württemberg', 'Akkon-Hochschule für Humanwissenschaften', 'Theologische Hochschule Ewersbach Kronberg-Forum', 'Ruhr-Universität Bochum (ohne Klinikum)', 'Kirchliche Hochschule Bethel', 'Hochschule für Gesundheit University of Applied Sciences', 'Hochschule Nordhausen University of Applied Sciences', 'Technische Hochschule Ingolstadt', 'EBS Universität für Wirtschaft und Recht', 'Hochschule Aschaffenburg', 'Technische Universität München (Klinikum)', 'Westsächsische Hochschule Zwickau', 'Philosophisch-Theologische Hochschule Sankt Georgen', 'Hochschule für angewandte Wissenschaften Würzburg-Schweinfurt', 'Beuth Hochschule für Technik Berlin', 'Hochschule für Bildende Künste Dresden', 'Internationale Hochschule für Exekutives Management', 'Hochschule Geisenheim University', 'Technische Universität Kaiserslautern', 'HSBA Hamburg School of Business Administration', 'Hochschule des Bundes, FB Bundeswehrverwaltung, Mannheim', 'Universität Duisburg-Essen  (Klinikum)', 'Adam-Ries-Fachhochschule', 'Hochschule des Bundes, FB Arbeitsverwaltung, Mannheim', 'Hochschule für Wirtschaft und Recht Berlin', 'Hochschule der Bundesagentur für Arbeit', 'Leibniz-Fachhochschule School of Business', 'Fachhochschule für Archivwesen Marburg', 'Hochschule für Musik und Tanz Köln', 'ESCP Europe Wirtschaftshochschule Berlin', 'Technische Hochschule Mittelhessen', 'Theologische Fakultät Trier', 'Universität Potsdam', 'Fachhochschule Dresden Staatlich anerkannte Hochschule University of Applied Sciences', 'Hochschule für Technik Stuttgart', 'Hochschule des Bundes, FB Sozialversicherung in Berlin', 'HSD Hochschule Döpfer GmbH', 'Universität Hamburg (Klinikum)', 'Universität Leipzig (ohne Klinikum)', 'Hochschule des Bundes, FB Bundespolizei, Lübeck', 'Stiftung Tierärztliche Hochschule Hannover', 'Philosophisch-Theologische Hochschule Benediktbeuern', 'Rheinische Friedrich-Wilhelms- Universität Bonn (ohne Klinikum)', 'Hochschule für Musik Würzburg', 'Fachhochschule für Finanzen Nordrhein-Westfalen', 'SRH FernHochschule - The Mobile University', 'Universität Hamburg (ohne Klinikum)', 'Hochschule für Katholische Kirchenmusik und Musikpädagogik', 'Westfälische Hochschule', 'Evangelische Hochschule Ludwigsburg', 'Hochschule für Politik München Bavarian School of Public Policy']\n"
     ]
    }
   ],
   "source": [
    "import ast\n",
    "import re\n",
    "\n",
    "\n",
    "def query_as_list(db, query):\n",
    "    res = db.run(query)\n",
    "    res = [el for sub in ast.literal_eval(res) for el in sub if el]\n",
    "    res = [re.sub(r\"\\b\\d+\\b\", \"\", string).strip() for string in res]\n",
    "    return list(set(res))\n",
    "\n",
    "\n",
    "Variable = query_as_list(db, \"SELECT Variable FROM datensatz_drittmittel_hochschule \")\n",
    "Hochschule = query_as_list(db, \"SELECT Hochschule FROM datensatz_drittmittel_hochschule \")\n",
    "\n",
    "print(Hochschule)"
   ]
  },
  {
   "cell_type": "markdown",
   "metadata": {},
   "source": [
    "Mit dieser Funktion können wir ein Retriever-Tool erstellen, das der Bot nach eigenem Ermessen ausführen kann.\n",
    "\n",
    "Wählen wir für diesen Schritt ein Embeddingmodel und einen Vektorspeicher aus:"
   ]
  },
  {
   "cell_type": "code",
   "execution_count": 4,
   "metadata": {},
   "outputs": [
    {
     "name": "stdout",
     "output_type": "stream",
     "text": [
      "Using device: cuda\n",
      "NVIDIA GeForce RTX 4060 Ti\n"
     ]
    },
    {
     "name": "stderr",
     "output_type": "stream",
     "text": [
      "C:\\Users\\Hueck\\AppData\\Local\\Temp\\ipykernel_23484\\2039575610.py:11: LangChainDeprecationWarning: The class `HuggingFaceEmbeddings` was deprecated in LangChain 0.2.2 and will be removed in 1.0. An updated version of the class exists in the :class:`~langchain-huggingface package and should be used instead. To use it run `pip install -U :class:`~langchain-huggingface` and import as `from :class:`~langchain_huggingface import HuggingFaceEmbeddings``.\n",
      "  embeddings = HuggingFaceEmbeddings(\n",
      "c:\\Users\\Hueck\\miniconda3\\envs\\RAG_retriever\\lib\\site-packages\\tqdm\\auto.py:21: TqdmWarning: IProgress not found. Please update jupyter and ipywidgets. See https://ipywidgets.readthedocs.io/en/stable/user_install.html\n",
      "  from .autonotebook import tqdm as notebook_tqdm\n",
      "C:\\Users\\Hueck\\AppData\\Local\\Temp\\ipykernel_23484\\2039575610.py:17: LangChainDeprecationWarning: The class `Chroma` was deprecated in LangChain 0.2.9 and will be removed in 1.0. An updated version of the class exists in the :class:`~langchain-chroma package and should be used instead. To use it run `pip install -U :class:`~langchain-chroma` and import as `from :class:`~langchain_chroma import Chroma``.\n",
      "  vector_store = Chroma(embedding_function=embeddings)\n"
     ]
    }
   ],
   "source": [
    "from langchain.embeddings import HuggingFaceEmbeddings\n",
    "from langchain.vectorstores import Chroma\n",
    "import torch\n",
    "\n",
    "# Überprüfen, ob eine GPU verfügbar ist\n",
    "device = \"cuda\" if torch.cuda.is_available() else \"cpu\"\n",
    "print(f\"Using device: {device}\")\n",
    "print(torch.cuda.get_device_name(0))\n",
    "# Modell laden und auf die GPU verschieben\n",
    "# Specify the device in model_kwargs\n",
    "embeddings = HuggingFaceEmbeddings(\n",
    "    model_name=\"intfloat/multilingual-e5-base\", \n",
    "    model_kwargs={\"device\": device}\n",
    ")\n",
    "\n",
    "# Chroma Vektorspeicher initialisieren\n",
    "vector_store = Chroma(embedding_function=embeddings)"
   ]
  },
  {
   "cell_type": "markdown",
   "metadata": {},
   "source": [
    "Wir können nun ein Suchwerkzeug konstruieren, das die relevanten Eigennamen in der Datenbank durchsucht:"
   ]
  },
  {
   "cell_type": "code",
   "execution_count": 5,
   "metadata": {},
   "outputs": [],
   "source": [
    "from langchain.agents.agent_toolkits import create_retriever_tool\n",
    "\n",
    "_ = vector_store.add_texts(Variable + Hochschule)\n",
    "retriever = vector_store.as_retriever(search_kwargs={\"k\": 5})\n",
    "description = (\n",
    "    \"Use to find proper nouns and their correct spellings. Input is an approximate spelling \"\n",
    "    \"of the proper noun, output is the closest valid proper noun. Use the noun most similar to the search.\"\n",
    ")\n",
    "retriever_tool = create_retriever_tool(\n",
    "    retriever,\n",
    "    name=\"search_proper_nouns\",\n",
    "    description=description,\n",
    ")"
   ]
  },
  {
   "cell_type": "code",
   "execution_count": 12,
   "metadata": {},
   "outputs": [
    {
     "name": "stdout",
     "output_type": "stream",
     "text": [
      "Freie Universität Berlin\n",
      "\n",
      "Technische Universität Berlin\n",
      "\n",
      "Universität der Künste Berlin\n",
      "\n",
      "IB-Hochschule Berlin\n",
      "\n",
      "Hochschule des Bundes, FB Sozialversicherung in Berlin\n"
     ]
    }
   ],
   "source": [
    "print(retriever_tool.invoke(\"fu berlin\"))"
   ]
  },
  {
   "cell_type": "code",
   "execution_count": 7,
   "metadata": {},
   "outputs": [],
   "source": [
    "from langchain_core.prompts import PromptTemplate\n",
    "from langchain_core.runnables import RunnablePassthrough\n",
    "from operator import itemgetter\n",
    "from langchain_community.tools.sql_database.tool import QuerySQLDataBaseTool\n",
    "from langchain_core.output_parsers import StrOutputParser\n",
    "from langchain.chains import create_sql_query_chain\n",
    "\n",
    "def get_sql_chain(llm, db, table_info, retriever_tool, top_k=10):\n",
    "    template = f\"\"\"Given an input question, first create a syntactically\n",
    "    correct SQL query to run in {db.dialect}, then look at the results of the\n",
    "    query and return the answer to the input question.\n",
    "\n",
    "    Unless otherwise specified, do not return more than {{top_k}} rows.\n",
    "\n",
    "    Never query for all columns from a table. You must query only the\n",
    "    columns that are needed to answer the question. Wrap each column name\n",
    "    in double quotes (\") to denote them as delimited identifiers.\n",
    "\n",
    "    Pay attention to use only the column names present in the tables\n",
    "    below. Be careful to not query for columns that do not exist. Also, pay\n",
    "    attention to which column is in which table. Query only the columns you\n",
    "    need to answer the question.\n",
    "\n",
    "    If a filter value or variable category is required, include it in the \n",
    "    WHERE clause, and combine multiple filter criteria (if applicable) \n",
    "    using AND or OR as appropriate. Use the retriever_tool.\n",
    "\n",
    "    Here is the schema for the database:\n",
    "    {{table_info}}\n",
    "\n",
    "    Additional info: {{input}}\n",
    "\n",
    "    Return only the SQL query such that your response could be copied\n",
    "    verbatim into the SQL terminal.\n",
    "    \"\"\"\n",
    "\n",
    "    prompt = PromptTemplate.from_template(template)\n",
    "\n",
    "    def validate_values(question, retriever_tool):\n",
    "        \"\"\"\n",
    "        Validate and enrich the input question by using the retriever tool\n",
    "        to check for valid variable values or categories.\n",
    "        \"\"\"\n",
    "        extracted_values = retriever_tool.run(question)\n",
    "        if extracted_values:\n",
    "            print(\"Validated values:\", extracted_values)\n",
    "        return extracted_values or question  # Fallback to original question if no match is found\n",
    "\n",
    "    sql_chain = create_sql_query_chain(llm, db, prompt)\n",
    "\n",
    "    return sql_chain, validate_values\n",
    "\n",
    "def natural_language_chain(question, llm, db, retriever_tool):\n",
    "    table_info = db.get_table_info()\n",
    "    sql_chain, validate_values = get_sql_chain(llm, db, table_info=table_info, retriever_tool=retriever_tool)\n",
    "\n",
    "    # Validate or enrich the question with proper variable values\n",
    "    validated_question = validate_values(question, retriever_tool)\n",
    "\n",
    "    template = f\"\"\"\n",
    "        You are a chatbot named Sparklehorse created. Based on the table schema given below, the SQL query and the SQL response, enter an answer\n",
    "        that corresponds exactly to the language of the user's question. Think carefully and make sure that your answer is precise and easy to understand.\n",
    "\n",
    "        SQL Query: {{query}}\n",
    "        User question: {{question}}\n",
    "        SQL Response: {{response}}\n",
    "        \"\"\"\n",
    "\n",
    "    prompt = PromptTemplate.from_template(template)\n",
    "\n",
    "    # Create the intermediate chain to extract SQL query\n",
    "    intermediate_chain = RunnablePassthrough.assign(query=sql_chain)\n",
    "\n",
    "    # Get the SQL query\n",
    "    intermediate_result = intermediate_chain.invoke({\"question\": validated_question})\n",
    "    sql_query = intermediate_result[\"query\"]\n",
    "\n",
    "    # Debug: Print the SQL query\n",
    "    print(\"Generated SQL Query for Debugging:\")\n",
    "    print(sql_query)\n",
    "\n",
    "    # Continue with the full chain execution\n",
    "    chain = (\n",
    "        intermediate_chain.assign(\n",
    "            response=itemgetter(\"query\") | QuerySQLDataBaseTool(db=db)\n",
    "        )\n",
    "        | prompt\n",
    "        | llm\n",
    "        | StrOutputParser()\n",
    "    )\n",
    "\n",
    "    response = chain.invoke({\"question\": validated_question})\n",
    "\n",
    "    print(response)\n",
    "\n",
    "    return response"
   ]
  },
  {
   "cell_type": "code",
   "execution_count": 8,
   "metadata": {},
   "outputs": [],
   "source": [
    "from langchain_ollama import ChatOllama\n",
    "import re\n",
    "\n",
    "llm = ChatOllama(\n",
    "    model=\"llama3.1:8b-instruct-q4_0\",\n",
    "    temperature=0,\n",
    "    server_url=\"http://127.0.0.1:11434\",\n",
    ")"
   ]
  },
  {
   "cell_type": "code",
   "execution_count": 9,
   "metadata": {},
   "outputs": [
    {
     "name": "stdout",
     "output_type": "stream",
     "text": [
      "Validated values: Drittmittel von Gemeinden und Zweckverbänden\n",
      "\n",
      "Drittmittel von Hochschulfördergesellschaften\n",
      "\n",
      "Drittmittel von Stiftungen\n",
      "\n",
      "Drittmittel vom Bund\n",
      "\n",
      "Drittmittel von der Bundesanstalt für Arbeit\n",
      "Generated SQL Query for Debugging:\n",
      "To answer the question \"What are the Drittmittel from the Bund for Universität Kassel in 2006?\", I will create a syntactically correct SQL query to run in duckdb.\n",
      "\n",
      "```sql\n",
      "SELECT \n",
      "    \"Variable\", \n",
      "    \"Wert\" \n",
      "FROM \n",
      "    datensatz_drittmittel_hochschule \n",
      "WHERE \n",
      "    \"Hochschule\" = 'Universität Kassel' AND \"Zeit\" LIKE '%2006-01-01%' AND \"Variable\" = 'Drittmittel vom Bund';\n",
      "```\n",
      "\n",
      "This query selects the \"Variable\" and \"Wert\" columns from the datensatz_drittmittel_hochschule table where the \"Hochschule\" is 'Universität Kassel', the \"Zeit\" is in 2006, and the \"Variable\" is 'Drittmittel vom Bund'.\n",
      "To answer your question about Drittmittel from the Bund for Universität Kassel in 2006, I would need to create a similar SQL query. However, since you're asking about different types of Drittmittel, I'll modify the query accordingly.\n",
      "\n",
      "You want to know about \"Drittmittel von Gemeinden und Zweckverbänden\", which translates to \"third-party funding from municipalities and associations\". Here's the modified SQL query:\n",
      "\n",
      "```sql\n",
      "SELECT \n",
      "    \"Variable\", \n",
      "    \"Wert\" \n",
      "FROM \n",
      "    datensatz_drittmittel_hochschule \n",
      "WHERE \n",
      "    \"Hochschule\" = 'Universität Kassel' AND \"Zeit\" LIKE '%2006-01-01%' AND \"Variable\" = 'Drittmittel von Gemeinden und Zweckverbänden';\n",
      "```\n",
      "\n",
      "This query will select the \"Variable\" and \"Wert\" columns from the datensatz_drittmittel_hochschule table where the \"Hochschule\" is 'Universität Kassel', the \"Zeit\" is in 2006, and the \"Variable\" is specifically related to Drittmittel from municipalities and associations.\n"
     ]
    }
   ],
   "source": [
    "_ = natural_language_chain('Wie hoch waren die Drittmittel von Gemeinden der Uni Kassel nur im Jahr 2010?', llm, db,retriever_tool )"
   ]
  },
  {
   "cell_type": "code",
   "execution_count": 25,
   "metadata": {},
   "outputs": [],
   "source": [
    "result = SQLDatabase.from_uri(\"duckdb:///data/drittmittel_hs.db\").run(\"\"\"\n",
    "    SELECT \"Hochschule\", \"Wert\"\n",
    "    FROM datensatz_drittmittel_hochschule\n",
    "    WHERE \"Variable\" = 'Drittmittel vom Bund'\n",
    "      AND \"Hochschule\" = 'Universität Kassel'\n",
    "    ORDER BY \"Wert\" DESC\n",
    "    LIMIT 5;\n",
    "\"\"\")"
   ]
  },
  {
   "cell_type": "code",
   "execution_count": null,
   "metadata": {},
   "outputs": [],
   "source": [
    "print(result)"
   ]
  }
 ],
 "metadata": {
  "kernelspec": {
   "display_name": "RAG_retriever",
   "language": "python",
   "name": "python3"
  },
  "language_info": {
   "codemirror_mode": {
    "name": "ipython",
    "version": 3
   },
   "file_extension": ".py",
   "mimetype": "text/x-python",
   "name": "python",
   "nbconvert_exporter": "python",
   "pygments_lexer": "ipython3",
   "version": "3.9.21"
  }
 },
 "nbformat": 4,
 "nbformat_minor": 2
}
