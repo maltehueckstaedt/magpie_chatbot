{
 "cells": [
  {
   "cell_type": "markdown",
   "metadata": {},
   "source": [
    "# Gen Retriever\n",
    "\n",
    "## Einführung\n"
   ]
  },
  {
   "cell_type": "code",
   "execution_count": 1,
   "metadata": {},
   "outputs": [],
   "source": [
    "import os\n",
    "\n",
    "# Aktuelles Arbeitsverzeichnis ermitteln\n",
    "os.getcwd()\n",
    "os.chdir(\"c:/Users/Hueck/OneDrive/Dokumente/GitHub/magpie_langchain\")"
   ]
  },
  {
   "cell_type": "code",
   "execution_count": 2,
   "metadata": {},
   "outputs": [
    {
     "name": "stderr",
     "output_type": "stream",
     "text": [
      "c:\\Users\\Hueck\\miniconda3\\envs\\RAG_retriever\\lib\\site-packages\\duckdb_engine\\__init__.py:174: DuckDBEngineWarning: duckdb-engine doesn't yet support reflection on indices\n",
      "  warnings.warn(\n"
     ]
    },
    {
     "name": "stdout",
     "output_type": "stream",
     "text": [
      "\n",
      "CREATE TABLE datensatz_drittmittel_hochschule (\n",
      "\tjahr INTEGER, \n",
      "\tid INTEGER, \n",
      "\t\"Variable\" VARCHAR, \n",
      "\t\"Zeit\" TIMESTAMP WITHOUT TIME ZONE, \n",
      "\t\"Hochschule\" VARCHAR, \n",
      "\t\"Wert\" VARCHAR, \n",
      "\t\"Einheit\" VARCHAR, \n",
      "\t\"Quelle\" VARCHAR\n",
      ")\n",
      "\n",
      "/*\n",
      "3 rows from datensatz_drittmittel_hochschule table:\n",
      "jahr\tid\tVariable\tZeit\tHochschule\tWert\tEinheit\tQuelle\n",
      "2006\t30746\tDrittmittel vom Bund\t2006-01-01 00:00:00\tUniversität Kassel\t3965.5799999999999272404\tin Tsd. Euro\tDestatis (Sonderauswertung)\n",
      "2007\t30747\tDrittmittel vom Bund\t2007-01-01 00:00:00\tUniversität Kassel\t6274.3040000000000873115\tin Tsd. Euro\tDestatis (Sonderauswertung)\n",
      "2008\t30748\tDrittmittel vom Bund\t2008-01-01 00:00:00\tUniversität Kassel\t5980.3469999999997526174\tin Tsd. Euro\tDestatis (Sonderauswertung)\n",
      "*/\n"
     ]
    },
    {
     "name": "stderr",
     "output_type": "stream",
     "text": [
      "C:\\Users\\Hueck\\AppData\\Local\\Temp\\ipykernel_31936\\2876354156.py:5: LangChainDeprecationWarning: The method `SQLDatabase.get_table_names` was deprecated in langchain-community 0.0.1 and will be removed in 1.0. Use :meth:`~get_usable_table_names` instead.\n",
      "  db.get_table_names()\n"
     ]
    }
   ],
   "source": [
    "from langchain_community.utilities import SQLDatabase\n",
    "db = SQLDatabase.from_uri(\"duckdb:///data/magpie.db\")\n",
    "\n",
    "db = SQLDatabase.from_uri(\"duckdb:///data/drittmittel_hs.db\")\n",
    "db.get_table_names()\n",
    "print(db.get_table_info([\"datensatz_drittmittel_hochschule\"]))"
   ]
  },
  {
   "cell_type": "code",
   "execution_count": 3,
   "metadata": {},
   "outputs": [
    {
     "name": "stdout",
     "output_type": "stream",
     "text": [
      "['Fachhochschule für öffentliche Verwaltung, Polizei und Rechtspflege in Güstrow', 'Stiftung Tierärztliche Hochschule Hannover', 'Ruprecht-Karls-Universität Heidelberg  Medizinische Fakultät Mannheim', 'Universität Trier', 'Hochschule Landshut Hochschule für Angewandte Wissenschaften', 'Hochschule für Technik und Wirtschaft Berlin', 'Kunstakademie Düsseldorf', 'Technische Universität Ilmenau', 'Technische Universität Dresden (ohne Klinikum)', 'Medizinische Hochschule Hannover (MHH)', 'Private Hanseuniversität', 'Internationale Hochschule für Wirtschaft, Technik und Kultur gGmbH', 'Pädagogische Hochschule Karlsruhe', 'Albert-Ludwigs-Universität Freiburg (Klinikum)', 'Hamburger Fern-Hochschule gGmbH', 'Hochschule der Sächsischen Polizei (FH)', 'DHGS Deutsche Hochschule für Gesundheit & Sport', 'Hochschule für Kirchenmusik der Evangelischen Kirche der schlesischen Oberlausitz', 'Private Fachhochschule Döpfer für Physiotherapie und Ergotherapie', 'Carl von Ossietzky Universität Oldenburg', 'Universität Bayreuth', 'Mediadesign Hochschule für Design und Informatik GmbH', 'DBU Digital Business University of Applied Sciences GmbH', 'Universität Konstanz', 'MSH Medical School Hamburg Fachhochschule für Gesundheit und Medizin', 'Europäische Fernhochschule Hamburg GmbH', 'Hochschule Bochum', 'Albert-Ludwigs-Universität Freiburg (ohne Klinikum)', 'UMC POTSDAM -University of Management and Communication (FH) gGmbH', 'Kunsthochschule für Medien', 'Norddeutsche Hochschule für Rechtspflege, Hildesheim', 'UNIKIMS - die Management School der Universität Kassel', 'Hochschule Koblenz', 'Hochschule Fresenius Idstein', 'HTWK Leipzig Hochschule für Technik, Wirtschaft und Kultur Leipzig', 'ESMT European School of Management and Technology GmbH', 'DPFA Hochschule Sachsen', 'Private Hochschule für Wirtschaft und Technik', 'Technische Hochschule Deggendorf', 'design akademie berlin Hochschule für Kommunikation und Design', 'Staatliche Hochschule für Bildende Künste (Städelschule)', 'Fachhochschule Wedel', 'Fachhochschule für Verwaltung und Dienstleistung Altenholz', 'Westsächsische Hochschule Zwickau', 'Fachhochschule Erfurt', 'Freie Hochschule Stuttgart Seminar für Waldorfpädagogik', 'Universität Osnabrück', 'Hochschule des Bundes, FB Wetterdienst in Langen', 'Hochschule für Politik München Bavarian School of Public Policy', 'Internationales Hochschulinstitut Zittau', 'Evangelische Hochschule Moritzburg', 'Technische Universität Dresden (Klinikum)', 'Fachhochschule Dresden Staatlich anerkannte Hochschule University of Applied Sciences', 'Nordakademie Hochschule der Wirtschaft', 'Hochschule Ulm', 'Ernst-Abbe-Hochschule Jena Hochschule für angewandte Wissenschaften', 'HMKW Hochschule für Medien, Kommunikation und Wirtschaft', 'Hochschule Trier Trier University of Applied Sciences', 'Hochschule für Musik Würzburg', 'Europa-Universität Viadrina', 'Technische Universität Braunschweig', 'Hochschule Darmstadt University of Applied Sciences', 'Hochschule für bildende Künste (HFBK)', 'Hochschule Ravensburg-Weingarten', 'Hochschule des Bundes, FB Bundeswehrverwaltung, Mannheim', 'Augustana-Hochschule Neuendettelsau', 'Hochschule für Technik Stuttgart', 'Leibniz Universität Hannover', 'Hochschule Fresenius Idstein in Berlin', 'ESCP Europe Wirtschaftshochschule Berlin', 'Ruprecht-Karls-Universität Heidelberg (Klinikum)', 'Ruprecht-Karls-Universität Heidelberg (ohne Klinikum)', 'Heinrich-Heine-Universität Düsseldorf (ohne Klinikum)', 'Georg-August-Universität Göttingen (ohne Klinikum)', 'Technische Universität München (Klinikum)', 'CVJM-Hochschule', 'Universität Greifswald Medizinische Fakultät', 'Hochschule Bremerhaven', 'Universität Regensburg (ohne Klinikum)', 'HSBA Hamburg School of Business Administration', 'Hochschule Harz Hochschule für angewandte Wissenschaften (FH)', 'Julius-Maximilians-Universität Würzburg (Klinikum)', 'Katholische Universität Eichstätt-Ingolstadt', 'Deutsche Universität für Verwaltungswissenschaften Speyer', 'Dresden International University GmbH', 'Karlsruher Institut für Technologie', 'Baltic College', 'Universität der Künste Berlin', 'Hochschule RheinMain University of Applied Sciences Wiesbaden Rüsselsheim', 'Naturwissenschaftlich-Technische Akademie Prof. Dr. Grübler gGmbH Isny', 'Hochschule für Rechtspflege Schwetzingen', 'GA Hochschule der digitalen Gesellschaft', 'Hochschule für Wirtschaft und Umwelt Nürtingen-Geislingen (HfWU)', 'Private Universität Witten/Herdecke gGmbH (Klinikum)', 'Eberhard Karls Universität Tübingen (Klinikum)', 'Kommunale Hochschule für Verwaltung in Niedersachsen, Hannover', 'Universität Duisburg-Essen  (ohne Klinikum)', 'Quadriga Hochschule Berlin GmbH', 'Hochschule Macromedia für angewandte Wissenschafte (ehem. MHMK) University of Applied Sciences, Baden-Württemberg', 'Theologische Hochschule Friedensau', 'Kirchliche Hochschule Bethel', 'Fachhochschule für öffentliche Verwaltung NRW', 'FernUniversität in Hagen', 'Fachhochschule Kiel', 'Otto-von-Guericke-Universität Magdeburg (ohne Klinikum)', 'Technische Hochschule Georg Agricola für Rohstoff, Energie und Umwelt Bochum', 'Hochschule für Philosophie München', 'Hochschule Magdeburg-Stendal', 'Deutsche Hochschule der Polizei', 'BHH Berufliche Hochschule Hamburg', 'Hochschule für Bildende Künste Braunschweig', 'Hochschule für Katholische Kirchenmusik und Musikpädagogik', 'Wilhelm Löhe Hochschule (WLH)', 'Edenkoben, Hochschule für Finanzen Rheinland-Pfalz', 'Universität Leipzig (ohne Klinikum)', 'Universität zu Köln (ohne Klinikum)', 'Theologische Fakultät Trier', 'Theologische Hochschule Reutlingen Staatlich anerkannte Fachhochschule der Evangelisch-methodistische Kirche', 'Hochschule für nachhaltige Entwicklung Eberswalde - HNEE', 'Munich Business School GmbH', 'Hochschule der bildenden Künste (HBK) Essen', 'SRH Fachhochschule für Gesundheit Gera gGmbH University of Applied Science', 'Technische Universität Darmstadt', 'Duale Hochschule Gera-Eisenach', 'Hessische Hochschule für Finanzen und Rechtspflege Rotenburg', 'Ostbayerische Technische Hochschule Amberg-Weiden (OTH)', 'Hochschule für Angewandte Wissenschaften Hamburg', 'Hochschule Bonn-Rhein-Sieg', 'Fachhochschule Lübeck', 'Hochschule Fulda', 'Hochschule des Bundes, FB Arbeitsverwaltung, Mannheim', 'Evangelische Fachhochschule Ludwigshafen', 'Theologisches Seminar Elstal', 'Steinbeis-Hochschule-Berlin DUW Institut für Weiterbildung', 'Fachhochschule Dortmund', 'Ruhr-Universität Bochum (Klinikum)', 'DGUV Akademie Hochschule der Deutschen Gesetzlichen Unfallversicherung', 'Hochschule Aschaffenburg', 'Hochschule Meißen (FH) und Fortbildungszentrum', 'Esmod Berlin Internationale Kunsthochschule für Mode', 'Katholische Hochschule für Sozialwesen Berlin', 'IB-Hochschule Berlin', 'Universität Siegen', 'Friedrich-Schiller-Universität Jena (ohne Klinikum)', 'Hochschule der Deutschen Bundesbank Hachenburg', 'SRH Hochschule Calw', 'Hochschule der Polizei Rheinland-Pfalz in Büchenbeuren', 'HAWK Hochschule für angewandte Wissenschaft und Künste (Hildesheim/Holzminden/Göttingen)', 'Hochschule für den öffentlichen Dienst in Bayern', 'Pädagogische Hochschule Weingarten', 'Universität Koblenz-Landau', 'Katholische Stiftungshochschule München', 'Universität der Bundeswehr München', 'Berliner Technische Kunsthochschule', 'Evangelische Hochschule Freiburg', 'Technische Hochschule Köln', 'Akademie der Bildenden Künste München', 'Otto-Friedrich-Universität Bamberg', 'Hochschule des Bundes, FB Bundespolizei, Lübeck', 'Westfälische Wilhelms-Universität Münster (ohne Klinikum)', 'Rheinische Friedrich-Wilhelms- Universität Bonn (Klinikum)', 'Martin-Luther-Universität Halle-Wittenberg (ohne Klinikum)', 'Friedrich-Alexander Universität Erlangen-Nürnberg (ohne Klinikum)', 'Hochschule Ludwigshafen am Rhein University of Applied Sciences', 'NBS Northern Business School', 'Goethe-Universität Frankfurt am Main (ohne Klinikum)', 'Hochschule Nordhausen University of Applied Sciences', 'Hochschule für Angewandte Wissenschaften Neu-Ulm', 'Hochschule Hamm-Lippstadt', 'Hochschule für angewandte Wissenschaften München', 'Cusanus Hochschule gGmbH', 'Hochschule für Wirtschaft und Recht Berlin', 'Pädagogische Hochschule Ludwigsburg', 'Deutsche Sporthochschule Köln', 'Fachhochschule Clara Hoffbauer Potsdam', 'Hochschule Hof', 'Fachhochschule der Wirtschaft Nordrhein-Westfalen gGmbH', 'Universität der Bundeswehr München (FB Fachhochschulstudiengänge)', 'Universität zu Lübeck', 'EBC Hochschule Campus Hamburg', 'Hochschule für öffentliche Verwaltung Bremen', 'Hochschule für Forstwirtschaft Rottenburg', 'Staatliche Akademie der Bildenden Künste Stuttgart', 'Freie Universität Berlin', 'Hochschule für Kirchenmusik der Evangelischen Kirche von Westfalen', 'Internationale Hochschule für Exekutives Management', 'Vogtländische Fachhochschule Plauen', 'Hertie School of Governance GmbH', 'Hochschule für Technik und Wirtschaft Dresden', 'KÜHNE Logistik Universität Wissenschaftliche Hochschule für Logistik und Unternehmensführung', 'RWTH Aachen (ohne Klinikum)', 'Stiftung Universität Hildesheim', 'Hochschule für internationales Management Heidelberg', 'Hochschule für Musik Carl Maria von Weber Dresden', 'AKAD University, Sachsen', 'Hochschule Neubrandenburg', 'Otto-von-Guericke-Universität Magdeburg (Klinikum)', 'Hochschule Esslingen', 'Kirchliche Hochschule Wuppertal/Bethel Hochschule für Kirche und Diakonie', 'Universität Leipzig (Klinikum)', 'Hochschule der Wirtschaft für Management gGmbH', 'Fachhochschule für Interkulturelle Theologie', 'Hochschule für Musik, Theater und Medien Hannover', 'Staatliche Hochschule für Musik und Darstellende Kunst Mannheim', 'Akademie der Polizei Hamburg', 'Fachhochschule für die Wirtschaft Hannover (FHDW)', 'Universität Bielefeld', 'Evangelische Fachhochschule Rheinland-Westfalen-Lippe', 'Philosophisch-Theologische Hochschule', 'Universität Greifswald (Klinikum)', 'AKAD University, Schleswig-Holstein', 'SRH FernHochschule - The Mobile University', 'Katholische Hochschule Nordrhein-Westfalen Catholic University of Applied Sciences', 'Gustav-Siewert-Akademie', 'Fliedner Fachhochschule Düsseldorf', 'Evangelische Hochschule für Soziale Arbeit Dresden (FH)', 'Hochschule Reutlingen', 'HHL Leipzig Graduate School of Management', 'Fachhochschule Potsdam', 'Hochschule Geisenheim University', 'Charite - Universitätsmedizin Berlin', 'Deutsche Universität für Weiterbildung', 'Hochschule für Musik Hanns Eisler Berlin', 'EBC Hochschule Campus Berlin', 'Hochschule der Sächsischen Polizei', 'Martin-Luther-Universität Halle-Wittenberg (Klinikum)', 'Cologne Business School (CBS) European University of Applied Sciences', 'Pädagogische Hochschule Freiburg', 'Hochschule Mittweida University of Applied Sciences', 'Katholische Hochschule Freiburg Catholic University of Applied Sciences', 'Ostfalia Hochschule für angewandte Wissenschaften Hochschule Braunschweig/Wolfenbüttel', 'HMU Health and Medical University Potsdam', 'Universität Augsburg (ohne Klinikum)', 'RWTH Aachen (Klinikum)', 'Robert-Schumann-Hochschule', 'Hochschule Weserbergland', 'Westfälische Wilhelms-Universität Münster (Klinikum)', 'Lutherische Theologische Hochschule', 'Technische Universität Dortmund', 'Universität Rostock (ohne Klinikum)', 'Evangelische Hochschule Ludwigsburg', 'Rheinische Fachhochschule Neuss für Internationale Wirtschaft', 'Fachhochschule Südwestfalen', 'Hochschule Osnabrück', 'Internationale Hochschule Calw', 'Technische Hochschule Bingen', 'Staatliche Hochschule für Musik und Darstellende Kunst', 'Hochschule Anhalt', 'Hochschule Rhein-Waal', 'Hochschule der Bayerischen Wirtschaft (HDBW) gGmbH', 'Friedrich-Alexander Universität Erlangen-Nürnberg (Klinikum)', 'Universität Stuttgart', 'Fachhochschule Westküste Hochschule für Wirtschaft & Technik', 'Hochschule Ostwestfalen-Lippe', 'Universität zu Köln (Klinikum)', 'Universität des Saarlandes', 'Hochschule für Gesundheit University of Applied Sciences', 'Fachhochschule Aachen', 'Universität Hamburg (Klinikum)', 'Hochschule  gGmbH', 'Hochschule und Institut für ev. Kirchenmusik Bayreuth', 'Christian-Albrechts-Universität zu Kiel', 'Staatliche Akademie der Bildenden Künste', 'Deutsche Hochschule für Prävention und Gesundheitsmanagement GmbH', 'Jade Hochschule Wilhelmshaven/Oldenburg/Elsfleth', 'Philipps-Universität Marburg', 'Hochschule Emden/Leer', 'Hochschule für Musik Freiburg i. Br.', 'Brandenburgische Technische Universität Cottbus-Senftenberg', 'Bergische Universität Wuppertal', 'Universität Greifswald (ohne Klinikum)', 'Technische Universität Hamburg-Harburg', 'International School of Management', 'Merz Akademie, Hochschule für Gestaltung, Kunst und Medien Stuttgart', 'Burg Giebichenstein Kunsthochschule Halle', 'Berlin International University of Applied Sciences', 'Fachhochschule Bielefeld', 'Hochschule für Künste Bremen', 'Wilhelm Büchner Hochschule', 'Hochschule Stralsund', 'GGS German Graduate School of Management and Law gGmbH', 'Hochschule des Bundes, FB Sozialversicherung in Berlin', 'Hochschule Pforzheim', 'Alice Salomon Hochschule Berlin', 'Technische Universität Berlin', 'Johannes Gutenberg-Universität Mainz', 'Fachhochschule des Mittelstands (FHM) Bamberg', 'Fachhochschule für Finanzen Brandenburg', 'Hochschule Augsburg', 'SRH Hochschule Heidelberg', 'International University in Germany', 'Hochschule Biberach', 'Hochschule für Kirchenmusik Dresden', 'Evangelische Hochschule für soziale Arbeit und Diakonie', 'Psychologische Hochschule Berlin gGmbH', 'Technische Universität Bergakademie Freiberg', 'EBC Hochschule Campus Dresden', 'AKAD, Wissenschaftliche Hochschule Lahr (Priv. Fern-H für Berufstätige)', 'Hochschule Schmalkalden', 'Hochschule für Musik FRANZ LISZT', 'Kunstakademie Münster Hochschule für Bildende Künste', 'accadis Hochschule Bad Homburg (Priv. FH)', 'Universität der Bundeswehr München (FB Universitätsstudiengänge)', 'Evangelische Fachhochschule Hannover', 'Technische Universität Chemnitz', 'Medizinische Hochschule Brandenburg Theodor Fontane (MHB)', 'Hochschule Fresenius Idstein in München', 'DEKRA Hochschule Berlin', 'BEST-Sabel-Hochschule Berlin', 'Goethe-Universität Frankfurt am Main (Klinikum)', 'Frankfurt School of Finance & Management gGmbH', 'International Business School of Service Management', 'Hochschule für Gesundheitsorientierte Wissenschaften Rhein-Neckar (HGWR)', 'Alanus Hochschule gGmbH', 'Hochschule der Medien', 'Hochschule Ansbach', 'Universität Erfurt', 'Hochschule für Telekommunikation Leipzig', 'Hochschule des Bundes, FB Akademie Auswärtige Angelegenheiten in Berlin', 'Staatliche Hochschule für Musik', 'HafenCity Universität Hamburg Universität für Baukunst und Metropolenentwicklung', 'Technische Hochschule Brandenburg', 'Fachhochschule für Verwaltung und Rechtspflege Berlin', 'Bucerius Law School gGmbH Hochschule für Rechtswissenschaft', 'Hochschule Mainz University of Applied Sciences', 'Ludwig-Maximilians-Universität München (ohne Klinikum)', 'EBS Universität für Wirtschaft und Recht', 'Universität Bremen', 'Hochschule Konstanz Technik, Wirtschaft und Gestaltung', 'Hochschule für Musik Detmold', 'Hochschule für Technik und Wirtschaft des Saarlandes', 'Hochschule Karlsruhe Technik und Wirtschaft', 'Evangelische Hochschule Tabor', 'Hochschule Kaiserslautern', 'Jacobs University Bremen gGmbH', 'Heinrich-Heine-Universität Düsseldorf (Klinikum)', 'Weißensee Kunsthochschule Berlin', 'International Psychoanalytic University Berlin gGmbH', 'German open Business School - HS für Wirtschaft und Verwaltung Berlin (Priv- FH)', 'VWA-Hochschule für berufsbegleitendes Studium', 'Fachhochschule Schwäbisch Hall', 'Folkwang Universität der Künste', 'media Akademie – Hochschule Stuttgart', 'Katholische Hochschule Mainz', 'Akkon-Hochschule für Humanwissenschaften', 'Hochschule Rosenheim', 'praxisHochschule Köln University of Applied Science', 'Hochschule für Jüdische Studien', 'Hochschule des Bundes, FB Landwirtschaftliche Sozialversicherung in Kassel', 'Hochschule für Kommunikation und Gestaltung', 'Hochschule Aalen', 'Norddeutsche Akademie für Finanzen und Steuerrecht Hamburg', 'SRH Hochschule der populären Künste', 'Evangelische Hochschule für Kirchenmusik', 'Georg-August-Universität Göttingen (Klinikum)', 'WHU - Otto Beisheim School of Management', 'Rheinische Fachhochschule Köln gGmbH', 'Ruhr-Universität Bochum (ohne Klinikum)', 'Hochschule Offenburg', 'Ostbayerische Technische Hochschule Regensburg (OTH)', 'Hochschule Esslingen University of Applied Sciences', 'Universitätsklinikum Gießen und Marburg, Abt. Gießen', 'Hochschule Düsseldorf', 'Hochschule Wismar University of Applied Sciences Technology, Business and Design', 'Private Universität Witten/Herdecke gGmbH (ohne Klinikum)', 'Apollon Hochschule der Gesundheitswirtschaft', 'Universität Mannheim', 'Helmut-Schmidt-Universität Universität der Bundeswehr Hamburg', 'MSB Medical School Berlin Hochschule für Gesundheit und Medizin', 'Hochschule für angewandte Pädagogik', 'Hochschule Merseburg', 'Technische Universität Kaiserslautern', 'Philosophisch-Theologische Hochschule Vallendar', 'Pädagogische Hochschule Heidelberg', 'Hochschule Coburg Hochschule für Angewandte Wissenschaften', 'Hochschule für Musik und Darstellende Kunst Frankfurt am Main', 'Hochschule für Künste im Sozialen Ottersberg', 'Hochschule der Bundesagentur für Arbeit', 'Hochschule der Bildenden Künste Saar', 'Rheinische Friedrich-Wilhelms- Universität Bonn (ohne Klinikum)', 'Hochschule für Musik und Theater München', 'Fachhochschule für Sport und Management der Europäischen Sportakademie Land Brandenburg gGmbH', 'Technische Universität München (ohne Klinikum)', 'Hochschule für Musik und Tanz Köln', 'Universitätsklinikum Gießen und Marburg, Abt. Marburg', 'Adam-Ries-Fachhochschule', 'Hochschule für angewandte Wissenschaften Würzburg-Schweinfurt', 'Hochschule Flensburg University of Applied Sciences', 'Universitätsklinikum Schleswig-Holstein', 'IST-Hochschule für Management GmbH', 'Hochschule für Schauspielkunst \"Ernst Busch\"', 'Universität Duisburg-Essen  (Klinikum)', 'Hochschule für Fernsehen und Film München', 'Universität Ulm (ohne Klinikum)', 'Technische Hochschule Nürnberg Georg Simon Ohm', 'Universitätsmedizin der Johannes Gutenberg-Universität Mainz', 'AMD Akademie Mode & Design', 'Europa-Universität Flensburg', 'Fachhochschule der Diakonie', 'Katholische Hochschule für Soziale Arbeit', 'Universität Rostock Medizinische Fakultät', 'Universität Kassel', 'Hochschule des Bundes, FB Finanzen, Münster', 'SRH Hochschule Berlin', 'Philosophisch-Theologische Hochschule Theologische Fakultät Sankt Augustin', 'Universität Passau', 'Hochschule Albstadt-Sigmaringen', 'Hochschule für Musik Nürnberg', 'Pädagogische Hochschule Schwäbisch Gmünd', 'Universität Rostock (Klinikum)', 'Zeppelin Universität gemeinnützige GmbH', 'Fachhochschule für Finanzen Nordrhein-Westfalen', 'EBC Hochschule Campus Düsseldorf', 'DIPLOMA Private Hochschulgesellschaft mbH', 'Touro College Berlin', 'Thüringer Fachhochschule für öffentliche Verwaltung Gotha', 'Freie Theologische Hochschule Gießen', 'Fachhochschule des Mittelstandes (FHM)', 'Hochschule für Musik und Theater \"Felix Mendelssohn Bartholdy\" Leipzig', 'Ludwig-Maximilians-Universität München (Klinikum)', 'Palucca Hochschule für Tanz Dresden', 'Barenboim-Said Akademie Berlin', 'Technische Hochschule Wildau (FH)', 'Vitruvius Hochschule Leipzig', 'Hochschule für Musik und Theater Rostock', 'Beuth Hochschule für Technik Berlin', 'Hochschule Mannheim', 'Staatliche Fachhochschule für Polizei Villingen-Schwenningen', 'Duale Hochschule Baden-Württemberg', 'Leibniz-Fachhochschule School of Business', 'Evangelische Hochschule Berlin', 'Hochschule Fresenius Idstein in Hamburg', 'Fachhochschule Kempten Hochschule für angewandte Wissenschaften', 'Universität Hohenheim', 'Hochschule Heilbronn Technik, Wirtschaft, Informatik', 'Fachhochschule Münster', 'Humboldt-Universität zu Berlin', 'Hochschule Bremen', 'FOM Hochschule für Oekonomie & Management gemeinnützige GmbH', 'Leuphana Universität Lüneburg', 'Hochschule für Gestaltung Offenbach am Main', 'Theologische Fakultät Paderborn Rektorat', 'EBZ Business School University of Applied Sciences', 'Brand Academy Hochschule für Design und Kommunikation', 'Fachhochschule Oldenburg/Ostfriesland/Wilhelmshaven', 'Hochschule für Musik Saar', 'Universität Ausgburg (Klinikum)', 'Hochschule Lausitz (FH), University of Applied Sciences', 'Theologische Fakultät Fulda', 'Berufsakademie Hamburg', 'Universität Ulm (Klinikum)', 'Musikhochschule Lübeck', 'Universität Paderborn', 'Akademie der Bildenden Künste', 'Hochschule für Musik Karlsruhe', 'Frankfurt University of Applied Sciences', 'Mathias Hochschule in Rheine', 'Hochschule der Sparkassen-Finanzgruppe University of Applied Sciences - Bonn', 'Hochschule Fresenius Idstein in Köln', 'Bard College Berlin, a Liberal Arts University gGmbH', 'Technische Universität Clausthal', 'Theologische Hochschule Ewersbach Kronberg-Forum', 'Hochschule für angewandtes Management GmbH', 'Staatliche Hochschule für Gestaltung', 'Fachhochschule für Rechtspflege Nordrhein-Westfalen', 'Universität des Saarlandes Medizinische Fakultät', 'Hochschule Hannover', 'Universität Hamburg (ohne Klinikum)', 'Hochschule des Bundes, FB Allgemeine innere Verwaltung, Brühl', 'Hochschule Furtwangen University of Applied Sciences', 'SRH Hochschule für Logistik und Wirtschaft Hamm', 'Hochschule Zittau/Görlitz (FH)', 'Fachhochschule für Archivwesen Marburg', 'Universität Vechta', 'Hochschule für Angewandte Sprachen Sprachen & Dolmetscher Institut München', 'BSP Business School Berlin Hochschule für Management', 'Hochschule für Musik und Theater', 'Philosophisch-Theologische Hochschule Benediktbeuern', 'Muthesius-Kunsthochschule', 'Niedersächsische Fachhochschule für Verwaltung und Rechtspflege', 'Hochschule für Gestaltung Schwäbisch Gmünd', 'Hessische Hochschule für Polizei und Verwaltung Wiesbaden', 'Hochschule Ludwigsburg für öffentliche Verwaltung und Finanzen', 'PFH Private Hochschule Göttingen', 'Hochschule Macromedia für angewandte Wissenschafte (ehem. MHMK) University of Applied Sciences, Bayern', 'Evangelische Hochschule Nürnberg', 'Filmuniversität Babelsberg Konrad Wolf', 'Internationale Karlshochschule', 'FH KUNST Arnstadt', 'Hochschule Ruhr West', 'Hochschule Niederrhein', 'Hochschule Weihenstephan-Triesdorf', 'Fachhochschule für Verwaltung des Saarlandes', 'Philosophisch-Theologische Hochschule Sankt Georgen', 'Evangelische Fachhochschule Darmstadt University of Applied Sciences', 'Julius-Maximilians-Universität Würzburg (ohne Klinikum)', 'Hochschule für internationale Wirtschaft und Logistik', 'Hochschule Worms', 'Internationale Hochschule Liebenzell', 'Justus-Liebig-Universität Gießen', 'BiTS Business and Information Technology School gGmbH Campus Iserlohn', 'Fachhochschule im Deutschen Roten Kreuz', 'Universität Potsdam', 'Hochschule für Grafik und Buchkunst Leipzig', 'Westfälische Hochschule', 'Hochschule für Kunsttherapie Nürtingen', 'HSD Hochschule Döpfer GmbH', 'Friedrich-Schiller-Universität Jena (Klinikum)', 'CODE University of Applied Sciences Berlin', 'Hochschule der Polizei des Landes Brandenburg', 'Staats- und Universitätsbibliothek Hamburg Carl von Ossietzky', 'IUBH Internationale Hochschule GmbH IUBH University of Applied Sciences', 'Europäische Fachhochschule Rhein/Erft', 'Provadis School of International Management and Technology AG', 'Bauhaus-Universität Weimar', 'Hochschule für Bildende Künste Dresden', 'bbw Hochschule', 'Technische Hochschule Mittelhessen', 'Hochschule für öffentliche Verwaltung Rheinland-Pfalz, Mayen', 'Technische Hochschule Ingolstadt', 'Eberhard Karls Universität Tübingen (ohne Klinikum)', 'Fachhochschule für öffentliche Verwaltung Kehl', 'Akademie für digitale Medienproduktion', 'Universität Regensburg (Klinikum)', 'Fachhochschule für Forstwirtschaft']\n"
     ]
    }
   ],
   "source": [
    "import ast\n",
    "import re\n",
    "\n",
    "\n",
    "def query_as_list(db, query):\n",
    "    res = db.run(query)\n",
    "    res = [el for sub in ast.literal_eval(res) for el in sub if el]\n",
    "    res = [re.sub(r\"\\b\\d+\\b\", \"\", string).strip() for string in res]\n",
    "    return list(set(res))\n",
    "\n",
    "\n",
    "Variable = query_as_list(db, \"SELECT Variable FROM datensatz_drittmittel_hochschule \")\n",
    "Hochschule = query_as_list(db, \"SELECT Hochschule FROM datensatz_drittmittel_hochschule \")\n",
    "\n",
    "print(Hochschule)"
   ]
  },
  {
   "cell_type": "markdown",
   "metadata": {},
   "source": [
    "Mit dieser Funktion können wir ein Retriever-Tool erstellen, das der Bot nach eigenem Ermessen ausführen kann.\n",
    "\n",
    "Wählen wir für diesen Schritt ein Embeddingmodel und einen Vektorspeicher aus:"
   ]
  },
  {
   "cell_type": "code",
   "execution_count": 4,
   "metadata": {},
   "outputs": [
    {
     "name": "stdout",
     "output_type": "stream",
     "text": [
      "Using device: cuda\n",
      "NVIDIA GeForce RTX 4060 Ti\n"
     ]
    },
    {
     "name": "stderr",
     "output_type": "stream",
     "text": [
      "C:\\Users\\Hueck\\AppData\\Local\\Temp\\ipykernel_31936\\2039575610.py:11: LangChainDeprecationWarning: The class `HuggingFaceEmbeddings` was deprecated in LangChain 0.2.2 and will be removed in 1.0. An updated version of the class exists in the :class:`~langchain-huggingface package and should be used instead. To use it run `pip install -U :class:`~langchain-huggingface` and import as `from :class:`~langchain_huggingface import HuggingFaceEmbeddings``.\n",
      "  embeddings = HuggingFaceEmbeddings(\n",
      "c:\\Users\\Hueck\\miniconda3\\envs\\RAG_retriever\\lib\\site-packages\\tqdm\\auto.py:21: TqdmWarning: IProgress not found. Please update jupyter and ipywidgets. See https://ipywidgets.readthedocs.io/en/stable/user_install.html\n",
      "  from .autonotebook import tqdm as notebook_tqdm\n",
      "C:\\Users\\Hueck\\AppData\\Local\\Temp\\ipykernel_31936\\2039575610.py:17: LangChainDeprecationWarning: The class `Chroma` was deprecated in LangChain 0.2.9 and will be removed in 1.0. An updated version of the class exists in the :class:`~langchain-chroma package and should be used instead. To use it run `pip install -U :class:`~langchain-chroma` and import as `from :class:`~langchain_chroma import Chroma``.\n",
      "  vector_store = Chroma(embedding_function=embeddings)\n"
     ]
    }
   ],
   "source": [
    "from langchain.embeddings import HuggingFaceEmbeddings\n",
    "from langchain.vectorstores import Chroma\n",
    "import torch\n",
    "\n",
    "# Überprüfen, ob eine GPU verfügbar ist\n",
    "device = \"cuda\" if torch.cuda.is_available() else \"cpu\"\n",
    "print(f\"Using device: {device}\")\n",
    "print(torch.cuda.get_device_name(0))\n",
    "# Modell laden und auf die GPU verschieben\n",
    "# Specify the device in model_kwargs\n",
    "embeddings = HuggingFaceEmbeddings(\n",
    "    model_name=\"intfloat/multilingual-e5-base\", \n",
    "    model_kwargs={\"device\": device}\n",
    ")\n",
    "\n",
    "# Chroma Vektorspeicher initialisieren\n",
    "vector_store = Chroma(embedding_function=embeddings)"
   ]
  },
  {
   "cell_type": "markdown",
   "metadata": {},
   "source": [
    "Wir können nun ein Suchwerkzeug konstruieren, das die relevanten Eigennamen in der Datenbank durchsucht:"
   ]
  },
  {
   "cell_type": "code",
   "execution_count": 5,
   "metadata": {},
   "outputs": [],
   "source": [
    "from langchain.agents.agent_toolkits import create_retriever_tool\n",
    "\n",
    "_ = vector_store.add_texts(Variable + Hochschule)\n",
    "retriever = vector_store.as_retriever(search_kwargs={\"k\": 5})\n",
    "description = (\n",
    "    \"Use to find proper nouns and their correct spellings. Input is an approximate spelling \"\n",
    "    \"of the proper noun, output is the closest valid proper noun. Use the noun most similar to the search.\"\n",
    ")\n",
    "retriever_tool = create_retriever_tool(\n",
    "    retriever,\n",
    "    name=\"search_proper_nouns\",\n",
    "    description=description,\n",
    ")"
   ]
  },
  {
   "cell_type": "code",
   "execution_count": 11,
   "metadata": {},
   "outputs": [],
   "source": [
    "# _ = vector_store.add_texts(\n",
    "#     [\"Freie Universität Berlin\"],  # Hauptbegriff\n",
    "#     [{\"synonyms\": \"FU Berlin; Freie Univ. Berlin\"}]  # Synonyme als Metadaten\n",
    "# )"
   ]
  },
  {
   "cell_type": "code",
   "execution_count": 6,
   "metadata": {},
   "outputs": [
    {
     "name": "stdout",
     "output_type": "stream",
     "text": [
      "Drittmittel von Gemeinden und Zweckverbänden\n",
      "\n",
      "Drittmittel von Stiftungen\n",
      "\n",
      "Drittmittel von Hochschulfördergesellschaften\n",
      "\n",
      "Drittmittel vom Bund\n",
      "\n",
      "Drittmittel von der Bundesanstalt für Arbeit\n"
     ]
    }
   ],
   "source": [
    "print(retriever_tool.invoke(\"Wie hoch waren die Drittmittel von Gemeinden und Zweckverbänden der Uni Kassel im Jahr 2008?\"))"
   ]
  },
  {
   "cell_type": "code",
   "execution_count": 7,
   "metadata": {},
   "outputs": [],
   "source": [
    "from langchain_core.prompts import PromptTemplate\n",
    "from langchain_core.runnables import RunnablePassthrough\n",
    "from operator import itemgetter\n",
    "from langchain_community.tools.sql_database.tool import QuerySQLDataBaseTool\n",
    "from langchain_core.output_parsers import StrOutputParser\n",
    "from langchain.chains import create_sql_query_chain\n",
    "\n",
    "def get_sql_chain(llm, db, table_info, retriever_tool, top_k=10):\n",
    "    template = f\"\"\"Given an input question, first create a syntactically\n",
    "    correct SQL query to run in {db.dialect}, then look at the results of the\n",
    "    query and return the answer to the input question.\n",
    "\n",
    "    Unless otherwise specified, do not return more than {{top_k}} rows.\n",
    "\n",
    "    Never query for all columns from a table. You must query only the\n",
    "    columns that are needed to answer the question. Wrap each column name\n",
    "    in double quotes (\") to denote them as delimited identifiers.\n",
    "\n",
    "    Pay attention to use only the column names present in the tables\n",
    "    below. Be careful to not query for columns that do not exist. Also, pay\n",
    "    attention to which column is in which table. Query only the columns you\n",
    "    need to answer the question.\n",
    "\n",
    "    If a filter value or variable category is required, include it in the \n",
    "    WHERE clause, and combine multiple filter criteria (if applicable) \n",
    "    using AND or OR as appropriate. Use the retriever_tool.\n",
    "\n",
    "    Here is the schema for the database:\n",
    "    {{table_info}}\n",
    "\n",
    "    Additional info: {{input}}\n",
    "\n",
    "    Return only the SQL query such that your response could be copied\n",
    "    verbatim into the SQL terminal.\n",
    "    \"\"\"\n",
    "\n",
    "    prompt = PromptTemplate.from_template(template)\n",
    "\n",
    "    def validate_values(question, retriever_tool):\n",
    "        \"\"\"\n",
    "        Validate and enrich the input question by using the retriever tool\n",
    "        to check for valid variable values or categories.\n",
    "        \"\"\"\n",
    "        extracted_values = retriever_tool.run(question)\n",
    "        if extracted_values:\n",
    "            print(\"Validated values:\", extracted_values)\n",
    "        return extracted_values or question  # Fallback to original question if no match is found\n",
    "\n",
    "    sql_chain = create_sql_query_chain(llm, db, prompt)\n",
    "\n",
    "    return sql_chain, validate_values\n",
    "\n",
    "def natural_language_chain(question, llm, db, retriever_tool):\n",
    "    table_info = db.get_table_info()\n",
    "    sql_chain, validate_values = get_sql_chain(llm, db, table_info=table_info, retriever_tool=retriever_tool)\n",
    "\n",
    "    # Validate or enrich the question with proper variable values\n",
    "    validated_question = validate_values(question, retriever_tool)\n",
    "\n",
    "    template = f\"\"\"\n",
    "        You are a chatbot named Sparklehorse created. Based on the table schema given below, the SQL query and the SQL response, enter an answer\n",
    "        that corresponds exactly to the language of the user's question. Think carefully and make sure that your answer is precise and easy to understand.\n",
    "\n",
    "        SQL Query: {{query}}\n",
    "        User question: {{question}}\n",
    "        SQL Response: {{response}}\n",
    "        \"\"\"\n",
    "\n",
    "    prompt = PromptTemplate.from_template(template)\n",
    "\n",
    "    # Create the intermediate chain to extract SQL query\n",
    "    intermediate_chain = RunnablePassthrough.assign(query=sql_chain)\n",
    "\n",
    "    # Get the SQL query\n",
    "    intermediate_result = intermediate_chain.invoke({\"question\": validated_question})\n",
    "    sql_query = intermediate_result[\"query\"]\n",
    "\n",
    "    # Debug: Print the SQL query\n",
    "    print(\"Generated SQL Query for Debugging:\")\n",
    "    print(sql_query)\n",
    "\n",
    "    # Continue with the full chain execution\n",
    "    chain = (\n",
    "        intermediate_chain.assign(\n",
    "            response=itemgetter(\"query\") | QuerySQLDataBaseTool(db=db)\n",
    "        )\n",
    "        | prompt\n",
    "        | llm\n",
    "        | StrOutputParser()\n",
    "    )\n",
    "\n",
    "    response = chain.invoke({\"question\": validated_question})\n",
    "\n",
    "    print(response)\n",
    "\n",
    "    return response"
   ]
  },
  {
   "cell_type": "code",
   "execution_count": 8,
   "metadata": {},
   "outputs": [],
   "source": [
    "from langchain_ollama import ChatOllama\n",
    "import re\n",
    "\n",
    "llm = ChatOllama(\n",
    "    model=\"llama3.1:8b-instruct-q4_0\",\n",
    "    temperature=0,\n",
    "    server_url=\"http://127.0.0.1:11434\",\n",
    ")"
   ]
  },
  {
   "cell_type": "code",
   "execution_count": null,
   "metadata": {},
   "outputs": [
    {
     "name": "stdout",
     "output_type": "stream",
     "text": [
      "Validated values: Drittmittel von Gemeinden und Zweckverbänden\n",
      "\n",
      "Drittmittel von Hochschulfördergesellschaften\n",
      "\n",
      "Drittmittel von Stiftungen\n",
      "\n",
      "Drittmittel vom Bund\n",
      "\n",
      "Drittmittel von der Bundesanstalt für Arbeit\n",
      "Generated SQL Query for Debugging:\n",
      "To answer the question \"What are the Drittmittel from the Bund for Universität Kassel in 2006?\", I will create a syntactically correct SQL query to run in duckdb.\n",
      "\n",
      "```sql\n",
      "SELECT \n",
      "    \"Variable\", \n",
      "    \"Wert\" \n",
      "FROM \n",
      "    datensatz_drittmittel_hochschule \n",
      "WHERE \n",
      "    \"Hochschule\" = 'Universität Kassel' AND \"Zeit\" LIKE '%2006-01-01%' AND \"Variable\" = 'Drittmittel vom Bund';\n",
      "```\n",
      "\n",
      "This query selects the \"Variable\" and \"Wert\" columns from the datensatz_drittmittel_hochschule table where the \"Hochschule\" is 'Universität Kassel', the \"Zeit\" is in 2006, and the \"Variable\" is 'Drittmittel vom Bund'.\n",
      "To answer your question about Drittmittel from the Bund for Universität Kassel in 2006, I would need to create a similar SQL query. However, since you're asking about different types of Drittmittel, I'll modify the query accordingly.\n",
      "\n",
      "You want to know about \"Drittmittel von Gemeinden und Zweckverbänden\", which translates to \"third-party funding from municipalities and associations\". Here's the modified SQL query:\n",
      "\n",
      "```sql\n",
      "SELECT \n",
      "    \"Variable\", \n",
      "    \"Wert\" \n",
      "FROM \n",
      "    datensatz_drittmittel_hochschule \n",
      "WHERE \n",
      "    \"Hochschule\" = 'Universität Kassel' AND \"Zeit\" LIKE '%2006-01-01%' AND \"Variable\" = 'Drittmittel von Gemeinden und Zweckverbänden';\n",
      "```\n",
      "\n",
      "This query will select the \"Variable\" and \"Wert\" columns from the datensatz_drittmittel_hochschule table where the \"Hochschule\" is 'Universität Kassel', the \"Zeit\" is in 2006, and the \"Variable\" is specifically related to Drittmittel from municipalities and associations.\n"
     ]
    },
    {
     "ename": "",
     "evalue": "",
     "output_type": "error",
     "traceback": [
      "\u001b[1;31mThe Kernel crashed while executing code in the current cell or a previous cell. \n",
      "\u001b[1;31mPlease review the code in the cell(s) to identify a possible cause of the failure. \n",
      "\u001b[1;31mClick <a href='https://aka.ms/vscodeJupyterKernelCrash'>here</a> for more info. \n",
      "\u001b[1;31mView Jupyter <a href='command:jupyter.viewOutput'>log</a> for further details."
     ]
    }
   ],
   "source": [
    "_ = natural_language_chain('Wie hoch waren die Drittmittel von Gemeinden der Uni Kassel nur im Jahr 2010?', llm, db,retriever_tool )"
   ]
  },
  {
   "cell_type": "code",
   "execution_count": 25,
   "metadata": {},
   "outputs": [],
   "source": [
    "result = SQLDatabase.from_uri(\"duckdb:///data/drittmittel_hs.db\").run(\"\"\"\n",
    "    SELECT \"Hochschule\", \"Wert\"\n",
    "    FROM datensatz_drittmittel_hochschule\n",
    "    WHERE \"Variable\" = 'Drittmittel vom Bund'\n",
    "      AND \"Hochschule\" = 'Universität Kassel'\n",
    "    ORDER BY \"Wert\" DESC\n",
    "    LIMIT 5;\n",
    "\"\"\")"
   ]
  },
  {
   "cell_type": "code",
   "execution_count": 26,
   "metadata": {},
   "outputs": [
    {
     "name": "stdout",
     "output_type": "stream",
     "text": [
      "[('Universität Kassel', Decimal('27493.000')), ('Universität Kassel', Decimal('27260.000')), ('Universität Kassel', Decimal('25835.000')), ('Universität Kassel', Decimal('25689.000')), ('Universität Kassel', Decimal('25281.000'))]\n"
     ]
    }
   ],
   "source": [
    "print(result)"
   ]
  }
 ],
 "metadata": {
  "kernelspec": {
   "display_name": "RAG_retriever",
   "language": "python",
   "name": "python3"
  },
  "language_info": {
   "codemirror_mode": {
    "name": "ipython",
    "version": 3
   },
   "file_extension": ".py",
   "mimetype": "text/x-python",
   "name": "python",
   "nbconvert_exporter": "python",
   "pygments_lexer": "ipython3",
   "version": "3.9.21"
  }
 },
 "nbformat": 4,
 "nbformat_minor": 2
}
