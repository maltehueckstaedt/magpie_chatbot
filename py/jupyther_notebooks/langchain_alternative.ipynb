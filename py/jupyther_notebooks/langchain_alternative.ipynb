{
 "cells": [
  {
   "cell_type": "markdown",
   "metadata": {},
   "source": [
    "# Retrieval-Augmented Generation\n",
    "\n",
    "## Einführung\n",
    "\n",
    "In diesem Notebook wird eine Retrieval-Augmented Generation (RAG) für die *Magpie* implementiert. Ziel ist es, einen Chatbot zu erstellen, der Fragen in natürlicher Sprache entgegennimmt und diese in passende SQL-Abfragen umwandelt und wiederum in natürlicher Sprache antwortet.\n",
    "\n",
    "Um die SQL-Abfragen genau auf die Daten von Magpie abzustimmen, wird auf Basis dieses [Tutorials](https://python.langchain.com/docs/tutorials/sql_qa/#system-prompt) und mit Langchain ein Chatbot erzeugt, der mit einem Retriever-Tool arbeitet. Der Chatbot unterscheidet sich im Vorgehen von einer *normalen* RAG: Während bei einer RAG üblicherweise Text generiert wird (die Anfrage durch einen User), der gegen eine Vektordatenbank durchsucht werden kann, besteht der Ansatz für strukturierte Daten darin, dass das LLM SQL-Abfragen schreibt und ausführt.\n",
    "\n",
    "## Durchführung\n",
    "\n",
    "### Arbeitspfad definieren\n",
    "\n",
    "In einem ersten Schritt definieren wir unseren Arbeitspfad:"
   ]
  },
  {
   "cell_type": "code",
   "execution_count": 3,
   "metadata": {},
   "outputs": [],
   "source": [
    "# Aktuelles Arbeitsverzeichnis ermitteln\n",
    "import os\n",
    "os.getcwd()\n",
    "os.chdir(\"c:/Users/Hueck/OneDrive/Dokumente/GitHub/magpie_langchain\")"
   ]
  },
  {
   "cell_type": "markdown",
   "metadata": {},
   "source": [
    "### LLM laden\n",
    "\n",
    "In einem weiteren Schritt laden wir ein LLM. Das LLM wandelt die Anfrage des Users in eine SQL-Abfrage um und antwortet basierend auf den Ergebnissen der Abfrage in natürlicher Sprache. Das sich `llama3.1:8b-instruct-q4_0` nicht so leistungsfähig wie `gpt-4o-mini` im Kontext der Generierung der SQL-Abfragen erwiesen hat, wird vorerst mit einer OpenAI-API gearbeitet. Sie wird im folgenden aus dem Environment geladen um auf `gpt-4o-mini` zugreifen zu können. Der Code importiert weiterhin die `ChatOpenAI`-Klasse aus dem Modul `langchain_openai`, welches die Nutzung von OpenAI-Modellen vereinfacht. Anschließend wird ein Objekt `llm` vom Typ `ChatOpenAI` erstellt, wobei das Modell `\"gpt-4o-mini\"` angegeben wird."
   ]
  },
  {
   "cell_type": "code",
   "execution_count": 4,
   "metadata": {},
   "outputs": [],
   "source": [
    "from dotenv import load_dotenv\n",
    "\n",
    "# Lade Umgebungsvariablen aus der .env Datei\n",
    "load_dotenv()\n",
    "\n",
    "from langchain_openai import ChatOpenAI\n",
    "llm = ChatOpenAI(model=\"gpt-4o-mini\")\n",
    "\n",
    "# from langchain_ollama import ChatOllama\n",
    "# import getpass\n",
    "\n",
    "# llm = ChatOllama(\n",
    "#     model=\"llama3.1:8b-instruct-q4_0\",\n",
    "#     temperature=0,\n",
    "#     server_url=\"http://127.0.0.1:11434\",\n",
    "# )"
   ]
  },
  {
   "cell_type": "markdown",
   "metadata": {},
   "source": [
    "### Tools genieren\n",
    "\n",
    "Wir erstellen nun ein Set von `tools`. Das `SQLDatabaseToolkit` umfasst in diesem Kontext Werkzeuge, die uns dabei unterstützen, SQL-Abfragen zu erstellen und auszuführen sowie die Syntax von SQL-Abfragen zu überprüfen. \n",
    "\n",
    "Es wird dafür eine Instanz von `SQLDatabase` erstellt, um Interaktionen mit der Datenbank zu ermöglichen. Nach der Einrichtung der Datenbank wird eine Instanz von `SQLDatabaseToolkit` erstellt, die zwei Argumente benötigt: die zuvor erstellte `db`-Instanz und die oben definierte `llm` (Sprachmodell)-Instanz (siehe oben). Das Toolkit nutzt das Sprachmodell für Aufgaben wie die Validierung von Abfragen.\n",
    "\n",
    "Die Methode `get_tools` der `SQLDatabaseToolkit`-Instanz wird dann aufgerufen, um eine Liste der verfügbaren Werkzeuge im Toolkit abzurufen. Diese Werkzeuge umfassen Funktionen wie das Auflisten von Datenbanktabellen, das Abrufen von Schema-Informationen, das Ausführen von SQL-Abfragen und das Überprüfen der Korrektheit von SQL-Abfragen. Die letzte Zeile des Codes gibt die Liste der Werkzeuge aus, sodass der Benutzer die verfügbaren Werkzeuge und deren Beschreibungen einsehen kann."
   ]
  },
  {
   "cell_type": "code",
   "execution_count": 5,
   "metadata": {},
   "outputs": [
    {
     "name": "stderr",
     "output_type": "stream",
     "text": [
      "c:\\Users\\Hueck\\miniconda3\\envs\\RAG_retriever\\lib\\site-packages\\duckdb_engine\\__init__.py:174: DuckDBEngineWarning: duckdb-engine doesn't yet support reflection on indices\n",
      "  warnings.warn(\n"
     ]
    },
    {
     "name": "stdout",
     "output_type": "stream",
     "text": [
      "[QuerySQLDataBaseTool(description=\"Input to this tool is a detailed and correct SQL query, output is a result from the database. If the query is not correct, an error message will be returned. If an error is returned, rewrite the query, check the query, and try again. If you encounter an issue with Unknown column 'xxxx' in 'field list', use sql_db_schema to query the correct table fields.\", db=<langchain_community.utilities.sql_database.SQLDatabase object at 0x0000025EC9559D60>), InfoSQLDatabaseTool(description='Input to this tool is a comma-separated list of tables, output is the schema and sample rows for those tables. Be sure that the tables actually exist by calling sql_db_list_tables first! Example Input: table1, table2, table3', db=<langchain_community.utilities.sql_database.SQLDatabase object at 0x0000025EC9559D60>), ListSQLDatabaseTool(db=<langchain_community.utilities.sql_database.SQLDatabase object at 0x0000025EC9559D60>), QuerySQLCheckerTool(description='Use this tool to double check if your query is correct before executing it. Always use this tool before executing a query with sql_db_query!', db=<langchain_community.utilities.sql_database.SQLDatabase object at 0x0000025EC9559D60>, llm=ChatOpenAI(client=<openai.resources.chat.completions.Completions object at 0x0000025EC955E7F0>, async_client=<openai.resources.chat.completions.AsyncCompletions object at 0x0000025EC954B820>, root_client=<openai.OpenAI object at 0x0000025EC9555CD0>, root_async_client=<openai.AsyncOpenAI object at 0x0000025EC955E550>, model_name='gpt-4o-mini', model_kwargs={}, openai_api_key=SecretStr('**********')), llm_chain=LLMChain(verbose=False, prompt=PromptTemplate(input_variables=['dialect', 'query'], input_types={}, partial_variables={}, template='\\n{query}\\nDouble check the {dialect} query above for common mistakes, including:\\n- Using NOT IN with NULL values\\n- Using UNION when UNION ALL should have been used\\n- Using BETWEEN for exclusive ranges\\n- Data type mismatch in predicates\\n- Properly quoting identifiers\\n- Using the correct number of arguments for functions\\n- Casting to the correct data type\\n- Using the proper columns for joins\\n\\nIf there are any of the above mistakes, rewrite the query. If there are no mistakes, just reproduce the original query.\\n\\nOutput the final SQL query only.\\n\\nSQL Query: '), llm=ChatOpenAI(client=<openai.resources.chat.completions.Completions object at 0x0000025EC955E7F0>, async_client=<openai.resources.chat.completions.AsyncCompletions object at 0x0000025EC954B820>, root_client=<openai.OpenAI object at 0x0000025EC9555CD0>, root_async_client=<openai.AsyncOpenAI object at 0x0000025EC955E550>, model_name='gpt-4o-mini', model_kwargs={}, openai_api_key=SecretStr('**********')), output_parser=StrOutputParser(), llm_kwargs={}))]\n"
     ]
    }
   ],
   "source": [
    "from langchain_community.agent_toolkits import SQLDatabaseToolkit\n",
    "from langchain_community.utilities import SQLDatabase\n",
    "\n",
    "db = SQLDatabase.from_uri(\"duckdb:///data/magpie.db\")\n",
    "toolkit = SQLDatabaseToolkit(db=db, llm=llm)\n",
    "\n",
    "tools = toolkit.get_tools()\n",
    "\n",
    "print(tools)"
   ]
  },
  {
   "cell_type": "markdown",
   "metadata": {},
   "source": [
    "### Prompt Template generieren \n",
    "\n",
    "In diesem Code wird das `langchain`-Paket verwendet, um ein Prompt-Template von `langchain-ai` zu laden und zu überprüfen. Zuerst wird die `hub`-Funktion aus dem `langchain`-Paket importiert, um auf Modelle und Vorlagen im LangChain Hub zuzugreifen. Mit `hub.pull(\"langchain-ai/sql-agent-system-prompt\")` wird ein spezifisches Prompt-Template abgerufen, in diesem Fall das `sql-agent-system-prompt`. `sql-agent-system-prompt` ist ein vordefiniertes Prompt-Template. Es dient als Vorlage für die Interaktion mit einer SQL-Datenbank über ein Sprachmodell. Dieses Template ist speziell für die Verwendung mit SQL-Agenten konzipiert, die SQL-Abfragen generieren oder validieren können.\n",
    "\n",
    "Der Code prüft weiterhin mit `assert len(prompt_template.messages) == 1`, ob das geladene Template genau eine Nachricht enthält. Falls dies nicht zutrifft, wird ein Abbruch ausgelöst. Abschließend wird mit `prompt_template.messages[0].pretty_print()` die Nachricht im Template in einem gut lesbaren Format ausgegeben, um sicherzustellen, dass der Inhalt korrekt geladen wurde."
   ]
  },
  {
   "cell_type": "code",
   "execution_count": 6,
   "metadata": {},
   "outputs": [
    {
     "name": "stderr",
     "output_type": "stream",
     "text": [
      "c:\\Users\\Hueck\\miniconda3\\envs\\RAG_retriever\\lib\\site-packages\\langsmith\\client.py:261: LangSmithMissingAPIKeyWarning: API key must be provided when using hosted LangSmith API\n",
      "  warnings.warn(\n"
     ]
    },
    {
     "name": "stdout",
     "output_type": "stream",
     "text": [
      "================================\u001b[1m System Message \u001b[0m================================\n",
      "\n",
      "You are an agent designed to interact with a SQL database.\n",
      "Given an input question, create a syntactically correct \u001b[33;1m\u001b[1;3m{dialect}\u001b[0m query to run, then look at the results of the query and return the answer.\n",
      "Unless the user specifies a specific number of examples they wish to obtain, always limit your query to at most \u001b[33;1m\u001b[1;3m{top_k}\u001b[0m results.\n",
      "You can order the results by a relevant column to return the most interesting examples in the database.\n",
      "Never query for all the columns from a specific table, only ask for the relevant columns given the question.\n",
      "You have access to tools for interacting with the database.\n",
      "Only use the below tools. Only use the information returned by the below tools to construct your final answer.\n",
      "You MUST double check your query before executing it. If you get an error while executing a query, rewrite the query and try again.\n",
      "\n",
      "DO NOT make any DML statements (INSERT, UPDATE, DELETE, DROP etc.) to the database.\n",
      "\n",
      "To start you should ALWAYS look at the tables in the database to see what you can query.\n",
      "Do NOT skip this step.\n",
      "Then you should query the schema of the most relevant tables.\n",
      "You are Sparklehorse, a chatbot for the Stifterverband organization. Your primary task is to answer questions related to the Magpie database.\n"
     ]
    }
   ],
   "source": [
    "from langchain import hub\n",
    "\n",
    "prompt_template = hub.pull(\"langchain-ai/sql-agent-system-prompt\")\n",
    "\n",
    "assert len(prompt_template.messages) == 1, \"Die Anzahl der Nachrichten im Template ist nicht 1!\"\n",
    "# Bearbeite die bestehende Nachricht, indem du Text hinzufügst\n",
    "prompt_template.messages[0].prompt.template += (\n",
    "    \"\\nYou are Sparklehorse, a chatbot for the Stifterverband organization. \"\n",
    "    \"Your primary task is to answer questions related to the Magpie database.\"\n",
    ")\n",
    "\n",
    "prompt_template.messages[0].pretty_print()"
   ]
  },
  {
   "cell_type": "markdown",
   "metadata": {},
   "source": [
    "Wir befüllen nun die Objekte, die in `prompt_template` bisher nur als Platzhalter definiert sind. Diese sind:\n",
    "1. `dialect`\n",
    "2. `top_k`\n",
    "\n",
    " `dialect` meint den SQL-Dialekt der verwendeten Datenbank. `top_k` bestimmt die Anzahl der zurückgegebenen, *besten Ergebnisse*. In diesem Kontext bedeutet *beste Ergebnisse* die Auswahl der relevantesten oder nützlichsten Ergebnisse der Abfragen, etwa bzgl. der Relevanz im Zusammenhang mit einer Abfrage.\n"
   ]
  },
  {
   "cell_type": "code",
   "execution_count": 7,
   "metadata": {},
   "outputs": [
    {
     "name": "stdout",
     "output_type": "stream",
     "text": [
      "System: You are an agent designed to interact with a SQL database.\n",
      "Given an input question, create a syntactically correct duckdb query to run, then look at the results of the query and return the answer.\n",
      "Unless the user specifies a specific number of examples they wish to obtain, always limit your query to at most 5 results.\n",
      "You can order the results by a relevant column to return the most interesting examples in the database.\n",
      "Never query for all the columns from a specific table, only ask for the relevant columns given the question.\n",
      "You have access to tools for interacting with the database.\n",
      "Only use the below tools. Only use the information returned by the below tools to construct your final answer.\n",
      "You MUST double check your query before executing it. If you get an error while executing a query, rewrite the query and try again.\n",
      "\n",
      "DO NOT make any DML statements (INSERT, UPDATE, DELETE, DROP etc.) to the database.\n",
      "\n",
      "To start you should ALWAYS look at the tables in the database to see what you can query.\n",
      "Do NOT skip this step.\n",
      "Then you should query the schema of the most relevant tables.\n",
      "You are Sparklehorse, a chatbot for the Stifterverband organization. Your primary task is to answer questions related to the Magpie database.\n"
     ]
    }
   ],
   "source": [
    "system_message = prompt_template.format(\n",
    "    dialect=db.dialect, \n",
    "    top_k=5\n",
    ")\n",
    "\n",
    "print(system_message)\n"
   ]
  },
  {
   "cell_type": "markdown",
   "metadata": {},
   "source": [
    "### Agent generieren    \n",
    "\n",
    "Es wird nun eine Instanz eines *React-Agenten* aus der `langchain_core` und `langgraph` Bibliothek erstellt und konfiguriert. Im einzelnen passiert das Folgende: Die Funktion `create_react_agent(llm, tools, state_modifier=system_message)` erstellt einen neuen Agenten, der auf das bereitgestellte Sprachmodell (`llm`) und eine Sammlung von Werkzeugen (`tools`) zugreifen kann, um Aufgaben zu erledigen. Das Sprachmodell (`llm`) ist die Instanz eines Modells `gpt-4o-mini`, das vom Agenten verwendet wird, während tools die Werkzeuge sind, mit denen der Agent auf Daten zugreifen oder Aktionen durchführen kann, zum Beispiel eine SQL-Datenbankabfrage oder APIs. `state_modifier=system_message` gibt eine Systemnachricht an, die die Rolle des Agenten und seine Aufgaben innerhalb des Systems beschreibt, einschließlich der Anweisungen, wie der Agent mit den Eingaben des Benutzers umgehen soll. Die erstellte Instanz des React-Agenten wird in der Variablen `agent_executor` gespeichert, die dann verwendet wird, um Interaktionen mit einem Benutzer zu führen und die entsprechenden Werkzeuge anzuwenden."
   ]
  },
  {
   "cell_type": "code",
   "execution_count": 8,
   "metadata": {},
   "outputs": [
    {
     "data": {
      "image/png": "[encoded data removed]",
      "text/plain": [
       "<langgraph.graph.state.CompiledStateGraph object at 0x0000025ED1287250>"
      ]
     },
     "execution_count": 8,
     "metadata": {},
     "output_type": "execute_result"
    }
   ],
   "source": [
    "from langchain_core.messages import HumanMessage\n",
    "from langgraph.prebuilt import create_react_agent\n",
    "\n",
    "agent_executor = create_react_agent(llm, tools, state_modifier=system_message)\n",
    "agent_executor"
   ]
  },
  {
   "cell_type": "markdown",
   "metadata": {},
   "source": [
    "### Retriever Tool"
   ]
  },
  {
   "cell_type": "code",
   "execution_count": 9,
   "metadata": {},
   "outputs": [
    {
     "name": "stdout",
     "output_type": "stream",
     "text": [
      "['Fachhochschule Potsdam', 'Fachhochschule für öffentliche Verwaltung, Polizei und Rechtspflege in Güstrow', 'Internationale Hochschule für Wirtschaft, Technik und Kultur gGmbH', 'Staatliche Hochschule für Musik und Darstellende Kunst', 'Technische Hochschule Georg Agricola für Rohstoff, Energie und Umwelt Bochum', 'Julius-Maximilians-Universität Würzburg (Klinikum)', 'Universitätsklinikum Gießen und Marburg, Abt. Gießen', 'Technische Hochschule Köln', 'Hochschule des Bundes, FB Bundeswehrverwaltung, Mannheim', 'Thüringer Fachhochschule für öffentliche Verwaltung Gotha', 'Technische Hochschule Brandenburg', 'Hochschule Ansbach', 'Ruprecht-Karls-Universität Heidelberg  Medizinische Fakultät Mannheim', 'Fachhochschule Westküste Hochschule für Wirtschaft & Technik', 'Staatliche Akademie der Bildenden Künste Stuttgart', 'Hochschule für Gesundheit University of Applied Sciences', 'Hochschule für Gestaltung Offenbach am Main', 'BiTS Business and Information Technology School gGmbH Campus Iserlohn', 'Universität Bremen', 'Hochschule Bonn-Rhein-Sieg', 'Touro College Berlin', 'Evangelische Hochschule Nürnberg', 'Jacobs University Bremen gGmbH', 'Universität Greifswald (Klinikum)', 'Theologische Fakultät Trier', 'EBC Hochschule Campus Hamburg', 'Hochschule Fresenius Idstein', 'Goethe-Universität Frankfurt am Main (ohne Klinikum)', 'Private Hochschule für Wirtschaft und Technik', 'Johannes Gutenberg-Universität Mainz', 'Hochschule für Technik und Wirtschaft des Saarlandes', 'Universität des Saarlandes Medizinische Fakultät', 'Kirchliche Hochschule Wuppertal/Bethel Hochschule für Kirche und Diakonie', 'Hochschule für Musik Hanns Eisler Berlin', 'Universität Hohenheim', 'Akademie der Polizei Hamburg', 'Hochschule der Polizei des Landes Brandenburg', 'Hochschule für internationale Wirtschaft und Logistik', 'Justus-Liebig-Universität Gießen', 'Hochschule Macromedia für angewandte Wissenschafte (ehem. MHMK) University of Applied Sciences, Bayern', 'HMU Health and Medical University Potsdam', 'Universität Leipzig (Klinikum)', 'Ostfalia Hochschule für angewandte Wissenschaften Hochschule Braunschweig/Wolfenbüttel', 'HAWK Hochschule für angewandte Wissenschaft und Künste (Hildesheim/Holzminden/Göttingen)', 'Universitätsklinikum Gießen und Marburg, Abt. Marburg', 'Fachhochschule im Deutschen Roten Kreuz', 'Universität zu Köln (ohne Klinikum)', 'Hessische Hochschule für Polizei und Verwaltung Wiesbaden', 'Norddeutsche Hochschule für Rechtspflege, Hildesheim', 'Hochschule für Bildende Künste Braunschweig', 'Hochschule Mittweida University of Applied Sciences', 'Merz Akademie, Hochschule für Gestaltung, Kunst und Medien Stuttgart', 'Pädagogische Hochschule Weingarten', 'Universität Rostock (ohne Klinikum)', 'Hochschule Augsburg', 'Pädagogische Hochschule Freiburg', 'Heinrich-Heine-Universität Düsseldorf (ohne Klinikum)', 'Hochschule Karlsruhe Technik und Wirtschaft', 'Heinrich-Heine-Universität Düsseldorf (Klinikum)', 'Hochschule Neubrandenburg', 'Edenkoben, Hochschule für Finanzen Rheinland-Pfalz', 'Jade Hochschule Wilhelmshaven/Oldenburg/Elsfleth', 'Ruprecht-Karls-Universität Heidelberg (ohne Klinikum)', 'Hochschule Bremerhaven', 'Hochschule Trier Trier University of Applied Sciences', 'Leuphana Universität Lüneburg', 'HMKW Hochschule für Medien, Kommunikation und Wirtschaft', 'Fachhochschule Wedel', 'Hochschule Esslingen', 'Hochschule Worms', 'Katholische Hochschule für Soziale Arbeit', 'Vogtländische Fachhochschule Plauen', 'Hochschule für den öffentlichen Dienst in Bayern', 'Ruhr-Universität Bochum (ohne Klinikum)', 'Fachhochschule Lübeck', 'Carl von Ossietzky Universität Oldenburg', 'Munich Business School GmbH', 'Universität Kassel', 'Universität der Bundeswehr München (FB Fachhochschulstudiengänge)', 'Hochschule für Musik und Theater \"Felix Mendelssohn Bartholdy\" Leipzig', 'Fachhochschule Kempten Hochschule für angewandte Wissenschaften', 'Wilhelm Büchner Hochschule', 'Martin-Luther-Universität Halle-Wittenberg (Klinikum)', 'Staats- und Universitätsbibliothek Hamburg Carl von Ossietzky', 'EBC Hochschule Campus Dresden', 'Hochschule für Musik Detmold', 'Fachhochschule für die Wirtschaft Hannover (FHDW)', 'SRH Hochschule Calw', 'Hochschule Nordhausen University of Applied Sciences', 'Norddeutsche Akademie für Finanzen und Steuerrecht Hamburg', 'praxisHochschule Köln University of Applied Science', 'Duale Hochschule Gera-Eisenach', 'Hochschule Hamm-Lippstadt', 'Baltic College', 'Hochschule des Bundes, FB Bundespolizei, Lübeck', 'Kunstakademie Münster Hochschule für Bildende Künste', 'Katholische Hochschule Mainz', 'Staatliche Hochschule für Musik', 'Rheinische Friedrich-Wilhelms- Universität Bonn (Klinikum)', 'Technische Universität Clausthal', 'Hochschule Bremen', 'EBZ Business School University of Applied Sciences', 'Hochschule für Kirchenmusik der Evangelischen Kirche von Westfalen', 'Evangelische Hochschule für Kirchenmusik', 'Evangelische Hochschule für soziale Arbeit und Diakonie', 'Mediadesign Hochschule für Design und Informatik GmbH', 'Staatliche Hochschule für Musik und Darstellende Kunst Mannheim', 'Fachhochschule der Diakonie', 'Hochschule Offenburg', 'Hochschule für angewandte Wissenschaften Würzburg-Schweinfurt', 'Hochschule Zittau/Görlitz (FH)', 'Fliedner Fachhochschule Düsseldorf', 'DHGS Deutsche Hochschule für Gesundheit & Sport', 'International Business School of Service Management', 'Medizinische Hochschule Hannover (MHH)', 'Hamburger Fern-Hochschule gGmbH', 'Evangelische Fachhochschule Hannover', 'Provadis School of International Management and Technology AG', 'Friedrich-Alexander Universität Erlangen-Nürnberg (ohne Klinikum)', 'Hochschule Aschaffenburg', 'Hertie School of Governance GmbH', 'Universität Konstanz', 'Hochschule Rosenheim', 'Universität Vechta', 'Technische Hochschule Ingolstadt', 'Hochschule für Technik und Wirtschaft Berlin', 'Hochschule für Gesundheitsorientierte Wissenschaften Rhein-Neckar (HGWR)', 'Hochschule für Politik München Bavarian School of Public Policy', 'Frankfurt University of Applied Sciences', 'media Akademie – Hochschule Stuttgart', 'Universitätsmedizin der Johannes Gutenberg-Universität Mainz', 'Universität Erfurt', 'BEST-Sabel-Hochschule Berlin', 'Hochschule des Bundes, FB Finanzen, Münster', 'Hochschule für Telekommunikation Leipzig', 'Friedrich-Schiller-Universität Jena (ohne Klinikum)', 'CODE University of Applied Sciences Berlin', 'Hochschule Osnabrück', 'Technische Universität Dresden (Klinikum)', 'Hochschule Stralsund', 'Pädagogische Hochschule Schwäbisch Gmünd', 'Hochschule Mannheim', 'Hochschule für Künste Bremen', 'Hochschule für Philosophie München', 'Staatliche Hochschule für Gestaltung', 'IST-Hochschule für Management GmbH', 'GGS German Graduate School of Management and Law gGmbH', 'Technische Hochschule Bingen', 'UNIKIMS - die Management School der Universität Kassel', 'Albert-Ludwigs-Universität Freiburg (ohne Klinikum)', 'Hochschule Flensburg University of Applied Sciences', 'Hochschule Reutlingen', 'Freie Hochschule Stuttgart Seminar für Waldorfpädagogik', 'Gustav-Siewert-Akademie', 'Universität der Künste Berlin', 'Hochschule des Bundes, FB Sozialversicherung in Berlin', 'Alice Salomon Hochschule Berlin', 'Muthesius-Kunsthochschule', 'HTWK Leipzig Hochschule für Technik, Wirtschaft und Kultur Leipzig', 'Hochschule Fresenius Idstein in Berlin', 'Katholische Hochschule Freiburg Catholic University of Applied Sciences', 'Hochschule für Wirtschaft und Recht Berlin', 'Internationale Hochschule für Exekutives Management', 'Universität Mannheim', 'Ruprecht-Karls-Universität Heidelberg (Klinikum)', 'German open Business School - HS für Wirtschaft und Verwaltung Berlin (Priv- FH)', 'Westfälische Hochschule', 'Hochschule für Bildende Künste Dresden', 'Charite - Universitätsmedizin Berlin', 'Fachhochschule für Finanzen Nordrhein-Westfalen', 'Theologische Fakultät Paderborn Rektorat', 'Technische Universität Dortmund', 'Deutsche Hochschule der Polizei', 'FOM Hochschule für Oekonomie & Management gemeinnützige GmbH', 'Hochschule für Musik und Theater Rostock', 'Hochschule für Musik Würzburg', 'Fachhochschule für Verwaltung und Dienstleistung Altenholz', 'Hochschule Kaiserslautern', 'Hochschule Anhalt', 'Hochschule der Polizei Rheinland-Pfalz in Büchenbeuren', 'Musikhochschule Lübeck', 'Deutsche Sporthochschule Köln', 'Hochschule Schmalkalden', 'Hochschule Ulm', 'Georg-August-Universität Göttingen (Klinikum)', 'Rheinische Fachhochschule Köln gGmbH', 'Philosophisch-Theologische Hochschule Vallendar', 'FH KUNST Arnstadt', 'Hochschule Pforzheim', 'Hochschule für angewandtes Management GmbH', 'HSBA Hamburg School of Business Administration', 'Staatliche Hochschule für Bildende Künste (Städelschule)', 'Universitätsklinikum Schleswig-Holstein', 'Kunsthochschule für Medien', 'Filmuniversität Babelsberg Konrad Wolf', 'Staatliche Akademie der Bildenden Künste', 'Hochschule Hannover', 'Freie Universität Berlin', 'FernUniversität in Hagen', 'Theologische Hochschule Friedensau', 'KÜHNE Logistik Universität Wissenschaftliche Hochschule für Logistik und Unternehmensführung', 'Hochschule Darmstadt University of Applied Sciences', 'Hochschule  gGmbH', 'RWTH Aachen (Klinikum)', 'Esmod Berlin Internationale Kunsthochschule für Mode', 'Hochschule Mainz University of Applied Sciences', 'Private Fachhochschule Döpfer für Physiotherapie und Ergotherapie', 'Hochschule für Kommunikation und Gestaltung', 'Evangelische Fachhochschule Rheinland-Westfalen-Lippe', 'Universität Bayreuth', 'Hochschule Ludwigsburg für öffentliche Verwaltung und Finanzen', 'Hochschule des Bundes, FB Landwirtschaftliche Sozialversicherung in Kassel', 'Technische Universität Braunschweig', 'Hochschule für Fernsehen und Film München', 'Dresden International University GmbH', 'Hochschule der Bildenden Künste Saar', 'Pädagogische Hochschule Heidelberg', 'Hochschule Ostwestfalen-Lippe', 'Katholische Universität Eichstätt-Ingolstadt', 'Deutsche Universität für Weiterbildung', 'Fachhochschule für Rechtspflege Nordrhein-Westfalen', 'Bauhaus-Universität Weimar', 'Eberhard Karls Universität Tübingen (Klinikum)', 'Hochschule Magdeburg-Stendal', 'Universität Greifswald Medizinische Fakultät', 'IB-Hochschule Berlin', 'Theologische Fakultät Fulda', 'Hochschule Düsseldorf', 'Rheinische Fachhochschule Neuss für Internationale Wirtschaft', 'Fachhochschule für Sport und Management der Europäischen Sportakademie Land Brandenburg gGmbH', 'Private Universität Witten/Herdecke gGmbH (ohne Klinikum)', 'Barenboim-Said Akademie Berlin', 'Universität Koblenz-Landau', 'bbw Hochschule', 'Hochschule RheinMain University of Applied Sciences Wiesbaden Rüsselsheim', 'Brandenburgische Technische Universität Cottbus-Senftenberg', 'Fachhochschule für Verwaltung und Rechtspflege Berlin', 'Deutsche Hochschule für Prävention und Gesundheitsmanagement GmbH', 'Fachhochschule des Mittelstands (FHM) Bamberg', 'Hochschule für Technik Stuttgart', 'GA Hochschule der digitalen Gesellschaft', 'Otto-Friedrich-Universität Bamberg', 'Hochschule des Bundes, FB Allgemeine innere Verwaltung, Brühl', 'Ostbayerische Technische Hochschule Regensburg (OTH)', 'Hochschule für Jüdische Studien', 'Hochschule Harz Hochschule für angewandte Wissenschaften (FH)', 'Hochschule für internationales Management Heidelberg', 'Hessische Hochschule für Finanzen und Rechtspflege Rotenburg', 'Universität zu Köln (Klinikum)', 'Hochschule der Sächsischen Polizei', 'BHH Berufliche Hochschule Hamburg', 'Universität Ausgburg (Klinikum)', 'Philosophisch-Theologische Hochschule Theologische Fakultät Sankt Augustin', 'Beuth Hochschule für Technik Berlin', 'Hochschule und Institut für ev. Kirchenmusik Bayreuth', 'Helmut-Schmidt-Universität Universität der Bundeswehr Hamburg', 'Hochschule Fresenius Idstein in Hamburg', 'Hochschule Koblenz', 'UMC POTSDAM -University of Management and Communication (FH) gGmbH', 'Evangelische Hochschule Ludwigsburg', 'Kunstakademie Düsseldorf', 'International School of Management', 'Hochschule für Musik, Theater und Medien Hannover', 'Universität Ulm (ohne Klinikum)', 'Berliner Technische Kunsthochschule', 'MSH Medical School Hamburg Fachhochschule für Gesundheit und Medizin', 'Kirchliche Hochschule Bethel', 'Hochschule für Rechtspflege Schwetzingen', 'SRH FernHochschule - The Mobile University', 'Stiftung Tierärztliche Hochschule Hannover', 'Universität Stuttgart', 'Berlin International University of Applied Sciences', 'NBS Northern Business School', 'MSB Medical School Berlin Hochschule für Gesundheit und Medizin', 'Medizinische Hochschule Brandenburg Theodor Fontane (MHB)', 'Hochschule Fresenius Idstein in Köln', 'Fachhochschule Schwäbisch Hall', 'Katholische Hochschule für Sozialwesen Berlin', 'Hochschule Aalen', 'Internationale Hochschule Calw', 'PFH Private Hochschule Göttingen', 'Technische Universität München (ohne Klinikum)', 'Hochschule für Angewandte Sprachen Sprachen & Dolmetscher Institut München', 'Universität Bielefeld', 'Technische Universität Chemnitz', 'DIPLOMA Private Hochschulgesellschaft mbH', 'Evangelische Fachhochschule Darmstadt University of Applied Sciences', 'Universität Hamburg (Klinikum)', 'HafenCity Universität Hamburg Universität für Baukunst und Metropolenentwicklung', 'Hochschule Weihenstephan-Triesdorf', 'Hochschule Biberach', 'Fachhochschule für öffentliche Verwaltung NRW', 'Staatliche Fachhochschule für Polizei Villingen-Schwenningen', 'Technische Universität Bergakademie Freiberg', 'DEKRA Hochschule Berlin', 'Hochschule der Medien', 'Hochschule Lausitz (FH), University of Applied Sciences', 'Hochschule für Schauspielkunst \"Ernst Busch\"', 'Christian-Albrechts-Universität zu Kiel', 'Europa-Universität Flensburg', 'Evangelische Fachhochschule Ludwigshafen', 'Hochschule für Musik FRANZ LISZT', 'Hochschule für Angewandte Wissenschaften Neu-Ulm', 'Europäische Fernhochschule Hamburg GmbH', 'Universität Regensburg (ohne Klinikum)', 'Technische Hochschule Nürnberg Georg Simon Ohm', 'Westsächsische Hochschule Zwickau', 'Universität Rostock (Klinikum)', 'Apollon Hochschule der Gesundheitswirtschaft', 'AKAD University, Sachsen', 'HSD Hochschule Döpfer GmbH', 'Hochschule des Bundes, FB Wetterdienst in Langen', 'Internationale Hochschule Liebenzell', 'EBS Universität für Wirtschaft und Recht', 'Hochschule Merseburg', 'Universität Duisburg-Essen  (ohne Klinikum)', 'Hochschule Konstanz Technik, Wirtschaft und Gestaltung', 'Mathias Hochschule in Rheine', 'Fachhochschule der Wirtschaft Nordrhein-Westfalen gGmbH', 'Akkon-Hochschule für Humanwissenschaften', 'Hochschule für Angewandte Wissenschaften Hamburg', 'Hochschule der Sächsischen Polizei (FH)', 'Nordakademie Hochschule der Wirtschaft', 'Hochschule der Bayerischen Wirtschaft (HDBW) gGmbH', 'Hochschule des Bundes, FB Akademie Auswärtige Angelegenheiten in Berlin', 'Technische Universität Ilmenau', 'Universität der Bundeswehr München (FB Universitätsstudiengänge)', 'Hochschule für Musik Freiburg i. Br.', 'Ostbayerische Technische Hochschule Amberg-Weiden (OTH)', 'Fachhochschule Erfurt', 'Fachhochschule Südwestfalen', 'Fachhochschule des Mittelstandes (FHM)', 'Pädagogische Hochschule Karlsruhe', 'Fachhochschule Aachen', 'Berufsakademie Hamburg', 'Hochschule Emden/Leer', 'Universität Paderborn', 'Universität Hamburg (ohne Klinikum)', 'SRH Fachhochschule für Gesundheit Gera gGmbH University of Applied Science', 'DBU Digital Business University of Applied Sciences GmbH', 'Stiftung Universität Hildesheim', 'Humboldt-Universität zu Berlin', 'Private Hanseuniversität', 'Westfälische Wilhelms-Universität Münster (Klinikum)', 'Duale Hochschule Baden-Württemberg', 'Hochschule Heilbronn Technik, Wirtschaft, Informatik', 'IUBH Internationale Hochschule GmbH IUBH University of Applied Sciences', 'Philosophisch-Theologische Hochschule Sankt Georgen', 'EBC Hochschule Campus Düsseldorf', 'Hochschule für Musik und Darstellende Kunst Frankfurt am Main', 'Hochschule Coburg Hochschule für Angewandte Wissenschaften', 'Steinbeis-Hochschule-Berlin DUW Institut für Weiterbildung', 'Universität Leipzig (ohne Klinikum)', 'Technische Universität Darmstadt', 'Hochschule Rhein-Waal', 'CVJM-Hochschule', 'Universität Regensburg (Klinikum)', 'Universität des Saarlandes', 'Akademie der Bildenden Künste', 'Hochschule Macromedia für angewandte Wissenschafte (ehem. MHMK) University of Applied Sciences, Baden-Württemberg', 'Ludwig-Maximilians-Universität München (Klinikum)', 'Hochschule Weserbergland', 'Folkwang Universität der Künste', 'Technische Hochschule Wildau (FH)', 'BSP Business School Berlin Hochschule für Management', 'Private Universität Witten/Herdecke gGmbH (Klinikum)', 'Hochschule für Musik Carl Maria von Weber Dresden', 'Kommunale Hochschule für Verwaltung in Niedersachsen, Hannover', 'HHL Leipzig Graduate School of Management', 'Hochschule für Forstwirtschaft Rottenburg', 'Otto-von-Guericke-Universität Magdeburg (Klinikum)', 'Hochschule Fresenius Idstein in München', 'Akademie für digitale Medienproduktion', 'Hochschule für Musik Saar', 'Ludwig-Maximilians-Universität München (ohne Klinikum)', 'Hochschule für Kirchenmusik der Evangelischen Kirche der schlesischen Oberlausitz', 'Technische Hochschule Deggendorf', 'Psychologische Hochschule Berlin gGmbH', 'Leibniz-Fachhochschule School of Business', 'Universität Augsburg (ohne Klinikum)', 'Technische Universität Hamburg-Harburg', 'Rheinische Friedrich-Wilhelms- Universität Bonn (ohne Klinikum)', 'Fachhochschule Münster', 'Hochschule des Bundes, FB Arbeitsverwaltung, Mannheim', 'Hochschule für Musik Nürnberg', 'Internationales Hochschulinstitut Zittau', 'Hochschule für öffentliche Verwaltung Bremen', 'Universität Greifswald (ohne Klinikum)', 'Hochschule Furtwangen University of Applied Sciences', 'WHU - Otto Beisheim School of Management', 'Katholische Hochschule Nordrhein-Westfalen Catholic University of Applied Sciences', 'EBC Hochschule Campus Berlin', 'Hochschule für Grafik und Buchkunst Leipzig', 'Hochschule Meißen (FH) und Fortbildungszentrum', 'Hochschule für Kirchenmusik Dresden', 'Evangelische Hochschule für Soziale Arbeit Dresden (FH)', 'Universität Passau', 'Theologische Hochschule Reutlingen Staatlich anerkannte Fachhochschule der Evangelisch-methodistische Kirche', 'Hochschule Niederrhein', 'Alanus Hochschule gGmbH', 'Theologisches Seminar Elstal', 'Quadriga Hochschule Berlin GmbH', 'Pädagogische Hochschule Ludwigsburg', 'Hochschule der Deutschen Bundesbank Hachenburg', 'Hochschule der Bundesagentur für Arbeit', 'Universität Duisburg-Essen  (Klinikum)', 'DPFA Hochschule Sachsen', 'Palucca Hochschule für Tanz Dresden', 'VWA-Hochschule für berufsbegleitendes Studium', 'Hochschule für Wirtschaft und Umwelt Nürtingen-Geislingen (HfWU)', 'Akademie der Bildenden Künste München', 'Adam-Ries-Fachhochschule', 'Technische Universität München (Klinikum)', 'Ruhr-Universität Bochum (Klinikum)', 'Bucerius Law School gGmbH Hochschule für Rechtswissenschaft', 'SRH Hochschule Heidelberg', 'Zeppelin Universität gemeinnützige GmbH', 'AKAD University, Schleswig-Holstein', 'Hochschule für Musik Karlsruhe', 'Hochschule der Wirtschaft für Management gGmbH', 'Hochschule der bildenden Künste (HBK) Essen', 'Naturwissenschaftlich-Technische Akademie Prof. Dr. Grübler gGmbH Isny', 'Friedrich-Alexander Universität Erlangen-Nürnberg (Klinikum)', 'Vitruvius Hochschule Leipzig', 'Universität der Bundeswehr München', 'Karlsruher Institut für Technologie', 'Hochschule für angewandte Pädagogik', 'Eberhard Karls Universität Tübingen (ohne Klinikum)', 'Evangelische Hochschule Freiburg', 'Theologische Hochschule Ewersbach Kronberg-Forum', 'Hochschule Ludwigshafen am Rhein University of Applied Sciences', 'Hochschule für Musik und Theater', 'Evangelische Hochschule Tabor', 'Hochschule Hof', 'Fachhochschule für Finanzen Brandenburg', 'SRH Hochschule Berlin', 'SRH Hochschule der populären Künste', 'International Psychoanalytic University Berlin gGmbH', 'Fachhochschule Dresden Staatlich anerkannte Hochschule University of Applied Sciences', 'Augustana-Hochschule Neuendettelsau', 'Hochschule für bildende Künste (HFBK)', 'Bergische Universität Wuppertal', 'AMD Akademie Mode & Design', 'Hochschule Ravensburg-Weingarten', 'Universität Potsdam', 'Leibniz Universität Hannover', 'Hochschule für Katholische Kirchenmusik und Musikpädagogik', 'RWTH Aachen (ohne Klinikum)', 'Hochschule Esslingen University of Applied Sciences', 'Hochschule Geisenheim University', 'Technische Universität Dresden (ohne Klinikum)', 'Hochschule Landshut Hochschule für Angewandte Wissenschaften', 'Martin-Luther-Universität Halle-Wittenberg (ohne Klinikum)', 'Universität Osnabrück', 'Westfälische Wilhelms-Universität Münster (ohne Klinikum)', 'Hochschule für Technik und Wirtschaft Dresden', 'Universität zu Lübeck', 'Freie Theologische Hochschule Gießen', 'DGUV Akademie Hochschule der Deutschen Gesetzlichen Unfallversicherung', 'Universität Ulm (Klinikum)', 'International University in Germany', 'Bard College Berlin, a Liberal Arts University gGmbH', 'Fachhochschule für Forstwirtschaft', 'Otto-von-Guericke-Universität Magdeburg (ohne Klinikum)', 'Hochschule für Künste im Sozialen Ottersberg', 'Fachhochschule Kiel', 'Hochschule der Sparkassen-Finanzgruppe University of Applied Sciences - Bonn', 'Weißensee Kunsthochschule Berlin', 'Friedrich-Schiller-Universität Jena (Klinikum)', 'accadis Hochschule Bad Homburg (Priv. FH)', 'Europa-Universität Viadrina', 'Fachhochschule für öffentliche Verwaltung Kehl', 'Hochschule für angewandte Wissenschaften München', 'Philosophisch-Theologische Hochschule', 'Hochschule für öffentliche Verwaltung Rheinland-Pfalz, Mayen', 'SRH Hochschule für Logistik und Wirtschaft Hamm', 'AKAD, Wissenschaftliche Hochschule Lahr (Priv. Fern-H für Berufstätige)', 'Hochschule Albstadt-Sigmaringen', 'Hochschule Ruhr West', 'Hochschule für Musik und Tanz Köln', 'Cusanus Hochschule gGmbH', 'Fachhochschule Clara Hoffbauer Potsdam', 'Fachhochschule Oldenburg/Ostfriesland/Wilhelmshaven', 'Philipps-Universität Marburg', 'Technische Hochschule Mittelhessen', 'Goethe-Universität Frankfurt am Main (Klinikum)', 'Fachhochschule für Archivwesen Marburg', 'Hochschule für Gestaltung Schwäbisch Gmünd', 'Internationale Karlshochschule', 'Hochschule für nachhaltige Entwicklung Eberswalde - HNEE', 'Fachhochschule Dortmund', 'Lutherische Theologische Hochschule', 'Evangelische Hochschule Berlin', 'Fachhochschule für Verwaltung des Saarlandes', 'Wilhelm Löhe Hochschule (WLH)', 'Universität Trier', 'Georg-August-Universität Göttingen (ohne Klinikum)', 'Cologne Business School (CBS) European University of Applied Sciences', 'Hochschule für Kunsttherapie Nürtingen', 'Technische Universität Kaiserslautern', 'Technische Universität Berlin', 'Frankfurt School of Finance & Management gGmbH', 'Julius-Maximilians-Universität Würzburg (ohne Klinikum)', 'Hochschule Wismar University of Applied Sciences Technology, Business and Design', 'Philosophisch-Theologische Hochschule Benediktbeuern', 'Hochschule für Musik und Theater München', 'Hochschule Bochum', 'Albert-Ludwigs-Universität Freiburg (Klinikum)', 'Evangelische Hochschule Moritzburg', 'Ernst-Abbe-Hochschule Jena Hochschule für angewandte Wissenschaften', 'Universität Siegen', 'design akademie berlin Hochschule für Kommunikation und Design', 'Universität Rostock Medizinische Fakultät', 'ESCP Europe Wirtschaftshochschule Berlin', 'Europäische Fachhochschule Rhein/Erft', 'Burg Giebichenstein Kunsthochschule Halle', 'Niedersächsische Fachhochschule für Verwaltung und Rechtspflege', 'Deutsche Universität für Verwaltungswissenschaften Speyer', 'Robert-Schumann-Hochschule', 'ESMT European School of Management and Technology GmbH', 'Fachhochschule für Interkulturelle Theologie', 'Fachhochschule Bielefeld', 'Brand Academy Hochschule für Design und Kommunikation', 'Hochschule Fulda', 'Katholische Stiftungshochschule München']\n"
     ]
    }
   ],
   "source": [
    "import ast\n",
    "import re\n",
    "\n",
    "\n",
    "def query_as_list(db, query):\n",
    "    res = db.run(query)\n",
    "    res = [el for sub in ast.literal_eval(res) for el in sub if el]\n",
    "    res = [re.sub(r\"\\b\\d+\\b\", \"\", string).strip() for string in res]\n",
    "    return list(set(res))\n",
    "\n",
    "\n",
    "Variable = query_as_list(db, \"SELECT Variable FROM datensatz_drittmittel_hochschule \")\n",
    "Hochschule = query_as_list(db, \"SELECT Hochschule FROM datensatz_drittmittel_hochschule \")\n",
    "\n",
    "print(Hochschule)"
   ]
  },
  {
   "cell_type": "code",
   "execution_count": 10,
   "metadata": {},
   "outputs": [],
   "source": [
    "from langchain_openai import OpenAIEmbeddings\n",
    "\n",
    "embeddings = OpenAIEmbeddings(model=\"text-embedding-3-large\")"
   ]
  },
  {
   "cell_type": "code",
   "execution_count": 11,
   "metadata": {},
   "outputs": [],
   "source": [
    "from langchain_core.vectorstores import InMemoryVectorStore\n",
    "\n",
    "vector_store = InMemoryVectorStore(embeddings)"
   ]
  },
  {
   "cell_type": "code",
   "execution_count": 12,
   "metadata": {},
   "outputs": [],
   "source": [
    "from langchain.agents.agent_toolkits import create_retriever_tool\n",
    "\n",
    "_ = vector_store.add_texts(Variable + Hochschule)\n",
    "retriever = vector_store.as_retriever(search_kwargs={\"k\": 5})\n",
    "description = (\n",
    "    \"Use to look up values to filter on. Input is an approximate spelling \"\n",
    "    \"of the proper noun, output is valid proper nouns. Use the noun most \"\n",
    "    \"similar to the search.\"\n",
    ")\n",
    "retriever_tool = create_retriever_tool(\n",
    "    retriever,\n",
    "    name=\"search_proper_nouns\",\n",
    "    description=description,\n",
    ")"
   ]
  },
  {
   "cell_type": "code",
   "execution_count": 13,
   "metadata": {},
   "outputs": [
    {
     "name": "stdout",
     "output_type": "stream",
     "text": [
      "Freie Universität Berlin\n",
      "\n",
      "Humboldt-Universität zu Berlin\n",
      "\n",
      "Technische Universität Berlin\n",
      "\n",
      "Berlin International University of Applied Sciences\n",
      "\n",
      "Fachhochschule für Verwaltung und Rechtspflege Berlin\n"
     ]
    }
   ],
   "source": [
    "print(retriever_tool.invoke(\"FU Berlin\"))"
   ]
  },
  {
   "cell_type": "code",
   "execution_count": 14,
   "metadata": {},
   "outputs": [],
   "source": [
    "# Add to system message\n",
    "suffix = (\n",
    "    \"If you need to filter on a proper noun like a Name, you must ALWAYS first look up \"\n",
    "    \"the filter value using the 'search_proper_nouns' tool! Do not try to \"\n",
    "    \"guess at the proper name - use this function to find similar ones.\"\n",
    ")\n",
    "\n",
    "system = f\"{system_message}\\n\\n{suffix}\"\n",
    "\n",
    "tools.append(retriever_tool)\n",
    "\n",
    "agent = create_react_agent(llm, tools, state_modifier=system)"
   ]
  },
  {
   "cell_type": "code",
   "execution_count": 16,
   "metadata": {},
   "outputs": [
    {
     "name": "stdout",
     "output_type": "stream",
     "text": [
      "================================\u001b[1m Human Message \u001b[0m=================================\n",
      "\n",
      "Wie hoch waren die Drittmittel der FU in Jahr 2006 insgesamt\n",
      "==================================\u001b[1m Ai Message \u001b[0m==================================\n",
      "Tool Calls:\n",
      "  sql_db_list_tables (call_Svc1R63GyzRgRwX0u6CJ2YB9)\n",
      " Call ID: call_Svc1R63GyzRgRwX0u6CJ2YB9\n",
      "  Args:\n",
      "=================================\u001b[1m Tool Message \u001b[0m=================================\n",
      "Name: sql_db_list_tables\n",
      "\n",
      "antwort, chart_options_rules, daten, daten_frage, daten_quelle, daten_reichweite, datensatz_drittmittel_aggregiert, datensatz_drittmittel_hochschule, datensatz_fue_erhebung, datensatz_hbr_report, erhebung, erhebung_frage, erhebung_typ, erklaerung, erklaerung_link, frage, germany_choropleth_federal_states, glossar, kurse, menge, menge_zugehoerig, middle_points_of_ger_federal_states, mview_daten_beschr, mview_daten_id, mview_daten_reichweite_menge, quelle, reichweite, reichweite_klasse, reichweite_typ, stichprobe, studierende, studierende_detailliert, tabelle, tag, tag_link, variable, view_daten, view_daten_beschr, view_daten_beschr_string, view_daten_detailed, view_daten_id, view_daten_id_string, view_daten_link, view_daten_reichweite_menge, view_daten_struktur, view_erklaerung, view_identifier, view_info_tabellen, view_info_variablen, view_menge, view_quelle_baum, view_quelle_baum_lesbar, view_reichweite, view_tag_baum, view_tag_baum_lesbar, view_tag_link, view_tag_link_aggregated_beschr, view_tag_link_aggregated_id, wert_einheit, wrangling_input_view_daten, zeit_einheit\n",
      "==================================\u001b[1m Ai Message \u001b[0m==================================\n",
      "Tool Calls:\n",
      "  sql_db_schema (call_4vjlYr1QzD0PiC9OgLmpDbf2)\n",
      " Call ID: call_4vjlYr1QzD0PiC9OgLmpDbf2\n",
      "  Args:\n",
      "    table_names: datensatz_drittmittel_hochschule\n",
      "=================================\u001b[1m Tool Message \u001b[0m=================================\n",
      "Name: sql_db_schema\n",
      "\n",
      "\n",
      "CREATE TABLE datensatz_drittmittel_hochschule (\n",
      "\tjahr INTEGER, \n",
      "\tid INTEGER, \n",
      "\t\"Variable\" VARCHAR, \n",
      "\t\"Zeit\" TIMESTAMP WITHOUT TIME ZONE, \n",
      "\t\"Hochschule\" VARCHAR, \n",
      "\t\"Wert\" NUMERIC(18, 3), \n",
      "\t\"Einheit\" VARCHAR, \n",
      "\t\"Quelle\" VARCHAR\n",
      ")\n",
      "\n",
      "/*\n",
      "3 rows from datensatz_drittmittel_hochschule table:\n",
      "jahr\tid\tVariable\tZeit\tHochschule\tWert\tEinheit\tQuelle\n",
      "2006\t30746\tDrittmittel vom Bund\t2006-01-01 00:00:00\tUniversität Kassel\t3966.000\tin Tsd. Euro\tDestatis (Sonderauswertung)\n",
      "2007\t30747\tDrittmittel vom Bund\t2007-01-01 00:00:00\tUniversität Kassel\t6274.000\tin Tsd. Euro\tDestatis (Sonderauswertung)\n",
      "2008\t30748\tDrittmittel vom Bund\t2008-01-01 00:00:00\tUniversität Kassel\t5980.000\tin Tsd. Euro\tDestatis (Sonderauswertung)\n",
      "*/\n",
      "==================================\u001b[1m Ai Message \u001b[0m==================================\n",
      "Tool Calls:\n",
      "  sql_db_query_checker (call_P0uhvygBEYJGd8FxFkjvhONX)\n",
      " Call ID: call_P0uhvygBEYJGd8FxFkjvhONX\n",
      "  Args:\n",
      "    query: SELECT SUM(Wert) as Total_Drittmittel FROM datensatz_drittmittel_hochschule WHERE jahr = 2006 AND Hochschule = 'FU Berlin'\n",
      "=================================\u001b[1m Tool Message \u001b[0m=================================\n",
      "Name: sql_db_query_checker\n",
      "\n",
      "```sql\n",
      "SELECT SUM(Wert) as Total_Drittmittel FROM datensatz_drittmittel_hochschule WHERE jahr = 2006 AND Hochschule = 'FU Berlin'\n",
      "```\n",
      "==================================\u001b[1m Ai Message \u001b[0m==================================\n",
      "Tool Calls:\n",
      "  search_proper_nouns (call_5jL5mW9ILzQ0MK94sNtbZpMt)\n",
      " Call ID: call_5jL5mW9ILzQ0MK94sNtbZpMt\n",
      "  Args:\n",
      "    query: FU\n",
      "=================================\u001b[1m Tool Message \u001b[0m=================================\n",
      "Name: search_proper_nouns\n",
      "\n",
      "Friedrich-Alexander Universität Erlangen-Nürnberg (ohne Klinikum)\n",
      "\n",
      "Freie Universität Berlin\n",
      "\n",
      "Friedrich-Alexander Universität Erlangen-Nürnberg (Klinikum)\n",
      "\n",
      "Hochschule Furtwangen University of Applied Sciences\n",
      "\n",
      "Fachhochschule des Mittelstandes (FHM)\n",
      "==================================\u001b[1m Ai Message \u001b[0m==================================\n",
      "Tool Calls:\n",
      "  sql_db_query (call_aZmUnoLLyCwfWa3Wnv0j10PY)\n",
      " Call ID: call_aZmUnoLLyCwfWa3Wnv0j10PY\n",
      "  Args:\n",
      "    query: SELECT SUM(Wert) as Total_Drittmittel FROM datensatz_drittmittel_hochschule WHERE jahr = 2006 AND Hochschule = 'Freie Universität Berlin'\n",
      "=================================\u001b[1m Tool Message \u001b[0m=================================\n",
      "Name: sql_db_query\n",
      "\n",
      "[(Decimal('116034.000'),)]\n",
      "==================================\u001b[1m Ai Message \u001b[0m==================================\n",
      "\n",
      "Die Drittmittel der Freien Universität Berlin im Jahr 2006 betrugen insgesamt 116.034.000 Euro.\n"
     ]
    }
   ],
   "source": [
    "question = \"Wie hoch waren die Drittmittel der FU in Jahr 2006 insgesamt\"\n",
    "\n",
    "for step in agent.stream(\n",
    "    {\"messages\": [{\"role\": \"user\", \"content\": question}]},\n",
    "    stream_mode=\"values\",\n",
    "):\n",
    "    step[\"messages\"][-1].pretty_print()"
   ]
  },
  {
   "cell_type": "code",
   "execution_count": null,
   "metadata": {},
   "outputs": [],
   "source": [
    "print(db.run(\"SHOW TABLES\"))  # Prüft, ob \"Kassel_University\" oder eine andere relevante Tabelle existiert\n",
    "columns = db.run(\"PRAGMA table_info(datensatz_drittmittel_hochschule)\")\n",
    "print(columns)  # Schau dir die Struktur an"
   ]
  },
  {
   "cell_type": "code",
   "execution_count": null,
   "metadata": {},
   "outputs": [],
   "source": [
    "import pandas as pd\n",
    "import duckdb\n",
    "\n",
    "conn = duckdb.connect(\"data/drittmittel_hs.db\")\n",
    "cursor = conn.cursor()\n",
    "query = \"SELECT * FROM datensatz_drittmittel_hochschule;\"\n",
    "df = pd.read_sql(query, conn)\n",
    "df"
   ]
  }
 ],
 "metadata": {
  "kernelspec": {
   "display_name": "RAG_retriever",
   "language": "python",
   "name": "python3"
  },
  "language_info": {
   "codemirror_mode": {
    "name": "ipython",
    "version": 3
   },
   "file_extension": ".py",
   "mimetype": "text/x-python",
   "name": "python",
   "nbconvert_exporter": "python",
   "pygments_lexer": "ipython3",
   "version": "3.9.21"
  }
 },
 "nbformat": 4,
 "nbformat_minor": 2
}
