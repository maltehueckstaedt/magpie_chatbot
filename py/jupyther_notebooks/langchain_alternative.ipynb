{
 "cells": [
  {
   "cell_type": "markdown",
   "metadata": {},
   "source": [
    "# Retrieval-Augmented Generation\n",
    "\n",
    "## Einführung\n",
    "\n",
    "In diesem Notebook wird eine Retrieval-Augmented Generation (RAG) für die *Magpie* implementiert. Ziel ist es, einen Chatbot zu erstellen, der Fragen in natürlicher Sprache entgegennimmt und diese in passende SQL-Abfragen umwandelt und wiederum in natürlicher Sprache antwortet.\n",
    "\n",
    "Um die SQL-Abfragen genau auf die Daten von Magpie abzustimmen, wird auf Basis dieses [Tutorials](https://python.langchain.com/docs/tutorials/sql_qa/#system-prompt) und mit Langchain ein Chatbot erzeugt, der mit einem Retriever-Tool arbeitet. Der Chatbot unterscheidet sich im Vorgehen von einer *normalen* RAG: Während bei einer RAG üblicherweise Text generiert wird (die Anfrage durch einen User), der gegen eine Vektordatenbank durchsucht werden kann, besteht der Ansatz für strukturierte Daten darin, dass das LLM SQL-Abfragen schreibt und ausführt.\n",
    "\n",
    "## Durchführung\n",
    "\n",
    "### Arbeitspfad definieren\n",
    "\n",
    "In einem ersten Schritt definieren wir unseren Arbeitspfad:"
   ]
  },
  {
   "cell_type": "code",
   "execution_count": 31,
   "metadata": {},
   "outputs": [],
   "source": [
    "# Aktuelles Arbeitsverzeichnis ermitteln\n",
    "import os\n",
    "os.getcwd()\n",
    "os.chdir(\"c:/Users/Hueck/OneDrive/Dokumente/GitHub/magpie_langchain\")"
   ]
  },
  {
   "cell_type": "markdown",
   "metadata": {},
   "source": [
    "### LLM laden\n",
    "\n",
    "In einem weiteren Schritt laden wir ein LLM. Das LLM wandelt die Anfrage des Users in eine SQL-Abfrage um und antwortet basierend auf den Ergebnissen der Abfrage in natürlicher Sprache. Das sich `llama3.1:8b-instruct-q4_0` nicht so leistungsfähig wie `gpt-4o-mini` im Kontext der Generierung der SQL-Abfragen erwiesen hat, wird vorerst mit einer OpenAI-API gearbeitet. Sie wird im folgenden aus dem Environment geladen um auf `gpt-4o-mini` zugreifen zu können. Der Code importiert weiterhin die `ChatOpenAI`-Klasse aus dem Modul `langchain_openai`, welches die Nutzung von OpenAI-Modellen vereinfacht. Anschließend wird ein Objekt `llm` vom Typ `ChatOpenAI` erstellt, wobei das Modell `\"gpt-4o-mini\"` angegeben wird."
   ]
  },
  {
   "cell_type": "code",
   "execution_count": 32,
   "metadata": {},
   "outputs": [],
   "source": [
    "from dotenv import load_dotenv\n",
    "\n",
    "# Lade Umgebungsvariablen aus der .env Datei\n",
    "load_dotenv()\n",
    "\n",
    "from langchain_openai import ChatOpenAI\n",
    "llm = ChatOpenAI(model=\"gpt-4o-mini\")\n",
    "\n",
    "# from langchain_ollama import ChatOllama\n",
    "# llm = ChatOllama(model=\"qwen2.5:32b\", temperature=0)"
   ]
  },
  {
   "cell_type": "markdown",
   "metadata": {},
   "source": [
    "### Tools genieren\n",
    "\n",
    "Wir erstellen nun ein Set von `tools`. Das `SQLDatabaseToolkit` umfasst in diesem Kontext Werkzeuge, die uns dabei unterstützen, SQL-Abfragen zu erstellen und auszuführen sowie die Syntax von SQL-Abfragen zu überprüfen. \n",
    "\n",
    "Es wird dafür eine Instanz von `SQLDatabase` erstellt, um Interaktionen mit der Datenbank zu ermöglichen. Nach der Einrichtung der Datenbank wird eine Instanz von `SQLDatabaseToolkit` erstellt, die zwei Argumente benötigt: die zuvor erstellte `db`-Instanz und die oben definierte `llm` (Sprachmodell)-Instanz (siehe oben). Das Toolkit nutzt das Sprachmodell für Aufgaben wie die Validierung von Abfragen.\n",
    "\n",
    "Die Methode `get_tools` der `SQLDatabaseToolkit`-Instanz wird dann aufgerufen, um eine Liste der verfügbaren Werkzeuge im Toolkit abzurufen. Diese Werkzeuge umfassen Funktionen wie das Auflisten von Datenbanktabellen, das Abrufen von Schema-Informationen, das Ausführen von SQL-Abfragen und das Überprüfen der Korrektheit von SQL-Abfragen. Die letzte Zeile des Codes gibt die Liste der Werkzeuge aus, sodass der Benutzer die verfügbaren Werkzeuge und deren Beschreibungen einsehen kann."
   ]
  },
  {
   "cell_type": "code",
   "execution_count": 33,
   "metadata": {},
   "outputs": [
    {
     "name": "stdout",
     "output_type": "stream",
     "text": [
      "[QuerySQLDataBaseTool(description=\"Input to this tool is a detailed and correct SQL query, output is a result from the database. If the query is not correct, an error message will be returned. If an error is returned, rewrite the query, check the query, and try again. If you encounter an issue with Unknown column 'xxxx' in 'field list', use sql_db_schema to query the correct table fields.\", db=<langchain_community.utilities.sql_database.SQLDatabase object at 0x000002A756BFA070>), InfoSQLDatabaseTool(description='Input to this tool is a comma-separated list of tables, output is the schema and sample rows for those tables. Be sure that the tables actually exist by calling sql_db_list_tables first! Example Input: table1, table2, table3', db=<langchain_community.utilities.sql_database.SQLDatabase object at 0x000002A756BFA070>), ListSQLDatabaseTool(db=<langchain_community.utilities.sql_database.SQLDatabase object at 0x000002A756BFA070>), QuerySQLCheckerTool(description='Use this tool to double check if your query is correct before executing it. Always use this tool before executing a query with sql_db_query!', db=<langchain_community.utilities.sql_database.SQLDatabase object at 0x000002A756BFA070>, llm=ChatOpenAI(client=<openai.resources.chat.completions.Completions object at 0x000002A75C04DEE0>, async_client=<openai.resources.chat.completions.AsyncCompletions object at 0x000002A75C036880>, root_client=<openai.OpenAI object at 0x000002A74A4681C0>, root_async_client=<openai.AsyncOpenAI object at 0x000002A75C04DF10>, model_name='gpt-4o-mini', model_kwargs={}, openai_api_key=SecretStr('**********')), llm_chain=LLMChain(verbose=False, prompt=PromptTemplate(input_variables=['dialect', 'query'], input_types={}, partial_variables={}, template='\\n{query}\\nDouble check the {dialect} query above for common mistakes, including:\\n- Using NOT IN with NULL values\\n- Using UNION when UNION ALL should have been used\\n- Using BETWEEN for exclusive ranges\\n- Data type mismatch in predicates\\n- Properly quoting identifiers\\n- Using the correct number of arguments for functions\\n- Casting to the correct data type\\n- Using the proper columns for joins\\n\\nIf there are any of the above mistakes, rewrite the query. If there are no mistakes, just reproduce the original query.\\n\\nOutput the final SQL query only.\\n\\nSQL Query: '), llm=ChatOpenAI(client=<openai.resources.chat.completions.Completions object at 0x000002A75C04DEE0>, async_client=<openai.resources.chat.completions.AsyncCompletions object at 0x000002A75C036880>, root_client=<openai.OpenAI object at 0x000002A74A4681C0>, root_async_client=<openai.AsyncOpenAI object at 0x000002A75C04DF10>, model_name='gpt-4o-mini', model_kwargs={}, openai_api_key=SecretStr('**********')), output_parser=StrOutputParser(), llm_kwargs={}))]\n"
     ]
    },
    {
     "name": "stderr",
     "output_type": "stream",
     "text": [
      "c:\\Users\\Hueck\\miniconda3\\envs\\RAG_retriever\\lib\\site-packages\\duckdb_engine\\__init__.py:174: DuckDBEngineWarning: duckdb-engine doesn't yet support reflection on indices\n",
      "  warnings.warn(\n"
     ]
    }
   ],
   "source": [
    "from langchain_community.agent_toolkits import SQLDatabaseToolkit\n",
    "from langchain_community.utilities import SQLDatabase\n",
    "\n",
    "db = SQLDatabase.from_uri(\"duckdb:///data/magpie.db\")\n",
    "toolkit = SQLDatabaseToolkit(db=db, llm=llm)\n",
    "\n",
    "tools = toolkit.get_tools()\n",
    "\n",
    "print(tools)"
   ]
  },
  {
   "cell_type": "markdown",
   "metadata": {},
   "source": [
    "### Prompt Template generieren \n",
    "\n",
    "In diesem Code wird das `langchain`-Paket verwendet, um ein Prompt-Template von `langchain-ai` zu laden und zu überprüfen. Zuerst wird die `hub`-Funktion aus dem `langchain`-Paket importiert, um auf Modelle und Vorlagen im LangChain Hub zuzugreifen. Mit `hub.pull(\"langchain-ai/sql-agent-system-prompt\")` wird ein spezifisches Prompt-Template abgerufen, in diesem Fall das `sql-agent-system-prompt`. `sql-agent-system-prompt` ist ein vordefiniertes Prompt-Template. Es dient als Vorlage für die Interaktion mit einer SQL-Datenbank über ein Sprachmodell. Dieses Template ist speziell für die Verwendung mit SQL-Agenten konzipiert, die SQL-Abfragen generieren oder validieren können.\n",
    "\n",
    "Der Code prüft weiterhin mit `assert len(prompt_template.messages) == 1`, ob das geladene Template genau eine Nachricht enthält. Falls dies nicht zutrifft, wird ein Abbruch ausgelöst. Abschließend wird mit `prompt_template.messages[0].pretty_print()` die Nachricht im Template in einem gut lesbaren Format ausgegeben, um sicherzustellen, dass der Inhalt korrekt geladen wurde."
   ]
  },
  {
   "cell_type": "code",
   "execution_count": 34,
   "metadata": {},
   "outputs": [
    {
     "name": "stderr",
     "output_type": "stream",
     "text": [
      "c:\\Users\\Hueck\\miniconda3\\envs\\RAG_retriever\\lib\\site-packages\\langsmith\\client.py:261: LangSmithMissingAPIKeyWarning: API key must be provided when using hosted LangSmith API\n",
      "  warnings.warn(\n"
     ]
    },
    {
     "name": "stdout",
     "output_type": "stream",
     "text": [
      "================================\u001b[1m System Message \u001b[0m================================\n",
      "\n",
      "You are an agent designed to interact with a SQL database.\n",
      "Given an input question, create a syntactically correct \u001b[33;1m\u001b[1;3m{dialect}\u001b[0m query to run, then look at the results of the query and return the answer.\n",
      "Unless the user specifies a specific number of examples they wish to obtain, always limit your query to at most \u001b[33;1m\u001b[1;3m{top_k}\u001b[0m results.\n",
      "You can order the results by a relevant column to return the most interesting examples in the database.\n",
      "Never query for all the columns from a specific table, only ask for the relevant columns given the question.\n",
      "You have access to tools for interacting with the database.\n",
      "Only use the below tools. Only use the information returned by the below tools to construct your final answer.\n",
      "You MUST double check your query before executing it. If you get an error while executing a query, rewrite the query and try again.\n",
      "\n",
      "DO NOT make any DML statements (INSERT, UPDATE, DELETE, DROP etc.) to the database.\n",
      "\n",
      "To start you should ALWAYS look at the tables in the database to see what you can query.\n",
      "Do NOT skip this step.\n",
      "Then you should query the schema of the most relevant tables.\n",
      "You are Sparklehorse, a chatbot for the Stifterverband organization. Your primary task is to answer questions related to the Magpie database.\n"
     ]
    }
   ],
   "source": [
    "from langchain import hub\n",
    "\n",
    "prompt_template = hub.pull(\"langchain-ai/sql-agent-system-prompt\")\n",
    "\n",
    "assert len(prompt_template.messages) == 1, \"Die Anzahl der Nachrichten im Template ist nicht 1!\"\n",
    "# Bearbeite die bestehende Nachricht, indem du Text hinzufügst\n",
    "prompt_template.messages[0].prompt.template += (\n",
    "    \"\\nYou are Sparklehorse, a chatbot for the Stifterverband organization. \"\n",
    "    \"Your primary task is to answer questions related to the Magpie database.\"\n",
    ")\n",
    "\n",
    "prompt_template.messages[0].pretty_print()"
   ]
  },
  {
   "cell_type": "markdown",
   "metadata": {},
   "source": [
    "Wir befüllen nun die Objekte, die in `prompt_template` bisher nur als Platzhalter definiert sind. Diese sind:\n",
    "1. `dialect`\n",
    "2. `top_k`\n",
    "\n",
    " `dialect` meint den SQL-Dialekt der verwendeten Datenbank. `top_k` bestimmt die Anzahl der zurückgegebenen, *besten Ergebnisse*. In diesem Kontext bedeutet *beste Ergebnisse* die Auswahl der relevantesten oder nützlichsten Ergebnisse der Abfragen, etwa bzgl. der Relevanz im Zusammenhang mit einer Abfrage.\n"
   ]
  },
  {
   "cell_type": "code",
   "execution_count": 35,
   "metadata": {},
   "outputs": [
    {
     "name": "stdout",
     "output_type": "stream",
     "text": [
      "System: You are an agent designed to interact with a SQL database.\n",
      "Given an input question, create a syntactically correct duckdb query to run, then look at the results of the query and return the answer.\n",
      "Unless the user specifies a specific number of examples they wish to obtain, always limit your query to at most 5 results.\n",
      "You can order the results by a relevant column to return the most interesting examples in the database.\n",
      "Never query for all the columns from a specific table, only ask for the relevant columns given the question.\n",
      "You have access to tools for interacting with the database.\n",
      "Only use the below tools. Only use the information returned by the below tools to construct your final answer.\n",
      "You MUST double check your query before executing it. If you get an error while executing a query, rewrite the query and try again.\n",
      "\n",
      "DO NOT make any DML statements (INSERT, UPDATE, DELETE, DROP etc.) to the database.\n",
      "\n",
      "To start you should ALWAYS look at the tables in the database to see what you can query.\n",
      "Do NOT skip this step.\n",
      "Then you should query the schema of the most relevant tables.\n",
      "You are Sparklehorse, a chatbot for the Stifterverband organization. Your primary task is to answer questions related to the Magpie database.\n"
     ]
    }
   ],
   "source": [
    "system_message = prompt_template.format(\n",
    "    dialect=db.dialect, \n",
    "    top_k=5\n",
    ")\n",
    "\n",
    "print(system_message)\n"
   ]
  },
  {
   "cell_type": "markdown",
   "metadata": {},
   "source": [
    "### Agent generieren    \n",
    "\n",
    "Es wird nun eine Instanz eines *React-Agenten* aus der `langchain_core` und `langgraph` Bibliothek erstellt und konfiguriert. Im einzelnen passiert das Folgende: Die Funktion `create_react_agent(llm, tools, state_modifier=system_message)` erstellt einen neuen Agenten, der auf das bereitgestellte Sprachmodell (`llm`) und eine Sammlung von Werkzeugen (`tools`) zugreifen kann, um Aufgaben zu erledigen. Das Sprachmodell (`llm`) ist die Instanz eines Modells `gpt-4o-mini`, das vom Agenten verwendet wird, während tools die Werkzeuge sind, mit denen der Agent auf Daten zugreifen oder Aktionen durchführen kann, zum Beispiel eine SQL-Datenbankabfrage oder APIs. `state_modifier=system_message` gibt eine Systemnachricht an, die die Rolle des Agenten und seine Aufgaben innerhalb des Systems beschreibt, einschließlich der Anweisungen, wie der Agent mit den Eingaben des Benutzers umgehen soll. Die erstellte Instanz des React-Agenten wird in der Variablen `agent_executor` gespeichert, die dann verwendet wird, um Interaktionen mit einem Benutzer zu führen und die entsprechenden Werkzeuge anzuwenden."
   ]
  },
  {
   "cell_type": "code",
   "execution_count": 41,
   "metadata": {},
   "outputs": [
    {
     "data": {
      "image/png": "[encoded data removed]",
      "text/plain": [
       "<langgraph.graph.state.CompiledStateGraph object at 0x000002A74A43D730>"
      ]
     },
     "execution_count": 41,
     "metadata": {},
     "output_type": "execute_result"
    }
   ],
   "source": [
    "from langchain_core.messages import HumanMessage\n",
    "from langgraph.prebuilt import create_react_agent\n",
    "\n",
    "agent_executor = create_react_agent(llm, tools, state_modifier=system_message)\n",
    "agent_executor"
   ]
  },
  {
   "cell_type": "markdown",
   "metadata": {},
   "source": [
    "### Retriever Tool\n",
    "\n",
    "Im folgenden wird ein Retriever-Tool erzeugt, dass dabei hilft, *fehlerhafte* Abfragen seitens der User zu korrigieren. Das Retriever Tool versteht so z.B. dass \"*\"Frei Uni Nerlin\"*\" für \"*Freie Universität Berlin*\" steht.\n",
    "\n",
    "Zunächst werden die benötigten Bibliotheken importiert. LangChain-Module werden verwendet, um Embeddings und einen In-Memory-Vektorspeicher zu erstellen. Zudem werden `ast` und `re` für die Verarbeitung und Bereinigung von Daten genutzt.\n",
    "\n",
    "Die Funktion `query_as_list(db, query)` führt eine SQL-Abfrage auf Magpie `db` aus. Das Ergebnis wird zunächst in eine Liste umgewandelt, dabei werden verschachtelte Strukturen aufgelöst. Danach werden alle Zahlen aus den Ergebnissen entfernt, und Leerzeichen werden bereinigt. Schließlich wird sichergestellt, dass nur eindeutige Werte in der Liste enthalten sind.\n",
    "\n",
    "Anschließend werden mit `query_as_list` zwei Listen erstellt:  \n",
    "- `Variable`, die alle Werte aus der Spalte *Variable* der Tabelle `datensatz_drittmittel_hochschule` enthält.  \n",
    "- `Hochschule`, die alle Werte aus der Spalte *Hochschule* derselben Tabelle enthält.  \n",
    "\n",
    "Nun wird ein Embedding-Modell von OpenAI mit dem Namen `\"text-embedding-3-large\"` initialisiert. Dieses Modell wandelt Texte in numerische Vektoren um, die für eine semantische Suche genutzt werden können.\n",
    "\n",
    "Ein In-Memory-Vektorspeicher wird erstellt, der diese Vektoren speichert. Anschließend werden die Begriffe aus `Variable` und `Hochschule` als Texte in den Vektorspeicher hinzugefügt.\n",
    "\n",
    "Der Vektorspeicher wird nun als Retriever konfiguriert. Der Parameter `search_kwargs={\"k\": 5}` bedeutet, dass für jede Suchanfrage die fünf ähnlichsten Einträge zurückgegeben werden.\n",
    "\n",
    "Zuletzt wird mit `create_retriever_tool` ein Retriever-Tool erstellt. Dieses Tool kann verwendet werden, um nach ähnlichen Namen oder Begriffen zu suchen. Die Beschreibung des Tools gibt an, dass es dazu dient, gültige Namen zu finden, die am besten zu einer unscharfen Eingabe passen."
   ]
  },
  {
   "cell_type": "code",
   "execution_count": 42,
   "metadata": {},
   "outputs": [
    {
     "name": "stdout",
     "output_type": "stream",
     "text": [
      "['Hochschule für angewandte Wissenschaften Würzburg-Schweinfurt', 'Universität Paderborn', 'bbw Hochschule', 'Hochschule Ostwestfalen-Lippe', 'Medizinische Hochschule Hannover (MHH)', 'Universität Konstanz', 'Philosophisch-Theologische Hochschule Benediktbeuern', 'Touro College Berlin', 'Theologische Fakultät Fulda', 'Fachhochschule Bielefeld', 'Technische Hochschule Köln', 'Hochschule Rhein-Waal', 'praxisHochschule Köln University of Applied Science', 'Hamburger Fern-Hochschule gGmbH', 'Palucca Hochschule für Tanz Dresden', 'Fachhochschule für Rechtspflege Nordrhein-Westfalen', 'EBZ Business School University of Applied Sciences', 'Martin-Luther-Universität Halle-Wittenberg (ohne Klinikum)', 'Fachhochschule für Finanzen Nordrhein-Westfalen', 'Universität der Bundeswehr München (FB Fachhochschulstudiengänge)', 'Kirchliche Hochschule Wuppertal/Bethel Hochschule für Kirche und Diakonie', 'Universität des Saarlandes', 'Theologische Fakultät Paderborn Rektorat', 'Hochschule Bremen', 'Fachhochschule Westküste Hochschule für Wirtschaft & Technik', 'Technische Universität Braunschweig', 'Friedrich-Alexander Universität Erlangen-Nürnberg (Klinikum)', 'Wilhelm Büchner Hochschule', 'Hochschule für Forstwirtschaft Rottenburg', 'Hochschule Weserbergland', 'Musikhochschule Lübeck', 'GA Hochschule der digitalen Gesellschaft', 'Hochschule Niederrhein', 'Ruhr-Universität Bochum (ohne Klinikum)', 'Zeppelin Universität gemeinnützige GmbH', 'Universität Regensburg (ohne Klinikum)', 'Fachhochschule der Wirtschaft Nordrhein-Westfalen gGmbH', 'Hochschule Geisenheim University', 'Hochschule Albstadt-Sigmaringen', 'Fachhochschule Südwestfalen', 'Hochschule Heilbronn Technik, Wirtschaft, Informatik', 'Pädagogische Hochschule Ludwigsburg', 'Hochschule Merseburg', 'Hochschule für Technik Stuttgart', 'Universitätsklinikum Gießen und Marburg, Abt. Marburg', 'Internationale Karlshochschule', 'Technische Hochschule Brandenburg', 'Universität Passau', 'Akademie der Polizei Hamburg', 'Universität Kassel', 'Fachhochschule im Deutschen Roten Kreuz', 'Universität Rostock Medizinische Fakultät', 'Georg-August-Universität Göttingen (ohne Klinikum)', 'Hochschule Kaiserslautern', 'Hochschule Fresenius Idstein in München', 'Hochschule für Musik und Darstellende Kunst Frankfurt am Main', 'Universität Siegen', 'Hochschule Offenburg', 'Fachhochschule für Archivwesen Marburg', 'SRH Hochschule Berlin', 'Norddeutsche Akademie für Finanzen und Steuerrecht Hamburg', 'Eberhard Karls Universität Tübingen (ohne Klinikum)', 'Hochschule Reutlingen', 'Kunstakademie Düsseldorf', 'Hochschule Ulm', 'Technische Hochschule Ingolstadt', 'Jade Hochschule Wilhelmshaven/Oldenburg/Elsfleth', 'Hochschule Stralsund', 'BHH Berufliche Hochschule Hamburg', 'Georg-August-Universität Göttingen (Klinikum)', 'Fachhochschule der Diakonie', 'Staatliche Hochschule für Gestaltung', 'Hochschule Rosenheim', 'Baltic College', 'Internationale Hochschule für Exekutives Management', 'Friedrich-Alexander Universität Erlangen-Nürnberg (ohne Klinikum)', 'Mathias Hochschule in Rheine', 'Otto-Friedrich-Universität Bamberg', 'CODE University of Applied Sciences Berlin', 'Universität Duisburg-Essen  (Klinikum)', 'Universität Hohenheim', 'Hochschule für Jüdische Studien', 'Technische Universität Berlin', 'Freie Universität Berlin', 'Universität zu Köln (ohne Klinikum)', 'Hochschule der Sächsischen Polizei', 'EBC Hochschule Campus Düsseldorf', 'Hochschule für Bildende Künste Braunschweig', 'Hochschule Esslingen', 'Hochschule für Kirchenmusik Dresden', 'Hochschule Macromedia für angewandte Wissenschafte (ehem. MHMK) University of Applied Sciences, Bayern', 'Internationale Hochschule Calw', 'Hochschule Ruhr West', 'Hochschule Düsseldorf', 'Heinrich-Heine-Universität Düsseldorf (ohne Klinikum)', 'Hochschule Aalen', 'EBC Hochschule Campus Hamburg', 'Deutsche Hochschule der Polizei', 'Fachhochschule für Forstwirtschaft', 'HSD Hochschule Döpfer GmbH', 'Philosophisch-Theologische Hochschule Vallendar', 'International Psychoanalytic University Berlin gGmbH', 'Hochschule für Telekommunikation Leipzig', 'VWA-Hochschule für berufsbegleitendes Studium', 'Berufsakademie Hamburg', 'Akademie der Bildenden Künste München', 'Hochschule für Fernsehen und Film München', 'Hochschule Emden/Leer', 'Hochschule für Schauspielkunst \"Ernst Busch\"', 'Hochschule für öffentliche Verwaltung Bremen', 'Pädagogische Hochschule Freiburg', 'Hochschule Fresenius Idstein', 'Hochschule Koblenz', 'Private Universität Witten/Herdecke gGmbH (ohne Klinikum)', 'Hochschule Bremerhaven', 'Evangelische Hochschule Nürnberg', 'Internationale Hochschule Liebenzell', 'Nordakademie Hochschule der Wirtschaft', 'RWTH Aachen (ohne Klinikum)', 'Hochschule Mainz University of Applied Sciences', 'RWTH Aachen (Klinikum)', 'Christian-Albrechts-Universität zu Kiel', 'Hochschule der bildenden Künste (HBK) Essen', 'Thüringer Fachhochschule für öffentliche Verwaltung Gotha', 'Universität Rostock (Klinikum)', 'Ludwig-Maximilians-Universität München (Klinikum)', 'Pädagogische Hochschule Weingarten', 'Kommunale Hochschule für Verwaltung in Niedersachsen, Hannover', 'Fachhochschule Dresden Staatlich anerkannte Hochschule University of Applied Sciences', 'Hochschule Meißen (FH) und Fortbildungszentrum', 'Hochschule Esslingen University of Applied Sciences', 'Adam-Ries-Fachhochschule', 'Cusanus Hochschule gGmbH', 'Hochschule Augsburg', 'Technische Hochschule Wildau (FH)', 'Hochschule Trier Trier University of Applied Sciences', 'Universität Bielefeld', 'Hochschule für Angewandte Sprachen Sprachen & Dolmetscher Institut München', 'Internationale Hochschule für Wirtschaft, Technik und Kultur gGmbH', 'Staatliche Akademie der Bildenden Künste', 'Hochschule für Musik und Theater München', 'Charite - Universitätsmedizin Berlin', 'Edenkoben, Hochschule für Finanzen Rheinland-Pfalz', 'Freie Hochschule Stuttgart Seminar für Waldorfpädagogik', 'Theologisches Seminar Elstal', 'Technische Universität München (Klinikum)', 'Katholische Hochschule Mainz', 'Karlsruher Institut für Technologie', 'Hochschule für Musik und Theater', 'Hessische Hochschule für Polizei und Verwaltung Wiesbaden', 'Hochschule Ravensburg-Weingarten', 'Niedersächsische Fachhochschule für Verwaltung und Rechtspflege', 'Friedrich-Schiller-Universität Jena (ohne Klinikum)', 'Hochschule für Musik und Theater Rostock', 'Burg Giebichenstein Kunsthochschule Halle', 'Hochschule der Deutschen Bundesbank Hachenburg', 'Hochschule für Kirchenmusik der Evangelischen Kirche von Westfalen', 'Fachhochschule Dortmund', 'Kunsthochschule für Medien', 'Hochschule Neubrandenburg', 'Bucerius Law School gGmbH Hochschule für Rechtswissenschaft', 'AKAD University, Sachsen', 'Universität Augsburg (ohne Klinikum)', 'Staatliche Hochschule für Musik und Darstellende Kunst', 'Evangelische Hochschule für Kirchenmusik', 'Fachhochschule Kempten Hochschule für angewandte Wissenschaften', 'Hochschule für Rechtspflege Schwetzingen', 'Ruprecht-Karls-Universität Heidelberg (Klinikum)', 'NBS Northern Business School', 'Hochschule für Musik Detmold', 'GGS German Graduate School of Management and Law gGmbH', 'Westfälische Wilhelms-Universität Münster (Klinikum)', 'HMKW Hochschule für Medien, Kommunikation und Wirtschaft', 'Hochschule Landshut Hochschule für Angewandte Wissenschaften', 'Hochschule der Medien', 'Kirchliche Hochschule Bethel', 'Evangelische Fachhochschule Darmstadt University of Applied Sciences', 'Pädagogische Hochschule Heidelberg', 'Private Universität Witten/Herdecke gGmbH (Klinikum)', 'Hochschule für Philosophie München', 'Frankfurt School of Finance & Management gGmbH', 'Hochschule  gGmbH', 'Akademie der Bildenden Künste', 'Technische Universität Dresden (Klinikum)', 'Universität Vechta', 'Psychologische Hochschule Berlin gGmbH', 'Hochschule der Bayerischen Wirtschaft (HDBW) gGmbH', 'Evangelische Fachhochschule Hannover', 'HAWK Hochschule für angewandte Wissenschaft und Künste (Hildesheim/Holzminden/Göttingen)', 'Bauhaus-Universität Weimar', 'Universität Hamburg (Klinikum)', 'Hochschule des Bundes, FB Bundespolizei, Lübeck', 'Hochschule der Bundesagentur für Arbeit', 'Fachhochschule des Mittelstands (FHM) Bamberg', 'Julius-Maximilians-Universität Würzburg (ohne Klinikum)', 'Hochschule für Technik und Wirtschaft Dresden', 'Cologne Business School (CBS) European University of Applied Sciences', 'Evangelische Hochschule Ludwigsburg', 'Berliner Technische Kunsthochschule', 'Technische Universität Chemnitz', 'Hertie School of Governance GmbH', 'Hochschule des Bundes, FB Sozialversicherung in Berlin', 'Fachhochschule Schwäbisch Hall', 'Folkwang Universität der Künste', 'Humboldt-Universität zu Berlin', 'Hochschule Harz Hochschule für angewandte Wissenschaften (FH)', 'Universität Hamburg (ohne Klinikum)', 'Universität Stuttgart', 'Kunstakademie Münster Hochschule für Bildende Künste', 'Hochschule Weihenstephan-Triesdorf', 'HMU Health and Medical University Potsdam', 'DGUV Akademie Hochschule der Deutschen Gesetzlichen Unfallversicherung', 'ESMT European School of Management and Technology GmbH', 'Hochschule Aschaffenburg', 'Fachhochschule für Interkulturelle Theologie', 'Evangelische Hochschule für Soziale Arbeit Dresden (FH)', 'Carl von Ossietzky Universität Oldenburg', 'Hochschule Magdeburg-Stendal', 'Universität Trier', 'Hochschule Bochum', 'Evangelische Hochschule Moritzburg', 'Berlin International University of Applied Sciences', 'Justus-Liebig-Universität Gießen', 'Westfälische Hochschule', 'Filmuniversität Babelsberg Konrad Wolf', 'Hochschule für Grafik und Buchkunst Leipzig', 'Hochschule des Bundes, FB Bundeswehrverwaltung, Mannheim', 'Fachhochschule für Verwaltung des Saarlandes', 'Hochschule für Kommunikation und Gestaltung', 'Akademie für digitale Medienproduktion', 'UNIKIMS - die Management School der Universität Kassel', 'Hochschule für Musik, Theater und Medien Hannover', 'ESCP Europe Wirtschaftshochschule Berlin', 'Evangelische Fachhochschule Rheinland-Westfalen-Lippe', 'Theologische Hochschule Friedensau', 'Hochschule Karlsruhe Technik und Wirtschaft', 'Goethe-Universität Frankfurt am Main (ohne Klinikum)', 'Hochschule Biberach', 'Fachhochschule Aachen', 'Technische Hochschule Bingen', 'Jacobs University Bremen gGmbH', 'Augustana-Hochschule Neuendettelsau', 'KÜHNE Logistik Universität Wissenschaftliche Hochschule für Logistik und Unternehmensführung', 'Hochschule für Gestaltung Schwäbisch Gmünd', 'Evangelische Hochschule Tabor', 'Hochschule für Künste im Sozialen Ottersberg', 'Fachhochschule für die Wirtschaft Hannover (FHDW)', 'Vitruvius Hochschule Leipzig', 'Philosophisch-Theologische Hochschule', 'Universität der Bundeswehr München (FB Universitätsstudiengänge)', 'Muthesius-Kunsthochschule', 'Westfälische Wilhelms-Universität Münster (ohne Klinikum)', 'Universität Bremen', 'Evangelische Fachhochschule Ludwigshafen', 'Otto-von-Guericke-Universität Magdeburg (ohne Klinikum)', 'Naturwissenschaftlich-Technische Akademie Prof. Dr. Grübler gGmbH Isny', 'Fachhochschule des Mittelstandes (FHM)', 'Universität Greifswald (Klinikum)', 'accadis Hochschule Bad Homburg (Priv. FH)', 'Fachhochschule Erfurt', 'Rheinische Friedrich-Wilhelms- Universität Bonn (ohne Klinikum)', 'Hochschule für Gesundheitsorientierte Wissenschaften Rhein-Neckar (HGWR)', 'Hochschule für Musik und Theater \"Felix Mendelssohn Bartholdy\" Leipzig', 'Universität Rostock (ohne Klinikum)', 'DIPLOMA Private Hochschulgesellschaft mbH', 'SRH Hochschule Heidelberg', 'Steinbeis-Hochschule-Berlin DUW Institut für Weiterbildung', 'Ernst-Abbe-Hochschule Jena Hochschule für angewandte Wissenschaften', 'Hochschule Bonn-Rhein-Sieg', 'Merz Akademie, Hochschule für Gestaltung, Kunst und Medien Stuttgart', 'SRH FernHochschule - The Mobile University', 'Hochschule der Sparkassen-Finanzgruppe University of Applied Sciences - Bonn', 'Katholische Universität Eichstätt-Ingolstadt', 'Hochschule für angewandtes Management GmbH', 'Staatliche Hochschule für Musik', 'Hochschule Schmalkalden', 'Beuth Hochschule für Technik Berlin', 'Hochschule Ludwigsburg für öffentliche Verwaltung und Finanzen', 'Hochschule Ansbach', 'Hochschule des Bundes, FB Wetterdienst in Langen', 'Hochschule Ludwigshafen am Rhein University of Applied Sciences', 'Fachhochschule für öffentliche Verwaltung Kehl', 'Universität Koblenz-Landau', 'PFH Private Hochschule Göttingen', 'Hochschule der Bildenden Künste Saar', 'Universitätsmedizin der Johannes Gutenberg-Universität Mainz', 'Hochschule RheinMain University of Applied Sciences Wiesbaden Rüsselsheim', 'HHL Leipzig Graduate School of Management', 'Fachhochschule Oldenburg/Ostfriesland/Wilhelmshaven', 'HafenCity Universität Hamburg Universität für Baukunst und Metropolenentwicklung', 'Hochschule Macromedia für angewandte Wissenschafte (ehem. MHMK) University of Applied Sciences, Baden-Württemberg', 'DBU Digital Business University of Applied Sciences GmbH', 'Fachhochschule für Verwaltung und Rechtspflege Berlin', 'SRH Fachhochschule für Gesundheit Gera gGmbH University of Applied Science', 'Hochschule Furtwangen University of Applied Sciences', 'Europa-Universität Flensburg', 'Hochschule für angewandte Wissenschaften München', 'Stiftung Tierärztliche Hochschule Hannover', 'Universität Potsdam', 'Hochschule Hamm-Lippstadt', 'UMC POTSDAM -University of Management and Communication (FH) gGmbH', 'Universitätsklinikum Gießen und Marburg, Abt. Gießen', 'FOM Hochschule für Oekonomie & Management gemeinnützige GmbH', 'Hochschule der Polizei des Landes Brandenburg', 'Albert-Ludwigs-Universität Freiburg (ohne Klinikum)', 'Staatliche Hochschule für Bildende Künste (Städelschule)', 'Hochschule für den öffentlichen Dienst in Bayern', 'Deutsche Sporthochschule Köln', 'Technische Universität Bergakademie Freiberg', 'Munich Business School GmbH', 'Deutsche Hochschule für Prävention und Gesundheitsmanagement GmbH', 'Leibniz Universität Hannover', 'Technische Universität Darmstadt', 'Technische Universität Dresden (ohne Klinikum)', 'Ruprecht-Karls-Universität Heidelberg (ohne Klinikum)', 'Universität Regensburg (Klinikum)', 'Hochschule Hannover', 'Ostbayerische Technische Hochschule Regensburg (OTH)', 'SRH Hochschule Calw', 'FernUniversität in Hagen', 'AKAD, Wissenschaftliche Hochschule Lahr (Priv. Fern-H für Berufstätige)', 'SRH Hochschule für Logistik und Wirtschaft Hamm', 'German open Business School - HS für Wirtschaft und Verwaltung Berlin (Priv- FH)', 'EBS Universität für Wirtschaft und Recht', 'WHU - Otto Beisheim School of Management', 'Fliedner Fachhochschule Düsseldorf', 'Hochschule Fulda', 'Hochschule für Angewandte Wissenschaften Hamburg', 'Rheinische Fachhochschule Köln gGmbH', 'Martin-Luther-Universität Halle-Wittenberg (Klinikum)', 'Ludwig-Maximilians-Universität München (ohne Klinikum)', 'Technische Universität Hamburg-Harburg', 'Technische Universität Dortmund', 'Brandenburgische Technische Universität Cottbus-Senftenberg', 'Gustav-Siewert-Akademie', 'Universität Ulm (ohne Klinikum)', 'DPFA Hochschule Sachsen', 'International School of Management', 'Hochschule für internationales Management Heidelberg', 'Universität des Saarlandes Medizinische Fakultät', 'Hochschule des Bundes, FB Finanzen, Münster', 'Evangelische Hochschule Freiburg', 'Universitätsklinikum Schleswig-Holstein', 'Katholische Hochschule für Soziale Arbeit', 'Robert-Schumann-Hochschule', 'Otto-von-Guericke-Universität Magdeburg (Klinikum)', 'Theologische Fakultät Trier', 'Helmut-Schmidt-Universität Universität der Bundeswehr Hamburg', 'Alanus Hochschule gGmbH', 'Hochschule des Bundes, FB Akademie Auswärtige Angelegenheiten in Berlin', 'Ostbayerische Technische Hochschule Amberg-Weiden (OTH)', 'Technische Hochschule Nürnberg Georg Simon Ohm', 'Deutsche Universität für Weiterbildung', 'Hochschule für Musik Saar', 'Bard College Berlin, a Liberal Arts University gGmbH', 'Hochschule Mannheim', 'Deutsche Universität für Verwaltungswissenschaften Speyer', 'Ruprecht-Karls-Universität Heidelberg  Medizinische Fakultät Mannheim', 'Hochschule der Polizei Rheinland-Pfalz in Büchenbeuren', 'Universität Ausgburg (Klinikum)', 'Hochschule Fresenius Idstein in Köln', 'Hochschule für Technik und Wirtschaft des Saarlandes', 'Lutherische Theologische Hochschule', 'Quadriga Hochschule Berlin GmbH', 'Universität der Bundeswehr München', 'Ostfalia Hochschule für angewandte Wissenschaften Hochschule Braunschweig/Wolfenbüttel', 'Hochschule für Künste Bremen', 'Eberhard Karls Universität Tübingen (Klinikum)', 'Fachhochschule Wedel', 'Duale Hochschule Baden-Württemberg', 'Staats- und Universitätsbibliothek Hamburg Carl von Ossietzky', 'Hochschule Zittau/Görlitz (FH)', 'Staatliche Akademie der Bildenden Künste Stuttgart', 'Apollon Hochschule der Gesundheitswirtschaft', 'EBC Hochschule Campus Berlin', 'Universität Osnabrück', 'Fachhochschule Clara Hoffbauer Potsdam', 'Fachhochschule Kiel', 'Technische Universität Ilmenau', 'Hochschule Hof', 'Hochschule für angewandte Pädagogik', 'Ruhr-Universität Bochum (Klinikum)', 'Hochschule Osnabrück', 'Universität Bayreuth', 'Hochschule für Musik FRANZ LISZT', 'Technische Hochschule Mittelhessen', 'Esmod Berlin Internationale Kunsthochschule für Mode', 'Katholische Hochschule Nordrhein-Westfalen Catholic University of Applied Sciences', 'Bergische Universität Wuppertal', 'MSB Medical School Berlin Hochschule für Gesundheit und Medizin', 'Fachhochschule für öffentliche Verwaltung, Polizei und Rechtspflege in Güstrow', 'Hochschule für Gestaltung Offenbach am Main', 'Katholische Stiftungshochschule München', 'Europäische Fernhochschule Hamburg GmbH', 'Rheinische Friedrich-Wilhelms- Universität Bonn (Klinikum)', 'Hochschule Coburg Hochschule für Angewandte Wissenschaften', 'Hochschule Worms', 'Medizinische Hochschule Brandenburg Theodor Fontane (MHB)', 'Universität Greifswald (ohne Klinikum)', 'Rheinische Fachhochschule Neuss für Internationale Wirtschaft', 'IB-Hochschule Berlin', 'Universität der Künste Berlin', 'Hochschule für Musik Hanns Eisler Berlin', 'Hochschule für Musik und Tanz Köln', 'Duale Hochschule Gera-Eisenach', 'Hochschule Konstanz Technik, Wirtschaft und Gestaltung', 'Katholische Hochschule für Sozialwesen Berlin', 'Universität Greifswald Medizinische Fakultät', 'FH KUNST Arnstadt', 'Hochschule Fresenius Idstein in Berlin', 'Weißensee Kunsthochschule Berlin', 'Europäische Fachhochschule Rhein/Erft', 'Hochschule für Wirtschaft und Umwelt Nürtingen-Geislingen (HfWU)', 'Leuphana Universität Lüneburg', 'Friedrich-Schiller-Universität Jena (Klinikum)', 'Universität zu Lübeck', 'Universität Ulm (Klinikum)', 'Albert-Ludwigs-Universität Freiburg (Klinikum)', 'BEST-Sabel-Hochschule Berlin', 'Hochschule für Angewandte Wissenschaften Neu-Ulm', 'Johannes Gutenberg-Universität Mainz', 'Hochschule Lausitz (FH), University of Applied Sciences', 'Hochschule Anhalt', 'Hochschule für internationale Wirtschaft und Logistik', 'Pädagogische Hochschule Karlsruhe', 'Akkon-Hochschule für Humanwissenschaften', 'Hochschule für Musik Freiburg i. Br.', 'Hochschule für Technik und Wirtschaft Berlin', 'design akademie berlin Hochschule für Kommunikation und Design', 'Universität Mannheim', 'Hochschule des Bundes, FB Landwirtschaftliche Sozialversicherung in Kassel', 'Technische Hochschule Deggendorf', 'Hochschule für Politik München Bavarian School of Public Policy', 'BSP Business School Berlin Hochschule für Management', 'Hochschule Mittweida University of Applied Sciences', 'Hochschule Fresenius Idstein in Hamburg', 'Internationales Hochschulinstitut Zittau', 'Hochschule des Bundes, FB Allgemeine innere Verwaltung, Brühl', 'Hochschule für Bildende Künste Dresden', 'Hochschule Wismar University of Applied Sciences Technology, Business and Design', 'Wilhelm Löhe Hochschule (WLH)', 'Vogtländische Fachhochschule Plauen', 'Theologische Hochschule Reutlingen Staatlich anerkannte Fachhochschule der Evangelisch-methodistische Kirche', 'Fachhochschule Potsdam', 'Katholische Hochschule Freiburg Catholic University of Applied Sciences', 'Fachhochschule für Verwaltung und Dienstleistung Altenholz', 'Private Hochschule für Wirtschaft und Technik', 'Norddeutsche Hochschule für Rechtspflege, Hildesheim', 'BiTS Business and Information Technology School gGmbH Campus Iserlohn', 'Hochschule Nordhausen University of Applied Sciences', 'Fachhochschule für öffentliche Verwaltung NRW', 'Philosophisch-Theologische Hochschule Theologische Fakultät Sankt Augustin', 'AKAD University, Schleswig-Holstein', 'Hessische Hochschule für Finanzen und Rechtspflege Rotenburg', 'Universität Erfurt', 'media Akademie – Hochschule Stuttgart', 'Goethe-Universität Frankfurt am Main (Klinikum)', 'International University in Germany', 'CVJM-Hochschule', 'AMD Akademie Mode & Design', 'Technische Universität Kaiserslautern', 'Hochschule Darmstadt University of Applied Sciences', 'Pädagogische Hochschule Schwäbisch Gmünd', 'International Business School of Service Management', 'Alice Salomon Hochschule Berlin', 'DEKRA Hochschule Berlin', 'Mediadesign Hochschule für Design und Informatik GmbH', 'Hochschule der Wirtschaft für Management gGmbH', 'Staatliche Hochschule für Musik und Darstellende Kunst Mannheim', 'Technische Hochschule Georg Agricola für Rohstoff, Energie und Umwelt Bochum', 'Heinrich-Heine-Universität Düsseldorf (Klinikum)', 'Hochschule für Musik Karlsruhe', 'Private Hanseuniversität', 'Provadis School of International Management and Technology AG', 'Frankfurt University of Applied Sciences', 'Stiftung Universität Hildesheim', 'Hochschule für Gesundheit University of Applied Sciences', 'SRH Hochschule der populären Künste', 'Philosophisch-Theologische Hochschule Sankt Georgen', 'Hochschule für öffentliche Verwaltung Rheinland-Pfalz, Mayen', 'Julius-Maximilians-Universität Würzburg (Klinikum)', 'Fachhochschule für Finanzen Brandenburg', 'Evangelische Hochschule für soziale Arbeit und Diakonie', 'Hochschule für Musik Carl Maria von Weber Dresden', 'Technische Universität München (ohne Klinikum)', 'Hochschule für Kirchenmusik der Evangelischen Kirche der schlesischen Oberlausitz', 'Evangelische Hochschule Berlin', 'HTWK Leipzig Hochschule für Technik, Wirtschaft und Kultur Leipzig', 'Hochschule der Sächsischen Polizei (FH)', 'Hochschule und Institut für ev. Kirchenmusik Bayreuth', 'Hochschule für Musik Nürnberg', 'Hochschule Flensburg University of Applied Sciences', 'IST-Hochschule für Management GmbH', 'Universität Leipzig (Klinikum)', 'Theologische Hochschule Ewersbach Kronberg-Forum', 'IUBH Internationale Hochschule GmbH IUBH University of Applied Sciences', 'Universität Duisburg-Essen  (ohne Klinikum)', 'Philipps-Universität Marburg', 'Europa-Universität Viadrina', 'MSH Medical School Hamburg Fachhochschule für Gesundheit und Medizin', 'Hochschule für Kunsttherapie Nürtingen', 'Staatliche Fachhochschule für Polizei Villingen-Schwenningen', 'Universität Leipzig (ohne Klinikum)', 'Private Fachhochschule Döpfer für Physiotherapie und Ergotherapie', 'Hochschule für bildende Künste (HFBK)', 'Hochschule für nachhaltige Entwicklung Eberswalde - HNEE', 'Hochschule für Katholische Kirchenmusik und Musikpädagogik', 'Fachhochschule Lübeck', 'Brand Academy Hochschule für Design und Kommunikation', 'Freie Theologische Hochschule Gießen', 'HSBA Hamburg School of Business Administration', 'Barenboim-Said Akademie Berlin', 'Fachhochschule für Sport und Management der Europäischen Sportakademie Land Brandenburg gGmbH', 'Fachhochschule Münster', 'Hochschule des Bundes, FB Arbeitsverwaltung, Mannheim', 'Dresden International University GmbH', 'EBC Hochschule Campus Dresden', 'Westsächsische Hochschule Zwickau', 'DHGS Deutsche Hochschule für Gesundheit & Sport', 'Universität zu Köln (Klinikum)', 'Technische Universität Clausthal', 'Hochschule Pforzheim', 'Hochschule für Musik Würzburg', 'Leibniz-Fachhochschule School of Business', 'Hochschule für Wirtschaft und Recht Berlin']\n"
     ]
    }
   ],
   "source": [
    "from langchain_openai import OpenAIEmbeddings\n",
    "from langchain_core.vectorstores import InMemoryVectorStore\n",
    "from langchain.agents.agent_toolkits import create_retriever_tool\n",
    "import ast\n",
    "import re\n",
    "\n",
    "\n",
    "def query_as_list(db, query):\n",
    "    res = db.run(query)\n",
    "    res = [el for sub in ast.literal_eval(res) for el in sub if el]\n",
    "    res = [re.sub(r\"\\b\\d+\\b\", \"\", string).strip() for string in res]\n",
    "    return list(set(res))\n",
    "\n",
    "\n",
    "Variable = query_as_list(db, \"SELECT Variable FROM datensatz_drittmittel_hochschule \")\n",
    "Hochschule = query_as_list(db, \"SELECT Hochschule FROM datensatz_drittmittel_hochschule \")\n",
    "\n",
    "print(Hochschule)\n",
    "\n",
    "\n",
    "embeddings = OpenAIEmbeddings(model=\"text-embedding-3-large\")\n",
    "\n",
    "vector_store = InMemoryVectorStore(embeddings)\n",
    "\n",
    "_ = vector_store.add_texts(Variable + Hochschule)\n",
    "retriever = vector_store.as_retriever(search_kwargs={\"k\": 5})\n",
    "description = (\n",
    "    \"Use to look up values to filter on. Input is an approximate spelling \"\n",
    "    \"of the proper noun, output is valid proper nouns. Use the noun most \"\n",
    "    \"similar to the search.\"\n",
    ")\n",
    "\n",
    "retriever_tool = create_retriever_tool(\n",
    "    retriever,\n",
    "    name=\"search_proper_nouns\",\n",
    "    description=description,\n",
    ")"
   ]
  },
  {
   "cell_type": "code",
   "execution_count": 47,
   "metadata": {},
   "outputs": [
    {
     "name": "stdout",
     "output_type": "stream",
     "text": [
      "Freie Universität Berlin\n",
      "\n",
      "Humboldt-Universität zu Berlin\n",
      "\n",
      "Technische Universität Berlin\n",
      "\n",
      "Hochschule für Wirtschaft und Recht Berlin\n",
      "\n",
      "Berlin International University of Applied Sciences\n"
     ]
    }
   ],
   "source": [
    "print(retriever_tool.invoke(\"Frei Uni Nerlin\"))"
   ]
  },
  {
   "cell_type": "markdown",
   "metadata": {},
   "source": [
    "Wir erzeugen das Objekt `suffix`, das als Anweisung dient. Es weist darauf hin, dass bei der Filterung nach Eigennamen (z. B. Namen von Personen oder Institutionen) das Tool `'search_proper_nouns'` verwendet werden muss, um ähnliche gültige Namen zu finden. Dies verhindert, dass Namen geraten werden.\n",
    "\n",
    "Anschließend wird diese Anweisung an die bestehende Systemnachricht (`system_message`) angehängt und in der Variable `system` gespeichert.\n",
    "\n",
    "Das zuvor erstellte `retriever_tool` wird der Liste `tools` hinzugefügt, sodass es vom Agenten genutzt werden kann.\n",
    "\n",
    "Zum Schluss wird mit `create_react_agent` ein ReAct-Agent erstellt. Dieser nutzt das übergebene LLM (Large Language Model), die Liste der Tools und die modifizierte Systemnachricht, um basierend auf Regeln und Tools fundierte Entscheidungen zu treffen."
   ]
  },
  {
   "cell_type": "code",
   "execution_count": 39,
   "metadata": {},
   "outputs": [],
   "source": [
    "# Add to system message\n",
    "suffix = (\n",
    "    \"If you need to filter on a proper noun like a Name, you must ALWAYS first look up \"\n",
    "    \"the filter value using the 'search_proper_nouns' tool! Do not try to \"\n",
    "    \"guess at the proper name - use this function to find similar ones.\"\n",
    ")\n",
    "\n",
    "system = f\"{system_message}\\n\\n{suffix}\"\n",
    "\n",
    "tools.append(retriever_tool)\n",
    "\n",
    "agent = create_react_agent(llm, tools, state_modifier=system)"
   ]
  },
  {
   "cell_type": "markdown",
   "metadata": {},
   "source": [
    "## Probelauf Chatbot\n",
    "\n",
    "Schließlich testen wir den Bot: Zunächst wird dafür eine Frage (`question`) definiert: *\"Wie hoch waren die Drittmittel der FU Berlin im Jahr 2006 insgesamt?\"*. Diese Frage wird später an den Agenten übergeben.\n",
    "\n",
    "Dann wird eine Schleife (`for step in agent.stream(...)`) gestartet, die den Agenten Schritt für Schritt durch den Verarbeitungsprozess führt.  \n",
    "\n",
    "- Der Agent erhält die Eingabe als eine Nachricht im Format `{\"role\": \"user\", \"content\": question}`.  \n",
    "- Das Argument `stream_mode=\"values\"` sorgt dafür, dass die Antwort in einzelnen Schritten ausgegeben wird.  \n",
    "- Innerhalb der Schleife wird der jeweils letzte Schritt (`step[\"messages\"][-1]`) formatiert und ausgegeben, sodass die Antwort für den Nutzer lesbar bleibt.  \n",
    "\n",
    "Dadurch wird der Verarbeitungsweg der Antwort des Agenten schrittweise angezeigt."
   ]
  },
  {
   "cell_type": "code",
   "execution_count": 40,
   "metadata": {},
   "outputs": [
    {
     "name": "stdout",
     "output_type": "stream",
     "text": [
      "================================\u001b[1m Human Message \u001b[0m=================================\n",
      "\n",
      "Wie hoch waren die Drittmittel der FU Nerlin in Jahr 2006 insgesamt\n",
      "==================================\u001b[1m Ai Message \u001b[0m==================================\n",
      "Tool Calls:\n",
      "  sql_db_list_tables (call_FVkXmlii9ryJ19YGXtmcGrXL)\n",
      " Call ID: call_FVkXmlii9ryJ19YGXtmcGrXL\n",
      "  Args:\n",
      "=================================\u001b[1m Tool Message \u001b[0m=================================\n",
      "Name: sql_db_list_tables\n",
      "\n",
      "antwort, chart_options_rules, daten, daten_frage, daten_quelle, daten_reichweite, datensatz_drittmittel_aggregiert, datensatz_drittmittel_hochschule, datensatz_fue_erhebung, datensatz_hbr_report, erhebung, erhebung_frage, erhebung_typ, erklaerung, erklaerung_link, frage, germany_choropleth_federal_states, glossar, kurse, menge, menge_zugehoerig, middle_points_of_ger_federal_states, mview_daten_beschr, mview_daten_id, mview_daten_reichweite_menge, quelle, reichweite, reichweite_klasse, reichweite_typ, stichprobe, studierende, studierende_detailliert, tabelle, tag, tag_link, variable, view_daten, view_daten_beschr, view_daten_beschr_string, view_daten_detailed, view_daten_id, view_daten_id_string, view_daten_link, view_daten_reichweite_menge, view_daten_struktur, view_erklaerung, view_identifier, view_info_tabellen, view_info_variablen, view_menge, view_quelle_baum, view_quelle_baum_lesbar, view_reichweite, view_tag_baum, view_tag_baum_lesbar, view_tag_link, view_tag_link_aggregated_beschr, view_tag_link_aggregated_id, wert_einheit, wrangling_input_view_daten, zeit_einheit\n",
      "==================================\u001b[1m Ai Message \u001b[0m==================================\n",
      "Tool Calls:\n",
      "  sql_db_schema (call_ECGPPpDy7OWTmYwtMc7CsuTK)\n",
      " Call ID: call_ECGPPpDy7OWTmYwtMc7CsuTK\n",
      "  Args:\n",
      "    table_names: datensatz_drittmittel_hochschule\n",
      "=================================\u001b[1m Tool Message \u001b[0m=================================\n",
      "Name: sql_db_schema\n",
      "\n",
      "\n",
      "CREATE TABLE datensatz_drittmittel_hochschule (\n",
      "\tjahr INTEGER, \n",
      "\tid INTEGER, \n",
      "\t\"Variable\" VARCHAR, \n",
      "\t\"Zeit\" TIMESTAMP WITHOUT TIME ZONE, \n",
      "\t\"Hochschule\" VARCHAR, \n",
      "\t\"Wert\" NUMERIC(18, 3), \n",
      "\t\"Einheit\" VARCHAR, \n",
      "\t\"Quelle\" VARCHAR\n",
      ")\n",
      "\n",
      "/*\n",
      "3 rows from datensatz_drittmittel_hochschule table:\n",
      "jahr\tid\tVariable\tZeit\tHochschule\tWert\tEinheit\tQuelle\n",
      "2006\t30746\tDrittmittel vom Bund\t2006-01-01 00:00:00\tUniversität Kassel\t3966.000\tin Tsd. Euro\tDestatis (Sonderauswertung)\n",
      "2007\t30747\tDrittmittel vom Bund\t2007-01-01 00:00:00\tUniversität Kassel\t6274.000\tin Tsd. Euro\tDestatis (Sonderauswertung)\n",
      "2008\t30748\tDrittmittel vom Bund\t2008-01-01 00:00:00\tUniversität Kassel\t5980.000\tin Tsd. Euro\tDestatis (Sonderauswertung)\n",
      "*/\n",
      "==================================\u001b[1m Ai Message \u001b[0m==================================\n",
      "Tool Calls:\n",
      "  search_proper_nouns (call_6MEDaPLwf8uBaIczdZtZMISa)\n",
      " Call ID: call_6MEDaPLwf8uBaIczdZtZMISa\n",
      "  Args:\n",
      "    query: FU Nerlin\n",
      "=================================\u001b[1m Tool Message \u001b[0m=================================\n",
      "Name: search_proper_nouns\n",
      "\n",
      "Friedrich-Alexander Universität Erlangen-Nürnberg (Klinikum)\n",
      "\n",
      "Friedrich-Alexander Universität Erlangen-Nürnberg (ohne Klinikum)\n",
      "\n",
      "Freie Universität Berlin\n",
      "\n",
      "Hochschule für Angewandte Wissenschaften Neu-Ulm\n",
      "\n",
      "NBS Northern Business School\n",
      "==================================\u001b[1m Ai Message \u001b[0m==================================\n",
      "Tool Calls:\n",
      "  sql_db_query_checker (call_e80Kbf2kmhqcFP0oVALX85IO)\n",
      " Call ID: call_e80Kbf2kmhqcFP0oVALX85IO\n",
      "  Args:\n",
      "    query: SELECT SUM(Wert) as GesamtDrittmittel FROM datensatz_drittmittel_hochschule WHERE jahr = 2006 AND Hochschule = 'Freie Universität Berlin'\n",
      "=================================\u001b[1m Tool Message \u001b[0m=================================\n",
      "Name: sql_db_query_checker\n",
      "\n",
      "```sql\n",
      "SELECT SUM(Wert) as GesamtDrittmittel FROM datensatz_drittmittel_hochschule WHERE jahr = 2006 AND Hochschule = 'Freie Universität Berlin'\n",
      "```\n",
      "==================================\u001b[1m Ai Message \u001b[0m==================================\n",
      "Tool Calls:\n",
      "  sql_db_query (call_8tTmV9ydHR7tDPsFgR4NmpCy)\n",
      " Call ID: call_8tTmV9ydHR7tDPsFgR4NmpCy\n",
      "  Args:\n",
      "    query: SELECT SUM(Wert) as GesamtDrittmittel FROM datensatz_drittmittel_hochschule WHERE jahr = 2006 AND Hochschule = 'Freie Universität Berlin'\n",
      "=================================\u001b[1m Tool Message \u001b[0m=================================\n",
      "Name: sql_db_query\n",
      "\n",
      "[(Decimal('116034.000'),)]\n",
      "==================================\u001b[1m Ai Message \u001b[0m==================================\n",
      "\n",
      "Die Drittmittel der Freien Universität Berlin im Jahr 2006 betrugen insgesamt 116.034.000 Euro.\n"
     ]
    }
   ],
   "source": [
    "question = \"Wie hoch waren die Drittmittel der FU Nerlin in Jahr 2006 insgesamt\"\n",
    "\n",
    "for step in agent.stream(\n",
    "    {\"messages\": [{\"role\": \"user\", \"content\": question}]},\n",
    "    stream_mode=\"values\",\n",
    "):\n",
    "    step[\"messages\"][-1].pretty_print()"
   ]
  },
  {
   "cell_type": "code",
   "execution_count": 48,
   "metadata": {},
   "outputs": [
    {
     "name": "stdout",
     "output_type": "stream",
     "text": [
      "[('antwort',), ('chart_options_rules',), ('daten',), ('daten_frage',), ('daten_quelle',), ('daten_reichweite',), ('datensatz_drittmittel_aggregiert',), ('datensatz_drittmittel_hochschule',), ('datensatz_fue_erhebung',), ('datensatz_hbr_report',), ('erhebung',), ('erhebung_frage',), ('erhebung_typ',), ('erklaerung',), ('erklaerung_link',), ('frage',), ('germany_choropleth_federal_states',), ('glossar',), ('kurse',), ('menge',), ('menge_zugehoerig',), ('middle_points_of_ger_federal_states',), ('mview_daten_beschr',), ('mview_daten_id',), ('mview_daten_reichweite_menge',), ('quelle',), ('reichweite',), ('reichweite_klasse',), ('reichweite_typ',), ('stichprobe',), ('studierende',), ('studierende_detailliert',), ('tabelle',), ('tag',), ('tag_link',), ('variable',), ('view_daten',), ('view_daten_beschr',), ('view_daten_beschr_string',), ('view_daten_detailed',), ('view_daten_id',), ('view_daten_id_string',), ('view_daten_link',), ('view_daten_reichweite_menge',), ('view_daten_struktur',), ('view_erklaerung',), ('view_identifier',), ('view_info_tabellen',), ('view_info_variablen',), ('view_menge',), ('view_quelle_baum',), ('view_quelle_baum_lesbar',), ('view_reichweite',), ('view_tag_baum',), ('view_tag_baum_lesbar',), ('view_tag_link',), ('view_tag_link_aggregated_beschr',), ('view_tag_link_aggregated_id',), ('wert_einheit',), ('wrangling_input_view_daten',), ('zeit_einheit',)]\n",
      "[(0, 'jahr', 'INTEGER', False, None, False), (1, 'id', 'INTEGER', False, None, False), (2, 'Variable', 'VARCHAR', False, None, False), (3, 'Zeit', 'TIMESTAMP', False, None, False), (4, 'Hochschule', 'VARCHAR', False, None, False), (5, 'Wert', 'DECIMAL(18,3)', False, None, False), (6, 'Einheit', 'VARCHAR', False, None, False), (7, 'Quelle', 'VARCHAR', False, None, False)]\n"
     ]
    }
   ],
   "source": [
    "print(db.run(\"SHOW TABLES\"))  # Prüft, ob \"Kassel_University\" oder eine andere relevante Tabelle existiert\n",
    "columns = db.run(\"PRAGMA table_info(datensatz_drittmittel_hochschule)\")\n",
    "print(columns)  # Schau dir die Struktur an"
   ]
  },
  {
   "cell_type": "code",
   "execution_count": null,
   "metadata": {},
   "outputs": [],
   "source": [
    "import pandas as pd\n",
    "import duckdb\n",
    "\n",
    "conn = duckdb.connect(\"data/drittmittel_hs.db\")\n",
    "cursor = conn.cursor()\n",
    "query = \"SELECT * FROM datensatz_drittmittel_hochschule;\"\n",
    "df = pd.read_sql(query, conn)\n",
    "df"
   ]
  }
 ],
 "metadata": {
  "kernelspec": {
   "display_name": "RAG_retriever",
   "language": "python",
   "name": "python3"
  },
  "language_info": {
   "codemirror_mode": {
    "name": "ipython",
    "version": 3
   },
   "file_extension": ".py",
   "mimetype": "text/x-python",
   "name": "python",
   "nbconvert_exporter": "python",
   "pygments_lexer": "ipython3",
   "version": "3.9.21"
  }
 },
 "nbformat": 4,
 "nbformat_minor": 2
}
