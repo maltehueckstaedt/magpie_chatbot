{
 "cells": [
  {
   "cell_type": "code",
   "execution_count": 1,
   "metadata": {},
   "outputs": [],
   "source": [
    "import pandas as pd"
   ]
  },
  {
   "cell_type": "markdown",
   "metadata": {},
   "source": [
    "df"
   ]
  },
  {
   "cell_type": "code",
   "execution_count": 4,
   "metadata": {},
   "outputs": [],
   "source": [
    "df = pd.read_csv(\"data/mview_daten_beschr.csv\")\n",
    "df = df.astype(str)\n"
   ]
  },
  {
   "cell_type": "code",
   "execution_count": 5,
   "metadata": {},
   "outputs": [],
   "source": [
    "from transformers import TapasTokenizer, TapasForQuestionAnswering\n",
    "\n",
    "tokenizer = TapasTokenizer.from_pretrained(\"google/tapas-base-finetuned-wtq\")\n",
    "model = TapasForQuestionAnswering.from_pretrained(\"google/tapas-base-finetuned-wtq\")"
   ]
  },
  {
   "cell_type": "code",
   "execution_count": 6,
   "metadata": {},
   "outputs": [],
   "source": [
    "queries = [\"Wie viel FuE Personal war 2011 im Wirtschaftszweig Herstellung von DV-Geräten, elektronischen und optischen Erzeugnissen beschäftigt?\", \n",
    "           \"Wie hoch waren die externen FuE-Aufwendungen im Jahr 2011 im Wirtschaftszweig Metallerzeugung und -bearbeitung?\"]\n",
    "\n",
    "inputs = tokenizer(table=df, queries=queries, padding=\"max_length\", return_tensors=\"pt\")\n",
    "\n",
    "outputs = model(**inputs)"
   ]
  },
  {
   "cell_type": "code",
   "execution_count": null,
   "metadata": {},
   "outputs": [],
   "source": [
    "logits = outputs.logits.detach()\n",
    "answers = tokenizer.convert_logits_to_predictions(inputs, logits)\n",
    "\n",
    "def format_answer(query, answer_coordinates):\n",
    "    if len(answer_coordinates) == 0:\n",
    "        return f\"The query '{query}' could not be answered.\"\n",
    "    \n",
    "    row, column = answer_coordinates[0]\n",
    "    if query.startswith(\"How many\"):\n",
    "        return f\"The answer to '{query}' is {df.iloc[row, column]}.\"\n",
    "    elif query.startswith(\"Which class\"):\n",
    "        return f\"The answer to '{query}' is {df.iloc[row, 0]}.\"\n",
    "\n",
    "formatted_answers = [format_answer(query, coord) for query, coord in zip(queries, answers[0])]\n",
    "\n",
    "for answer in formatted_answers:\n",
    "    print(answer)"
   ]
  }
 ],
 "metadata": {
  "kernelspec": {
   "display_name": "Python 3",
   "language": "python",
   "name": "python3"
  },
  "language_info": {
   "codemirror_mode": {
    "name": "ipython",
    "version": 3
   },
   "file_extension": ".py",
   "mimetype": "text/x-python",
   "name": "python",
   "nbconvert_exporter": "python",
   "pygments_lexer": "ipython3",
   "version": "3.12.3"
  }
 },
 "nbformat": 4,
 "nbformat_minor": 2
}
